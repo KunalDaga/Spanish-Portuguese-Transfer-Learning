{
 "cells": [
  {
   "cell_type": "code",
   "execution_count": 1,
   "id": "d6c25882",
   "metadata": {
    "execution": {
     "iopub.execute_input": "2025-04-27T19:28:43.242968Z",
     "iopub.status.busy": "2025-04-27T19:28:43.242534Z",
     "iopub.status.idle": "2025-04-27T19:30:47.991696Z",
     "shell.execute_reply": "2025-04-27T19:30:47.991009Z"
    }
   },
   "outputs": [],
   "source": [
    "import os\n",
    "import pandas as pd\n",
    "from sklearn.model_selection import train_test_split\n",
    "from torch.utils.data import Dataset\n",
    "from PIL import Image\n",
    "import torch\n",
    "from transformers import VisionEncoderDecoderModel, TrOCRProcessor, Trainer, TrainingArguments, TrainerCallback\n",
    "import evaluate\n",
    "from tqdm import tqdm"
   ]
  },
  {
   "cell_type": "code",
   "execution_count": 2,
   "id": "3ec183ec",
   "metadata": {
    "execution": {
     "iopub.execute_input": "2025-04-27T19:30:47.995992Z",
     "iopub.status.busy": "2025-04-27T19:30:47.994852Z",
     "iopub.status.idle": "2025-04-27T19:30:48.279688Z",
     "shell.execute_reply": "2025-04-27T19:30:48.278882Z"
    }
   },
   "outputs": [],
   "source": [
    "test_size = 0.2\n",
    "\n",
    "training_args = TrainingArguments(\n",
    "    output_dir=\"./spanish_ocr_model\",\n",
    "    eval_strategy=\"epoch\",\n",
    "    save_strategy=\"epoch\",\n",
    "    logging_dir=\"./logs\",\n",
    "    save_total_limit=2,\n",
    "    learning_rate=5e-5,\n",
    "    per_device_train_batch_size=8,\n",
    "    per_device_eval_batch_size=8,\n",
    "    num_train_epochs=30,\n",
    "    weight_decay=0.01,\n",
    "    load_best_model_at_end=True,\n",
    "    metric_for_best_model=\"cer\",\n",
    "    greater_is_better=False,\n",
    "    report_to=\"none\",\n",
    ")"
   ]
  },
  {
   "cell_type": "code",
   "execution_count": 3,
   "id": "44437d06",
   "metadata": {
    "execution": {
     "iopub.execute_input": "2025-04-27T19:30:48.284012Z",
     "iopub.status.busy": "2025-04-27T19:30:48.283012Z",
     "iopub.status.idle": "2025-04-27T19:30:48.298045Z",
     "shell.execute_reply": "2025-04-27T19:30:48.297474Z"
    }
   },
   "outputs": [],
   "source": [
    "class SpanishOCRDataset(Dataset):\n",
    "    def __init__(self, dataframe, images_dir, processor, max_target_length=128):\n",
    "        self.data = dataframe.reset_index(drop=True)\n",
    "        self.images_dir = images_dir\n",
    "        self.processor = processor\n",
    "        self.max_target_length = max_target_length\n",
    "\n",
    "    def __len__(self):\n",
    "        return len(self.data)\n",
    "\n",
    "    def __getitem__(self, idx):\n",
    "        row = self.data.iloc[idx]\n",
    "        img_path = os.path.join(self.images_dir, row['image_path'])\n",
    "        text = row['text']\n",
    "\n",
    "        image = Image.open(img_path).convert(\"RGB\")\n",
    "        pixel_values = self.processor(images=image, return_tensors=\"pt\").pixel_values.squeeze(0)\n",
    "        labels = self.processor.tokenizer(\n",
    "            text,\n",
    "            padding=\"max_length\",\n",
    "            max_length=self.max_target_length,\n",
    "            truncation=True,\n",
    "            return_tensors=\"pt\"\n",
    "        ).input_ids.squeeze(0)\n",
    "        labels[labels == self.processor.tokenizer.pad_token_id] = -100\n",
    "\n",
    "        return {\n",
    "            \"pixel_values\": pixel_values,\n",
    "            \"labels\": labels,\n",
    "        }\n",
    "    \n",
    "class TQDMProgressBar(TrainerCallback):\n",
    "    def __init__(self):\n",
    "        self.progress_bar = None\n",
    "\n",
    "    def on_train_begin(self, args, state, control, **kwargs):\n",
    "        self.progress_bar = tqdm(total=state.max_steps, desc=\"Training Progress\", dynamic_ncols=True)\n",
    "\n",
    "    def on_log(self, args, state, control, logs=None, **kwargs):\n",
    "        if self.progress_bar is not None and logs is not None:\n",
    "            loss = logs.get('loss', None)\n",
    "            if loss is not None:\n",
    "                desc = f\"Epoch {int(state.epoch)} | Step {state.global_step} | Loss {loss:.4f}\"\n",
    "            else:\n",
    "                desc = f\"Epoch {int(state.epoch)} | Step {state.global_step}\"\n",
    "\n",
    "            if 'eval_cer' in logs:\n",
    "                desc += f\" | CER {logs['eval_cer']:.4f}\"\n",
    "            if 'eval_wer' in logs:\n",
    "                desc += f\" | WER {logs['eval_wer']:.4f}\"\n",
    "\n",
    "            self.progress_bar.set_description(desc)\n",
    "\n",
    "    def on_step_end(self, args, state, control, **kwargs):\n",
    "        if self.progress_bar is not None:\n",
    "            self.progress_bar.update(1)\n",
    "\n",
    "    def on_train_end(self, args, state, control, **kwargs):\n",
    "        if self.progress_bar is not None:\n",
    "            self.progress_bar.close()"
   ]
  },
  {
   "cell_type": "code",
   "execution_count": 4,
   "id": "cd6595ee",
   "metadata": {
    "execution": {
     "iopub.execute_input": "2025-04-27T19:30:48.301604Z",
     "iopub.status.busy": "2025-04-27T19:30:48.300662Z",
     "iopub.status.idle": "2025-04-27T19:30:48.311400Z",
     "shell.execute_reply": "2025-04-27T19:30:48.310841Z"
    }
   },
   "outputs": [],
   "source": [
    "def build_model():\n",
    "    processor = TrOCRProcessor.from_pretrained(\"microsoft/trocr-base-printed\")\n",
    "    model = VisionEncoderDecoderModel.from_pretrained(\"microsoft/trocr-base-printed\")\n",
    "\n",
    "    if torch.cuda.is_available():\n",
    "        device = torch.device(\"cuda\")\n",
    "    elif torch.backends.mps.is_available():\n",
    "        device = torch.device(\"mps\")\n",
    "    else:\n",
    "        device = torch.device(\"cpu\")\n",
    "        \n",
    "    model = model.to(device)\n",
    "    model.config.decoder_start_token_id = processor.tokenizer.cls_token_id\n",
    "    model.config.pad_token_id = processor.tokenizer.pad_token_id\n",
    "    print(\"Model built\")\n",
    "    return processor, model\n",
    "\n",
    "def build_datasets(processor, test_size=0.1):\n",
    "    df = pd.read_csv(\"data/spanish_data.csv\")\n",
    "    train_df, val_df = train_test_split(df, test_size=test_size, random_state=42)\n",
    "\n",
    "    train_dataset = SpanishOCRDataset(train_df, \"data/images/\", processor)\n",
    "    val_dataset = SpanishOCRDataset(val_df, \"data/images/\", processor)\n",
    "\n",
    "    print(\"Dataset built\")\n",
    "\n",
    "    return train_dataset, val_dataset\n",
    "\n",
    "def build_compute_metrics(processor):\n",
    "    def compute_metrics(pred):\n",
    "        pred_ids = pred.predictions\n",
    "        label_ids = pred.label_ids\n",
    "\n",
    "        if isinstance(pred_ids, tuple):\n",
    "            pred_ids = pred_ids[0]\n",
    "        pred_ids = torch.tensor(pred_ids)\n",
    "        pred_ids = torch.argmax(pred_ids, dim=-1)\n",
    "\n",
    "        label_ids = torch.tensor(label_ids)\n",
    "        label_ids[label_ids == -100] = processor.tokenizer.pad_token_id\n",
    "\n",
    "        pred_str = processor.batch_decode(pred_ids, skip_special_tokens=True)\n",
    "        label_str = processor.batch_decode(label_ids, skip_special_tokens=True)\n",
    "\n",
    "        cer_metric = evaluate.load(\"cer\")\n",
    "        wer_metric = evaluate.load(\"wer\")\n",
    "\n",
    "        cer = cer_metric.compute(predictions=pred_str, references=label_str)\n",
    "        wer = wer_metric.compute(predictions=pred_str, references=label_str)\n",
    "\n",
    "        return {\"cer\": cer, \"wer\": wer}\n",
    "\n",
    "    return compute_metrics"
   ]
  },
  {
   "cell_type": "code",
   "execution_count": 5,
   "id": "8bf4c8ad",
   "metadata": {
    "execution": {
     "iopub.execute_input": "2025-04-27T19:30:48.314811Z",
     "iopub.status.busy": "2025-04-27T19:30:48.313880Z",
     "iopub.status.idle": "2025-04-27T19:31:07.791892Z",
     "shell.execute_reply": "2025-04-27T19:31:07.791247Z"
    }
   },
   "outputs": [
    {
     "name": "stderr",
     "output_type": "stream",
     "text": [
      "Using a slow image processor as `use_fast` is unset and a slow processor was saved with this model. `use_fast=True` will be the default behavior in v4.52, even if the model was saved with a slow processor. This will result in minor differences in outputs. You'll still be able to use a slow processor with `use_fast=False`.\n"
     ]
    },
    {
     "name": "stderr",
     "output_type": "stream",
     "text": [
      "Config of the encoder: <class 'transformers.models.vit.modeling_vit.ViTModel'> is overwritten by shared encoder config: ViTConfig {\n",
      "  \"attention_probs_dropout_prob\": 0.0,\n",
      "  \"encoder_stride\": 16,\n",
      "  \"hidden_act\": \"gelu\",\n",
      "  \"hidden_dropout_prob\": 0.0,\n",
      "  \"hidden_size\": 768,\n",
      "  \"image_size\": 384,\n",
      "  \"initializer_range\": 0.02,\n",
      "  \"intermediate_size\": 3072,\n",
      "  \"layer_norm_eps\": 1e-12,\n",
      "  \"model_type\": \"vit\",\n",
      "  \"num_attention_heads\": 12,\n",
      "  \"num_channels\": 3,\n",
      "  \"num_hidden_layers\": 12,\n",
      "  \"patch_size\": 16,\n",
      "  \"pooler_act\": \"tanh\",\n",
      "  \"pooler_output_size\": 768,\n",
      "  \"qkv_bias\": false,\n",
      "  \"torch_dtype\": \"float32\",\n",
      "  \"transformers_version\": \"4.51.3\"\n",
      "}\n",
      "\n"
     ]
    },
    {
     "name": "stderr",
     "output_type": "stream",
     "text": [
      "Config of the decoder: <class 'transformers.models.trocr.modeling_trocr.TrOCRForCausalLM'> is overwritten by shared decoder config: TrOCRConfig {\n",
      "  \"activation_dropout\": 0.0,\n",
      "  \"activation_function\": \"gelu\",\n",
      "  \"add_cross_attention\": true,\n",
      "  \"attention_dropout\": 0.0,\n",
      "  \"bos_token_id\": 0,\n",
      "  \"classifier_dropout\": 0.0,\n",
      "  \"cross_attention_hidden_size\": 768,\n",
      "  \"d_model\": 1024,\n",
      "  \"decoder_attention_heads\": 16,\n",
      "  \"decoder_ffn_dim\": 4096,\n",
      "  \"decoder_layerdrop\": 0.0,\n",
      "  \"decoder_layers\": 12,\n",
      "  \"decoder_start_token_id\": 2,\n",
      "  \"dropout\": 0.1,\n",
      "  \"eos_token_id\": 2,\n",
      "  \"init_std\": 0.02,\n",
      "  \"is_decoder\": true,\n",
      "  \"layernorm_embedding\": true,\n",
      "  \"max_position_embeddings\": 512,\n",
      "  \"model_type\": \"trocr\",\n",
      "  \"pad_token_id\": 1,\n",
      "  \"scale_embedding\": false,\n",
      "  \"torch_dtype\": \"float32\",\n",
      "  \"transformers_version\": \"4.51.3\",\n",
      "  \"use_cache\": false,\n",
      "  \"use_learned_position_embeddings\": true,\n",
      "  \"vocab_size\": 50265\n",
      "}\n",
      "\n"
     ]
    },
    {
     "name": "stderr",
     "output_type": "stream",
     "text": [
      "Some weights of VisionEncoderDecoderModel were not initialized from the model checkpoint at microsoft/trocr-base-printed and are newly initialized: ['encoder.pooler.dense.bias', 'encoder.pooler.dense.weight']\n",
      "You should probably TRAIN this model on a down-stream task to be able to use it for predictions and inference.\n"
     ]
    },
    {
     "name": "stdout",
     "output_type": "stream",
     "text": [
      "Model built\n"
     ]
    }
   ],
   "source": [
    "processor, model = build_model()"
   ]
  },
  {
   "cell_type": "code",
   "execution_count": 6,
   "id": "da4b380b",
   "metadata": {
    "execution": {
     "iopub.execute_input": "2025-04-27T19:31:07.795700Z",
     "iopub.status.busy": "2025-04-27T19:31:07.794729Z",
     "iopub.status.idle": "2025-04-27T19:31:08.046064Z",
     "shell.execute_reply": "2025-04-27T19:31:08.045489Z"
    }
   },
   "outputs": [
    {
     "name": "stdout",
     "output_type": "stream",
     "text": [
      "Dataset built\n"
     ]
    }
   ],
   "source": [
    "train_dataset, val_dataset = build_datasets(processor)"
   ]
  },
  {
   "cell_type": "code",
   "execution_count": 7,
   "id": "fb2bc29f",
   "metadata": {
    "execution": {
     "iopub.execute_input": "2025-04-27T19:31:08.049827Z",
     "iopub.status.busy": "2025-04-27T19:31:08.048876Z",
     "iopub.status.idle": "2025-04-27T20:00:49.341743Z",
     "shell.execute_reply": "2025-04-27T20:00:49.341150Z"
    }
   },
   "outputs": [
    {
     "name": "stderr",
     "output_type": "stream",
     "text": [
      "\r",
      "Training Progress:   0%|          | 0/1620 [00:00<?, ?it/s]"
     ]
    },
    {
     "name": "stderr",
     "output_type": "stream",
     "text": [
      "`loss_type=None` was set in the config but it is unrecognised.Using the default loss: `ForCausalLMLoss`.\n"
     ]
    },
    {
     "name": "stderr",
     "output_type": "stream",
     "text": [
      "\r",
      "Training Progress:   0%|          | 1/1620 [00:23<10:34:24, 23.51s/it]"
     ]
    },
    {
     "data": {
      "text/html": [
       "\n",
       "    <div>\n",
       "      \n",
       "      <progress value='1620' max='1620' style='width:300px; height:20px; vertical-align: middle;'></progress>\n",
       "      [1620/1620 29:17, Epoch 30/30]\n",
       "    </div>\n",
       "    <table border=\"1\" class=\"dataframe\">\n",
       "  <thead>\n",
       " <tr style=\"text-align: left;\">\n",
       "      <th>Epoch</th>\n",
       "      <th>Training Loss</th>\n",
       "      <th>Validation Loss</th>\n",
       "      <th>Cer</th>\n",
       "      <th>Wer</th>\n",
       "    </tr>\n",
       "  </thead>\n",
       "  <tbody>\n",
       "    <tr>\n",
       "      <td>1</td>\n",
       "      <td>No log</td>\n",
       "      <td>6.115152</td>\n",
       "      <td>0.856703</td>\n",
       "      <td>1.002494</td>\n",
       "    </tr>\n",
       "    <tr>\n",
       "      <td>2</td>\n",
       "      <td>No log</td>\n",
       "      <td>5.531605</td>\n",
       "      <td>1.052747</td>\n",
       "      <td>1.032419</td>\n",
       "    </tr>\n",
       "    <tr>\n",
       "      <td>3</td>\n",
       "      <td>No log</td>\n",
       "      <td>5.473433</td>\n",
       "      <td>0.936703</td>\n",
       "      <td>1.009975</td>\n",
       "    </tr>\n",
       "    <tr>\n",
       "      <td>4</td>\n",
       "      <td>No log</td>\n",
       "      <td>5.163579</td>\n",
       "      <td>0.927912</td>\n",
       "      <td>1.062344</td>\n",
       "    </tr>\n",
       "    <tr>\n",
       "      <td>5</td>\n",
       "      <td>No log</td>\n",
       "      <td>5.302195</td>\n",
       "      <td>0.615824</td>\n",
       "      <td>0.917706</td>\n",
       "    </tr>\n",
       "    <tr>\n",
       "      <td>6</td>\n",
       "      <td>No log</td>\n",
       "      <td>4.537141</td>\n",
       "      <td>0.792088</td>\n",
       "      <td>1.216958</td>\n",
       "    </tr>\n",
       "    <tr>\n",
       "      <td>7</td>\n",
       "      <td>No log</td>\n",
       "      <td>4.446496</td>\n",
       "      <td>0.710330</td>\n",
       "      <td>1.206983</td>\n",
       "    </tr>\n",
       "    <tr>\n",
       "      <td>8</td>\n",
       "      <td>No log</td>\n",
       "      <td>4.422568</td>\n",
       "      <td>0.875165</td>\n",
       "      <td>1.294264</td>\n",
       "    </tr>\n",
       "    <tr>\n",
       "      <td>9</td>\n",
       "      <td>No log</td>\n",
       "      <td>4.295557</td>\n",
       "      <td>0.631209</td>\n",
       "      <td>1.132170</td>\n",
       "    </tr>\n",
       "    <tr>\n",
       "      <td>10</td>\n",
       "      <td>3.364100</td>\n",
       "      <td>4.086585</td>\n",
       "      <td>0.923956</td>\n",
       "      <td>1.431421</td>\n",
       "    </tr>\n",
       "    <tr>\n",
       "      <td>11</td>\n",
       "      <td>3.364100</td>\n",
       "      <td>4.152014</td>\n",
       "      <td>0.787253</td>\n",
       "      <td>1.433915</td>\n",
       "    </tr>\n",
       "    <tr>\n",
       "      <td>12</td>\n",
       "      <td>3.364100</td>\n",
       "      <td>4.181454</td>\n",
       "      <td>0.881758</td>\n",
       "      <td>1.783042</td>\n",
       "    </tr>\n",
       "    <tr>\n",
       "      <td>13</td>\n",
       "      <td>3.364100</td>\n",
       "      <td>4.156708</td>\n",
       "      <td>0.611868</td>\n",
       "      <td>1.079800</td>\n",
       "    </tr>\n",
       "    <tr>\n",
       "      <td>14</td>\n",
       "      <td>3.364100</td>\n",
       "      <td>4.139555</td>\n",
       "      <td>0.659780</td>\n",
       "      <td>1.269327</td>\n",
       "    </tr>\n",
       "    <tr>\n",
       "      <td>15</td>\n",
       "      <td>3.364100</td>\n",
       "      <td>4.267440</td>\n",
       "      <td>0.608352</td>\n",
       "      <td>1.094763</td>\n",
       "    </tr>\n",
       "    <tr>\n",
       "      <td>16</td>\n",
       "      <td>3.364100</td>\n",
       "      <td>4.176289</td>\n",
       "      <td>0.710330</td>\n",
       "      <td>1.408978</td>\n",
       "    </tr>\n",
       "    <tr>\n",
       "      <td>17</td>\n",
       "      <td>3.364100</td>\n",
       "      <td>4.140634</td>\n",
       "      <td>0.775385</td>\n",
       "      <td>1.446384</td>\n",
       "    </tr>\n",
       "    <tr>\n",
       "      <td>18</td>\n",
       "      <td>3.364100</td>\n",
       "      <td>4.150695</td>\n",
       "      <td>0.569670</td>\n",
       "      <td>1.109726</td>\n",
       "    </tr>\n",
       "    <tr>\n",
       "      <td>19</td>\n",
       "      <td>0.526600</td>\n",
       "      <td>4.209291</td>\n",
       "      <td>0.582857</td>\n",
       "      <td>1.139651</td>\n",
       "    </tr>\n",
       "    <tr>\n",
       "      <td>20</td>\n",
       "      <td>0.526600</td>\n",
       "      <td>4.181192</td>\n",
       "      <td>0.791648</td>\n",
       "      <td>1.615960</td>\n",
       "    </tr>\n",
       "    <tr>\n",
       "      <td>21</td>\n",
       "      <td>0.526600</td>\n",
       "      <td>4.088901</td>\n",
       "      <td>0.597363</td>\n",
       "      <td>1.102244</td>\n",
       "    </tr>\n",
       "    <tr>\n",
       "      <td>22</td>\n",
       "      <td>0.526600</td>\n",
       "      <td>4.042460</td>\n",
       "      <td>0.560879</td>\n",
       "      <td>1.129676</td>\n",
       "    </tr>\n",
       "    <tr>\n",
       "      <td>23</td>\n",
       "      <td>0.526600</td>\n",
       "      <td>4.102214</td>\n",
       "      <td>0.628571</td>\n",
       "      <td>1.221945</td>\n",
       "    </tr>\n",
       "    <tr>\n",
       "      <td>24</td>\n",
       "      <td>0.526600</td>\n",
       "      <td>4.073277</td>\n",
       "      <td>0.558681</td>\n",
       "      <td>1.107232</td>\n",
       "    </tr>\n",
       "    <tr>\n",
       "      <td>25</td>\n",
       "      <td>0.526600</td>\n",
       "      <td>4.102641</td>\n",
       "      <td>0.781538</td>\n",
       "      <td>1.603491</td>\n",
       "    </tr>\n",
       "    <tr>\n",
       "      <td>26</td>\n",
       "      <td>0.526600</td>\n",
       "      <td>4.058208</td>\n",
       "      <td>0.582857</td>\n",
       "      <td>1.187032</td>\n",
       "    </tr>\n",
       "    <tr>\n",
       "      <td>27</td>\n",
       "      <td>0.526600</td>\n",
       "      <td>4.057317</td>\n",
       "      <td>0.645275</td>\n",
       "      <td>1.291771</td>\n",
       "    </tr>\n",
       "    <tr>\n",
       "      <td>28</td>\n",
       "      <td>0.106500</td>\n",
       "      <td>4.017365</td>\n",
       "      <td>0.596923</td>\n",
       "      <td>1.197007</td>\n",
       "    </tr>\n",
       "    <tr>\n",
       "      <td>29</td>\n",
       "      <td>0.106500</td>\n",
       "      <td>3.999924</td>\n",
       "      <td>0.584176</td>\n",
       "      <td>1.187032</td>\n",
       "    </tr>\n",
       "    <tr>\n",
       "      <td>30</td>\n",
       "      <td>0.106500</td>\n",
       "      <td>4.012928</td>\n",
       "      <td>0.595165</td>\n",
       "      <td>1.219451</td>\n",
       "    </tr>\n",
       "  </tbody>\n",
       "</table><p>"
      ],
      "text/plain": [
       "<IPython.core.display.HTML object>"
      ]
     },
     "metadata": {},
     "output_type": "display_data"
    },
    {
     "name": "stderr",
     "output_type": "stream",
     "text": [
      "\r",
      "Training Progress:   0%|          | 2/1620 [00:24<4:35:16, 10.21s/it] "
     ]
    },
    {
     "name": "stderr",
     "output_type": "stream",
     "text": [
      "\r",
      "Training Progress:   0%|          | 3/1620 [00:25<2:41:55,  6.01s/it]"
     ]
    },
    {
     "name": "stderr",
     "output_type": "stream",
     "text": [
      "\r",
      "Training Progress:   0%|          | 4/1620 [00:26<1:48:51,  4.04s/it]"
     ]
    },
    {
     "name": "stderr",
     "output_type": "stream",
     "text": [
      "\r",
      "Training Progress:   0%|          | 5/1620 [00:27<1:16:46,  2.85s/it]"
     ]
    },
    {
     "name": "stderr",
     "output_type": "stream",
     "text": [
      "\r",
      "Training Progress:   0%|          | 6/1620 [00:28<58:58,  2.19s/it]  "
     ]
    },
    {
     "name": "stderr",
     "output_type": "stream",
     "text": [
      "\r",
      "Training Progress:   0%|          | 7/1620 [00:29<50:47,  1.89s/it]"
     ]
    },
    {
     "name": "stderr",
     "output_type": "stream",
     "text": [
      "\r",
      "Training Progress:   0%|          | 8/1620 [00:30<43:07,  1.61s/it]"
     ]
    },
    {
     "name": "stderr",
     "output_type": "stream",
     "text": [
      "\r",
      "Training Progress:   1%|          | 9/1620 [00:31<36:28,  1.36s/it]"
     ]
    },
    {
     "name": "stderr",
     "output_type": "stream",
     "text": [
      "\r",
      "Training Progress:   1%|          | 10/1620 [00:32<32:57,  1.23s/it]"
     ]
    },
    {
     "name": "stderr",
     "output_type": "stream",
     "text": [
      "\r",
      "Training Progress:   1%|          | 11/1620 [00:33<31:14,  1.17s/it]"
     ]
    },
    {
     "name": "stderr",
     "output_type": "stream",
     "text": [
      "\r",
      "Training Progress:   1%|          | 12/1620 [00:34<28:56,  1.08s/it]"
     ]
    },
    {
     "name": "stderr",
     "output_type": "stream",
     "text": [
      "\r",
      "Training Progress:   1%|          | 13/1620 [00:35<31:43,  1.18s/it]"
     ]
    },
    {
     "name": "stderr",
     "output_type": "stream",
     "text": [
      "\r",
      "Training Progress:   1%|          | 14/1620 [00:36<32:01,  1.20s/it]"
     ]
    },
    {
     "name": "stderr",
     "output_type": "stream",
     "text": [
      "\r",
      "Training Progress:   1%|          | 15/1620 [00:37<29:47,  1.11s/it]"
     ]
    },
    {
     "name": "stderr",
     "output_type": "stream",
     "text": [
      "\r",
      "Training Progress:   1%|          | 16/1620 [00:38<26:52,  1.01s/it]"
     ]
    },
    {
     "name": "stderr",
     "output_type": "stream",
     "text": [
      "\r",
      "Training Progress:   1%|          | 17/1620 [00:39<25:56,  1.03it/s]"
     ]
    },
    {
     "name": "stderr",
     "output_type": "stream",
     "text": [
      "\r",
      "Training Progress:   1%|          | 18/1620 [00:40<25:48,  1.03it/s]"
     ]
    },
    {
     "name": "stderr",
     "output_type": "stream",
     "text": [
      "\r",
      "Training Progress:   1%|          | 19/1620 [00:41<26:17,  1.01it/s]"
     ]
    },
    {
     "name": "stderr",
     "output_type": "stream",
     "text": [
      "\r",
      "Training Progress:   1%|          | 20/1620 [00:42<25:01,  1.07it/s]"
     ]
    },
    {
     "name": "stderr",
     "output_type": "stream",
     "text": [
      "\r",
      "Training Progress:   1%|▏         | 21/1620 [00:43<25:15,  1.06it/s]"
     ]
    },
    {
     "name": "stderr",
     "output_type": "stream",
     "text": [
      "\r",
      "Training Progress:   1%|▏         | 22/1620 [00:44<26:18,  1.01it/s]"
     ]
    },
    {
     "name": "stderr",
     "output_type": "stream",
     "text": [
      "\r",
      "Training Progress:   1%|▏         | 23/1620 [00:45<28:08,  1.06s/it]"
     ]
    },
    {
     "name": "stderr",
     "output_type": "stream",
     "text": [
      "\r",
      "Training Progress:   1%|▏         | 24/1620 [00:46<25:42,  1.03it/s]"
     ]
    },
    {
     "name": "stderr",
     "output_type": "stream",
     "text": [
      "\r",
      "Training Progress:   2%|▏         | 25/1620 [00:47<26:54,  1.01s/it]"
     ]
    },
    {
     "name": "stderr",
     "output_type": "stream",
     "text": [
      "\r",
      "Training Progress:   2%|▏         | 26/1620 [00:47<24:58,  1.06it/s]"
     ]
    },
    {
     "name": "stderr",
     "output_type": "stream",
     "text": [
      "\r",
      "Training Progress:   2%|▏         | 27/1620 [00:48<23:53,  1.11it/s]"
     ]
    },
    {
     "name": "stderr",
     "output_type": "stream",
     "text": [
      "\r",
      "Training Progress:   2%|▏         | 28/1620 [00:49<23:21,  1.14it/s]"
     ]
    },
    {
     "name": "stderr",
     "output_type": "stream",
     "text": [
      "\r",
      "Training Progress:   2%|▏         | 29/1620 [00:50<22:50,  1.16it/s]"
     ]
    },
    {
     "name": "stderr",
     "output_type": "stream",
     "text": [
      "\r",
      "Training Progress:   2%|▏         | 30/1620 [00:51<22:47,  1.16it/s]"
     ]
    },
    {
     "name": "stderr",
     "output_type": "stream",
     "text": [
      "\r",
      "Training Progress:   2%|▏         | 31/1620 [00:52<22:12,  1.19it/s]"
     ]
    },
    {
     "name": "stderr",
     "output_type": "stream",
     "text": [
      "\r",
      "Training Progress:   2%|▏         | 32/1620 [00:53<23:48,  1.11it/s]"
     ]
    },
    {
     "name": "stderr",
     "output_type": "stream",
     "text": [
      "\r",
      "Training Progress:   2%|▏         | 33/1620 [00:54<24:03,  1.10it/s]"
     ]
    },
    {
     "name": "stderr",
     "output_type": "stream",
     "text": [
      "\r",
      "Training Progress:   2%|▏         | 34/1620 [00:55<27:01,  1.02s/it]"
     ]
    },
    {
     "name": "stderr",
     "output_type": "stream",
     "text": [
      "\r",
      "Training Progress:   2%|▏         | 35/1620 [00:56<28:58,  1.10s/it]"
     ]
    },
    {
     "name": "stderr",
     "output_type": "stream",
     "text": [
      "\r",
      "Training Progress:   2%|▏         | 36/1620 [00:57<28:20,  1.07s/it]"
     ]
    },
    {
     "name": "stderr",
     "output_type": "stream",
     "text": [
      "\r",
      "Training Progress:   2%|▏         | 37/1620 [00:58<26:21,  1.00it/s]"
     ]
    },
    {
     "name": "stderr",
     "output_type": "stream",
     "text": [
      "\r",
      "Training Progress:   2%|▏         | 38/1620 [00:59<27:57,  1.06s/it]"
     ]
    },
    {
     "name": "stderr",
     "output_type": "stream",
     "text": [
      "\r",
      "Training Progress:   2%|▏         | 39/1620 [01:00<27:09,  1.03s/it]"
     ]
    },
    {
     "name": "stderr",
     "output_type": "stream",
     "text": [
      "\r",
      "Training Progress:   2%|▏         | 40/1620 [01:01<26:00,  1.01it/s]"
     ]
    },
    {
     "name": "stderr",
     "output_type": "stream",
     "text": [
      "\r",
      "Training Progress:   3%|▎         | 41/1620 [01:02<24:09,  1.09it/s]"
     ]
    },
    {
     "name": "stderr",
     "output_type": "stream",
     "text": [
      "\r",
      "Training Progress:   3%|▎         | 42/1620 [01:03<24:53,  1.06it/s]"
     ]
    },
    {
     "name": "stderr",
     "output_type": "stream",
     "text": [
      "\r",
      "Training Progress:   3%|▎         | 43/1620 [01:04<24:54,  1.05it/s]"
     ]
    },
    {
     "name": "stderr",
     "output_type": "stream",
     "text": [
      "\r",
      "Training Progress:   3%|▎         | 44/1620 [01:05<25:32,  1.03it/s]"
     ]
    },
    {
     "name": "stderr",
     "output_type": "stream",
     "text": [
      "\r",
      "Training Progress:   3%|▎         | 45/1620 [01:05<23:37,  1.11it/s]"
     ]
    },
    {
     "name": "stderr",
     "output_type": "stream",
     "text": [
      "\r",
      "Training Progress:   3%|▎         | 46/1620 [01:06<22:28,  1.17it/s]"
     ]
    },
    {
     "name": "stderr",
     "output_type": "stream",
     "text": [
      "\r",
      "Training Progress:   3%|▎         | 47/1620 [01:07<22:15,  1.18it/s]"
     ]
    },
    {
     "name": "stderr",
     "output_type": "stream",
     "text": [
      "\r",
      "Training Progress:   3%|▎         | 48/1620 [01:08<22:02,  1.19it/s]"
     ]
    },
    {
     "name": "stderr",
     "output_type": "stream",
     "text": [
      "\r",
      "Training Progress:   3%|▎         | 49/1620 [01:09<20:49,  1.26it/s]"
     ]
    },
    {
     "name": "stderr",
     "output_type": "stream",
     "text": [
      "\r",
      "Training Progress:   3%|▎         | 50/1620 [01:09<21:34,  1.21it/s]"
     ]
    },
    {
     "name": "stderr",
     "output_type": "stream",
     "text": [
      "\r",
      "Training Progress:   3%|▎         | 51/1620 [01:10<21:21,  1.22it/s]"
     ]
    },
    {
     "name": "stderr",
     "output_type": "stream",
     "text": [
      "\r",
      "Training Progress:   3%|▎         | 52/1620 [01:11<22:01,  1.19it/s]"
     ]
    },
    {
     "name": "stderr",
     "output_type": "stream",
     "text": [
      "\r",
      "Training Progress:   3%|▎         | 53/1620 [01:12<20:25,  1.28it/s]"
     ]
    },
    {
     "name": "stderr",
     "output_type": "stream",
     "text": [
      "\r",
      "Training Progress:   3%|▎         | 54/1620 [01:12<16:35,  1.57it/s]"
     ]
    },
    {
     "name": "stderr",
     "output_type": "stream",
     "text": [
      "\r",
      "Epoch 1 | Step 54 | CER 0.8567 | WER 1.0025:   3%|▎         | 54/1620 [01:20<16:35,  1.57it/s]"
     ]
    },
    {
     "name": "stderr",
     "output_type": "stream",
     "text": [
      "\r",
      "Epoch 1 | Step 54 | CER 0.8567 | WER 1.0025:   3%|▎         | 55/1620 [01:27<2:06:11,  4.84s/it]"
     ]
    },
    {
     "name": "stderr",
     "output_type": "stream",
     "text": [
      "\r",
      "Epoch 1 | Step 54 | CER 0.8567 | WER 1.0025:   3%|▎         | 56/1620 [01:27<1:33:40,  3.59s/it]"
     ]
    },
    {
     "name": "stderr",
     "output_type": "stream",
     "text": [
      "\r",
      "Epoch 1 | Step 54 | CER 0.8567 | WER 1.0025:   4%|▎         | 57/1620 [01:28<1:11:06,  2.73s/it]"
     ]
    },
    {
     "name": "stderr",
     "output_type": "stream",
     "text": [
      "\r",
      "Epoch 1 | Step 54 | CER 0.8567 | WER 1.0025:   4%|▎         | 58/1620 [01:29<56:02,  2.15s/it]  "
     ]
    },
    {
     "name": "stderr",
     "output_type": "stream",
     "text": [
      "\r",
      "Epoch 1 | Step 54 | CER 0.8567 | WER 1.0025:   4%|▎         | 59/1620 [01:30<46:03,  1.77s/it]"
     ]
    },
    {
     "name": "stderr",
     "output_type": "stream",
     "text": [
      "\r",
      "Epoch 1 | Step 54 | CER 0.8567 | WER 1.0025:   4%|▎         | 60/1620 [01:31<39:56,  1.54s/it]"
     ]
    },
    {
     "name": "stderr",
     "output_type": "stream",
     "text": [
      "\r",
      "Epoch 1 | Step 54 | CER 0.8567 | WER 1.0025:   4%|▍         | 61/1620 [01:32<35:22,  1.36s/it]"
     ]
    },
    {
     "name": "stderr",
     "output_type": "stream",
     "text": [
      "\r",
      "Epoch 1 | Step 54 | CER 0.8567 | WER 1.0025:   4%|▍         | 62/1620 [01:33<32:26,  1.25s/it]"
     ]
    },
    {
     "name": "stderr",
     "output_type": "stream",
     "text": [
      "\r",
      "Epoch 1 | Step 54 | CER 0.8567 | WER 1.0025:   4%|▍         | 63/1620 [01:34<28:36,  1.10s/it]"
     ]
    },
    {
     "name": "stderr",
     "output_type": "stream",
     "text": [
      "\r",
      "Epoch 1 | Step 54 | CER 0.8567 | WER 1.0025:   4%|▍         | 64/1620 [01:34<25:05,  1.03it/s]"
     ]
    },
    {
     "name": "stderr",
     "output_type": "stream",
     "text": [
      "\r",
      "Epoch 1 | Step 54 | CER 0.8567 | WER 1.0025:   4%|▍         | 65/1620 [01:35<22:58,  1.13it/s]"
     ]
    },
    {
     "name": "stderr",
     "output_type": "stream",
     "text": [
      "\r",
      "Epoch 1 | Step 54 | CER 0.8567 | WER 1.0025:   4%|▍         | 66/1620 [01:36<24:38,  1.05it/s]"
     ]
    },
    {
     "name": "stderr",
     "output_type": "stream",
     "text": [
      "\r",
      "Epoch 1 | Step 54 | CER 0.8567 | WER 1.0025:   4%|▍         | 67/1620 [01:37<23:18,  1.11it/s]"
     ]
    },
    {
     "name": "stderr",
     "output_type": "stream",
     "text": [
      "\r",
      "Epoch 1 | Step 54 | CER 0.8567 | WER 1.0025:   4%|▍         | 68/1620 [01:38<23:44,  1.09it/s]"
     ]
    },
    {
     "name": "stderr",
     "output_type": "stream",
     "text": [
      "\r",
      "Epoch 1 | Step 54 | CER 0.8567 | WER 1.0025:   4%|▍         | 69/1620 [01:39<23:59,  1.08it/s]"
     ]
    },
    {
     "name": "stderr",
     "output_type": "stream",
     "text": [
      "\r",
      "Epoch 1 | Step 54 | CER 0.8567 | WER 1.0025:   4%|▍         | 70/1620 [01:39<22:51,  1.13it/s]"
     ]
    },
    {
     "name": "stderr",
     "output_type": "stream",
     "text": [
      "\r",
      "Epoch 1 | Step 54 | CER 0.8567 | WER 1.0025:   4%|▍         | 71/1620 [01:40<23:13,  1.11it/s]"
     ]
    },
    {
     "name": "stderr",
     "output_type": "stream",
     "text": [
      "\r",
      "Epoch 1 | Step 54 | CER 0.8567 | WER 1.0025:   4%|▍         | 72/1620 [01:41<21:38,  1.19it/s]"
     ]
    },
    {
     "name": "stderr",
     "output_type": "stream",
     "text": [
      "\r",
      "Epoch 1 | Step 54 | CER 0.8567 | WER 1.0025:   5%|▍         | 73/1620 [01:42<22:24,  1.15it/s]"
     ]
    },
    {
     "name": "stderr",
     "output_type": "stream",
     "text": [
      "\r",
      "Epoch 1 | Step 54 | CER 0.8567 | WER 1.0025:   5%|▍         | 74/1620 [01:43<20:56,  1.23it/s]"
     ]
    },
    {
     "name": "stderr",
     "output_type": "stream",
     "text": [
      "\r",
      "Epoch 1 | Step 54 | CER 0.8567 | WER 1.0025:   5%|▍         | 75/1620 [01:43<20:22,  1.26it/s]"
     ]
    },
    {
     "name": "stderr",
     "output_type": "stream",
     "text": [
      "\r",
      "Epoch 1 | Step 54 | CER 0.8567 | WER 1.0025:   5%|▍         | 76/1620 [01:44<20:25,  1.26it/s]"
     ]
    },
    {
     "name": "stderr",
     "output_type": "stream",
     "text": [
      "\r",
      "Epoch 1 | Step 54 | CER 0.8567 | WER 1.0025:   5%|▍         | 77/1620 [01:45<20:57,  1.23it/s]"
     ]
    },
    {
     "name": "stderr",
     "output_type": "stream",
     "text": [
      "\r",
      "Epoch 1 | Step 54 | CER 0.8567 | WER 1.0025:   5%|▍         | 78/1620 [01:46<22:26,  1.15it/s]"
     ]
    },
    {
     "name": "stderr",
     "output_type": "stream",
     "text": [
      "\r",
      "Epoch 1 | Step 54 | CER 0.8567 | WER 1.0025:   5%|▍         | 79/1620 [01:47<24:04,  1.07it/s]"
     ]
    },
    {
     "name": "stderr",
     "output_type": "stream",
     "text": [
      "\r",
      "Epoch 1 | Step 54 | CER 0.8567 | WER 1.0025:   5%|▍         | 80/1620 [01:48<22:26,  1.14it/s]"
     ]
    },
    {
     "name": "stderr",
     "output_type": "stream",
     "text": [
      "\r",
      "Epoch 1 | Step 54 | CER 0.8567 | WER 1.0025:   5%|▌         | 81/1620 [01:49<20:43,  1.24it/s]"
     ]
    },
    {
     "name": "stderr",
     "output_type": "stream",
     "text": [
      "\r",
      "Epoch 1 | Step 54 | CER 0.8567 | WER 1.0025:   5%|▌         | 82/1620 [01:50<21:37,  1.19it/s]"
     ]
    },
    {
     "name": "stderr",
     "output_type": "stream",
     "text": [
      "\r",
      "Epoch 1 | Step 54 | CER 0.8567 | WER 1.0025:   5%|▌         | 83/1620 [01:50<20:31,  1.25it/s]"
     ]
    },
    {
     "name": "stderr",
     "output_type": "stream",
     "text": [
      "\r",
      "Epoch 1 | Step 54 | CER 0.8567 | WER 1.0025:   5%|▌         | 84/1620 [01:51<20:40,  1.24it/s]"
     ]
    },
    {
     "name": "stderr",
     "output_type": "stream",
     "text": [
      "\r",
      "Epoch 1 | Step 54 | CER 0.8567 | WER 1.0025:   5%|▌         | 85/1620 [01:52<21:07,  1.21it/s]"
     ]
    },
    {
     "name": "stderr",
     "output_type": "stream",
     "text": [
      "\r",
      "Epoch 1 | Step 54 | CER 0.8567 | WER 1.0025:   5%|▌         | 86/1620 [01:53<20:24,  1.25it/s]"
     ]
    },
    {
     "name": "stderr",
     "output_type": "stream",
     "text": [
      "\r",
      "Epoch 1 | Step 54 | CER 0.8567 | WER 1.0025:   5%|▌         | 87/1620 [01:54<21:09,  1.21it/s]"
     ]
    },
    {
     "name": "stderr",
     "output_type": "stream",
     "text": [
      "\r",
      "Epoch 1 | Step 54 | CER 0.8567 | WER 1.0025:   5%|▌         | 88/1620 [01:54<21:51,  1.17it/s]"
     ]
    },
    {
     "name": "stderr",
     "output_type": "stream",
     "text": [
      "\r",
      "Epoch 1 | Step 54 | CER 0.8567 | WER 1.0025:   5%|▌         | 89/1620 [01:55<20:22,  1.25it/s]"
     ]
    },
    {
     "name": "stderr",
     "output_type": "stream",
     "text": [
      "\r",
      "Epoch 1 | Step 54 | CER 0.8567 | WER 1.0025:   6%|▌         | 90/1620 [01:56<22:17,  1.14it/s]"
     ]
    },
    {
     "name": "stderr",
     "output_type": "stream",
     "text": [
      "\r",
      "Epoch 1 | Step 54 | CER 0.8567 | WER 1.0025:   6%|▌         | 91/1620 [01:57<22:38,  1.13it/s]"
     ]
    },
    {
     "name": "stderr",
     "output_type": "stream",
     "text": [
      "\r",
      "Epoch 1 | Step 54 | CER 0.8567 | WER 1.0025:   6%|▌         | 92/1620 [01:58<22:33,  1.13it/s]"
     ]
    },
    {
     "name": "stderr",
     "output_type": "stream",
     "text": [
      "\r",
      "Epoch 1 | Step 54 | CER 0.8567 | WER 1.0025:   6%|▌         | 93/1620 [01:59<21:53,  1.16it/s]"
     ]
    },
    {
     "name": "stderr",
     "output_type": "stream",
     "text": [
      "\r",
      "Epoch 1 | Step 54 | CER 0.8567 | WER 1.0025:   6%|▌         | 94/1620 [02:00<20:48,  1.22it/s]"
     ]
    },
    {
     "name": "stderr",
     "output_type": "stream",
     "text": [
      "\r",
      "Epoch 1 | Step 54 | CER 0.8567 | WER 1.0025:   6%|▌         | 95/1620 [02:01<22:46,  1.12it/s]"
     ]
    },
    {
     "name": "stderr",
     "output_type": "stream",
     "text": [
      "\r",
      "Epoch 1 | Step 54 | CER 0.8567 | WER 1.0025:   6%|▌         | 96/1620 [02:02<24:27,  1.04it/s]"
     ]
    },
    {
     "name": "stderr",
     "output_type": "stream",
     "text": [
      "\r",
      "Epoch 1 | Step 54 | CER 0.8567 | WER 1.0025:   6%|▌         | 97/1620 [02:03<23:33,  1.08it/s]"
     ]
    },
    {
     "name": "stderr",
     "output_type": "stream",
     "text": [
      "\r",
      "Epoch 1 | Step 54 | CER 0.8567 | WER 1.0025:   6%|▌         | 98/1620 [02:03<22:30,  1.13it/s]"
     ]
    },
    {
     "name": "stderr",
     "output_type": "stream",
     "text": [
      "\r",
      "Epoch 1 | Step 54 | CER 0.8567 | WER 1.0025:   6%|▌         | 99/1620 [02:05<27:19,  1.08s/it]"
     ]
    },
    {
     "name": "stderr",
     "output_type": "stream",
     "text": [
      "\r",
      "Epoch 1 | Step 54 | CER 0.8567 | WER 1.0025:   6%|▌         | 100/1620 [02:06<25:11,  1.01it/s]"
     ]
    },
    {
     "name": "stderr",
     "output_type": "stream",
     "text": [
      "\r",
      "Epoch 1 | Step 54 | CER 0.8567 | WER 1.0025:   6%|▌         | 101/1620 [02:07<24:58,  1.01it/s]"
     ]
    },
    {
     "name": "stderr",
     "output_type": "stream",
     "text": [
      "\r",
      "Epoch 1 | Step 54 | CER 0.8567 | WER 1.0025:   6%|▋         | 102/1620 [02:07<22:35,  1.12it/s]"
     ]
    },
    {
     "name": "stderr",
     "output_type": "stream",
     "text": [
      "\r",
      "Epoch 1 | Step 54 | CER 0.8567 | WER 1.0025:   6%|▋         | 103/1620 [02:08<23:13,  1.09it/s]"
     ]
    },
    {
     "name": "stderr",
     "output_type": "stream",
     "text": [
      "\r",
      "Epoch 1 | Step 54 | CER 0.8567 | WER 1.0025:   6%|▋         | 104/1620 [02:09<21:22,  1.18it/s]"
     ]
    },
    {
     "name": "stderr",
     "output_type": "stream",
     "text": [
      "\r",
      "Epoch 1 | Step 54 | CER 0.8567 | WER 1.0025:   6%|▋         | 105/1620 [02:10<20:12,  1.25it/s]"
     ]
    },
    {
     "name": "stderr",
     "output_type": "stream",
     "text": [
      "\r",
      "Epoch 1 | Step 54 | CER 0.8567 | WER 1.0025:   7%|▋         | 106/1620 [02:10<20:14,  1.25it/s]"
     ]
    },
    {
     "name": "stderr",
     "output_type": "stream",
     "text": [
      "\r",
      "Epoch 1 | Step 54 | CER 0.8567 | WER 1.0025:   7%|▋         | 107/1620 [02:11<18:46,  1.34it/s]"
     ]
    },
    {
     "name": "stderr",
     "output_type": "stream",
     "text": [
      "\r",
      "Epoch 1 | Step 54 | CER 0.8567 | WER 1.0025:   7%|▋         | 108/1620 [02:11<15:21,  1.64it/s]"
     ]
    },
    {
     "name": "stderr",
     "output_type": "stream",
     "text": [
      "\r",
      "Epoch 2 | Step 108 | CER 1.0527 | WER 1.0324:   7%|▋         | 108/1620 [02:17<15:21,  1.64it/s]"
     ]
    },
    {
     "name": "stderr",
     "output_type": "stream",
     "text": [
      "\r",
      "Epoch 2 | Step 108 | CER 1.0527 | WER 1.0324:   7%|▋         | 109/1620 [02:24<1:48:38,  4.31s/it]"
     ]
    },
    {
     "name": "stderr",
     "output_type": "stream",
     "text": [
      "\r",
      "Epoch 2 | Step 108 | CER 1.0527 | WER 1.0324:   7%|▋         | 110/1620 [02:25<1:23:18,  3.31s/it]"
     ]
    },
    {
     "name": "stderr",
     "output_type": "stream",
     "text": [
      "\r",
      "Epoch 2 | Step 108 | CER 1.0527 | WER 1.0324:   7%|▋         | 111/1620 [02:26<1:06:19,  2.64s/it]"
     ]
    },
    {
     "name": "stderr",
     "output_type": "stream",
     "text": [
      "\r",
      "Epoch 2 | Step 108 | CER 1.0527 | WER 1.0324:   7%|▋         | 112/1620 [02:27<52:11,  2.08s/it]  "
     ]
    },
    {
     "name": "stderr",
     "output_type": "stream",
     "text": [
      "\r",
      "Epoch 2 | Step 108 | CER 1.0527 | WER 1.0324:   7%|▋         | 113/1620 [02:28<43:13,  1.72s/it]"
     ]
    },
    {
     "name": "stderr",
     "output_type": "stream",
     "text": [
      "\r",
      "Epoch 2 | Step 108 | CER 1.0527 | WER 1.0324:   7%|▋         | 114/1620 [02:29<35:48,  1.43s/it]"
     ]
    },
    {
     "name": "stderr",
     "output_type": "stream",
     "text": [
      "\r",
      "Epoch 2 | Step 108 | CER 1.0527 | WER 1.0324:   7%|▋         | 115/1620 [02:29<30:22,  1.21s/it]"
     ]
    },
    {
     "name": "stderr",
     "output_type": "stream",
     "text": [
      "\r",
      "Epoch 2 | Step 108 | CER 1.0527 | WER 1.0324:   7%|▋         | 116/1620 [02:31<30:26,  1.21s/it]"
     ]
    },
    {
     "name": "stderr",
     "output_type": "stream",
     "text": [
      "\r",
      "Epoch 2 | Step 108 | CER 1.0527 | WER 1.0324:   7%|▋         | 117/1620 [02:31<27:17,  1.09s/it]"
     ]
    },
    {
     "name": "stderr",
     "output_type": "stream",
     "text": [
      "\r",
      "Epoch 2 | Step 108 | CER 1.0527 | WER 1.0324:   7%|▋         | 118/1620 [02:32<24:05,  1.04it/s]"
     ]
    },
    {
     "name": "stderr",
     "output_type": "stream",
     "text": [
      "\r",
      "Epoch 2 | Step 108 | CER 1.0527 | WER 1.0324:   7%|▋         | 119/1620 [02:33<22:21,  1.12it/s]"
     ]
    },
    {
     "name": "stderr",
     "output_type": "stream",
     "text": [
      "\r",
      "Epoch 2 | Step 108 | CER 1.0527 | WER 1.0324:   7%|▋         | 120/1620 [02:34<21:48,  1.15it/s]"
     ]
    },
    {
     "name": "stderr",
     "output_type": "stream",
     "text": [
      "\r",
      "Epoch 2 | Step 108 | CER 1.0527 | WER 1.0324:   7%|▋         | 121/1620 [02:35<22:18,  1.12it/s]"
     ]
    },
    {
     "name": "stderr",
     "output_type": "stream",
     "text": [
      "\r",
      "Epoch 2 | Step 108 | CER 1.0527 | WER 1.0324:   8%|▊         | 122/1620 [02:35<20:43,  1.20it/s]"
     ]
    },
    {
     "name": "stderr",
     "output_type": "stream",
     "text": [
      "\r",
      "Epoch 2 | Step 108 | CER 1.0527 | WER 1.0324:   8%|▊         | 123/1620 [02:36<22:25,  1.11it/s]"
     ]
    },
    {
     "name": "stderr",
     "output_type": "stream",
     "text": [
      "\r",
      "Epoch 2 | Step 108 | CER 1.0527 | WER 1.0324:   8%|▊         | 124/1620 [02:37<22:34,  1.10it/s]"
     ]
    },
    {
     "name": "stderr",
     "output_type": "stream",
     "text": [
      "\r",
      "Epoch 2 | Step 108 | CER 1.0527 | WER 1.0324:   8%|▊         | 125/1620 [02:38<21:43,  1.15it/s]"
     ]
    },
    {
     "name": "stderr",
     "output_type": "stream",
     "text": [
      "\r",
      "Epoch 2 | Step 108 | CER 1.0527 | WER 1.0324:   8%|▊         | 126/1620 [02:39<23:50,  1.04it/s]"
     ]
    },
    {
     "name": "stderr",
     "output_type": "stream",
     "text": [
      "\r",
      "Epoch 2 | Step 108 | CER 1.0527 | WER 1.0324:   8%|▊         | 127/1620 [02:40<25:54,  1.04s/it]"
     ]
    },
    {
     "name": "stderr",
     "output_type": "stream",
     "text": [
      "\r",
      "Epoch 2 | Step 108 | CER 1.0527 | WER 1.0324:   8%|▊         | 128/1620 [02:41<23:42,  1.05it/s]"
     ]
    },
    {
     "name": "stderr",
     "output_type": "stream",
     "text": [
      "\r",
      "Epoch 2 | Step 108 | CER 1.0527 | WER 1.0324:   8%|▊         | 129/1620 [02:42<21:40,  1.15it/s]"
     ]
    },
    {
     "name": "stderr",
     "output_type": "stream",
     "text": [
      "\r",
      "Epoch 2 | Step 108 | CER 1.0527 | WER 1.0324:   8%|▊         | 130/1620 [02:43<19:55,  1.25it/s]"
     ]
    },
    {
     "name": "stderr",
     "output_type": "stream",
     "text": [
      "\r",
      "Epoch 2 | Step 108 | CER 1.0527 | WER 1.0324:   8%|▊         | 131/1620 [02:43<19:27,  1.28it/s]"
     ]
    },
    {
     "name": "stderr",
     "output_type": "stream",
     "text": [
      "\r",
      "Epoch 2 | Step 108 | CER 1.0527 | WER 1.0324:   8%|▊         | 132/1620 [02:44<19:48,  1.25it/s]"
     ]
    },
    {
     "name": "stderr",
     "output_type": "stream",
     "text": [
      "\r",
      "Epoch 2 | Step 108 | CER 1.0527 | WER 1.0324:   8%|▊         | 133/1620 [02:45<20:11,  1.23it/s]"
     ]
    },
    {
     "name": "stderr",
     "output_type": "stream",
     "text": [
      "\r",
      "Epoch 2 | Step 108 | CER 1.0527 | WER 1.0324:   8%|▊         | 134/1620 [02:46<20:13,  1.22it/s]"
     ]
    },
    {
     "name": "stderr",
     "output_type": "stream",
     "text": [
      "\r",
      "Epoch 2 | Step 108 | CER 1.0527 | WER 1.0324:   8%|▊         | 135/1620 [02:47<19:21,  1.28it/s]"
     ]
    },
    {
     "name": "stderr",
     "output_type": "stream",
     "text": [
      "\r",
      "Epoch 2 | Step 108 | CER 1.0527 | WER 1.0324:   8%|▊         | 136/1620 [02:47<19:39,  1.26it/s]"
     ]
    },
    {
     "name": "stderr",
     "output_type": "stream",
     "text": [
      "\r",
      "Epoch 2 | Step 108 | CER 1.0527 | WER 1.0324:   8%|▊         | 137/1620 [02:48<20:46,  1.19it/s]"
     ]
    },
    {
     "name": "stderr",
     "output_type": "stream",
     "text": [
      "\r",
      "Epoch 2 | Step 108 | CER 1.0527 | WER 1.0324:   9%|▊         | 138/1620 [02:49<21:09,  1.17it/s]"
     ]
    },
    {
     "name": "stderr",
     "output_type": "stream",
     "text": [
      "\r",
      "Epoch 2 | Step 108 | CER 1.0527 | WER 1.0324:   9%|▊         | 139/1620 [02:50<20:07,  1.23it/s]"
     ]
    },
    {
     "name": "stderr",
     "output_type": "stream",
     "text": [
      "\r",
      "Epoch 2 | Step 108 | CER 1.0527 | WER 1.0324:   9%|▊         | 140/1620 [02:51<22:25,  1.10it/s]"
     ]
    },
    {
     "name": "stderr",
     "output_type": "stream",
     "text": [
      "\r",
      "Epoch 2 | Step 108 | CER 1.0527 | WER 1.0324:   9%|▊         | 141/1620 [02:52<23:38,  1.04it/s]"
     ]
    },
    {
     "name": "stderr",
     "output_type": "stream",
     "text": [
      "\r",
      "Epoch 2 | Step 108 | CER 1.0527 | WER 1.0324:   9%|▉         | 142/1620 [02:53<22:20,  1.10it/s]"
     ]
    },
    {
     "name": "stderr",
     "output_type": "stream",
     "text": [
      "\r",
      "Epoch 2 | Step 108 | CER 1.0527 | WER 1.0324:   9%|▉         | 143/1620 [02:54<23:09,  1.06it/s]"
     ]
    },
    {
     "name": "stderr",
     "output_type": "stream",
     "text": [
      "\r",
      "Epoch 2 | Step 108 | CER 1.0527 | WER 1.0324:   9%|▉         | 144/1620 [02:55<22:53,  1.07it/s]"
     ]
    },
    {
     "name": "stderr",
     "output_type": "stream",
     "text": [
      "\r",
      "Epoch 2 | Step 108 | CER 1.0527 | WER 1.0324:   9%|▉         | 145/1620 [02:56<22:33,  1.09it/s]"
     ]
    },
    {
     "name": "stderr",
     "output_type": "stream",
     "text": [
      "\r",
      "Epoch 2 | Step 108 | CER 1.0527 | WER 1.0324:   9%|▉         | 146/1620 [02:57<21:47,  1.13it/s]"
     ]
    },
    {
     "name": "stderr",
     "output_type": "stream",
     "text": [
      "\r",
      "Epoch 2 | Step 108 | CER 1.0527 | WER 1.0324:   9%|▉         | 147/1620 [02:57<21:38,  1.13it/s]"
     ]
    },
    {
     "name": "stderr",
     "output_type": "stream",
     "text": [
      "\r",
      "Epoch 2 | Step 108 | CER 1.0527 | WER 1.0324:   9%|▉         | 148/1620 [02:58<22:36,  1.09it/s]"
     ]
    },
    {
     "name": "stderr",
     "output_type": "stream",
     "text": [
      "\r",
      "Epoch 2 | Step 108 | CER 1.0527 | WER 1.0324:   9%|▉         | 149/1620 [02:59<21:49,  1.12it/s]"
     ]
    },
    {
     "name": "stderr",
     "output_type": "stream",
     "text": [
      "\r",
      "Epoch 2 | Step 108 | CER 1.0527 | WER 1.0324:   9%|▉         | 150/1620 [03:00<23:46,  1.03it/s]"
     ]
    },
    {
     "name": "stderr",
     "output_type": "stream",
     "text": [
      "\r",
      "Epoch 2 | Step 108 | CER 1.0527 | WER 1.0324:   9%|▉         | 151/1620 [03:01<23:23,  1.05it/s]"
     ]
    },
    {
     "name": "stderr",
     "output_type": "stream",
     "text": [
      "\r",
      "Epoch 2 | Step 108 | CER 1.0527 | WER 1.0324:   9%|▉         | 152/1620 [03:02<21:25,  1.14it/s]"
     ]
    },
    {
     "name": "stderr",
     "output_type": "stream",
     "text": [
      "\r",
      "Epoch 2 | Step 108 | CER 1.0527 | WER 1.0324:   9%|▉         | 153/1620 [03:03<19:49,  1.23it/s]"
     ]
    },
    {
     "name": "stderr",
     "output_type": "stream",
     "text": [
      "\r",
      "Epoch 2 | Step 108 | CER 1.0527 | WER 1.0324:  10%|▉         | 154/1620 [03:03<18:54,  1.29it/s]"
     ]
    },
    {
     "name": "stderr",
     "output_type": "stream",
     "text": [
      "\r",
      "Epoch 2 | Step 108 | CER 1.0527 | WER 1.0324:  10%|▉         | 155/1620 [03:04<18:02,  1.35it/s]"
     ]
    },
    {
     "name": "stderr",
     "output_type": "stream",
     "text": [
      "\r",
      "Epoch 2 | Step 108 | CER 1.0527 | WER 1.0324:  10%|▉         | 156/1620 [03:05<18:01,  1.35it/s]"
     ]
    },
    {
     "name": "stderr",
     "output_type": "stream",
     "text": [
      "\r",
      "Epoch 2 | Step 108 | CER 1.0527 | WER 1.0324:  10%|▉         | 157/1620 [03:06<19:23,  1.26it/s]"
     ]
    },
    {
     "name": "stderr",
     "output_type": "stream",
     "text": [
      "\r",
      "Epoch 2 | Step 108 | CER 1.0527 | WER 1.0324:  10%|▉         | 158/1620 [03:06<19:12,  1.27it/s]"
     ]
    },
    {
     "name": "stderr",
     "output_type": "stream",
     "text": [
      "\r",
      "Epoch 2 | Step 108 | CER 1.0527 | WER 1.0324:  10%|▉         | 159/1620 [03:07<19:18,  1.26it/s]"
     ]
    },
    {
     "name": "stderr",
     "output_type": "stream",
     "text": [
      "\r",
      "Epoch 2 | Step 108 | CER 1.0527 | WER 1.0324:  10%|▉         | 160/1620 [03:08<18:40,  1.30it/s]"
     ]
    },
    {
     "name": "stderr",
     "output_type": "stream",
     "text": [
      "\r",
      "Epoch 2 | Step 108 | CER 1.0527 | WER 1.0324:  10%|▉         | 161/1620 [03:09<17:23,  1.40it/s]"
     ]
    },
    {
     "name": "stderr",
     "output_type": "stream",
     "text": [
      "\r",
      "Epoch 2 | Step 108 | CER 1.0527 | WER 1.0324:  10%|█         | 162/1620 [03:09<14:19,  1.70it/s]"
     ]
    },
    {
     "name": "stderr",
     "output_type": "stream",
     "text": [
      "\r",
      "Epoch 3 | Step 162 | CER 0.9367 | WER 1.0100:  10%|█         | 162/1620 [03:14<14:19,  1.70it/s]"
     ]
    },
    {
     "name": "stderr",
     "output_type": "stream",
     "text": [
      "\r",
      "Epoch 3 | Step 162 | CER 0.9367 | WER 1.0100:  10%|█         | 163/1620 [03:22<1:42:56,  4.24s/it]"
     ]
    },
    {
     "name": "stderr",
     "output_type": "stream",
     "text": [
      "\r",
      "Epoch 3 | Step 162 | CER 0.9367 | WER 1.0100:  10%|█         | 164/1620 [03:22<1:17:50,  3.21s/it]"
     ]
    },
    {
     "name": "stderr",
     "output_type": "stream",
     "text": [
      "\r",
      "Epoch 3 | Step 162 | CER 0.9367 | WER 1.0100:  10%|█         | 165/1620 [03:23<59:52,  2.47s/it]  "
     ]
    },
    {
     "name": "stderr",
     "output_type": "stream",
     "text": [
      "\r",
      "Epoch 3 | Step 162 | CER 0.9367 | WER 1.0100:  10%|█         | 166/1620 [03:24<48:48,  2.01s/it]"
     ]
    },
    {
     "name": "stderr",
     "output_type": "stream",
     "text": [
      "\r",
      "Epoch 3 | Step 162 | CER 0.9367 | WER 1.0100:  10%|█         | 167/1620 [03:25<41:08,  1.70s/it]"
     ]
    },
    {
     "name": "stderr",
     "output_type": "stream",
     "text": [
      "\r",
      "Epoch 3 | Step 162 | CER 0.9367 | WER 1.0100:  10%|█         | 168/1620 [03:26<34:06,  1.41s/it]"
     ]
    },
    {
     "name": "stderr",
     "output_type": "stream",
     "text": [
      "\r",
      "Epoch 3 | Step 162 | CER 0.9367 | WER 1.0100:  10%|█         | 169/1620 [03:26<29:01,  1.20s/it]"
     ]
    },
    {
     "name": "stderr",
     "output_type": "stream",
     "text": [
      "\r",
      "Epoch 3 | Step 162 | CER 0.9367 | WER 1.0100:  10%|█         | 170/1620 [03:27<26:35,  1.10s/it]"
     ]
    },
    {
     "name": "stderr",
     "output_type": "stream",
     "text": [
      "\r",
      "Epoch 3 | Step 162 | CER 0.9367 | WER 1.0100:  11%|█         | 171/1620 [03:28<23:51,  1.01it/s]"
     ]
    },
    {
     "name": "stderr",
     "output_type": "stream",
     "text": [
      "\r",
      "Epoch 3 | Step 162 | CER 0.9367 | WER 1.0100:  11%|█         | 172/1620 [03:29<21:38,  1.12it/s]"
     ]
    },
    {
     "name": "stderr",
     "output_type": "stream",
     "text": [
      "\r",
      "Epoch 3 | Step 162 | CER 0.9367 | WER 1.0100:  11%|█         | 173/1620 [03:30<20:56,  1.15it/s]"
     ]
    },
    {
     "name": "stderr",
     "output_type": "stream",
     "text": [
      "\r",
      "Epoch 3 | Step 162 | CER 0.9367 | WER 1.0100:  11%|█         | 174/1620 [03:30<19:36,  1.23it/s]"
     ]
    },
    {
     "name": "stderr",
     "output_type": "stream",
     "text": [
      "\r",
      "Epoch 3 | Step 162 | CER 0.9367 | WER 1.0100:  11%|█         | 175/1620 [03:31<18:58,  1.27it/s]"
     ]
    },
    {
     "name": "stderr",
     "output_type": "stream",
     "text": [
      "\r",
      "Epoch 3 | Step 162 | CER 0.9367 | WER 1.0100:  11%|█         | 176/1620 [03:32<21:33,  1.12it/s]"
     ]
    },
    {
     "name": "stderr",
     "output_type": "stream",
     "text": [
      "\r",
      "Epoch 3 | Step 162 | CER 0.9367 | WER 1.0100:  11%|█         | 177/1620 [03:33<20:02,  1.20it/s]"
     ]
    },
    {
     "name": "stderr",
     "output_type": "stream",
     "text": [
      "\r",
      "Epoch 3 | Step 162 | CER 0.9367 | WER 1.0100:  11%|█         | 178/1620 [03:34<19:29,  1.23it/s]"
     ]
    },
    {
     "name": "stderr",
     "output_type": "stream",
     "text": [
      "\r",
      "Epoch 3 | Step 162 | CER 0.9367 | WER 1.0100:  11%|█         | 179/1620 [03:34<19:08,  1.25it/s]"
     ]
    },
    {
     "name": "stderr",
     "output_type": "stream",
     "text": [
      "\r",
      "Epoch 3 | Step 162 | CER 0.9367 | WER 1.0100:  11%|█         | 180/1620 [03:35<20:42,  1.16it/s]"
     ]
    },
    {
     "name": "stderr",
     "output_type": "stream",
     "text": [
      "\r",
      "Epoch 3 | Step 162 | CER 0.9367 | WER 1.0100:  11%|█         | 181/1620 [03:36<19:11,  1.25it/s]"
     ]
    },
    {
     "name": "stderr",
     "output_type": "stream",
     "text": [
      "\r",
      "Epoch 3 | Step 162 | CER 0.9367 | WER 1.0100:  11%|█         | 182/1620 [03:37<19:30,  1.23it/s]"
     ]
    },
    {
     "name": "stderr",
     "output_type": "stream",
     "text": [
      "\r",
      "Epoch 3 | Step 162 | CER 0.9367 | WER 1.0100:  11%|█▏        | 183/1620 [03:38<21:12,  1.13it/s]"
     ]
    },
    {
     "name": "stderr",
     "output_type": "stream",
     "text": [
      "\r",
      "Epoch 3 | Step 162 | CER 0.9367 | WER 1.0100:  11%|█▏        | 184/1620 [03:39<20:44,  1.15it/s]"
     ]
    },
    {
     "name": "stderr",
     "output_type": "stream",
     "text": [
      "\r",
      "Epoch 3 | Step 162 | CER 0.9367 | WER 1.0100:  11%|█▏        | 185/1620 [03:40<22:24,  1.07it/s]"
     ]
    },
    {
     "name": "stderr",
     "output_type": "stream",
     "text": [
      "\r",
      "Epoch 3 | Step 162 | CER 0.9367 | WER 1.0100:  11%|█▏        | 186/1620 [03:41<22:30,  1.06it/s]"
     ]
    },
    {
     "name": "stderr",
     "output_type": "stream",
     "text": [
      "\r",
      "Epoch 3 | Step 162 | CER 0.9367 | WER 1.0100:  12%|█▏        | 187/1620 [03:42<23:34,  1.01it/s]"
     ]
    },
    {
     "name": "stderr",
     "output_type": "stream",
     "text": [
      "\r",
      "Epoch 3 | Step 162 | CER 0.9367 | WER 1.0100:  12%|█▏        | 188/1620 [03:43<22:44,  1.05it/s]"
     ]
    },
    {
     "name": "stderr",
     "output_type": "stream",
     "text": [
      "\r",
      "Epoch 3 | Step 162 | CER 0.9367 | WER 1.0100:  12%|█▏        | 189/1620 [03:44<21:55,  1.09it/s]"
     ]
    },
    {
     "name": "stderr",
     "output_type": "stream",
     "text": [
      "\r",
      "Epoch 3 | Step 162 | CER 0.9367 | WER 1.0100:  12%|█▏        | 190/1620 [03:44<21:15,  1.12it/s]"
     ]
    },
    {
     "name": "stderr",
     "output_type": "stream",
     "text": [
      "\r",
      "Epoch 3 | Step 162 | CER 0.9367 | WER 1.0100:  12%|█▏        | 191/1620 [03:45<19:59,  1.19it/s]"
     ]
    },
    {
     "name": "stderr",
     "output_type": "stream",
     "text": [
      "\r",
      "Epoch 3 | Step 162 | CER 0.9367 | WER 1.0100:  12%|█▏        | 192/1620 [03:46<20:26,  1.16it/s]"
     ]
    },
    {
     "name": "stderr",
     "output_type": "stream",
     "text": [
      "\r",
      "Epoch 3 | Step 162 | CER 0.9367 | WER 1.0100:  12%|█▏        | 193/1620 [03:47<19:13,  1.24it/s]"
     ]
    },
    {
     "name": "stderr",
     "output_type": "stream",
     "text": [
      "\r",
      "Epoch 3 | Step 162 | CER 0.9367 | WER 1.0100:  12%|█▏        | 194/1620 [03:47<18:36,  1.28it/s]"
     ]
    },
    {
     "name": "stderr",
     "output_type": "stream",
     "text": [
      "\r",
      "Epoch 3 | Step 162 | CER 0.9367 | WER 1.0100:  12%|█▏        | 195/1620 [03:48<18:29,  1.28it/s]"
     ]
    },
    {
     "name": "stderr",
     "output_type": "stream",
     "text": [
      "\r",
      "Epoch 3 | Step 162 | CER 0.9367 | WER 1.0100:  12%|█▏        | 196/1620 [03:49<19:26,  1.22it/s]"
     ]
    },
    {
     "name": "stderr",
     "output_type": "stream",
     "text": [
      "\r",
      "Epoch 3 | Step 162 | CER 0.9367 | WER 1.0100:  12%|█▏        | 197/1620 [03:50<21:42,  1.09it/s]"
     ]
    },
    {
     "name": "stderr",
     "output_type": "stream",
     "text": [
      "\r",
      "Epoch 3 | Step 162 | CER 0.9367 | WER 1.0100:  12%|█▏        | 198/1620 [03:51<21:47,  1.09it/s]"
     ]
    },
    {
     "name": "stderr",
     "output_type": "stream",
     "text": [
      "\r",
      "Epoch 3 | Step 162 | CER 0.9367 | WER 1.0100:  12%|█▏        | 199/1620 [03:52<22:03,  1.07it/s]"
     ]
    },
    {
     "name": "stderr",
     "output_type": "stream",
     "text": [
      "\r",
      "Epoch 3 | Step 162 | CER 0.9367 | WER 1.0100:  12%|█▏        | 200/1620 [03:53<22:02,  1.07it/s]"
     ]
    },
    {
     "name": "stderr",
     "output_type": "stream",
     "text": [
      "\r",
      "Epoch 3 | Step 162 | CER 0.9367 | WER 1.0100:  12%|█▏        | 201/1620 [03:54<22:09,  1.07it/s]"
     ]
    },
    {
     "name": "stderr",
     "output_type": "stream",
     "text": [
      "\r",
      "Epoch 3 | Step 162 | CER 0.9367 | WER 1.0100:  12%|█▏        | 202/1620 [03:55<20:22,  1.16it/s]"
     ]
    },
    {
     "name": "stderr",
     "output_type": "stream",
     "text": [
      "\r",
      "Epoch 3 | Step 162 | CER 0.9367 | WER 1.0100:  13%|█▎        | 203/1620 [03:56<19:38,  1.20it/s]"
     ]
    },
    {
     "name": "stderr",
     "output_type": "stream",
     "text": [
      "\r",
      "Epoch 3 | Step 162 | CER 0.9367 | WER 1.0100:  13%|█▎        | 204/1620 [03:56<20:11,  1.17it/s]"
     ]
    },
    {
     "name": "stderr",
     "output_type": "stream",
     "text": [
      "\r",
      "Epoch 3 | Step 162 | CER 0.9367 | WER 1.0100:  13%|█▎        | 205/1620 [03:57<19:25,  1.21it/s]"
     ]
    },
    {
     "name": "stderr",
     "output_type": "stream",
     "text": [
      "\r",
      "Epoch 3 | Step 162 | CER 0.9367 | WER 1.0100:  13%|█▎        | 206/1620 [03:58<18:38,  1.26it/s]"
     ]
    },
    {
     "name": "stderr",
     "output_type": "stream",
     "text": [
      "\r",
      "Epoch 3 | Step 162 | CER 0.9367 | WER 1.0100:  13%|█▎        | 207/1620 [03:59<19:04,  1.23it/s]"
     ]
    },
    {
     "name": "stderr",
     "output_type": "stream",
     "text": [
      "\r",
      "Epoch 3 | Step 162 | CER 0.9367 | WER 1.0100:  13%|█▎        | 208/1620 [04:00<20:57,  1.12it/s]"
     ]
    },
    {
     "name": "stderr",
     "output_type": "stream",
     "text": [
      "\r",
      "Epoch 3 | Step 162 | CER 0.9367 | WER 1.0100:  13%|█▎        | 209/1620 [04:01<22:38,  1.04it/s]"
     ]
    },
    {
     "name": "stderr",
     "output_type": "stream",
     "text": [
      "\r",
      "Epoch 3 | Step 162 | CER 0.9367 | WER 1.0100:  13%|█▎        | 210/1620 [04:02<21:14,  1.11it/s]"
     ]
    },
    {
     "name": "stderr",
     "output_type": "stream",
     "text": [
      "\r",
      "Epoch 3 | Step 162 | CER 0.9367 | WER 1.0100:  13%|█▎        | 211/1620 [04:02<19:58,  1.18it/s]"
     ]
    },
    {
     "name": "stderr",
     "output_type": "stream",
     "text": [
      "\r",
      "Epoch 3 | Step 162 | CER 0.9367 | WER 1.0100:  13%|█▎        | 212/1620 [04:03<20:45,  1.13it/s]"
     ]
    },
    {
     "name": "stderr",
     "output_type": "stream",
     "text": [
      "\r",
      "Epoch 3 | Step 162 | CER 0.9367 | WER 1.0100:  13%|█▎        | 213/1620 [04:04<21:15,  1.10it/s]"
     ]
    },
    {
     "name": "stderr",
     "output_type": "stream",
     "text": [
      "\r",
      "Epoch 3 | Step 162 | CER 0.9367 | WER 1.0100:  13%|█▎        | 214/1620 [04:05<21:34,  1.09it/s]"
     ]
    },
    {
     "name": "stderr",
     "output_type": "stream",
     "text": [
      "\r",
      "Epoch 3 | Step 162 | CER 0.9367 | WER 1.0100:  13%|█▎        | 215/1620 [04:06<19:21,  1.21it/s]"
     ]
    },
    {
     "name": "stderr",
     "output_type": "stream",
     "text": [
      "\r",
      "Epoch 3 | Step 162 | CER 0.9367 | WER 1.0100:  13%|█▎        | 216/1620 [04:06<15:36,  1.50it/s]"
     ]
    },
    {
     "name": "stderr",
     "output_type": "stream",
     "text": [
      "\r",
      "Epoch 4 | Step 216 | CER 0.9279 | WER 1.0623:  13%|█▎        | 216/1620 [04:12<15:36,  1.50it/s]"
     ]
    },
    {
     "name": "stderr",
     "output_type": "stream",
     "text": [
      "\r",
      "Epoch 4 | Step 216 | CER 0.9279 | WER 1.0623:  13%|█▎        | 217/1620 [04:20<1:45:42,  4.52s/it]"
     ]
    },
    {
     "name": "stderr",
     "output_type": "stream",
     "text": [
      "\r",
      "Epoch 4 | Step 216 | CER 0.9279 | WER 1.0623:  13%|█▎        | 218/1620 [04:20<1:18:44,  3.37s/it]"
     ]
    },
    {
     "name": "stderr",
     "output_type": "stream",
     "text": [
      "\r",
      "Epoch 4 | Step 216 | CER 0.9279 | WER 1.0623:  14%|█▎        | 219/1620 [04:21<1:00:10,  2.58s/it]"
     ]
    },
    {
     "name": "stderr",
     "output_type": "stream",
     "text": [
      "\r",
      "Epoch 4 | Step 216 | CER 0.9279 | WER 1.0623:  14%|█▎        | 220/1620 [04:22<50:02,  2.14s/it]  "
     ]
    },
    {
     "name": "stderr",
     "output_type": "stream",
     "text": [
      "\r",
      "Epoch 4 | Step 216 | CER 0.9279 | WER 1.0623:  14%|█▎        | 221/1620 [04:23<41:41,  1.79s/it]"
     ]
    },
    {
     "name": "stderr",
     "output_type": "stream",
     "text": [
      "\r",
      "Epoch 4 | Step 216 | CER 0.9279 | WER 1.0623:  14%|█▎        | 222/1620 [04:24<35:49,  1.54s/it]"
     ]
    },
    {
     "name": "stderr",
     "output_type": "stream",
     "text": [
      "\r",
      "Epoch 4 | Step 216 | CER 0.9279 | WER 1.0623:  14%|█▍        | 223/1620 [04:25<29:49,  1.28s/it]"
     ]
    },
    {
     "name": "stderr",
     "output_type": "stream",
     "text": [
      "\r",
      "Epoch 4 | Step 216 | CER 0.9279 | WER 1.0623:  14%|█▍        | 224/1620 [04:26<26:23,  1.13s/it]"
     ]
    },
    {
     "name": "stderr",
     "output_type": "stream",
     "text": [
      "\r",
      "Epoch 4 | Step 216 | CER 0.9279 | WER 1.0623:  14%|█▍        | 225/1620 [04:27<26:01,  1.12s/it]"
     ]
    },
    {
     "name": "stderr",
     "output_type": "stream",
     "text": [
      "\r",
      "Epoch 4 | Step 216 | CER 0.9279 | WER 1.0623:  14%|█▍        | 226/1620 [04:28<23:38,  1.02s/it]"
     ]
    },
    {
     "name": "stderr",
     "output_type": "stream",
     "text": [
      "\r",
      "Epoch 4 | Step 216 | CER 0.9279 | WER 1.0623:  14%|█▍        | 227/1620 [04:29<23:32,  1.01s/it]"
     ]
    },
    {
     "name": "stderr",
     "output_type": "stream",
     "text": [
      "\r",
      "Epoch 4 | Step 216 | CER 0.9279 | WER 1.0623:  14%|█▍        | 228/1620 [04:29<22:16,  1.04it/s]"
     ]
    },
    {
     "name": "stderr",
     "output_type": "stream",
     "text": [
      "\r",
      "Epoch 4 | Step 216 | CER 0.9279 | WER 1.0623:  14%|█▍        | 229/1620 [04:30<19:58,  1.16it/s]"
     ]
    },
    {
     "name": "stderr",
     "output_type": "stream",
     "text": [
      "\r",
      "Epoch 4 | Step 216 | CER 0.9279 | WER 1.0623:  14%|█▍        | 230/1620 [04:31<19:22,  1.20it/s]"
     ]
    },
    {
     "name": "stderr",
     "output_type": "stream",
     "text": [
      "\r",
      "Epoch 4 | Step 216 | CER 0.9279 | WER 1.0623:  14%|█▍        | 231/1620 [04:32<18:41,  1.24it/s]"
     ]
    },
    {
     "name": "stderr",
     "output_type": "stream",
     "text": [
      "\r",
      "Epoch 4 | Step 216 | CER 0.9279 | WER 1.0623:  14%|█▍        | 232/1620 [04:32<18:33,  1.25it/s]"
     ]
    },
    {
     "name": "stderr",
     "output_type": "stream",
     "text": [
      "\r",
      "Epoch 4 | Step 216 | CER 0.9279 | WER 1.0623:  14%|█▍        | 233/1620 [04:33<17:56,  1.29it/s]"
     ]
    },
    {
     "name": "stderr",
     "output_type": "stream",
     "text": [
      "\r",
      "Epoch 4 | Step 216 | CER 0.9279 | WER 1.0623:  14%|█▍        | 234/1620 [04:34<19:06,  1.21it/s]"
     ]
    },
    {
     "name": "stderr",
     "output_type": "stream",
     "text": [
      "\r",
      "Epoch 4 | Step 216 | CER 0.9279 | WER 1.0623:  15%|█▍        | 235/1620 [04:35<19:57,  1.16it/s]"
     ]
    },
    {
     "name": "stderr",
     "output_type": "stream",
     "text": [
      "\r",
      "Epoch 4 | Step 216 | CER 0.9279 | WER 1.0623:  15%|█▍        | 236/1620 [04:36<19:45,  1.17it/s]"
     ]
    },
    {
     "name": "stderr",
     "output_type": "stream",
     "text": [
      "\r",
      "Epoch 4 | Step 216 | CER 0.9279 | WER 1.0623:  15%|█▍        | 237/1620 [04:37<21:06,  1.09it/s]"
     ]
    },
    {
     "name": "stderr",
     "output_type": "stream",
     "text": [
      "\r",
      "Epoch 4 | Step 216 | CER 0.9279 | WER 1.0623:  15%|█▍        | 238/1620 [04:38<21:46,  1.06it/s]"
     ]
    },
    {
     "name": "stderr",
     "output_type": "stream",
     "text": [
      "\r",
      "Epoch 4 | Step 216 | CER 0.9279 | WER 1.0623:  15%|█▍        | 239/1620 [04:38<19:53,  1.16it/s]"
     ]
    },
    {
     "name": "stderr",
     "output_type": "stream",
     "text": [
      "\r",
      "Epoch 4 | Step 216 | CER 0.9279 | WER 1.0623:  15%|█▍        | 240/1620 [04:39<18:48,  1.22it/s]"
     ]
    },
    {
     "name": "stderr",
     "output_type": "stream",
     "text": [
      "\r",
      "Epoch 4 | Step 216 | CER 0.9279 | WER 1.0623:  15%|█▍        | 241/1620 [04:40<17:39,  1.30it/s]"
     ]
    },
    {
     "name": "stderr",
     "output_type": "stream",
     "text": [
      "\r",
      "Epoch 4 | Step 216 | CER 0.9279 | WER 1.0623:  15%|█▍        | 242/1620 [04:41<18:38,  1.23it/s]"
     ]
    },
    {
     "name": "stderr",
     "output_type": "stream",
     "text": [
      "\r",
      "Epoch 4 | Step 216 | CER 0.9279 | WER 1.0623:  15%|█▌        | 243/1620 [04:42<18:49,  1.22it/s]"
     ]
    },
    {
     "name": "stderr",
     "output_type": "stream",
     "text": [
      "\r",
      "Epoch 4 | Step 216 | CER 0.9279 | WER 1.0623:  15%|█▌        | 244/1620 [04:43<21:43,  1.06it/s]"
     ]
    },
    {
     "name": "stderr",
     "output_type": "stream",
     "text": [
      "\r",
      "Epoch 4 | Step 216 | CER 0.9279 | WER 1.0623:  15%|█▌        | 245/1620 [04:44<21:37,  1.06it/s]"
     ]
    },
    {
     "name": "stderr",
     "output_type": "stream",
     "text": [
      "\r",
      "Epoch 4 | Step 216 | CER 0.9279 | WER 1.0623:  15%|█▌        | 246/1620 [04:45<21:29,  1.07it/s]"
     ]
    },
    {
     "name": "stderr",
     "output_type": "stream",
     "text": [
      "\r",
      "Epoch 4 | Step 216 | CER 0.9279 | WER 1.0623:  15%|█▌        | 247/1620 [04:46<20:57,  1.09it/s]"
     ]
    },
    {
     "name": "stderr",
     "output_type": "stream",
     "text": [
      "\r",
      "Epoch 4 | Step 216 | CER 0.9279 | WER 1.0623:  15%|█▌        | 248/1620 [04:47<21:39,  1.06it/s]"
     ]
    },
    {
     "name": "stderr",
     "output_type": "stream",
     "text": [
      "\r",
      "Epoch 4 | Step 216 | CER 0.9279 | WER 1.0623:  15%|█▌        | 249/1620 [04:48<23:51,  1.04s/it]"
     ]
    },
    {
     "name": "stderr",
     "output_type": "stream",
     "text": [
      "\r",
      "Epoch 4 | Step 216 | CER 0.9279 | WER 1.0623:  15%|█▌        | 250/1620 [04:49<22:28,  1.02it/s]"
     ]
    },
    {
     "name": "stderr",
     "output_type": "stream",
     "text": [
      "\r",
      "Epoch 4 | Step 216 | CER 0.9279 | WER 1.0623:  15%|█▌        | 251/1620 [04:50<21:42,  1.05it/s]"
     ]
    },
    {
     "name": "stderr",
     "output_type": "stream",
     "text": [
      "\r",
      "Epoch 4 | Step 216 | CER 0.9279 | WER 1.0623:  16%|█▌        | 252/1620 [04:50<20:04,  1.14it/s]"
     ]
    },
    {
     "name": "stderr",
     "output_type": "stream",
     "text": [
      "\r",
      "Epoch 4 | Step 216 | CER 0.9279 | WER 1.0623:  16%|█▌        | 253/1620 [04:51<18:40,  1.22it/s]"
     ]
    },
    {
     "name": "stderr",
     "output_type": "stream",
     "text": [
      "\r",
      "Epoch 4 | Step 216 | CER 0.9279 | WER 1.0623:  16%|█▌        | 254/1620 [04:52<19:53,  1.14it/s]"
     ]
    },
    {
     "name": "stderr",
     "output_type": "stream",
     "text": [
      "\r",
      "Epoch 4 | Step 216 | CER 0.9279 | WER 1.0623:  16%|█▌        | 255/1620 [04:53<18:42,  1.22it/s]"
     ]
    },
    {
     "name": "stderr",
     "output_type": "stream",
     "text": [
      "\r",
      "Epoch 4 | Step 216 | CER 0.9279 | WER 1.0623:  16%|█▌        | 256/1620 [04:54<19:28,  1.17it/s]"
     ]
    },
    {
     "name": "stderr",
     "output_type": "stream",
     "text": [
      "\r",
      "Epoch 4 | Step 216 | CER 0.9279 | WER 1.0623:  16%|█▌        | 257/1620 [04:55<20:10,  1.13it/s]"
     ]
    },
    {
     "name": "stderr",
     "output_type": "stream",
     "text": [
      "\r",
      "Epoch 4 | Step 216 | CER 0.9279 | WER 1.0623:  16%|█▌        | 258/1620 [04:56<21:10,  1.07it/s]"
     ]
    },
    {
     "name": "stderr",
     "output_type": "stream",
     "text": [
      "\r",
      "Epoch 4 | Step 216 | CER 0.9279 | WER 1.0623:  16%|█▌        | 259/1620 [04:56<19:19,  1.17it/s]"
     ]
    },
    {
     "name": "stderr",
     "output_type": "stream",
     "text": [
      "\r",
      "Epoch 4 | Step 216 | CER 0.9279 | WER 1.0623:  16%|█▌        | 260/1620 [04:57<18:21,  1.23it/s]"
     ]
    },
    {
     "name": "stderr",
     "output_type": "stream",
     "text": [
      "\r",
      "Epoch 4 | Step 216 | CER 0.9279 | WER 1.0623:  16%|█▌        | 261/1620 [04:58<18:26,  1.23it/s]"
     ]
    },
    {
     "name": "stderr",
     "output_type": "stream",
     "text": [
      "\r",
      "Epoch 4 | Step 216 | CER 0.9279 | WER 1.0623:  16%|█▌        | 262/1620 [04:59<18:02,  1.25it/s]"
     ]
    },
    {
     "name": "stderr",
     "output_type": "stream",
     "text": [
      "\r",
      "Epoch 4 | Step 216 | CER 0.9279 | WER 1.0623:  16%|█▌        | 263/1620 [04:59<18:11,  1.24it/s]"
     ]
    },
    {
     "name": "stderr",
     "output_type": "stream",
     "text": [
      "\r",
      "Epoch 4 | Step 216 | CER 0.9279 | WER 1.0623:  16%|█▋        | 264/1620 [05:00<18:00,  1.26it/s]"
     ]
    },
    {
     "name": "stderr",
     "output_type": "stream",
     "text": [
      "\r",
      "Epoch 4 | Step 216 | CER 0.9279 | WER 1.0623:  16%|█▋        | 265/1620 [05:01<18:22,  1.23it/s]"
     ]
    },
    {
     "name": "stderr",
     "output_type": "stream",
     "text": [
      "\r",
      "Epoch 4 | Step 216 | CER 0.9279 | WER 1.0623:  16%|█▋        | 266/1620 [05:02<18:29,  1.22it/s]"
     ]
    },
    {
     "name": "stderr",
     "output_type": "stream",
     "text": [
      "\r",
      "Epoch 4 | Step 216 | CER 0.9279 | WER 1.0623:  16%|█▋        | 267/1620 [05:03<17:46,  1.27it/s]"
     ]
    },
    {
     "name": "stderr",
     "output_type": "stream",
     "text": [
      "\r",
      "Epoch 4 | Step 216 | CER 0.9279 | WER 1.0623:  17%|█▋        | 268/1620 [05:03<18:00,  1.25it/s]"
     ]
    },
    {
     "name": "stderr",
     "output_type": "stream",
     "text": [
      "\r",
      "Epoch 4 | Step 216 | CER 0.9279 | WER 1.0623:  17%|█▋        | 269/1620 [05:04<16:53,  1.33it/s]"
     ]
    },
    {
     "name": "stderr",
     "output_type": "stream",
     "text": [
      "\r",
      "Epoch 4 | Step 216 | CER 0.9279 | WER 1.0623:  17%|█▋        | 270/1620 [05:04<13:48,  1.63it/s]"
     ]
    },
    {
     "name": "stderr",
     "output_type": "stream",
     "text": [
      "\r",
      "Epoch 5 | Step 270 | CER 0.6158 | WER 0.9177:  17%|█▋        | 270/1620 [05:10<13:48,  1.63it/s]"
     ]
    },
    {
     "name": "stderr",
     "output_type": "stream",
     "text": [
      "\r",
      "Epoch 5 | Step 270 | CER 0.6158 | WER 0.9177:  17%|█▋        | 271/1620 [05:17<1:38:12,  4.37s/it]"
     ]
    },
    {
     "name": "stderr",
     "output_type": "stream",
     "text": [
      "\r",
      "Epoch 5 | Step 270 | CER 0.6158 | WER 0.9177:  17%|█▋        | 272/1620 [05:19<1:15:53,  3.38s/it]"
     ]
    },
    {
     "name": "stderr",
     "output_type": "stream",
     "text": [
      "\r",
      "Epoch 5 | Step 270 | CER 0.6158 | WER 0.9177:  17%|█▋        | 273/1620 [05:19<58:45,  2.62s/it]  "
     ]
    },
    {
     "name": "stderr",
     "output_type": "stream",
     "text": [
      "\r",
      "Epoch 5 | Step 270 | CER 0.6158 | WER 0.9177:  17%|█▋        | 274/1620 [05:20<47:54,  2.14s/it]"
     ]
    },
    {
     "name": "stderr",
     "output_type": "stream",
     "text": [
      "\r",
      "Epoch 5 | Step 270 | CER 0.6158 | WER 0.9177:  17%|█▋        | 275/1620 [05:21<39:25,  1.76s/it]"
     ]
    },
    {
     "name": "stderr",
     "output_type": "stream",
     "text": [
      "\r",
      "Epoch 5 | Step 270 | CER 0.6158 | WER 0.9177:  17%|█▋        | 276/1620 [05:22<33:21,  1.49s/it]"
     ]
    },
    {
     "name": "stderr",
     "output_type": "stream",
     "text": [
      "\r",
      "Epoch 5 | Step 270 | CER 0.6158 | WER 0.9177:  17%|█▋        | 277/1620 [05:23<31:56,  1.43s/it]"
     ]
    },
    {
     "name": "stderr",
     "output_type": "stream",
     "text": [
      "\r",
      "Epoch 5 | Step 270 | CER 0.6158 | WER 0.9177:  17%|█▋        | 278/1620 [05:24<28:09,  1.26s/it]"
     ]
    },
    {
     "name": "stderr",
     "output_type": "stream",
     "text": [
      "\r",
      "Epoch 5 | Step 270 | CER 0.6158 | WER 0.9177:  17%|█▋        | 279/1620 [05:25<26:44,  1.20s/it]"
     ]
    },
    {
     "name": "stderr",
     "output_type": "stream",
     "text": [
      "\r",
      "Epoch 5 | Step 270 | CER 0.6158 | WER 0.9177:  17%|█▋        | 280/1620 [05:26<24:07,  1.08s/it]"
     ]
    },
    {
     "name": "stderr",
     "output_type": "stream",
     "text": [
      "\r",
      "Epoch 5 | Step 270 | CER 0.6158 | WER 0.9177:  17%|█▋        | 281/1620 [05:27<22:04,  1.01it/s]"
     ]
    },
    {
     "name": "stderr",
     "output_type": "stream",
     "text": [
      "\r",
      "Epoch 5 | Step 270 | CER 0.6158 | WER 0.9177:  17%|█▋        | 282/1620 [05:28<24:40,  1.11s/it]"
     ]
    },
    {
     "name": "stderr",
     "output_type": "stream",
     "text": [
      "\r",
      "Epoch 5 | Step 270 | CER 0.6158 | WER 0.9177:  17%|█▋        | 283/1620 [05:29<21:57,  1.01it/s]"
     ]
    },
    {
     "name": "stderr",
     "output_type": "stream",
     "text": [
      "\r",
      "Epoch 5 | Step 270 | CER 0.6158 | WER 0.9177:  18%|█▊        | 284/1620 [05:30<20:54,  1.06it/s]"
     ]
    },
    {
     "name": "stderr",
     "output_type": "stream",
     "text": [
      "\r",
      "Epoch 5 | Step 270 | CER 0.6158 | WER 0.9177:  18%|█▊        | 285/1620 [05:31<20:37,  1.08it/s]"
     ]
    },
    {
     "name": "stderr",
     "output_type": "stream",
     "text": [
      "\r",
      "Epoch 5 | Step 270 | CER 0.6158 | WER 0.9177:  18%|█▊        | 286/1620 [05:31<19:07,  1.16it/s]"
     ]
    },
    {
     "name": "stderr",
     "output_type": "stream",
     "text": [
      "\r",
      "Epoch 5 | Step 270 | CER 0.6158 | WER 0.9177:  18%|█▊        | 287/1620 [05:32<18:51,  1.18it/s]"
     ]
    },
    {
     "name": "stderr",
     "output_type": "stream",
     "text": [
      "\r",
      "Epoch 5 | Step 270 | CER 0.6158 | WER 0.9177:  18%|█▊        | 288/1620 [05:33<18:19,  1.21it/s]"
     ]
    },
    {
     "name": "stderr",
     "output_type": "stream",
     "text": [
      "\r",
      "Epoch 5 | Step 270 | CER 0.6158 | WER 0.9177:  18%|█▊        | 289/1620 [05:34<17:28,  1.27it/s]"
     ]
    },
    {
     "name": "stderr",
     "output_type": "stream",
     "text": [
      "\r",
      "Epoch 5 | Step 270 | CER 0.6158 | WER 0.9177:  18%|█▊        | 290/1620 [05:35<18:17,  1.21it/s]"
     ]
    },
    {
     "name": "stderr",
     "output_type": "stream",
     "text": [
      "\r",
      "Epoch 5 | Step 270 | CER 0.6158 | WER 0.9177:  18%|█▊        | 291/1620 [05:35<18:05,  1.22it/s]"
     ]
    },
    {
     "name": "stderr",
     "output_type": "stream",
     "text": [
      "\r",
      "Epoch 5 | Step 270 | CER 0.6158 | WER 0.9177:  18%|█▊        | 292/1620 [05:36<17:35,  1.26it/s]"
     ]
    },
    {
     "name": "stderr",
     "output_type": "stream",
     "text": [
      "\r",
      "Epoch 5 | Step 270 | CER 0.6158 | WER 0.9177:  18%|█▊        | 293/1620 [05:37<18:26,  1.20it/s]"
     ]
    },
    {
     "name": "stderr",
     "output_type": "stream",
     "text": [
      "\r",
      "Epoch 5 | Step 270 | CER 0.6158 | WER 0.9177:  18%|█▊        | 294/1620 [05:38<19:20,  1.14it/s]"
     ]
    },
    {
     "name": "stderr",
     "output_type": "stream",
     "text": [
      "\r",
      "Epoch 5 | Step 270 | CER 0.6158 | WER 0.9177:  18%|█▊        | 295/1620 [05:39<18:05,  1.22it/s]"
     ]
    },
    {
     "name": "stderr",
     "output_type": "stream",
     "text": [
      "\r",
      "Epoch 5 | Step 270 | CER 0.6158 | WER 0.9177:  18%|█▊        | 296/1620 [05:40<20:09,  1.09it/s]"
     ]
    },
    {
     "name": "stderr",
     "output_type": "stream",
     "text": [
      "\r",
      "Epoch 5 | Step 270 | CER 0.6158 | WER 0.9177:  18%|█▊        | 297/1620 [05:41<18:42,  1.18it/s]"
     ]
    },
    {
     "name": "stderr",
     "output_type": "stream",
     "text": [
      "\r",
      "Epoch 5 | Step 270 | CER 0.6158 | WER 0.9177:  18%|█▊        | 298/1620 [05:42<19:42,  1.12it/s]"
     ]
    },
    {
     "name": "stderr",
     "output_type": "stream",
     "text": [
      "\r",
      "Epoch 5 | Step 270 | CER 0.6158 | WER 0.9177:  18%|█▊        | 299/1620 [05:42<19:00,  1.16it/s]"
     ]
    },
    {
     "name": "stderr",
     "output_type": "stream",
     "text": [
      "\r",
      "Epoch 5 | Step 270 | CER 0.6158 | WER 0.9177:  19%|█▊        | 300/1620 [05:43<17:54,  1.23it/s]"
     ]
    },
    {
     "name": "stderr",
     "output_type": "stream",
     "text": [
      "\r",
      "Epoch 5 | Step 270 | CER 0.6158 | WER 0.9177:  19%|█▊        | 301/1620 [05:44<18:36,  1.18it/s]"
     ]
    },
    {
     "name": "stderr",
     "output_type": "stream",
     "text": [
      "\r",
      "Epoch 5 | Step 270 | CER 0.6158 | WER 0.9177:  19%|█▊        | 302/1620 [05:45<18:16,  1.20it/s]"
     ]
    },
    {
     "name": "stderr",
     "output_type": "stream",
     "text": [
      "\r",
      "Epoch 5 | Step 270 | CER 0.6158 | WER 0.9177:  19%|█▊        | 303/1620 [05:45<17:23,  1.26it/s]"
     ]
    },
    {
     "name": "stderr",
     "output_type": "stream",
     "text": [
      "\r",
      "Epoch 5 | Step 270 | CER 0.6158 | WER 0.9177:  19%|█▉        | 304/1620 [05:46<16:38,  1.32it/s]"
     ]
    },
    {
     "name": "stderr",
     "output_type": "stream",
     "text": [
      "\r",
      "Epoch 5 | Step 270 | CER 0.6158 | WER 0.9177:  19%|█▉        | 305/1620 [05:47<17:32,  1.25it/s]"
     ]
    },
    {
     "name": "stderr",
     "output_type": "stream",
     "text": [
      "\r",
      "Epoch 5 | Step 270 | CER 0.6158 | WER 0.9177:  19%|█▉        | 306/1620 [05:48<16:54,  1.30it/s]"
     ]
    },
    {
     "name": "stderr",
     "output_type": "stream",
     "text": [
      "\r",
      "Epoch 5 | Step 270 | CER 0.6158 | WER 0.9177:  19%|█▉        | 307/1620 [05:49<18:48,  1.16it/s]"
     ]
    },
    {
     "name": "stderr",
     "output_type": "stream",
     "text": [
      "\r",
      "Epoch 5 | Step 270 | CER 0.6158 | WER 0.9177:  19%|█▉        | 308/1620 [05:50<20:54,  1.05it/s]"
     ]
    },
    {
     "name": "stderr",
     "output_type": "stream",
     "text": [
      "\r",
      "Epoch 5 | Step 270 | CER 0.6158 | WER 0.9177:  19%|█▉        | 309/1620 [05:51<20:00,  1.09it/s]"
     ]
    },
    {
     "name": "stderr",
     "output_type": "stream",
     "text": [
      "\r",
      "Epoch 5 | Step 270 | CER 0.6158 | WER 0.9177:  19%|█▉        | 310/1620 [05:52<19:51,  1.10it/s]"
     ]
    },
    {
     "name": "stderr",
     "output_type": "stream",
     "text": [
      "\r",
      "Epoch 5 | Step 270 | CER 0.6158 | WER 0.9177:  19%|█▉        | 311/1620 [05:53<19:18,  1.13it/s]"
     ]
    },
    {
     "name": "stderr",
     "output_type": "stream",
     "text": [
      "\r",
      "Epoch 5 | Step 270 | CER 0.6158 | WER 0.9177:  19%|█▉        | 312/1620 [05:53<18:10,  1.20it/s]"
     ]
    },
    {
     "name": "stderr",
     "output_type": "stream",
     "text": [
      "\r",
      "Epoch 5 | Step 270 | CER 0.6158 | WER 0.9177:  19%|█▉        | 313/1620 [05:54<17:33,  1.24it/s]"
     ]
    },
    {
     "name": "stderr",
     "output_type": "stream",
     "text": [
      "\r",
      "Epoch 5 | Step 270 | CER 0.6158 | WER 0.9177:  19%|█▉        | 314/1620 [05:55<18:00,  1.21it/s]"
     ]
    },
    {
     "name": "stderr",
     "output_type": "stream",
     "text": [
      "\r",
      "Epoch 5 | Step 270 | CER 0.6158 | WER 0.9177:  19%|█▉        | 315/1620 [05:56<17:45,  1.22it/s]"
     ]
    },
    {
     "name": "stderr",
     "output_type": "stream",
     "text": [
      "\r",
      "Epoch 5 | Step 270 | CER 0.6158 | WER 0.9177:  20%|█▉        | 316/1620 [05:56<17:02,  1.27it/s]"
     ]
    },
    {
     "name": "stderr",
     "output_type": "stream",
     "text": [
      "\r",
      "Epoch 5 | Step 270 | CER 0.6158 | WER 0.9177:  20%|█▉        | 317/1620 [05:57<16:49,  1.29it/s]"
     ]
    },
    {
     "name": "stderr",
     "output_type": "stream",
     "text": [
      "\r",
      "Epoch 5 | Step 270 | CER 0.6158 | WER 0.9177:  20%|█▉        | 318/1620 [05:58<16:09,  1.34it/s]"
     ]
    },
    {
     "name": "stderr",
     "output_type": "stream",
     "text": [
      "\r",
      "Epoch 5 | Step 270 | CER 0.6158 | WER 0.9177:  20%|█▉        | 319/1620 [05:59<16:18,  1.33it/s]"
     ]
    },
    {
     "name": "stderr",
     "output_type": "stream",
     "text": [
      "\r",
      "Epoch 5 | Step 270 | CER 0.6158 | WER 0.9177:  20%|█▉        | 320/1620 [05:59<17:11,  1.26it/s]"
     ]
    },
    {
     "name": "stderr",
     "output_type": "stream",
     "text": [
      "\r",
      "Epoch 5 | Step 270 | CER 0.6158 | WER 0.9177:  20%|█▉        | 321/1620 [06:00<16:59,  1.27it/s]"
     ]
    },
    {
     "name": "stderr",
     "output_type": "stream",
     "text": [
      "\r",
      "Epoch 5 | Step 270 | CER 0.6158 | WER 0.9177:  20%|█▉        | 322/1620 [06:01<17:27,  1.24it/s]"
     ]
    },
    {
     "name": "stderr",
     "output_type": "stream",
     "text": [
      "\r",
      "Epoch 5 | Step 270 | CER 0.6158 | WER 0.9177:  20%|█▉        | 323/1620 [06:02<16:21,  1.32it/s]"
     ]
    },
    {
     "name": "stderr",
     "output_type": "stream",
     "text": [
      "\r",
      "Epoch 5 | Step 270 | CER 0.6158 | WER 0.9177:  20%|██        | 324/1620 [06:02<13:21,  1.62it/s]"
     ]
    },
    {
     "name": "stderr",
     "output_type": "stream",
     "text": [
      "\r",
      "Epoch 6 | Step 324 | CER 0.7921 | WER 1.2170:  20%|██        | 324/1620 [06:08<13:21,  1.62it/s]"
     ]
    },
    {
     "name": "stderr",
     "output_type": "stream",
     "text": [
      "\r",
      "Epoch 6 | Step 324 | CER 0.7921 | WER 1.2170:  20%|██        | 325/1620 [06:16<1:38:00,  4.54s/it]"
     ]
    },
    {
     "name": "stderr",
     "output_type": "stream",
     "text": [
      "\r",
      "Epoch 6 | Step 324 | CER 0.7921 | WER 1.2170:  20%|██        | 326/1620 [06:17<1:14:29,  3.45s/it]"
     ]
    },
    {
     "name": "stderr",
     "output_type": "stream",
     "text": [
      "\r",
      "Epoch 6 | Step 324 | CER 0.7921 | WER 1.2170:  20%|██        | 327/1620 [06:17<57:23,  2.66s/it]  "
     ]
    },
    {
     "name": "stderr",
     "output_type": "stream",
     "text": [
      "\r",
      "Epoch 6 | Step 324 | CER 0.7921 | WER 1.2170:  20%|██        | 328/1620 [06:18<45:38,  2.12s/it]"
     ]
    },
    {
     "name": "stderr",
     "output_type": "stream",
     "text": [
      "\r",
      "Epoch 6 | Step 324 | CER 0.7921 | WER 1.2170:  20%|██        | 329/1620 [06:19<37:16,  1.73s/it]"
     ]
    },
    {
     "name": "stderr",
     "output_type": "stream",
     "text": [
      "\r",
      "Epoch 6 | Step 324 | CER 0.7921 | WER 1.2170:  20%|██        | 330/1620 [06:20<31:20,  1.46s/it]"
     ]
    },
    {
     "name": "stderr",
     "output_type": "stream",
     "text": [
      "\r",
      "Epoch 6 | Step 324 | CER 0.7921 | WER 1.2170:  20%|██        | 331/1620 [06:21<26:23,  1.23s/it]"
     ]
    },
    {
     "name": "stderr",
     "output_type": "stream",
     "text": [
      "\r",
      "Epoch 6 | Step 324 | CER 0.7921 | WER 1.2170:  20%|██        | 332/1620 [06:22<24:43,  1.15s/it]"
     ]
    },
    {
     "name": "stderr",
     "output_type": "stream",
     "text": [
      "\r",
      "Epoch 6 | Step 324 | CER 0.7921 | WER 1.2170:  21%|██        | 333/1620 [06:22<22:00,  1.03s/it]"
     ]
    },
    {
     "name": "stderr",
     "output_type": "stream",
     "text": [
      "\r",
      "Epoch 6 | Step 324 | CER 0.7921 | WER 1.2170:  21%|██        | 334/1620 [06:23<20:53,  1.03it/s]"
     ]
    },
    {
     "name": "stderr",
     "output_type": "stream",
     "text": [
      "\r",
      "Epoch 6 | Step 324 | CER 0.7921 | WER 1.2170:  21%|██        | 335/1620 [06:24<19:01,  1.13it/s]"
     ]
    },
    {
     "name": "stderr",
     "output_type": "stream",
     "text": [
      "\r",
      "Epoch 6 | Step 324 | CER 0.7921 | WER 1.2170:  21%|██        | 336/1620 [06:25<18:25,  1.16it/s]"
     ]
    },
    {
     "name": "stderr",
     "output_type": "stream",
     "text": [
      "\r",
      "Epoch 6 | Step 324 | CER 0.7921 | WER 1.2170:  21%|██        | 337/1620 [06:25<17:25,  1.23it/s]"
     ]
    },
    {
     "name": "stderr",
     "output_type": "stream",
     "text": [
      "\r",
      "Epoch 6 | Step 324 | CER 0.7921 | WER 1.2170:  21%|██        | 338/1620 [06:26<17:48,  1.20it/s]"
     ]
    },
    {
     "name": "stderr",
     "output_type": "stream",
     "text": [
      "\r",
      "Epoch 6 | Step 324 | CER 0.7921 | WER 1.2170:  21%|██        | 339/1620 [06:27<18:10,  1.18it/s]"
     ]
    },
    {
     "name": "stderr",
     "output_type": "stream",
     "text": [
      "\r",
      "Epoch 6 | Step 324 | CER 0.7921 | WER 1.2170:  21%|██        | 340/1620 [06:28<17:11,  1.24it/s]"
     ]
    },
    {
     "name": "stderr",
     "output_type": "stream",
     "text": [
      "\r",
      "Epoch 6 | Step 324 | CER 0.7921 | WER 1.2170:  21%|██        | 341/1620 [06:29<18:41,  1.14it/s]"
     ]
    },
    {
     "name": "stderr",
     "output_type": "stream",
     "text": [
      "\r",
      "Epoch 6 | Step 324 | CER 0.7921 | WER 1.2170:  21%|██        | 342/1620 [06:30<19:00,  1.12it/s]"
     ]
    },
    {
     "name": "stderr",
     "output_type": "stream",
     "text": [
      "\r",
      "Epoch 6 | Step 324 | CER 0.7921 | WER 1.2170:  21%|██        | 343/1620 [06:31<18:24,  1.16it/s]"
     ]
    },
    {
     "name": "stderr",
     "output_type": "stream",
     "text": [
      "\r",
      "Epoch 6 | Step 324 | CER 0.7921 | WER 1.2170:  21%|██        | 344/1620 [06:31<17:26,  1.22it/s]"
     ]
    },
    {
     "name": "stderr",
     "output_type": "stream",
     "text": [
      "\r",
      "Epoch 6 | Step 324 | CER 0.7921 | WER 1.2170:  21%|██▏       | 345/1620 [06:32<17:48,  1.19it/s]"
     ]
    },
    {
     "name": "stderr",
     "output_type": "stream",
     "text": [
      "\r",
      "Epoch 6 | Step 324 | CER 0.7921 | WER 1.2170:  21%|██▏       | 346/1620 [06:33<17:12,  1.23it/s]"
     ]
    },
    {
     "name": "stderr",
     "output_type": "stream",
     "text": [
      "\r",
      "Epoch 6 | Step 324 | CER 0.7921 | WER 1.2170:  21%|██▏       | 347/1620 [06:34<17:11,  1.23it/s]"
     ]
    },
    {
     "name": "stderr",
     "output_type": "stream",
     "text": [
      "\r",
      "Epoch 6 | Step 324 | CER 0.7921 | WER 1.2170:  21%|██▏       | 348/1620 [06:35<18:18,  1.16it/s]"
     ]
    },
    {
     "name": "stderr",
     "output_type": "stream",
     "text": [
      "\r",
      "Epoch 6 | Step 324 | CER 0.7921 | WER 1.2170:  22%|██▏       | 349/1620 [06:36<19:28,  1.09it/s]"
     ]
    },
    {
     "name": "stderr",
     "output_type": "stream",
     "text": [
      "\r",
      "Epoch 6 | Step 324 | CER 0.7921 | WER 1.2170:  22%|██▏       | 350/1620 [06:37<17:50,  1.19it/s]"
     ]
    },
    {
     "name": "stderr",
     "output_type": "stream",
     "text": [
      "\r",
      "Epoch 6 | Step 324 | CER 0.7921 | WER 1.2170:  22%|██▏       | 351/1620 [06:37<17:44,  1.19it/s]"
     ]
    },
    {
     "name": "stderr",
     "output_type": "stream",
     "text": [
      "\r",
      "Epoch 6 | Step 324 | CER 0.7921 | WER 1.2170:  22%|██▏       | 352/1620 [06:38<18:32,  1.14it/s]"
     ]
    },
    {
     "name": "stderr",
     "output_type": "stream",
     "text": [
      "\r",
      "Epoch 6 | Step 324 | CER 0.7921 | WER 1.2170:  22%|██▏       | 353/1620 [06:39<19:52,  1.06it/s]"
     ]
    },
    {
     "name": "stderr",
     "output_type": "stream",
     "text": [
      "\r",
      "Epoch 6 | Step 324 | CER 0.7921 | WER 1.2170:  22%|██▏       | 354/1620 [06:40<20:04,  1.05it/s]"
     ]
    },
    {
     "name": "stderr",
     "output_type": "stream",
     "text": [
      "\r",
      "Epoch 6 | Step 324 | CER 0.7921 | WER 1.2170:  22%|██▏       | 355/1620 [06:41<19:18,  1.09it/s]"
     ]
    },
    {
     "name": "stderr",
     "output_type": "stream",
     "text": [
      "\r",
      "Epoch 6 | Step 324 | CER 0.7921 | WER 1.2170:  22%|██▏       | 356/1620 [06:42<18:41,  1.13it/s]"
     ]
    },
    {
     "name": "stderr",
     "output_type": "stream",
     "text": [
      "\r",
      "Epoch 6 | Step 324 | CER 0.7921 | WER 1.2170:  22%|██▏       | 357/1620 [06:43<18:31,  1.14it/s]"
     ]
    },
    {
     "name": "stderr",
     "output_type": "stream",
     "text": [
      "\r",
      "Epoch 6 | Step 324 | CER 0.7921 | WER 1.2170:  22%|██▏       | 358/1620 [06:44<17:14,  1.22it/s]"
     ]
    },
    {
     "name": "stderr",
     "output_type": "stream",
     "text": [
      "\r",
      "Epoch 6 | Step 324 | CER 0.7921 | WER 1.2170:  22%|██▏       | 359/1620 [06:44<16:35,  1.27it/s]"
     ]
    },
    {
     "name": "stderr",
     "output_type": "stream",
     "text": [
      "\r",
      "Epoch 6 | Step 324 | CER 0.7921 | WER 1.2170:  22%|██▏       | 360/1620 [06:45<17:30,  1.20it/s]"
     ]
    },
    {
     "name": "stderr",
     "output_type": "stream",
     "text": [
      "\r",
      "Epoch 6 | Step 324 | CER 0.7921 | WER 1.2170:  22%|██▏       | 361/1620 [06:46<16:43,  1.25it/s]"
     ]
    },
    {
     "name": "stderr",
     "output_type": "stream",
     "text": [
      "\r",
      "Epoch 6 | Step 324 | CER 0.7921 | WER 1.2170:  22%|██▏       | 362/1620 [06:47<17:23,  1.21it/s]"
     ]
    },
    {
     "name": "stderr",
     "output_type": "stream",
     "text": [
      "\r",
      "Epoch 6 | Step 324 | CER 0.7921 | WER 1.2170:  22%|██▏       | 363/1620 [06:48<16:57,  1.24it/s]"
     ]
    },
    {
     "name": "stderr",
     "output_type": "stream",
     "text": [
      "\r",
      "Epoch 6 | Step 324 | CER 0.7921 | WER 1.2170:  22%|██▏       | 364/1620 [06:48<16:06,  1.30it/s]"
     ]
    },
    {
     "name": "stderr",
     "output_type": "stream",
     "text": [
      "\r",
      "Epoch 6 | Step 324 | CER 0.7921 | WER 1.2170:  23%|██▎       | 365/1620 [06:49<15:21,  1.36it/s]"
     ]
    },
    {
     "name": "stderr",
     "output_type": "stream",
     "text": [
      "\r",
      "Epoch 6 | Step 324 | CER 0.7921 | WER 1.2170:  23%|██▎       | 366/1620 [06:50<15:24,  1.36it/s]"
     ]
    },
    {
     "name": "stderr",
     "output_type": "stream",
     "text": [
      "\r",
      "Epoch 6 | Step 324 | CER 0.7921 | WER 1.2170:  23%|██▎       | 367/1620 [06:51<16:09,  1.29it/s]"
     ]
    },
    {
     "name": "stderr",
     "output_type": "stream",
     "text": [
      "\r",
      "Epoch 6 | Step 324 | CER 0.7921 | WER 1.2170:  23%|██▎       | 368/1620 [06:52<18:10,  1.15it/s]"
     ]
    },
    {
     "name": "stderr",
     "output_type": "stream",
     "text": [
      "\r",
      "Epoch 6 | Step 324 | CER 0.7921 | WER 1.2170:  23%|██▎       | 369/1620 [06:52<17:37,  1.18it/s]"
     ]
    },
    {
     "name": "stderr",
     "output_type": "stream",
     "text": [
      "\r",
      "Epoch 6 | Step 324 | CER 0.7921 | WER 1.2170:  23%|██▎       | 370/1620 [06:53<18:12,  1.14it/s]"
     ]
    },
    {
     "name": "stderr",
     "output_type": "stream",
     "text": [
      "\r",
      "Epoch 6 | Step 324 | CER 0.7921 | WER 1.2170:  23%|██▎       | 371/1620 [06:54<19:25,  1.07it/s]"
     ]
    },
    {
     "name": "stderr",
     "output_type": "stream",
     "text": [
      "\r",
      "Epoch 6 | Step 324 | CER 0.7921 | WER 1.2170:  23%|██▎       | 372/1620 [06:55<19:25,  1.07it/s]"
     ]
    },
    {
     "name": "stderr",
     "output_type": "stream",
     "text": [
      "\r",
      "Epoch 6 | Step 324 | CER 0.7921 | WER 1.2170:  23%|██▎       | 373/1620 [06:56<18:29,  1.12it/s]"
     ]
    },
    {
     "name": "stderr",
     "output_type": "stream",
     "text": [
      "\r",
      "Epoch 6 | Step 324 | CER 0.7921 | WER 1.2170:  23%|██▎       | 374/1620 [06:57<17:38,  1.18it/s]"
     ]
    },
    {
     "name": "stderr",
     "output_type": "stream",
     "text": [
      "\r",
      "Epoch 6 | Step 324 | CER 0.7921 | WER 1.2170:  23%|██▎       | 375/1620 [06:58<16:59,  1.22it/s]"
     ]
    },
    {
     "name": "stderr",
     "output_type": "stream",
     "text": [
      "\r",
      "Epoch 6 | Step 324 | CER 0.7921 | WER 1.2170:  23%|██▎       | 376/1620 [06:59<19:32,  1.06it/s]"
     ]
    },
    {
     "name": "stderr",
     "output_type": "stream",
     "text": [
      "\r",
      "Epoch 6 | Step 324 | CER 0.7921 | WER 1.2170:  23%|██▎       | 377/1620 [07:00<17:34,  1.18it/s]"
     ]
    },
    {
     "name": "stderr",
     "output_type": "stream",
     "text": [
      "\r",
      "Epoch 6 | Step 324 | CER 0.7921 | WER 1.2170:  23%|██▎       | 378/1620 [07:00<14:07,  1.47it/s]"
     ]
    },
    {
     "name": "stderr",
     "output_type": "stream",
     "text": [
      "\r",
      "Epoch 7 | Step 378 | CER 0.7103 | WER 1.2070:  23%|██▎       | 378/1620 [07:05<14:07,  1.47it/s]"
     ]
    },
    {
     "name": "stderr",
     "output_type": "stream",
     "text": [
      "\r",
      "Epoch 7 | Step 378 | CER 0.7103 | WER 1.2070:  23%|██▎       | 379/1620 [07:13<1:31:01,  4.40s/it]"
     ]
    },
    {
     "name": "stderr",
     "output_type": "stream",
     "text": [
      "\r",
      "Epoch 7 | Step 378 | CER 0.7103 | WER 1.2070:  23%|██▎       | 380/1620 [07:14<1:07:42,  3.28s/it]"
     ]
    },
    {
     "name": "stderr",
     "output_type": "stream",
     "text": [
      "\r",
      "Epoch 7 | Step 378 | CER 0.7103 | WER 1.2070:  24%|██▎       | 381/1620 [07:14<52:03,  2.52s/it]  "
     ]
    },
    {
     "name": "stderr",
     "output_type": "stream",
     "text": [
      "\r",
      "Epoch 7 | Step 378 | CER 0.7103 | WER 1.2070:  24%|██▎       | 382/1620 [07:15<42:42,  2.07s/it]"
     ]
    },
    {
     "name": "stderr",
     "output_type": "stream",
     "text": [
      "\r",
      "Epoch 7 | Step 378 | CER 0.7103 | WER 1.2070:  24%|██▎       | 383/1620 [07:16<34:48,  1.69s/it]"
     ]
    },
    {
     "name": "stderr",
     "output_type": "stream",
     "text": [
      "\r",
      "Epoch 7 | Step 378 | CER 0.7103 | WER 1.2070:  24%|██▎       | 384/1620 [07:17<29:33,  1.43s/it]"
     ]
    },
    {
     "name": "stderr",
     "output_type": "stream",
     "text": [
      "\r",
      "Epoch 7 | Step 378 | CER 0.7103 | WER 1.2070:  24%|██▍       | 385/1620 [07:18<26:12,  1.27s/it]"
     ]
    },
    {
     "name": "stderr",
     "output_type": "stream",
     "text": [
      "\r",
      "Epoch 7 | Step 378 | CER 0.7103 | WER 1.2070:  24%|██▍       | 386/1620 [07:19<24:23,  1.19s/it]"
     ]
    },
    {
     "name": "stderr",
     "output_type": "stream",
     "text": [
      "\r",
      "Epoch 7 | Step 378 | CER 0.7103 | WER 1.2070:  24%|██▍       | 387/1620 [07:20<21:38,  1.05s/it]"
     ]
    },
    {
     "name": "stderr",
     "output_type": "stream",
     "text": [
      "\r",
      "Epoch 7 | Step 378 | CER 0.7103 | WER 1.2070:  24%|██▍       | 388/1620 [07:21<21:13,  1.03s/it]"
     ]
    },
    {
     "name": "stderr",
     "output_type": "stream",
     "text": [
      "\r",
      "Epoch 7 | Step 378 | CER 0.7103 | WER 1.2070:  24%|██▍       | 389/1620 [07:21<19:57,  1.03it/s]"
     ]
    },
    {
     "name": "stderr",
     "output_type": "stream",
     "text": [
      "\r",
      "Epoch 7 | Step 378 | CER 0.7103 | WER 1.2070:  24%|██▍       | 390/1620 [07:23<21:12,  1.03s/it]"
     ]
    },
    {
     "name": "stderr",
     "output_type": "stream",
     "text": [
      "\r",
      "Epoch 7 | Step 378 | CER 0.7103 | WER 1.2070:  24%|██▍       | 391/1620 [07:24<22:03,  1.08s/it]"
     ]
    },
    {
     "name": "stderr",
     "output_type": "stream",
     "text": [
      "\r",
      "Epoch 7 | Step 378 | CER 0.7103 | WER 1.2070:  24%|██▍       | 392/1620 [07:24<19:17,  1.06it/s]"
     ]
    },
    {
     "name": "stderr",
     "output_type": "stream",
     "text": [
      "\r",
      "Epoch 7 | Step 378 | CER 0.7103 | WER 1.2070:  24%|██▍       | 393/1620 [07:25<19:16,  1.06it/s]"
     ]
    },
    {
     "name": "stderr",
     "output_type": "stream",
     "text": [
      "\r",
      "Epoch 7 | Step 378 | CER 0.7103 | WER 1.2070:  24%|██▍       | 394/1620 [07:26<18:49,  1.09it/s]"
     ]
    },
    {
     "name": "stderr",
     "output_type": "stream",
     "text": [
      "\r",
      "Epoch 7 | Step 378 | CER 0.7103 | WER 1.2070:  24%|██▍       | 395/1620 [07:27<17:08,  1.19it/s]"
     ]
    },
    {
     "name": "stderr",
     "output_type": "stream",
     "text": [
      "\r",
      "Epoch 7 | Step 378 | CER 0.7103 | WER 1.2070:  24%|██▍       | 396/1620 [07:28<16:07,  1.26it/s]"
     ]
    },
    {
     "name": "stderr",
     "output_type": "stream",
     "text": [
      "\r",
      "Epoch 7 | Step 378 | CER 0.7103 | WER 1.2070:  25%|██▍       | 397/1620 [07:28<15:07,  1.35it/s]"
     ]
    },
    {
     "name": "stderr",
     "output_type": "stream",
     "text": [
      "\r",
      "Epoch 7 | Step 378 | CER 0.7103 | WER 1.2070:  25%|██▍       | 398/1620 [07:29<15:00,  1.36it/s]"
     ]
    },
    {
     "name": "stderr",
     "output_type": "stream",
     "text": [
      "\r",
      "Epoch 7 | Step 378 | CER 0.7103 | WER 1.2070:  25%|██▍       | 399/1620 [07:30<14:34,  1.40it/s]"
     ]
    },
    {
     "name": "stderr",
     "output_type": "stream",
     "text": [
      "\r",
      "Epoch 7 | Step 378 | CER 0.7103 | WER 1.2070:  25%|██▍       | 400/1620 [07:30<14:38,  1.39it/s]"
     ]
    },
    {
     "name": "stderr",
     "output_type": "stream",
     "text": [
      "\r",
      "Epoch 7 | Step 378 | CER 0.7103 | WER 1.2070:  25%|██▍       | 401/1620 [07:31<15:42,  1.29it/s]"
     ]
    },
    {
     "name": "stderr",
     "output_type": "stream",
     "text": [
      "\r",
      "Epoch 7 | Step 378 | CER 0.7103 | WER 1.2070:  25%|██▍       | 402/1620 [07:32<15:23,  1.32it/s]"
     ]
    },
    {
     "name": "stderr",
     "output_type": "stream",
     "text": [
      "\r",
      "Epoch 7 | Step 378 | CER 0.7103 | WER 1.2070:  25%|██▍       | 403/1620 [07:33<18:28,  1.10it/s]"
     ]
    },
    {
     "name": "stderr",
     "output_type": "stream",
     "text": [
      "\r",
      "Epoch 7 | Step 378 | CER 0.7103 | WER 1.2070:  25%|██▍       | 404/1620 [07:34<18:27,  1.10it/s]"
     ]
    },
    {
     "name": "stderr",
     "output_type": "stream",
     "text": [
      "\r",
      "Epoch 7 | Step 378 | CER 0.7103 | WER 1.2070:  25%|██▌       | 405/1620 [07:35<17:20,  1.17it/s]"
     ]
    },
    {
     "name": "stderr",
     "output_type": "stream",
     "text": [
      "\r",
      "Epoch 7 | Step 378 | CER 0.7103 | WER 1.2070:  25%|██▌       | 406/1620 [07:36<17:39,  1.15it/s]"
     ]
    },
    {
     "name": "stderr",
     "output_type": "stream",
     "text": [
      "\r",
      "Epoch 7 | Step 378 | CER 0.7103 | WER 1.2070:  25%|██▌       | 407/1620 [07:36<17:00,  1.19it/s]"
     ]
    },
    {
     "name": "stderr",
     "output_type": "stream",
     "text": [
      "\r",
      "Epoch 7 | Step 378 | CER 0.7103 | WER 1.2070:  25%|██▌       | 408/1620 [07:37<16:56,  1.19it/s]"
     ]
    },
    {
     "name": "stderr",
     "output_type": "stream",
     "text": [
      "\r",
      "Epoch 7 | Step 378 | CER 0.7103 | WER 1.2070:  25%|██▌       | 409/1620 [07:38<17:51,  1.13it/s]"
     ]
    },
    {
     "name": "stderr",
     "output_type": "stream",
     "text": [
      "\r",
      "Epoch 7 | Step 378 | CER 0.7103 | WER 1.2070:  25%|██▌       | 410/1620 [07:39<18:26,  1.09it/s]"
     ]
    },
    {
     "name": "stderr",
     "output_type": "stream",
     "text": [
      "\r",
      "Epoch 7 | Step 378 | CER 0.7103 | WER 1.2070:  25%|██▌       | 411/1620 [07:40<16:37,  1.21it/s]"
     ]
    },
    {
     "name": "stderr",
     "output_type": "stream",
     "text": [
      "\r",
      "Epoch 7 | Step 378 | CER 0.7103 | WER 1.2070:  25%|██▌       | 412/1620 [07:41<15:51,  1.27it/s]"
     ]
    },
    {
     "name": "stderr",
     "output_type": "stream",
     "text": [
      "\r",
      "Epoch 7 | Step 378 | CER 0.7103 | WER 1.2070:  25%|██▌       | 413/1620 [07:42<16:35,  1.21it/s]"
     ]
    },
    {
     "name": "stderr",
     "output_type": "stream",
     "text": [
      "\r",
      "Epoch 7 | Step 378 | CER 0.7103 | WER 1.2070:  26%|██▌       | 414/1620 [07:42<15:56,  1.26it/s]"
     ]
    },
    {
     "name": "stderr",
     "output_type": "stream",
     "text": [
      "\r",
      "Epoch 7 | Step 378 | CER 0.7103 | WER 1.2070:  26%|██▌       | 415/1620 [07:43<14:56,  1.34it/s]"
     ]
    },
    {
     "name": "stderr",
     "output_type": "stream",
     "text": [
      "\r",
      "Epoch 7 | Step 378 | CER 0.7103 | WER 1.2070:  26%|██▌       | 416/1620 [07:44<15:09,  1.32it/s]"
     ]
    },
    {
     "name": "stderr",
     "output_type": "stream",
     "text": [
      "\r",
      "Epoch 7 | Step 378 | CER 0.7103 | WER 1.2070:  26%|██▌       | 417/1620 [07:44<14:32,  1.38it/s]"
     ]
    },
    {
     "name": "stderr",
     "output_type": "stream",
     "text": [
      "\r",
      "Epoch 7 | Step 378 | CER 0.7103 | WER 1.2070:  26%|██▌       | 418/1620 [07:45<14:46,  1.36it/s]"
     ]
    },
    {
     "name": "stderr",
     "output_type": "stream",
     "text": [
      "\r",
      "Epoch 7 | Step 378 | CER 0.7103 | WER 1.2070:  26%|██▌       | 419/1620 [07:46<14:48,  1.35it/s]"
     ]
    },
    {
     "name": "stderr",
     "output_type": "stream",
     "text": [
      "\r",
      "Epoch 7 | Step 378 | CER 0.7103 | WER 1.2070:  26%|██▌       | 420/1620 [07:47<17:49,  1.12it/s]"
     ]
    },
    {
     "name": "stderr",
     "output_type": "stream",
     "text": [
      "\r",
      "Epoch 7 | Step 378 | CER 0.7103 | WER 1.2070:  26%|██▌       | 421/1620 [07:48<16:44,  1.19it/s]"
     ]
    },
    {
     "name": "stderr",
     "output_type": "stream",
     "text": [
      "\r",
      "Epoch 7 | Step 378 | CER 0.7103 | WER 1.2070:  26%|██▌       | 422/1620 [07:49<18:04,  1.10it/s]"
     ]
    },
    {
     "name": "stderr",
     "output_type": "stream",
     "text": [
      "\r",
      "Epoch 7 | Step 378 | CER 0.7103 | WER 1.2070:  26%|██▌       | 423/1620 [07:50<17:39,  1.13it/s]"
     ]
    },
    {
     "name": "stderr",
     "output_type": "stream",
     "text": [
      "\r",
      "Epoch 7 | Step 378 | CER 0.7103 | WER 1.2070:  26%|██▌       | 424/1620 [07:51<19:43,  1.01it/s]"
     ]
    },
    {
     "name": "stderr",
     "output_type": "stream",
     "text": [
      "\r",
      "Epoch 7 | Step 378 | CER 0.7103 | WER 1.2070:  26%|██▌       | 425/1620 [07:52<19:51,  1.00it/s]"
     ]
    },
    {
     "name": "stderr",
     "output_type": "stream",
     "text": [
      "\r",
      "Epoch 7 | Step 378 | CER 0.7103 | WER 1.2070:  26%|██▋       | 426/1620 [07:53<17:48,  1.12it/s]"
     ]
    },
    {
     "name": "stderr",
     "output_type": "stream",
     "text": [
      "\r",
      "Epoch 7 | Step 378 | CER 0.7103 | WER 1.2070:  26%|██▋       | 427/1620 [07:53<17:53,  1.11it/s]"
     ]
    },
    {
     "name": "stderr",
     "output_type": "stream",
     "text": [
      "\r",
      "Epoch 7 | Step 378 | CER 0.7103 | WER 1.2070:  26%|██▋       | 428/1620 [07:54<18:26,  1.08it/s]"
     ]
    },
    {
     "name": "stderr",
     "output_type": "stream",
     "text": [
      "\r",
      "Epoch 7 | Step 378 | CER 0.7103 | WER 1.2070:  26%|██▋       | 429/1620 [07:56<19:01,  1.04it/s]"
     ]
    },
    {
     "name": "stderr",
     "output_type": "stream",
     "text": [
      "\r",
      "Epoch 7 | Step 378 | CER 0.7103 | WER 1.2070:  27%|██▋       | 430/1620 [07:57<19:19,  1.03it/s]"
     ]
    },
    {
     "name": "stderr",
     "output_type": "stream",
     "text": [
      "\r",
      "Epoch 7 | Step 378 | CER 0.7103 | WER 1.2070:  27%|██▋       | 431/1620 [07:57<17:08,  1.16it/s]"
     ]
    },
    {
     "name": "stderr",
     "output_type": "stream",
     "text": [
      "\r",
      "Epoch 7 | Step 378 | CER 0.7103 | WER 1.2070:  27%|██▋       | 432/1620 [07:57<13:45,  1.44it/s]"
     ]
    },
    {
     "name": "stderr",
     "output_type": "stream",
     "text": [
      "\r",
      "Epoch 8 | Step 432 | CER 0.8752 | WER 1.2943:  27%|██▋       | 432/1620 [08:03<13:45,  1.44it/s]"
     ]
    },
    {
     "name": "stderr",
     "output_type": "stream",
     "text": [
      "\r",
      "Epoch 8 | Step 432 | CER 0.8752 | WER 1.2943:  27%|██▋       | 433/1620 [08:10<1:25:58,  4.35s/it]"
     ]
    },
    {
     "name": "stderr",
     "output_type": "stream",
     "text": [
      "\r",
      "Epoch 8 | Step 432 | CER 0.8752 | WER 1.2943:  27%|██▋       | 434/1620 [08:11<1:04:54,  3.28s/it]"
     ]
    },
    {
     "name": "stderr",
     "output_type": "stream",
     "text": [
      "\r",
      "Epoch 8 | Step 432 | CER 0.8752 | WER 1.2943:  27%|██▋       | 435/1620 [08:12<52:09,  2.64s/it]  "
     ]
    },
    {
     "name": "stderr",
     "output_type": "stream",
     "text": [
      "\r",
      "Epoch 8 | Step 432 | CER 0.8752 | WER 1.2943:  27%|██▋       | 436/1620 [08:13<42:01,  2.13s/it]"
     ]
    },
    {
     "name": "stderr",
     "output_type": "stream",
     "text": [
      "\r",
      "Epoch 8 | Step 432 | CER 0.8752 | WER 1.2943:  27%|██▋       | 437/1620 [08:15<37:27,  1.90s/it]"
     ]
    },
    {
     "name": "stderr",
     "output_type": "stream",
     "text": [
      "\r",
      "Epoch 8 | Step 432 | CER 0.8752 | WER 1.2943:  27%|██▋       | 438/1620 [08:15<30:51,  1.57s/it]"
     ]
    },
    {
     "name": "stderr",
     "output_type": "stream",
     "text": [
      "\r",
      "Epoch 8 | Step 432 | CER 0.8752 | WER 1.2943:  27%|██▋       | 439/1620 [08:16<26:27,  1.34s/it]"
     ]
    },
    {
     "name": "stderr",
     "output_type": "stream",
     "text": [
      "\r",
      "Epoch 8 | Step 432 | CER 0.8752 | WER 1.2943:  27%|██▋       | 440/1620 [08:17<24:29,  1.25s/it]"
     ]
    },
    {
     "name": "stderr",
     "output_type": "stream",
     "text": [
      "\r",
      "Epoch 8 | Step 432 | CER 0.8752 | WER 1.2943:  27%|██▋       | 441/1620 [08:18<21:24,  1.09s/it]"
     ]
    },
    {
     "name": "stderr",
     "output_type": "stream",
     "text": [
      "\r",
      "Epoch 8 | Step 432 | CER 0.8752 | WER 1.2943:  27%|██▋       | 442/1620 [08:19<18:58,  1.03it/s]"
     ]
    },
    {
     "name": "stderr",
     "output_type": "stream",
     "text": [
      "\r",
      "Epoch 8 | Step 432 | CER 0.8752 | WER 1.2943:  27%|██▋       | 443/1620 [08:19<17:25,  1.13it/s]"
     ]
    },
    {
     "name": "stderr",
     "output_type": "stream",
     "text": [
      "\r",
      "Epoch 8 | Step 432 | CER 0.8752 | WER 1.2943:  27%|██▋       | 444/1620 [08:20<18:42,  1.05it/s]"
     ]
    },
    {
     "name": "stderr",
     "output_type": "stream",
     "text": [
      "\r",
      "Epoch 8 | Step 432 | CER 0.8752 | WER 1.2943:  27%|██▋       | 445/1620 [08:21<18:14,  1.07it/s]"
     ]
    },
    {
     "name": "stderr",
     "output_type": "stream",
     "text": [
      "\r",
      "Epoch 8 | Step 432 | CER 0.8752 | WER 1.2943:  28%|██▊       | 446/1620 [08:22<17:22,  1.13it/s]"
     ]
    },
    {
     "name": "stderr",
     "output_type": "stream",
     "text": [
      "\r",
      "Epoch 8 | Step 432 | CER 0.8752 | WER 1.2943:  28%|██▊       | 447/1620 [08:23<17:00,  1.15it/s]"
     ]
    },
    {
     "name": "stderr",
     "output_type": "stream",
     "text": [
      "\r",
      "Epoch 8 | Step 432 | CER 0.8752 | WER 1.2943:  28%|██▊       | 448/1620 [08:24<16:22,  1.19it/s]"
     ]
    },
    {
     "name": "stderr",
     "output_type": "stream",
     "text": [
      "\r",
      "Epoch 8 | Step 432 | CER 0.8752 | WER 1.2943:  28%|██▊       | 449/1620 [08:25<16:30,  1.18it/s]"
     ]
    },
    {
     "name": "stderr",
     "output_type": "stream",
     "text": [
      "\r",
      "Epoch 8 | Step 432 | CER 0.8752 | WER 1.2943:  28%|██▊       | 450/1620 [08:25<16:51,  1.16it/s]"
     ]
    },
    {
     "name": "stderr",
     "output_type": "stream",
     "text": [
      "\r",
      "Epoch 8 | Step 432 | CER 0.8752 | WER 1.2943:  28%|██▊       | 451/1620 [08:26<15:44,  1.24it/s]"
     ]
    },
    {
     "name": "stderr",
     "output_type": "stream",
     "text": [
      "\r",
      "Epoch 8 | Step 432 | CER 0.8752 | WER 1.2943:  28%|██▊       | 452/1620 [08:27<15:17,  1.27it/s]"
     ]
    },
    {
     "name": "stderr",
     "output_type": "stream",
     "text": [
      "\r",
      "Epoch 8 | Step 432 | CER 0.8752 | WER 1.2943:  28%|██▊       | 453/1620 [08:28<16:01,  1.21it/s]"
     ]
    },
    {
     "name": "stderr",
     "output_type": "stream",
     "text": [
      "\r",
      "Epoch 8 | Step 432 | CER 0.8752 | WER 1.2943:  28%|██▊       | 454/1620 [08:29<16:32,  1.18it/s]"
     ]
    },
    {
     "name": "stderr",
     "output_type": "stream",
     "text": [
      "\r",
      "Epoch 8 | Step 432 | CER 0.8752 | WER 1.2943:  28%|██▊       | 455/1620 [08:29<16:00,  1.21it/s]"
     ]
    },
    {
     "name": "stderr",
     "output_type": "stream",
     "text": [
      "\r",
      "Epoch 8 | Step 432 | CER 0.8752 | WER 1.2943:  28%|██▊       | 456/1620 [08:30<16:37,  1.17it/s]"
     ]
    },
    {
     "name": "stderr",
     "output_type": "stream",
     "text": [
      "\r",
      "Epoch 8 | Step 432 | CER 0.8752 | WER 1.2943:  28%|██▊       | 457/1620 [08:31<15:47,  1.23it/s]"
     ]
    },
    {
     "name": "stderr",
     "output_type": "stream",
     "text": [
      "\r",
      "Epoch 8 | Step 432 | CER 0.8752 | WER 1.2943:  28%|██▊       | 458/1620 [08:32<16:13,  1.19it/s]"
     ]
    },
    {
     "name": "stderr",
     "output_type": "stream",
     "text": [
      "\r",
      "Epoch 8 | Step 432 | CER 0.8752 | WER 1.2943:  28%|██▊       | 459/1620 [08:33<15:18,  1.26it/s]"
     ]
    },
    {
     "name": "stderr",
     "output_type": "stream",
     "text": [
      "\r",
      "Epoch 8 | Step 432 | CER 0.8752 | WER 1.2943:  28%|██▊       | 460/1620 [08:34<15:52,  1.22it/s]"
     ]
    },
    {
     "name": "stderr",
     "output_type": "stream",
     "text": [
      "\r",
      "Epoch 8 | Step 432 | CER 0.8752 | WER 1.2943:  28%|██▊       | 461/1620 [08:34<15:39,  1.23it/s]"
     ]
    },
    {
     "name": "stderr",
     "output_type": "stream",
     "text": [
      "\r",
      "Epoch 8 | Step 432 | CER 0.8752 | WER 1.2943:  29%|██▊       | 462/1620 [08:35<15:03,  1.28it/s]"
     ]
    },
    {
     "name": "stderr",
     "output_type": "stream",
     "text": [
      "\r",
      "Epoch 8 | Step 432 | CER 0.8752 | WER 1.2943:  29%|██▊       | 463/1620 [08:36<17:59,  1.07it/s]"
     ]
    },
    {
     "name": "stderr",
     "output_type": "stream",
     "text": [
      "\r",
      "Epoch 8 | Step 432 | CER 0.8752 | WER 1.2943:  29%|██▊       | 464/1620 [08:37<18:05,  1.06it/s]"
     ]
    },
    {
     "name": "stderr",
     "output_type": "stream",
     "text": [
      "\r",
      "Epoch 8 | Step 432 | CER 0.8752 | WER 1.2943:  29%|██▊       | 465/1620 [08:38<16:48,  1.14it/s]"
     ]
    },
    {
     "name": "stderr",
     "output_type": "stream",
     "text": [
      "\r",
      "Epoch 8 | Step 432 | CER 0.8752 | WER 1.2943:  29%|██▉       | 466/1620 [08:39<15:33,  1.24it/s]"
     ]
    },
    {
     "name": "stderr",
     "output_type": "stream",
     "text": [
      "\r",
      "Epoch 8 | Step 432 | CER 0.8752 | WER 1.2943:  29%|██▉       | 467/1620 [08:39<14:58,  1.28it/s]"
     ]
    },
    {
     "name": "stderr",
     "output_type": "stream",
     "text": [
      "\r",
      "Epoch 8 | Step 432 | CER 0.8752 | WER 1.2943:  29%|██▉       | 468/1620 [08:40<15:44,  1.22it/s]"
     ]
    },
    {
     "name": "stderr",
     "output_type": "stream",
     "text": [
      "\r",
      "Epoch 8 | Step 432 | CER 0.8752 | WER 1.2943:  29%|██▉       | 469/1620 [08:41<16:22,  1.17it/s]"
     ]
    },
    {
     "name": "stderr",
     "output_type": "stream",
     "text": [
      "\r",
      "Epoch 8 | Step 432 | CER 0.8752 | WER 1.2943:  29%|██▉       | 470/1620 [08:42<16:46,  1.14it/s]"
     ]
    },
    {
     "name": "stderr",
     "output_type": "stream",
     "text": [
      "\r",
      "Epoch 8 | Step 432 | CER 0.8752 | WER 1.2943:  29%|██▉       | 471/1620 [08:43<16:06,  1.19it/s]"
     ]
    },
    {
     "name": "stderr",
     "output_type": "stream",
     "text": [
      "\r",
      "Epoch 8 | Step 432 | CER 0.8752 | WER 1.2943:  29%|██▉       | 472/1620 [08:44<17:19,  1.10it/s]"
     ]
    },
    {
     "name": "stderr",
     "output_type": "stream",
     "text": [
      "\r",
      "Epoch 8 | Step 432 | CER 0.8752 | WER 1.2943:  29%|██▉       | 473/1620 [08:45<16:06,  1.19it/s]"
     ]
    },
    {
     "name": "stderr",
     "output_type": "stream",
     "text": [
      "\r",
      "Epoch 8 | Step 432 | CER 0.8752 | WER 1.2943:  29%|██▉       | 474/1620 [08:45<15:54,  1.20it/s]"
     ]
    },
    {
     "name": "stderr",
     "output_type": "stream",
     "text": [
      "\r",
      "Epoch 8 | Step 432 | CER 0.8752 | WER 1.2943:  29%|██▉       | 475/1620 [08:46<15:58,  1.20it/s]"
     ]
    },
    {
     "name": "stderr",
     "output_type": "stream",
     "text": [
      "\r",
      "Epoch 8 | Step 432 | CER 0.8752 | WER 1.2943:  29%|██▉       | 476/1620 [08:47<15:43,  1.21it/s]"
     ]
    },
    {
     "name": "stderr",
     "output_type": "stream",
     "text": [
      "\r",
      "Epoch 8 | Step 432 | CER 0.8752 | WER 1.2943:  29%|██▉       | 477/1620 [08:48<15:37,  1.22it/s]"
     ]
    },
    {
     "name": "stderr",
     "output_type": "stream",
     "text": [
      "\r",
      "Epoch 8 | Step 432 | CER 0.8752 | WER 1.2943:  30%|██▉       | 478/1620 [08:49<14:58,  1.27it/s]"
     ]
    },
    {
     "name": "stderr",
     "output_type": "stream",
     "text": [
      "\r",
      "Epoch 8 | Step 432 | CER 0.8752 | WER 1.2943:  30%|██▉       | 479/1620 [08:50<16:14,  1.17it/s]"
     ]
    },
    {
     "name": "stderr",
     "output_type": "stream",
     "text": [
      "\r",
      "Epoch 8 | Step 432 | CER 0.8752 | WER 1.2943:  30%|██▉       | 480/1620 [08:51<16:35,  1.14it/s]"
     ]
    },
    {
     "name": "stderr",
     "output_type": "stream",
     "text": [
      "\r",
      "Epoch 8 | Step 432 | CER 0.8752 | WER 1.2943:  30%|██▉       | 481/1620 [08:52<17:02,  1.11it/s]"
     ]
    },
    {
     "name": "stderr",
     "output_type": "stream",
     "text": [
      "\r",
      "Epoch 8 | Step 432 | CER 0.8752 | WER 1.2943:  30%|██▉       | 482/1620 [08:52<17:07,  1.11it/s]"
     ]
    },
    {
     "name": "stderr",
     "output_type": "stream",
     "text": [
      "\r",
      "Epoch 8 | Step 432 | CER 0.8752 | WER 1.2943:  30%|██▉       | 483/1620 [08:53<17:32,  1.08it/s]"
     ]
    },
    {
     "name": "stderr",
     "output_type": "stream",
     "text": [
      "\r",
      "Epoch 8 | Step 432 | CER 0.8752 | WER 1.2943:  30%|██▉       | 484/1620 [08:54<16:58,  1.12it/s]"
     ]
    },
    {
     "name": "stderr",
     "output_type": "stream",
     "text": [
      "\r",
      "Epoch 8 | Step 432 | CER 0.8752 | WER 1.2943:  30%|██▉       | 485/1620 [08:55<15:17,  1.24it/s]"
     ]
    },
    {
     "name": "stderr",
     "output_type": "stream",
     "text": [
      "\r",
      "Epoch 8 | Step 432 | CER 0.8752 | WER 1.2943:  30%|███       | 486/1620 [08:55<12:22,  1.53it/s]"
     ]
    },
    {
     "name": "stderr",
     "output_type": "stream",
     "text": [
      "\r",
      "Epoch 9 | Step 486 | CER 0.6312 | WER 1.1322:  30%|███       | 486/1620 [09:01<12:22,  1.53it/s]"
     ]
    },
    {
     "name": "stderr",
     "output_type": "stream",
     "text": [
      "\r",
      "Epoch 9 | Step 486 | CER 0.6312 | WER 1.1322:  30%|███       | 487/1620 [09:08<1:23:54,  4.44s/it]"
     ]
    },
    {
     "name": "stderr",
     "output_type": "stream",
     "text": [
      "\r",
      "Epoch 9 | Step 486 | CER 0.6312 | WER 1.1322:  30%|███       | 488/1620 [09:10<1:04:52,  3.44s/it]"
     ]
    },
    {
     "name": "stderr",
     "output_type": "stream",
     "text": [
      "\r",
      "Epoch 9 | Step 486 | CER 0.6312 | WER 1.1322:  30%|███       | 489/1620 [09:11<51:07,  2.71s/it]  "
     ]
    },
    {
     "name": "stderr",
     "output_type": "stream",
     "text": [
      "\r",
      "Epoch 9 | Step 486 | CER 0.6312 | WER 1.1322:  30%|███       | 490/1620 [09:11<40:45,  2.16s/it]"
     ]
    },
    {
     "name": "stderr",
     "output_type": "stream",
     "text": [
      "\r",
      "Epoch 9 | Step 486 | CER 0.6312 | WER 1.1322:  30%|███       | 491/1620 [09:13<35:30,  1.89s/it]"
     ]
    },
    {
     "name": "stderr",
     "output_type": "stream",
     "text": [
      "\r",
      "Epoch 9 | Step 486 | CER 0.6312 | WER 1.1322:  30%|███       | 492/1620 [09:13<28:52,  1.54s/it]"
     ]
    },
    {
     "name": "stderr",
     "output_type": "stream",
     "text": [
      "\r",
      "Epoch 9 | Step 486 | CER 0.6312 | WER 1.1322:  30%|███       | 493/1620 [09:14<25:19,  1.35s/it]"
     ]
    },
    {
     "name": "stderr",
     "output_type": "stream",
     "text": [
      "\r",
      "Epoch 9 | Step 486 | CER 0.6312 | WER 1.1322:  30%|███       | 494/1620 [09:15<21:13,  1.13s/it]"
     ]
    },
    {
     "name": "stderr",
     "output_type": "stream",
     "text": [
      "\r",
      "Epoch 9 | Step 486 | CER 0.6312 | WER 1.1322:  31%|███       | 495/1620 [09:16<18:32,  1.01it/s]"
     ]
    },
    {
     "name": "stderr",
     "output_type": "stream",
     "text": [
      "\r",
      "Epoch 9 | Step 486 | CER 0.6312 | WER 1.1322:  31%|███       | 496/1620 [09:17<19:12,  1.03s/it]"
     ]
    },
    {
     "name": "stderr",
     "output_type": "stream",
     "text": [
      "\r",
      "Epoch 9 | Step 486 | CER 0.6312 | WER 1.1322:  31%|███       | 497/1620 [09:18<18:33,  1.01it/s]"
     ]
    },
    {
     "name": "stderr",
     "output_type": "stream",
     "text": [
      "\r",
      "Epoch 9 | Step 486 | CER 0.6312 | WER 1.1322:  31%|███       | 498/1620 [09:19<19:54,  1.06s/it]"
     ]
    },
    {
     "name": "stderr",
     "output_type": "stream",
     "text": [
      "\r",
      "Epoch 9 | Step 486 | CER 0.6312 | WER 1.1322:  31%|███       | 499/1620 [09:20<18:06,  1.03it/s]"
     ]
    },
    {
     "name": "stderr",
     "output_type": "stream",
     "text": [
      "\r",
      "Epoch 9 | Step 486 | CER 0.6312 | WER 1.1322:  31%|███       | 500/1620 [09:21<18:55,  1.01s/it]"
     ]
    },
    {
     "name": "stderr",
     "output_type": "stream",
     "text": [
      "\r",
      "Epoch 9 | Step 500 | Loss 3.3641:  31%|███       | 500/1620 [09:21<18:55,  1.01s/it]            "
     ]
    },
    {
     "name": "stderr",
     "output_type": "stream",
     "text": [
      "\r",
      "Epoch 9 | Step 500 | Loss 3.3641:  31%|███       | 501/1620 [09:21<17:33,  1.06it/s]"
     ]
    },
    {
     "name": "stderr",
     "output_type": "stream",
     "text": [
      "\r",
      "Epoch 9 | Step 500 | Loss 3.3641:  31%|███       | 502/1620 [09:22<16:13,  1.15it/s]"
     ]
    },
    {
     "name": "stderr",
     "output_type": "stream",
     "text": [
      "\r",
      "Epoch 9 | Step 500 | Loss 3.3641:  31%|███       | 503/1620 [09:23<15:33,  1.20it/s]"
     ]
    },
    {
     "name": "stderr",
     "output_type": "stream",
     "text": [
      "\r",
      "Epoch 9 | Step 500 | Loss 3.3641:  31%|███       | 504/1620 [09:24<15:54,  1.17it/s]"
     ]
    },
    {
     "name": "stderr",
     "output_type": "stream",
     "text": [
      "\r",
      "Epoch 9 | Step 500 | Loss 3.3641:  31%|███       | 505/1620 [09:25<15:52,  1.17it/s]"
     ]
    },
    {
     "name": "stderr",
     "output_type": "stream",
     "text": [
      "\r",
      "Epoch 9 | Step 500 | Loss 3.3641:  31%|███       | 506/1620 [09:26<16:33,  1.12it/s]"
     ]
    },
    {
     "name": "stderr",
     "output_type": "stream",
     "text": [
      "\r",
      "Epoch 9 | Step 500 | Loss 3.3641:  31%|███▏      | 507/1620 [09:26<15:24,  1.20it/s]"
     ]
    },
    {
     "name": "stderr",
     "output_type": "stream",
     "text": [
      "\r",
      "Epoch 9 | Step 500 | Loss 3.3641:  31%|███▏      | 508/1620 [09:27<15:18,  1.21it/s]"
     ]
    },
    {
     "name": "stderr",
     "output_type": "stream",
     "text": [
      "\r",
      "Epoch 9 | Step 500 | Loss 3.3641:  31%|███▏      | 509/1620 [09:28<14:21,  1.29it/s]"
     ]
    },
    {
     "name": "stderr",
     "output_type": "stream",
     "text": [
      "\r",
      "Epoch 9 | Step 500 | Loss 3.3641:  31%|███▏      | 510/1620 [09:29<14:44,  1.25it/s]"
     ]
    },
    {
     "name": "stderr",
     "output_type": "stream",
     "text": [
      "\r",
      "Epoch 9 | Step 500 | Loss 3.3641:  32%|███▏      | 511/1620 [09:29<14:19,  1.29it/s]"
     ]
    },
    {
     "name": "stderr",
     "output_type": "stream",
     "text": [
      "\r",
      "Epoch 9 | Step 500 | Loss 3.3641:  32%|███▏      | 512/1620 [09:30<13:53,  1.33it/s]"
     ]
    },
    {
     "name": "stderr",
     "output_type": "stream",
     "text": [
      "\r",
      "Epoch 9 | Step 500 | Loss 3.3641:  32%|███▏      | 513/1620 [09:31<13:19,  1.38it/s]"
     ]
    },
    {
     "name": "stderr",
     "output_type": "stream",
     "text": [
      "\r",
      "Epoch 9 | Step 500 | Loss 3.3641:  32%|███▏      | 514/1620 [09:32<13:57,  1.32it/s]"
     ]
    },
    {
     "name": "stderr",
     "output_type": "stream",
     "text": [
      "\r",
      "Epoch 9 | Step 500 | Loss 3.3641:  32%|███▏      | 515/1620 [09:33<16:28,  1.12it/s]"
     ]
    },
    {
     "name": "stderr",
     "output_type": "stream",
     "text": [
      "\r",
      "Epoch 9 | Step 500 | Loss 3.3641:  32%|███▏      | 516/1620 [09:34<16:49,  1.09it/s]"
     ]
    },
    {
     "name": "stderr",
     "output_type": "stream",
     "text": [
      "\r",
      "Epoch 9 | Step 500 | Loss 3.3641:  32%|███▏      | 517/1620 [09:34<15:52,  1.16it/s]"
     ]
    },
    {
     "name": "stderr",
     "output_type": "stream",
     "text": [
      "\r",
      "Epoch 9 | Step 500 | Loss 3.3641:  32%|███▏      | 518/1620 [09:35<15:07,  1.21it/s]"
     ]
    },
    {
     "name": "stderr",
     "output_type": "stream",
     "text": [
      "\r",
      "Epoch 9 | Step 500 | Loss 3.3641:  32%|███▏      | 519/1620 [09:36<14:43,  1.25it/s]"
     ]
    },
    {
     "name": "stderr",
     "output_type": "stream",
     "text": [
      "\r",
      "Epoch 9 | Step 500 | Loss 3.3641:  32%|███▏      | 520/1620 [09:37<16:11,  1.13it/s]"
     ]
    },
    {
     "name": "stderr",
     "output_type": "stream",
     "text": [
      "\r",
      "Epoch 9 | Step 500 | Loss 3.3641:  32%|███▏      | 521/1620 [09:38<15:14,  1.20it/s]"
     ]
    },
    {
     "name": "stderr",
     "output_type": "stream",
     "text": [
      "\r",
      "Epoch 9 | Step 500 | Loss 3.3641:  32%|███▏      | 522/1620 [09:39<16:27,  1.11it/s]"
     ]
    },
    {
     "name": "stderr",
     "output_type": "stream",
     "text": [
      "\r",
      "Epoch 9 | Step 500 | Loss 3.3641:  32%|███▏      | 523/1620 [09:40<16:32,  1.11it/s]"
     ]
    },
    {
     "name": "stderr",
     "output_type": "stream",
     "text": [
      "\r",
      "Epoch 9 | Step 500 | Loss 3.3641:  32%|███▏      | 524/1620 [09:41<16:08,  1.13it/s]"
     ]
    },
    {
     "name": "stderr",
     "output_type": "stream",
     "text": [
      "\r",
      "Epoch 9 | Step 500 | Loss 3.3641:  32%|███▏      | 525/1620 [09:41<15:14,  1.20it/s]"
     ]
    },
    {
     "name": "stderr",
     "output_type": "stream",
     "text": [
      "\r",
      "Epoch 9 | Step 500 | Loss 3.3641:  32%|███▏      | 526/1620 [09:42<15:39,  1.16it/s]"
     ]
    },
    {
     "name": "stderr",
     "output_type": "stream",
     "text": [
      "\r",
      "Epoch 9 | Step 500 | Loss 3.3641:  33%|███▎      | 527/1620 [09:43<14:49,  1.23it/s]"
     ]
    },
    {
     "name": "stderr",
     "output_type": "stream",
     "text": [
      "\r",
      "Epoch 9 | Step 500 | Loss 3.3641:  33%|███▎      | 528/1620 [09:44<16:26,  1.11it/s]"
     ]
    },
    {
     "name": "stderr",
     "output_type": "stream",
     "text": [
      "\r",
      "Epoch 9 | Step 500 | Loss 3.3641:  33%|███▎      | 529/1620 [09:45<15:03,  1.21it/s]"
     ]
    },
    {
     "name": "stderr",
     "output_type": "stream",
     "text": [
      "\r",
      "Epoch 9 | Step 500 | Loss 3.3641:  33%|███▎      | 530/1620 [09:46<15:17,  1.19it/s]"
     ]
    },
    {
     "name": "stderr",
     "output_type": "stream",
     "text": [
      "\r",
      "Epoch 9 | Step 500 | Loss 3.3641:  33%|███▎      | 531/1620 [09:46<14:53,  1.22it/s]"
     ]
    },
    {
     "name": "stderr",
     "output_type": "stream",
     "text": [
      "\r",
      "Epoch 9 | Step 500 | Loss 3.3641:  33%|███▎      | 532/1620 [09:47<15:07,  1.20it/s]"
     ]
    },
    {
     "name": "stderr",
     "output_type": "stream",
     "text": [
      "\r",
      "Epoch 9 | Step 500 | Loss 3.3641:  33%|███▎      | 533/1620 [09:48<14:48,  1.22it/s]"
     ]
    },
    {
     "name": "stderr",
     "output_type": "stream",
     "text": [
      "\r",
      "Epoch 9 | Step 500 | Loss 3.3641:  33%|███▎      | 534/1620 [09:49<15:22,  1.18it/s]"
     ]
    },
    {
     "name": "stderr",
     "output_type": "stream",
     "text": [
      "\r",
      "Epoch 9 | Step 500 | Loss 3.3641:  33%|███▎      | 535/1620 [09:50<14:27,  1.25it/s]"
     ]
    },
    {
     "name": "stderr",
     "output_type": "stream",
     "text": [
      "\r",
      "Epoch 9 | Step 500 | Loss 3.3641:  33%|███▎      | 536/1620 [09:50<14:41,  1.23it/s]"
     ]
    },
    {
     "name": "stderr",
     "output_type": "stream",
     "text": [
      "\r",
      "Epoch 9 | Step 500 | Loss 3.3641:  33%|███▎      | 537/1620 [09:51<15:06,  1.20it/s]"
     ]
    },
    {
     "name": "stderr",
     "output_type": "stream",
     "text": [
      "\r",
      "Epoch 9 | Step 500 | Loss 3.3641:  33%|███▎      | 538/1620 [09:52<14:25,  1.25it/s]"
     ]
    },
    {
     "name": "stderr",
     "output_type": "stream",
     "text": [
      "\r",
      "Epoch 9 | Step 500 | Loss 3.3641:  33%|███▎      | 539/1620 [09:53<13:57,  1.29it/s]"
     ]
    },
    {
     "name": "stderr",
     "output_type": "stream",
     "text": [
      "\r",
      "Epoch 9 | Step 500 | Loss 3.3641:  33%|███▎      | 540/1620 [09:53<11:21,  1.58it/s]"
     ]
    },
    {
     "name": "stderr",
     "output_type": "stream",
     "text": [
      "\r",
      "Epoch 10 | Step 540 | CER 0.9240 | WER 1.4314:  33%|███▎      | 540/1620 [09:59<11:21,  1.58it/s]"
     ]
    },
    {
     "name": "stderr",
     "output_type": "stream",
     "text": [
      "\r",
      "Epoch 10 | Step 540 | CER 0.9240 | WER 1.4314:  33%|███▎      | 541/1620 [10:06<1:17:54,  4.33s/it]"
     ]
    },
    {
     "name": "stderr",
     "output_type": "stream",
     "text": [
      "\r",
      "Epoch 10 | Step 540 | CER 0.9240 | WER 1.4314:  33%|███▎      | 542/1620 [10:07<58:57,  3.28s/it]  "
     ]
    },
    {
     "name": "stderr",
     "output_type": "stream",
     "text": [
      "\r",
      "Epoch 10 | Step 540 | CER 0.9240 | WER 1.4314:  34%|███▎      | 543/1620 [10:08<45:04,  2.51s/it]"
     ]
    },
    {
     "name": "stderr",
     "output_type": "stream",
     "text": [
      "\r",
      "Epoch 10 | Step 540 | CER 0.9240 | WER 1.4314:  34%|███▎      | 544/1620 [10:08<35:10,  1.96s/it]"
     ]
    },
    {
     "name": "stderr",
     "output_type": "stream",
     "text": [
      "\r",
      "Epoch 10 | Step 540 | CER 0.9240 | WER 1.4314:  34%|███▎      | 545/1620 [10:09<28:11,  1.57s/it]"
     ]
    },
    {
     "name": "stderr",
     "output_type": "stream",
     "text": [
      "\r",
      "Epoch 10 | Step 540 | CER 0.9240 | WER 1.4314:  34%|███▎      | 546/1620 [10:10<24:03,  1.34s/it]"
     ]
    },
    {
     "name": "stderr",
     "output_type": "stream",
     "text": [
      "\r",
      "Epoch 10 | Step 540 | CER 0.9240 | WER 1.4314:  34%|███▍      | 547/1620 [10:11<21:38,  1.21s/it]"
     ]
    },
    {
     "name": "stderr",
     "output_type": "stream",
     "text": [
      "\r",
      "Epoch 10 | Step 540 | CER 0.9240 | WER 1.4314:  34%|███▍      | 548/1620 [10:12<21:04,  1.18s/it]"
     ]
    },
    {
     "name": "stderr",
     "output_type": "stream",
     "text": [
      "\r",
      "Epoch 10 | Step 540 | CER 0.9240 | WER 1.4314:  34%|███▍      | 549/1620 [10:13<19:19,  1.08s/it]"
     ]
    },
    {
     "name": "stderr",
     "output_type": "stream",
     "text": [
      "\r",
      "Epoch 10 | Step 540 | CER 0.9240 | WER 1.4314:  34%|███▍      | 550/1620 [10:13<17:24,  1.02it/s]"
     ]
    },
    {
     "name": "stderr",
     "output_type": "stream",
     "text": [
      "\r",
      "Epoch 10 | Step 540 | CER 0.9240 | WER 1.4314:  34%|███▍      | 551/1620 [10:14<16:08,  1.10it/s]"
     ]
    },
    {
     "name": "stderr",
     "output_type": "stream",
     "text": [
      "\r",
      "Epoch 10 | Step 540 | CER 0.9240 | WER 1.4314:  34%|███▍      | 552/1620 [10:15<15:52,  1.12it/s]"
     ]
    },
    {
     "name": "stderr",
     "output_type": "stream",
     "text": [
      "\r",
      "Epoch 10 | Step 540 | CER 0.9240 | WER 1.4314:  34%|███▍      | 553/1620 [10:16<15:43,  1.13it/s]"
     ]
    },
    {
     "name": "stderr",
     "output_type": "stream",
     "text": [
      "\r",
      "Epoch 10 | Step 540 | CER 0.9240 | WER 1.4314:  34%|███▍      | 554/1620 [10:17<15:34,  1.14it/s]"
     ]
    },
    {
     "name": "stderr",
     "output_type": "stream",
     "text": [
      "\r",
      "Epoch 10 | Step 540 | CER 0.9240 | WER 1.4314:  34%|███▍      | 555/1620 [10:17<14:26,  1.23it/s]"
     ]
    },
    {
     "name": "stderr",
     "output_type": "stream",
     "text": [
      "\r",
      "Epoch 10 | Step 540 | CER 0.9240 | WER 1.4314:  34%|███▍      | 556/1620 [10:18<14:48,  1.20it/s]"
     ]
    },
    {
     "name": "stderr",
     "output_type": "stream",
     "text": [
      "\r",
      "Epoch 10 | Step 540 | CER 0.9240 | WER 1.4314:  34%|███▍      | 557/1620 [10:19<14:52,  1.19it/s]"
     ]
    },
    {
     "name": "stderr",
     "output_type": "stream",
     "text": [
      "\r",
      "Epoch 10 | Step 540 | CER 0.9240 | WER 1.4314:  34%|███▍      | 558/1620 [10:20<14:57,  1.18it/s]"
     ]
    },
    {
     "name": "stderr",
     "output_type": "stream",
     "text": [
      "\r",
      "Epoch 10 | Step 540 | CER 0.9240 | WER 1.4314:  35%|███▍      | 559/1620 [10:21<15:04,  1.17it/s]"
     ]
    },
    {
     "name": "stderr",
     "output_type": "stream",
     "text": [
      "\r",
      "Epoch 10 | Step 540 | CER 0.9240 | WER 1.4314:  35%|███▍      | 560/1620 [10:21<14:00,  1.26it/s]"
     ]
    },
    {
     "name": "stderr",
     "output_type": "stream",
     "text": [
      "\r",
      "Epoch 10 | Step 540 | CER 0.9240 | WER 1.4314:  35%|███▍      | 561/1620 [10:22<14:23,  1.23it/s]"
     ]
    },
    {
     "name": "stderr",
     "output_type": "stream",
     "text": [
      "\r",
      "Epoch 10 | Step 540 | CER 0.9240 | WER 1.4314:  35%|███▍      | 562/1620 [10:23<14:08,  1.25it/s]"
     ]
    },
    {
     "name": "stderr",
     "output_type": "stream",
     "text": [
      "\r",
      "Epoch 10 | Step 540 | CER 0.9240 | WER 1.4314:  35%|███▍      | 563/1620 [10:24<14:06,  1.25it/s]"
     ]
    },
    {
     "name": "stderr",
     "output_type": "stream",
     "text": [
      "\r",
      "Epoch 10 | Step 540 | CER 0.9240 | WER 1.4314:  35%|███▍      | 564/1620 [10:25<13:56,  1.26it/s]"
     ]
    },
    {
     "name": "stderr",
     "output_type": "stream",
     "text": [
      "\r",
      "Epoch 10 | Step 540 | CER 0.9240 | WER 1.4314:  35%|███▍      | 565/1620 [10:25<13:57,  1.26it/s]"
     ]
    },
    {
     "name": "stderr",
     "output_type": "stream",
     "text": [
      "\r",
      "Epoch 10 | Step 540 | CER 0.9240 | WER 1.4314:  35%|███▍      | 566/1620 [10:26<13:43,  1.28it/s]"
     ]
    },
    {
     "name": "stderr",
     "output_type": "stream",
     "text": [
      "\r",
      "Epoch 10 | Step 540 | CER 0.9240 | WER 1.4314:  35%|███▌      | 567/1620 [10:27<13:53,  1.26it/s]"
     ]
    },
    {
     "name": "stderr",
     "output_type": "stream",
     "text": [
      "\r",
      "Epoch 10 | Step 540 | CER 0.9240 | WER 1.4314:  35%|███▌      | 568/1620 [10:28<14:10,  1.24it/s]"
     ]
    },
    {
     "name": "stderr",
     "output_type": "stream",
     "text": [
      "\r",
      "Epoch 10 | Step 540 | CER 0.9240 | WER 1.4314:  35%|███▌      | 569/1620 [10:29<13:44,  1.28it/s]"
     ]
    },
    {
     "name": "stderr",
     "output_type": "stream",
     "text": [
      "\r",
      "Epoch 10 | Step 540 | CER 0.9240 | WER 1.4314:  35%|███▌      | 570/1620 [10:30<15:03,  1.16it/s]"
     ]
    },
    {
     "name": "stderr",
     "output_type": "stream",
     "text": [
      "\r",
      "Epoch 10 | Step 540 | CER 0.9240 | WER 1.4314:  35%|███▌      | 571/1620 [10:30<15:13,  1.15it/s]"
     ]
    },
    {
     "name": "stderr",
     "output_type": "stream",
     "text": [
      "\r",
      "Epoch 10 | Step 540 | CER 0.9240 | WER 1.4314:  35%|███▌      | 572/1620 [10:31<15:19,  1.14it/s]"
     ]
    },
    {
     "name": "stderr",
     "output_type": "stream",
     "text": [
      "\r",
      "Epoch 10 | Step 540 | CER 0.9240 | WER 1.4314:  35%|███▌      | 573/1620 [10:32<16:31,  1.06it/s]"
     ]
    },
    {
     "name": "stderr",
     "output_type": "stream",
     "text": [
      "\r",
      "Epoch 10 | Step 540 | CER 0.9240 | WER 1.4314:  35%|███▌      | 574/1620 [10:34<18:31,  1.06s/it]"
     ]
    },
    {
     "name": "stderr",
     "output_type": "stream",
     "text": [
      "\r",
      "Epoch 10 | Step 540 | CER 0.9240 | WER 1.4314:  35%|███▌      | 575/1620 [10:34<16:21,  1.06it/s]"
     ]
    },
    {
     "name": "stderr",
     "output_type": "stream",
     "text": [
      "\r",
      "Epoch 10 | Step 540 | CER 0.9240 | WER 1.4314:  36%|███▌      | 576/1620 [10:35<16:14,  1.07it/s]"
     ]
    },
    {
     "name": "stderr",
     "output_type": "stream",
     "text": [
      "\r",
      "Epoch 10 | Step 540 | CER 0.9240 | WER 1.4314:  36%|███▌      | 577/1620 [10:36<15:47,  1.10it/s]"
     ]
    },
    {
     "name": "stderr",
     "output_type": "stream",
     "text": [
      "\r",
      "Epoch 10 | Step 540 | CER 0.9240 | WER 1.4314:  36%|███▌      | 578/1620 [10:37<14:59,  1.16it/s]"
     ]
    },
    {
     "name": "stderr",
     "output_type": "stream",
     "text": [
      "\r",
      "Epoch 10 | Step 540 | CER 0.9240 | WER 1.4314:  36%|███▌      | 579/1620 [10:38<13:58,  1.24it/s]"
     ]
    },
    {
     "name": "stderr",
     "output_type": "stream",
     "text": [
      "\r",
      "Epoch 10 | Step 540 | CER 0.9240 | WER 1.4314:  36%|███▌      | 580/1620 [10:38<13:45,  1.26it/s]"
     ]
    },
    {
     "name": "stderr",
     "output_type": "stream",
     "text": [
      "\r",
      "Epoch 10 | Step 540 | CER 0.9240 | WER 1.4314:  36%|███▌      | 581/1620 [10:40<16:07,  1.07it/s]"
     ]
    },
    {
     "name": "stderr",
     "output_type": "stream",
     "text": [
      "\r",
      "Epoch 10 | Step 540 | CER 0.9240 | WER 1.4314:  36%|███▌      | 582/1620 [10:41<17:19,  1.00s/it]"
     ]
    },
    {
     "name": "stderr",
     "output_type": "stream",
     "text": [
      "\r",
      "Epoch 10 | Step 540 | CER 0.9240 | WER 1.4314:  36%|███▌      | 583/1620 [10:42<16:46,  1.03it/s]"
     ]
    },
    {
     "name": "stderr",
     "output_type": "stream",
     "text": [
      "\r",
      "Epoch 10 | Step 540 | CER 0.9240 | WER 1.4314:  36%|███▌      | 584/1620 [10:43<16:58,  1.02it/s]"
     ]
    },
    {
     "name": "stderr",
     "output_type": "stream",
     "text": [
      "\r",
      "Epoch 10 | Step 540 | CER 0.9240 | WER 1.4314:  36%|███▌      | 585/1620 [10:44<16:23,  1.05it/s]"
     ]
    },
    {
     "name": "stderr",
     "output_type": "stream",
     "text": [
      "\r",
      "Epoch 10 | Step 540 | CER 0.9240 | WER 1.4314:  36%|███▌      | 586/1620 [10:44<15:30,  1.11it/s]"
     ]
    },
    {
     "name": "stderr",
     "output_type": "stream",
     "text": [
      "\r",
      "Epoch 10 | Step 540 | CER 0.9240 | WER 1.4314:  36%|███▌      | 587/1620 [10:46<17:53,  1.04s/it]"
     ]
    },
    {
     "name": "stderr",
     "output_type": "stream",
     "text": [
      "\r",
      "Epoch 10 | Step 540 | CER 0.9240 | WER 1.4314:  36%|███▋      | 588/1620 [10:46<16:12,  1.06it/s]"
     ]
    },
    {
     "name": "stderr",
     "output_type": "stream",
     "text": [
      "\r",
      "Epoch 10 | Step 540 | CER 0.9240 | WER 1.4314:  36%|███▋      | 589/1620 [10:48<16:39,  1.03it/s]"
     ]
    },
    {
     "name": "stderr",
     "output_type": "stream",
     "text": [
      "\r",
      "Epoch 10 | Step 540 | CER 0.9240 | WER 1.4314:  36%|███▋      | 590/1620 [10:48<16:18,  1.05it/s]"
     ]
    },
    {
     "name": "stderr",
     "output_type": "stream",
     "text": [
      "\r",
      "Epoch 10 | Step 540 | CER 0.9240 | WER 1.4314:  36%|███▋      | 591/1620 [10:49<14:54,  1.15it/s]"
     ]
    },
    {
     "name": "stderr",
     "output_type": "stream",
     "text": [
      "\r",
      "Epoch 10 | Step 540 | CER 0.9240 | WER 1.4314:  37%|███▋      | 592/1620 [10:50<13:50,  1.24it/s]"
     ]
    },
    {
     "name": "stderr",
     "output_type": "stream",
     "text": [
      "\r",
      "Epoch 10 | Step 540 | CER 0.9240 | WER 1.4314:  37%|███▋      | 593/1620 [10:50<12:50,  1.33it/s]"
     ]
    },
    {
     "name": "stderr",
     "output_type": "stream",
     "text": [
      "\r",
      "Epoch 10 | Step 540 | CER 0.9240 | WER 1.4314:  37%|███▋      | 594/1620 [10:51<10:30,  1.63it/s]"
     ]
    },
    {
     "name": "stderr",
     "output_type": "stream",
     "text": [
      "\r",
      "Epoch 11 | Step 594 | CER 0.7873 | WER 1.4339:  37%|███▋      | 594/1620 [10:57<10:30,  1.63it/s]"
     ]
    },
    {
     "name": "stderr",
     "output_type": "stream",
     "text": [
      "\r",
      "Epoch 11 | Step 594 | CER 0.7873 | WER 1.4339:  37%|███▋      | 595/1620 [11:05<1:19:16,  4.64s/it]"
     ]
    },
    {
     "name": "stderr",
     "output_type": "stream",
     "text": [
      "\r",
      "Epoch 11 | Step 594 | CER 0.7873 | WER 1.4339:  37%|███▋      | 596/1620 [11:06<59:41,  3.50s/it]  "
     ]
    },
    {
     "name": "stderr",
     "output_type": "stream",
     "text": [
      "\r",
      "Epoch 11 | Step 594 | CER 0.7873 | WER 1.4339:  37%|███▋      | 597/1620 [11:06<46:17,  2.72s/it]"
     ]
    },
    {
     "name": "stderr",
     "output_type": "stream",
     "text": [
      "\r",
      "Epoch 11 | Step 594 | CER 0.7873 | WER 1.4339:  37%|███▋      | 598/1620 [11:07<37:16,  2.19s/it]"
     ]
    },
    {
     "name": "stderr",
     "output_type": "stream",
     "text": [
      "\r",
      "Epoch 11 | Step 594 | CER 0.7873 | WER 1.4339:  37%|███▋      | 599/1620 [11:08<30:37,  1.80s/it]"
     ]
    },
    {
     "name": "stderr",
     "output_type": "stream",
     "text": [
      "\r",
      "Epoch 11 | Step 594 | CER 0.7873 | WER 1.4339:  37%|███▋      | 600/1620 [11:09<26:28,  1.56s/it]"
     ]
    },
    {
     "name": "stderr",
     "output_type": "stream",
     "text": [
      "\r",
      "Epoch 11 | Step 594 | CER 0.7873 | WER 1.4339:  37%|███▋      | 601/1620 [11:10<22:04,  1.30s/it]"
     ]
    },
    {
     "name": "stderr",
     "output_type": "stream",
     "text": [
      "\r",
      "Epoch 11 | Step 594 | CER 0.7873 | WER 1.4339:  37%|███▋      | 602/1620 [11:11<21:27,  1.27s/it]"
     ]
    },
    {
     "name": "stderr",
     "output_type": "stream",
     "text": [
      "\r",
      "Epoch 11 | Step 594 | CER 0.7873 | WER 1.4339:  37%|███▋      | 603/1620 [11:12<18:22,  1.08s/it]"
     ]
    },
    {
     "name": "stderr",
     "output_type": "stream",
     "text": [
      "\r",
      "Epoch 11 | Step 594 | CER 0.7873 | WER 1.4339:  37%|███▋      | 604/1620 [11:13<17:09,  1.01s/it]"
     ]
    },
    {
     "name": "stderr",
     "output_type": "stream",
     "text": [
      "\r",
      "Epoch 11 | Step 594 | CER 0.7873 | WER 1.4339:  37%|███▋      | 605/1620 [11:14<16:47,  1.01it/s]"
     ]
    },
    {
     "name": "stderr",
     "output_type": "stream",
     "text": [
      "\r",
      "Epoch 11 | Step 594 | CER 0.7873 | WER 1.4339:  37%|███▋      | 606/1620 [11:14<15:59,  1.06it/s]"
     ]
    },
    {
     "name": "stderr",
     "output_type": "stream",
     "text": [
      "\r",
      "Epoch 11 | Step 594 | CER 0.7873 | WER 1.4339:  37%|███▋      | 607/1620 [11:16<16:28,  1.03it/s]"
     ]
    },
    {
     "name": "stderr",
     "output_type": "stream",
     "text": [
      "\r",
      "Epoch 11 | Step 594 | CER 0.7873 | WER 1.4339:  38%|███▊      | 608/1620 [11:16<15:48,  1.07it/s]"
     ]
    },
    {
     "name": "stderr",
     "output_type": "stream",
     "text": [
      "\r",
      "Epoch 11 | Step 594 | CER 0.7873 | WER 1.4339:  38%|███▊      | 609/1620 [11:17<15:09,  1.11it/s]"
     ]
    },
    {
     "name": "stderr",
     "output_type": "stream",
     "text": [
      "\r",
      "Epoch 11 | Step 594 | CER 0.7873 | WER 1.4339:  38%|███▊      | 610/1620 [11:18<16:08,  1.04it/s]"
     ]
    },
    {
     "name": "stderr",
     "output_type": "stream",
     "text": [
      "\r",
      "Epoch 11 | Step 594 | CER 0.7873 | WER 1.4339:  38%|███▊      | 611/1620 [11:19<15:26,  1.09it/s]"
     ]
    },
    {
     "name": "stderr",
     "output_type": "stream",
     "text": [
      "\r",
      "Epoch 11 | Step 594 | CER 0.7873 | WER 1.4339:  38%|███▊      | 612/1620 [11:20<13:59,  1.20it/s]"
     ]
    },
    {
     "name": "stderr",
     "output_type": "stream",
     "text": [
      "\r",
      "Epoch 11 | Step 594 | CER 0.7873 | WER 1.4339:  38%|███▊      | 613/1620 [11:21<15:15,  1.10it/s]"
     ]
    },
    {
     "name": "stderr",
     "output_type": "stream",
     "text": [
      "\r",
      "Epoch 11 | Step 594 | CER 0.7873 | WER 1.4339:  38%|███▊      | 614/1620 [11:22<15:35,  1.08it/s]"
     ]
    },
    {
     "name": "stderr",
     "output_type": "stream",
     "text": [
      "\r",
      "Epoch 11 | Step 594 | CER 0.7873 | WER 1.4339:  38%|███▊      | 615/1620 [11:23<15:18,  1.09it/s]"
     ]
    },
    {
     "name": "stderr",
     "output_type": "stream",
     "text": [
      "\r",
      "Epoch 11 | Step 594 | CER 0.7873 | WER 1.4339:  38%|███▊      | 616/1620 [11:23<14:41,  1.14it/s]"
     ]
    },
    {
     "name": "stderr",
     "output_type": "stream",
     "text": [
      "\r",
      "Epoch 11 | Step 594 | CER 0.7873 | WER 1.4339:  38%|███▊      | 617/1620 [11:24<14:58,  1.12it/s]"
     ]
    },
    {
     "name": "stderr",
     "output_type": "stream",
     "text": [
      "\r",
      "Epoch 11 | Step 594 | CER 0.7873 | WER 1.4339:  38%|███▊      | 618/1620 [11:25<13:57,  1.20it/s]"
     ]
    },
    {
     "name": "stderr",
     "output_type": "stream",
     "text": [
      "\r",
      "Epoch 11 | Step 594 | CER 0.7873 | WER 1.4339:  38%|███▊      | 619/1620 [11:26<13:07,  1.27it/s]"
     ]
    },
    {
     "name": "stderr",
     "output_type": "stream",
     "text": [
      "\r",
      "Epoch 11 | Step 594 | CER 0.7873 | WER 1.4339:  38%|███▊      | 620/1620 [11:27<13:06,  1.27it/s]"
     ]
    },
    {
     "name": "stderr",
     "output_type": "stream",
     "text": [
      "\r",
      "Epoch 11 | Step 594 | CER 0.7873 | WER 1.4339:  38%|███▊      | 621/1620 [11:28<14:26,  1.15it/s]"
     ]
    },
    {
     "name": "stderr",
     "output_type": "stream",
     "text": [
      "\r",
      "Epoch 11 | Step 594 | CER 0.7873 | WER 1.4339:  38%|███▊      | 622/1620 [11:28<14:02,  1.18it/s]"
     ]
    },
    {
     "name": "stderr",
     "output_type": "stream",
     "text": [
      "\r",
      "Epoch 11 | Step 594 | CER 0.7873 | WER 1.4339:  38%|███▊      | 623/1620 [11:29<13:07,  1.27it/s]"
     ]
    },
    {
     "name": "stderr",
     "output_type": "stream",
     "text": [
      "\r",
      "Epoch 11 | Step 594 | CER 0.7873 | WER 1.4339:  39%|███▊      | 624/1620 [11:30<13:35,  1.22it/s]"
     ]
    },
    {
     "name": "stderr",
     "output_type": "stream",
     "text": [
      "\r",
      "Epoch 11 | Step 594 | CER 0.7873 | WER 1.4339:  39%|███▊      | 625/1620 [11:31<13:39,  1.21it/s]"
     ]
    },
    {
     "name": "stderr",
     "output_type": "stream",
     "text": [
      "\r",
      "Epoch 11 | Step 594 | CER 0.7873 | WER 1.4339:  39%|███▊      | 626/1620 [11:32<13:40,  1.21it/s]"
     ]
    },
    {
     "name": "stderr",
     "output_type": "stream",
     "text": [
      "\r",
      "Epoch 11 | Step 594 | CER 0.7873 | WER 1.4339:  39%|███▊      | 627/1620 [11:33<15:21,  1.08it/s]"
     ]
    },
    {
     "name": "stderr",
     "output_type": "stream",
     "text": [
      "\r",
      "Epoch 11 | Step 594 | CER 0.7873 | WER 1.4339:  39%|███▉      | 628/1620 [11:34<14:25,  1.15it/s]"
     ]
    },
    {
     "name": "stderr",
     "output_type": "stream",
     "text": [
      "\r",
      "Epoch 11 | Step 594 | CER 0.7873 | WER 1.4339:  39%|███▉      | 629/1620 [11:34<14:22,  1.15it/s]"
     ]
    },
    {
     "name": "stderr",
     "output_type": "stream",
     "text": [
      "\r",
      "Epoch 11 | Step 594 | CER 0.7873 | WER 1.4339:  39%|███▉      | 630/1620 [11:35<13:53,  1.19it/s]"
     ]
    },
    {
     "name": "stderr",
     "output_type": "stream",
     "text": [
      "\r",
      "Epoch 11 | Step 594 | CER 0.7873 | WER 1.4339:  39%|███▉      | 631/1620 [11:36<13:20,  1.24it/s]"
     ]
    },
    {
     "name": "stderr",
     "output_type": "stream",
     "text": [
      "\r",
      "Epoch 11 | Step 594 | CER 0.7873 | WER 1.4339:  39%|███▉      | 632/1620 [11:37<13:46,  1.20it/s]"
     ]
    },
    {
     "name": "stderr",
     "output_type": "stream",
     "text": [
      "\r",
      "Epoch 11 | Step 594 | CER 0.7873 | WER 1.4339:  39%|███▉      | 633/1620 [11:37<12:52,  1.28it/s]"
     ]
    },
    {
     "name": "stderr",
     "output_type": "stream",
     "text": [
      "\r",
      "Epoch 11 | Step 594 | CER 0.7873 | WER 1.4339:  39%|███▉      | 634/1620 [11:39<14:34,  1.13it/s]"
     ]
    },
    {
     "name": "stderr",
     "output_type": "stream",
     "text": [
      "\r",
      "Epoch 11 | Step 594 | CER 0.7873 | WER 1.4339:  39%|███▉      | 635/1620 [11:39<14:03,  1.17it/s]"
     ]
    },
    {
     "name": "stderr",
     "output_type": "stream",
     "text": [
      "\r",
      "Epoch 11 | Step 594 | CER 0.7873 | WER 1.4339:  39%|███▉      | 636/1620 [11:40<13:21,  1.23it/s]"
     ]
    },
    {
     "name": "stderr",
     "output_type": "stream",
     "text": [
      "\r",
      "Epoch 11 | Step 594 | CER 0.7873 | WER 1.4339:  39%|███▉      | 637/1620 [11:41<12:47,  1.28it/s]"
     ]
    },
    {
     "name": "stderr",
     "output_type": "stream",
     "text": [
      "\r",
      "Epoch 11 | Step 594 | CER 0.7873 | WER 1.4339:  39%|███▉      | 638/1620 [11:42<12:39,  1.29it/s]"
     ]
    },
    {
     "name": "stderr",
     "output_type": "stream",
     "text": [
      "\r",
      "Epoch 11 | Step 594 | CER 0.7873 | WER 1.4339:  39%|███▉      | 639/1620 [11:43<13:51,  1.18it/s]"
     ]
    },
    {
     "name": "stderr",
     "output_type": "stream",
     "text": [
      "\r",
      "Epoch 11 | Step 594 | CER 0.7873 | WER 1.4339:  40%|███▉      | 640/1620 [11:43<13:00,  1.26it/s]"
     ]
    },
    {
     "name": "stderr",
     "output_type": "stream",
     "text": [
      "\r",
      "Epoch 11 | Step 594 | CER 0.7873 | WER 1.4339:  40%|███▉      | 641/1620 [11:44<13:20,  1.22it/s]"
     ]
    },
    {
     "name": "stderr",
     "output_type": "stream",
     "text": [
      "\r",
      "Epoch 11 | Step 594 | CER 0.7873 | WER 1.4339:  40%|███▉      | 642/1620 [11:45<14:13,  1.15it/s]"
     ]
    },
    {
     "name": "stderr",
     "output_type": "stream",
     "text": [
      "\r",
      "Epoch 11 | Step 594 | CER 0.7873 | WER 1.4339:  40%|███▉      | 643/1620 [11:46<15:15,  1.07it/s]"
     ]
    },
    {
     "name": "stderr",
     "output_type": "stream",
     "text": [
      "\r",
      "Epoch 11 | Step 594 | CER 0.7873 | WER 1.4339:  40%|███▉      | 644/1620 [11:47<14:36,  1.11it/s]"
     ]
    },
    {
     "name": "stderr",
     "output_type": "stream",
     "text": [
      "\r",
      "Epoch 11 | Step 594 | CER 0.7873 | WER 1.4339:  40%|███▉      | 645/1620 [11:48<14:28,  1.12it/s]"
     ]
    },
    {
     "name": "stderr",
     "output_type": "stream",
     "text": [
      "\r",
      "Epoch 11 | Step 594 | CER 0.7873 | WER 1.4339:  40%|███▉      | 646/1620 [11:49<16:12,  1.00it/s]"
     ]
    },
    {
     "name": "stderr",
     "output_type": "stream",
     "text": [
      "\r",
      "Epoch 11 | Step 594 | CER 0.7873 | WER 1.4339:  40%|███▉      | 647/1620 [11:50<14:16,  1.14it/s]"
     ]
    },
    {
     "name": "stderr",
     "output_type": "stream",
     "text": [
      "\r",
      "Epoch 11 | Step 594 | CER 0.7873 | WER 1.4339:  40%|████      | 648/1620 [11:50<11:25,  1.42it/s]"
     ]
    },
    {
     "name": "stderr",
     "output_type": "stream",
     "text": [
      "\r",
      "Epoch 12 | Step 648 | CER 0.8818 | WER 1.7830:  40%|████      | 648/1620 [11:56<11:25,  1.42it/s]"
     ]
    },
    {
     "name": "stderr",
     "output_type": "stream",
     "text": [
      "\r",
      "Epoch 12 | Step 648 | CER 0.8818 | WER 1.7830:  40%|████      | 649/1620 [12:04<1:15:17,  4.65s/it]"
     ]
    },
    {
     "name": "stderr",
     "output_type": "stream",
     "text": [
      "\r",
      "Epoch 12 | Step 648 | CER 0.8818 | WER 1.7830:  40%|████      | 650/1620 [12:05<58:14,  3.60s/it]  "
     ]
    },
    {
     "name": "stderr",
     "output_type": "stream",
     "text": [
      "\r",
      "Epoch 12 | Step 648 | CER 0.8818 | WER 1.7830:  40%|████      | 651/1620 [12:06<44:19,  2.74s/it]"
     ]
    },
    {
     "name": "stderr",
     "output_type": "stream",
     "text": [
      "\r",
      "Epoch 12 | Step 648 | CER 0.8818 | WER 1.7830:  40%|████      | 652/1620 [12:07<35:03,  2.17s/it]"
     ]
    },
    {
     "name": "stderr",
     "output_type": "stream",
     "text": [
      "\r",
      "Epoch 12 | Step 648 | CER 0.8818 | WER 1.7830:  40%|████      | 653/1620 [12:07<27:43,  1.72s/it]"
     ]
    },
    {
     "name": "stderr",
     "output_type": "stream",
     "text": [
      "\r",
      "Epoch 12 | Step 648 | CER 0.8818 | WER 1.7830:  40%|████      | 654/1620 [12:08<23:23,  1.45s/it]"
     ]
    },
    {
     "name": "stderr",
     "output_type": "stream",
     "text": [
      "\r",
      "Epoch 12 | Step 648 | CER 0.8818 | WER 1.7830:  40%|████      | 655/1620 [12:09<20:19,  1.26s/it]"
     ]
    },
    {
     "name": "stderr",
     "output_type": "stream",
     "text": [
      "\r",
      "Epoch 12 | Step 648 | CER 0.8818 | WER 1.7830:  40%|████      | 656/1620 [12:10<17:42,  1.10s/it]"
     ]
    },
    {
     "name": "stderr",
     "output_type": "stream",
     "text": [
      "\r",
      "Epoch 12 | Step 648 | CER 0.8818 | WER 1.7830:  41%|████      | 657/1620 [12:11<16:24,  1.02s/it]"
     ]
    },
    {
     "name": "stderr",
     "output_type": "stream",
     "text": [
      "\r",
      "Epoch 12 | Step 648 | CER 0.8818 | WER 1.7830:  41%|████      | 658/1620 [12:11<15:54,  1.01it/s]"
     ]
    },
    {
     "name": "stderr",
     "output_type": "stream",
     "text": [
      "\r",
      "Epoch 12 | Step 648 | CER 0.8818 | WER 1.7830:  41%|████      | 659/1620 [12:12<15:30,  1.03it/s]"
     ]
    },
    {
     "name": "stderr",
     "output_type": "stream",
     "text": [
      "\r",
      "Epoch 12 | Step 648 | CER 0.8818 | WER 1.7830:  41%|████      | 660/1620 [12:13<15:27,  1.04it/s]"
     ]
    },
    {
     "name": "stderr",
     "output_type": "stream",
     "text": [
      "\r",
      "Epoch 12 | Step 648 | CER 0.8818 | WER 1.7830:  41%|████      | 661/1620 [12:14<15:37,  1.02it/s]"
     ]
    },
    {
     "name": "stderr",
     "output_type": "stream",
     "text": [
      "\r",
      "Epoch 12 | Step 648 | CER 0.8818 | WER 1.7830:  41%|████      | 662/1620 [12:15<16:03,  1.01s/it]"
     ]
    },
    {
     "name": "stderr",
     "output_type": "stream",
     "text": [
      "\r",
      "Epoch 12 | Step 648 | CER 0.8818 | WER 1.7830:  41%|████      | 663/1620 [12:16<14:47,  1.08it/s]"
     ]
    },
    {
     "name": "stderr",
     "output_type": "stream",
     "text": [
      "\r",
      "Epoch 12 | Step 648 | CER 0.8818 | WER 1.7830:  41%|████      | 664/1620 [12:17<13:36,  1.17it/s]"
     ]
    },
    {
     "name": "stderr",
     "output_type": "stream",
     "text": [
      "\r",
      "Epoch 12 | Step 648 | CER 0.8818 | WER 1.7830:  41%|████      | 665/1620 [12:18<12:55,  1.23it/s]"
     ]
    },
    {
     "name": "stderr",
     "output_type": "stream",
     "text": [
      "\r",
      "Epoch 12 | Step 648 | CER 0.8818 | WER 1.7830:  41%|████      | 666/1620 [12:18<13:11,  1.21it/s]"
     ]
    },
    {
     "name": "stderr",
     "output_type": "stream",
     "text": [
      "\r",
      "Epoch 12 | Step 648 | CER 0.8818 | WER 1.7830:  41%|████      | 667/1620 [12:19<13:03,  1.22it/s]"
     ]
    },
    {
     "name": "stderr",
     "output_type": "stream",
     "text": [
      "\r",
      "Epoch 12 | Step 648 | CER 0.8818 | WER 1.7830:  41%|████      | 668/1620 [12:20<13:39,  1.16it/s]"
     ]
    },
    {
     "name": "stderr",
     "output_type": "stream",
     "text": [
      "\r",
      "Epoch 12 | Step 648 | CER 0.8818 | WER 1.7830:  41%|████▏     | 669/1620 [12:21<15:28,  1.02it/s]"
     ]
    },
    {
     "name": "stderr",
     "output_type": "stream",
     "text": [
      "\r",
      "Epoch 12 | Step 648 | CER 0.8818 | WER 1.7830:  41%|████▏     | 670/1620 [12:22<14:36,  1.08it/s]"
     ]
    },
    {
     "name": "stderr",
     "output_type": "stream",
     "text": [
      "\r",
      "Epoch 12 | Step 648 | CER 0.8818 | WER 1.7830:  41%|████▏     | 671/1620 [12:23<14:10,  1.12it/s]"
     ]
    },
    {
     "name": "stderr",
     "output_type": "stream",
     "text": [
      "\r",
      "Epoch 12 | Step 648 | CER 0.8818 | WER 1.7830:  41%|████▏     | 672/1620 [12:24<14:52,  1.06it/s]"
     ]
    },
    {
     "name": "stderr",
     "output_type": "stream",
     "text": [
      "\r",
      "Epoch 12 | Step 648 | CER 0.8818 | WER 1.7830:  42%|████▏     | 673/1620 [12:25<14:31,  1.09it/s]"
     ]
    },
    {
     "name": "stderr",
     "output_type": "stream",
     "text": [
      "\r",
      "Epoch 12 | Step 648 | CER 0.8818 | WER 1.7830:  42%|████▏     | 674/1620 [12:26<13:20,  1.18it/s]"
     ]
    },
    {
     "name": "stderr",
     "output_type": "stream",
     "text": [
      "\r",
      "Epoch 12 | Step 648 | CER 0.8818 | WER 1.7830:  42%|████▏     | 675/1620 [12:26<12:57,  1.22it/s]"
     ]
    },
    {
     "name": "stderr",
     "output_type": "stream",
     "text": [
      "\r",
      "Epoch 12 | Step 648 | CER 0.8818 | WER 1.7830:  42%|████▏     | 676/1620 [12:27<13:02,  1.21it/s]"
     ]
    },
    {
     "name": "stderr",
     "output_type": "stream",
     "text": [
      "\r",
      "Epoch 12 | Step 648 | CER 0.8818 | WER 1.7830:  42%|████▏     | 677/1620 [12:28<12:51,  1.22it/s]"
     ]
    },
    {
     "name": "stderr",
     "output_type": "stream",
     "text": [
      "\r",
      "Epoch 12 | Step 648 | CER 0.8818 | WER 1.7830:  42%|████▏     | 678/1620 [12:29<13:44,  1.14it/s]"
     ]
    },
    {
     "name": "stderr",
     "output_type": "stream",
     "text": [
      "\r",
      "Epoch 12 | Step 648 | CER 0.8818 | WER 1.7830:  42%|████▏     | 679/1620 [12:30<14:22,  1.09it/s]"
     ]
    },
    {
     "name": "stderr",
     "output_type": "stream",
     "text": [
      "\r",
      "Epoch 12 | Step 648 | CER 0.8818 | WER 1.7830:  42%|████▏     | 680/1620 [12:31<15:15,  1.03it/s]"
     ]
    },
    {
     "name": "stderr",
     "output_type": "stream",
     "text": [
      "\r",
      "Epoch 12 | Step 648 | CER 0.8818 | WER 1.7830:  42%|████▏     | 681/1620 [12:32<15:10,  1.03it/s]"
     ]
    },
    {
     "name": "stderr",
     "output_type": "stream",
     "text": [
      "\r",
      "Epoch 12 | Step 648 | CER 0.8818 | WER 1.7830:  42%|████▏     | 682/1620 [12:33<14:18,  1.09it/s]"
     ]
    },
    {
     "name": "stderr",
     "output_type": "stream",
     "text": [
      "\r",
      "Epoch 12 | Step 648 | CER 0.8818 | WER 1.7830:  42%|████▏     | 683/1620 [12:34<13:33,  1.15it/s]"
     ]
    },
    {
     "name": "stderr",
     "output_type": "stream",
     "text": [
      "\r",
      "Epoch 12 | Step 648 | CER 0.8818 | WER 1.7830:  42%|████▏     | 684/1620 [12:35<14:07,  1.11it/s]"
     ]
    },
    {
     "name": "stderr",
     "output_type": "stream",
     "text": [
      "\r",
      "Epoch 12 | Step 648 | CER 0.8818 | WER 1.7830:  42%|████▏     | 685/1620 [12:35<13:23,  1.16it/s]"
     ]
    },
    {
     "name": "stderr",
     "output_type": "stream",
     "text": [
      "\r",
      "Epoch 12 | Step 648 | CER 0.8818 | WER 1.7830:  42%|████▏     | 686/1620 [12:36<13:43,  1.13it/s]"
     ]
    },
    {
     "name": "stderr",
     "output_type": "stream",
     "text": [
      "\r",
      "Epoch 12 | Step 648 | CER 0.8818 | WER 1.7830:  42%|████▏     | 687/1620 [12:37<14:02,  1.11it/s]"
     ]
    },
    {
     "name": "stderr",
     "output_type": "stream",
     "text": [
      "\r",
      "Epoch 12 | Step 648 | CER 0.8818 | WER 1.7830:  42%|████▏     | 688/1620 [12:38<13:17,  1.17it/s]"
     ]
    },
    {
     "name": "stderr",
     "output_type": "stream",
     "text": [
      "\r",
      "Epoch 12 | Step 648 | CER 0.8818 | WER 1.7830:  43%|████▎     | 689/1620 [12:39<12:35,  1.23it/s]"
     ]
    },
    {
     "name": "stderr",
     "output_type": "stream",
     "text": [
      "\r",
      "Epoch 12 | Step 648 | CER 0.8818 | WER 1.7830:  43%|████▎     | 690/1620 [12:39<12:20,  1.26it/s]"
     ]
    },
    {
     "name": "stderr",
     "output_type": "stream",
     "text": [
      "\r",
      "Epoch 12 | Step 648 | CER 0.8818 | WER 1.7830:  43%|████▎     | 691/1620 [12:40<12:03,  1.28it/s]"
     ]
    },
    {
     "name": "stderr",
     "output_type": "stream",
     "text": [
      "\r",
      "Epoch 12 | Step 648 | CER 0.8818 | WER 1.7830:  43%|████▎     | 692/1620 [12:41<12:50,  1.20it/s]"
     ]
    },
    {
     "name": "stderr",
     "output_type": "stream",
     "text": [
      "\r",
      "Epoch 12 | Step 648 | CER 0.8818 | WER 1.7830:  43%|████▎     | 693/1620 [12:42<14:48,  1.04it/s]"
     ]
    },
    {
     "name": "stderr",
     "output_type": "stream",
     "text": [
      "\r",
      "Epoch 12 | Step 648 | CER 0.8818 | WER 1.7830:  43%|████▎     | 694/1620 [12:43<13:45,  1.12it/s]"
     ]
    },
    {
     "name": "stderr",
     "output_type": "stream",
     "text": [
      "\r",
      "Epoch 12 | Step 648 | CER 0.8818 | WER 1.7830:  43%|████▎     | 695/1620 [12:44<13:16,  1.16it/s]"
     ]
    },
    {
     "name": "stderr",
     "output_type": "stream",
     "text": [
      "\r",
      "Epoch 12 | Step 648 | CER 0.8818 | WER 1.7830:  43%|████▎     | 696/1620 [12:45<13:24,  1.15it/s]"
     ]
    },
    {
     "name": "stderr",
     "output_type": "stream",
     "text": [
      "\r",
      "Epoch 12 | Step 648 | CER 0.8818 | WER 1.7830:  43%|████▎     | 697/1620 [12:46<12:36,  1.22it/s]"
     ]
    },
    {
     "name": "stderr",
     "output_type": "stream",
     "text": [
      "\r",
      "Epoch 12 | Step 648 | CER 0.8818 | WER 1.7830:  43%|████▎     | 698/1620 [12:47<13:55,  1.10it/s]"
     ]
    },
    {
     "name": "stderr",
     "output_type": "stream",
     "text": [
      "\r",
      "Epoch 12 | Step 648 | CER 0.8818 | WER 1.7830:  43%|████▎     | 699/1620 [12:47<13:19,  1.15it/s]"
     ]
    },
    {
     "name": "stderr",
     "output_type": "stream",
     "text": [
      "\r",
      "Epoch 12 | Step 648 | CER 0.8818 | WER 1.7830:  43%|████▎     | 700/1620 [12:49<14:47,  1.04it/s]"
     ]
    },
    {
     "name": "stderr",
     "output_type": "stream",
     "text": [
      "\r",
      "Epoch 12 | Step 648 | CER 0.8818 | WER 1.7830:  43%|████▎     | 701/1620 [12:49<13:06,  1.17it/s]"
     ]
    },
    {
     "name": "stderr",
     "output_type": "stream",
     "text": [
      "\r",
      "Epoch 12 | Step 648 | CER 0.8818 | WER 1.7830:  43%|████▎     | 702/1620 [12:50<10:31,  1.45it/s]"
     ]
    },
    {
     "name": "stderr",
     "output_type": "stream",
     "text": [
      "\r",
      "Epoch 13 | Step 702 | CER 0.6119 | WER 1.0798:  43%|████▎     | 702/1620 [12:55<10:31,  1.45it/s]"
     ]
    },
    {
     "name": "stderr",
     "output_type": "stream",
     "text": [
      "\r",
      "Epoch 13 | Step 702 | CER 0.6119 | WER 1.0798:  43%|████▎     | 703/1620 [13:03<1:08:49,  4.50s/it]"
     ]
    },
    {
     "name": "stderr",
     "output_type": "stream",
     "text": [
      "\r",
      "Epoch 13 | Step 702 | CER 0.6119 | WER 1.0798:  43%|████▎     | 704/1620 [13:04<52:27,  3.44s/it]  "
     ]
    },
    {
     "name": "stderr",
     "output_type": "stream",
     "text": [
      "\r",
      "Epoch 13 | Step 702 | CER 0.6119 | WER 1.0798:  44%|████▎     | 705/1620 [13:05<40:55,  2.68s/it]"
     ]
    },
    {
     "name": "stderr",
     "output_type": "stream",
     "text": [
      "\r",
      "Epoch 13 | Step 702 | CER 0.6119 | WER 1.0798:  44%|████▎     | 706/1620 [13:06<31:55,  2.10s/it]"
     ]
    },
    {
     "name": "stderr",
     "output_type": "stream",
     "text": [
      "\r",
      "Epoch 13 | Step 702 | CER 0.6119 | WER 1.0798:  44%|████▎     | 707/1620 [13:06<25:35,  1.68s/it]"
     ]
    },
    {
     "name": "stderr",
     "output_type": "stream",
     "text": [
      "\r",
      "Epoch 13 | Step 702 | CER 0.6119 | WER 1.0798:  44%|████▎     | 708/1620 [13:07<20:59,  1.38s/it]"
     ]
    },
    {
     "name": "stderr",
     "output_type": "stream",
     "text": [
      "\r",
      "Epoch 13 | Step 702 | CER 0.6119 | WER 1.0798:  44%|████▍     | 709/1620 [13:08<19:27,  1.28s/it]"
     ]
    },
    {
     "name": "stderr",
     "output_type": "stream",
     "text": [
      "\r",
      "Epoch 13 | Step 702 | CER 0.6119 | WER 1.0798:  44%|████▍     | 710/1620 [13:09<16:56,  1.12s/it]"
     ]
    },
    {
     "name": "stderr",
     "output_type": "stream",
     "text": [
      "\r",
      "Epoch 13 | Step 702 | CER 0.6119 | WER 1.0798:  44%|████▍     | 711/1620 [13:10<16:26,  1.09s/it]"
     ]
    },
    {
     "name": "stderr",
     "output_type": "stream",
     "text": [
      "\r",
      "Epoch 13 | Step 702 | CER 0.6119 | WER 1.0798:  44%|████▍     | 712/1620 [13:11<15:26,  1.02s/it]"
     ]
    },
    {
     "name": "stderr",
     "output_type": "stream",
     "text": [
      "\r",
      "Epoch 13 | Step 702 | CER 0.6119 | WER 1.0798:  44%|████▍     | 713/1620 [13:12<15:20,  1.01s/it]"
     ]
    },
    {
     "name": "stderr",
     "output_type": "stream",
     "text": [
      "\r",
      "Epoch 13 | Step 702 | CER 0.6119 | WER 1.0798:  44%|████▍     | 714/1620 [13:13<14:55,  1.01it/s]"
     ]
    },
    {
     "name": "stderr",
     "output_type": "stream",
     "text": [
      "\r",
      "Epoch 13 | Step 702 | CER 0.6119 | WER 1.0798:  44%|████▍     | 715/1620 [13:13<14:28,  1.04it/s]"
     ]
    },
    {
     "name": "stderr",
     "output_type": "stream",
     "text": [
      "\r",
      "Epoch 13 | Step 702 | CER 0.6119 | WER 1.0798:  44%|████▍     | 716/1620 [13:14<13:25,  1.12it/s]"
     ]
    },
    {
     "name": "stderr",
     "output_type": "stream",
     "text": [
      "\r",
      "Epoch 13 | Step 702 | CER 0.6119 | WER 1.0798:  44%|████▍     | 717/1620 [13:15<12:21,  1.22it/s]"
     ]
    },
    {
     "name": "stderr",
     "output_type": "stream",
     "text": [
      "\r",
      "Epoch 13 | Step 702 | CER 0.6119 | WER 1.0798:  44%|████▍     | 718/1620 [13:16<13:14,  1.13it/s]"
     ]
    },
    {
     "name": "stderr",
     "output_type": "stream",
     "text": [
      "\r",
      "Epoch 13 | Step 702 | CER 0.6119 | WER 1.0798:  44%|████▍     | 719/1620 [13:17<13:15,  1.13it/s]"
     ]
    },
    {
     "name": "stderr",
     "output_type": "stream",
     "text": [
      "\r",
      "Epoch 13 | Step 702 | CER 0.6119 | WER 1.0798:  44%|████▍     | 720/1620 [13:18<14:03,  1.07it/s]"
     ]
    },
    {
     "name": "stderr",
     "output_type": "stream",
     "text": [
      "\r",
      "Epoch 13 | Step 702 | CER 0.6119 | WER 1.0798:  45%|████▍     | 721/1620 [13:19<13:30,  1.11it/s]"
     ]
    },
    {
     "name": "stderr",
     "output_type": "stream",
     "text": [
      "\r",
      "Epoch 13 | Step 702 | CER 0.6119 | WER 1.0798:  45%|████▍     | 722/1620 [13:19<12:25,  1.20it/s]"
     ]
    },
    {
     "name": "stderr",
     "output_type": "stream",
     "text": [
      "\r",
      "Epoch 13 | Step 702 | CER 0.6119 | WER 1.0798:  45%|████▍     | 723/1620 [13:20<13:37,  1.10it/s]"
     ]
    },
    {
     "name": "stderr",
     "output_type": "stream",
     "text": [
      "\r",
      "Epoch 13 | Step 702 | CER 0.6119 | WER 1.0798:  45%|████▍     | 724/1620 [13:21<13:13,  1.13it/s]"
     ]
    },
    {
     "name": "stderr",
     "output_type": "stream",
     "text": [
      "\r",
      "Epoch 13 | Step 702 | CER 0.6119 | WER 1.0798:  45%|████▍     | 725/1620 [13:22<12:51,  1.16it/s]"
     ]
    },
    {
     "name": "stderr",
     "output_type": "stream",
     "text": [
      "\r",
      "Epoch 13 | Step 702 | CER 0.6119 | WER 1.0798:  45%|████▍     | 726/1620 [13:23<11:54,  1.25it/s]"
     ]
    },
    {
     "name": "stderr",
     "output_type": "stream",
     "text": [
      "\r",
      "Epoch 13 | Step 702 | CER 0.6119 | WER 1.0798:  45%|████▍     | 727/1620 [13:24<12:21,  1.20it/s]"
     ]
    },
    {
     "name": "stderr",
     "output_type": "stream",
     "text": [
      "\r",
      "Epoch 13 | Step 702 | CER 0.6119 | WER 1.0798:  45%|████▍     | 728/1620 [13:24<12:50,  1.16it/s]"
     ]
    },
    {
     "name": "stderr",
     "output_type": "stream",
     "text": [
      "\r",
      "Epoch 13 | Step 702 | CER 0.6119 | WER 1.0798:  45%|████▌     | 729/1620 [13:25<12:48,  1.16it/s]"
     ]
    },
    {
     "name": "stderr",
     "output_type": "stream",
     "text": [
      "\r",
      "Epoch 13 | Step 702 | CER 0.6119 | WER 1.0798:  45%|████▌     | 730/1620 [13:26<13:20,  1.11it/s]"
     ]
    },
    {
     "name": "stderr",
     "output_type": "stream",
     "text": [
      "\r",
      "Epoch 13 | Step 702 | CER 0.6119 | WER 1.0798:  45%|████▌     | 731/1620 [13:28<14:44,  1.01it/s]"
     ]
    },
    {
     "name": "stderr",
     "output_type": "stream",
     "text": [
      "\r",
      "Epoch 13 | Step 702 | CER 0.6119 | WER 1.0798:  45%|████▌     | 732/1620 [13:28<13:54,  1.06it/s]"
     ]
    },
    {
     "name": "stderr",
     "output_type": "stream",
     "text": [
      "\r",
      "Epoch 13 | Step 702 | CER 0.6119 | WER 1.0798:  45%|████▌     | 733/1620 [13:29<14:18,  1.03it/s]"
     ]
    },
    {
     "name": "stderr",
     "output_type": "stream",
     "text": [
      "\r",
      "Epoch 13 | Step 702 | CER 0.6119 | WER 1.0798:  45%|████▌     | 734/1620 [13:30<13:34,  1.09it/s]"
     ]
    },
    {
     "name": "stderr",
     "output_type": "stream",
     "text": [
      "\r",
      "Epoch 13 | Step 702 | CER 0.6119 | WER 1.0798:  45%|████▌     | 735/1620 [13:31<13:42,  1.08it/s]"
     ]
    },
    {
     "name": "stderr",
     "output_type": "stream",
     "text": [
      "\r",
      "Epoch 13 | Step 702 | CER 0.6119 | WER 1.0798:  45%|████▌     | 736/1620 [13:32<13:42,  1.08it/s]"
     ]
    },
    {
     "name": "stderr",
     "output_type": "stream",
     "text": [
      "\r",
      "Epoch 13 | Step 702 | CER 0.6119 | WER 1.0798:  45%|████▌     | 737/1620 [13:33<13:33,  1.08it/s]"
     ]
    },
    {
     "name": "stderr",
     "output_type": "stream",
     "text": [
      "\r",
      "Epoch 13 | Step 702 | CER 0.6119 | WER 1.0798:  46%|████▌     | 738/1620 [13:34<12:35,  1.17it/s]"
     ]
    },
    {
     "name": "stderr",
     "output_type": "stream",
     "text": [
      "\r",
      "Epoch 13 | Step 702 | CER 0.6119 | WER 1.0798:  46%|████▌     | 739/1620 [13:35<13:04,  1.12it/s]"
     ]
    },
    {
     "name": "stderr",
     "output_type": "stream",
     "text": [
      "\r",
      "Epoch 13 | Step 702 | CER 0.6119 | WER 1.0798:  46%|████▌     | 740/1620 [13:35<12:42,  1.15it/s]"
     ]
    },
    {
     "name": "stderr",
     "output_type": "stream",
     "text": [
      "\r",
      "Epoch 13 | Step 702 | CER 0.6119 | WER 1.0798:  46%|████▌     | 741/1620 [13:36<12:04,  1.21it/s]"
     ]
    },
    {
     "name": "stderr",
     "output_type": "stream",
     "text": [
      "\r",
      "Epoch 13 | Step 702 | CER 0.6119 | WER 1.0798:  46%|████▌     | 742/1620 [13:37<11:39,  1.26it/s]"
     ]
    },
    {
     "name": "stderr",
     "output_type": "stream",
     "text": [
      "\r",
      "Epoch 13 | Step 702 | CER 0.6119 | WER 1.0798:  46%|████▌     | 743/1620 [13:38<11:58,  1.22it/s]"
     ]
    },
    {
     "name": "stderr",
     "output_type": "stream",
     "text": [
      "\r",
      "Epoch 13 | Step 702 | CER 0.6119 | WER 1.0798:  46%|████▌     | 744/1620 [13:39<11:37,  1.26it/s]"
     ]
    },
    {
     "name": "stderr",
     "output_type": "stream",
     "text": [
      "\r",
      "Epoch 13 | Step 702 | CER 0.6119 | WER 1.0798:  46%|████▌     | 745/1620 [13:39<11:59,  1.22it/s]"
     ]
    },
    {
     "name": "stderr",
     "output_type": "stream",
     "text": [
      "\r",
      "Epoch 13 | Step 702 | CER 0.6119 | WER 1.0798:  46%|████▌     | 746/1620 [13:40<12:06,  1.20it/s]"
     ]
    },
    {
     "name": "stderr",
     "output_type": "stream",
     "text": [
      "\r",
      "Epoch 13 | Step 702 | CER 0.6119 | WER 1.0798:  46%|████▌     | 747/1620 [13:41<11:16,  1.29it/s]"
     ]
    },
    {
     "name": "stderr",
     "output_type": "stream",
     "text": [
      "\r",
      "Epoch 13 | Step 702 | CER 0.6119 | WER 1.0798:  46%|████▌     | 748/1620 [13:42<11:31,  1.26it/s]"
     ]
    },
    {
     "name": "stderr",
     "output_type": "stream",
     "text": [
      "\r",
      "Epoch 13 | Step 702 | CER 0.6119 | WER 1.0798:  46%|████▌     | 749/1620 [13:43<12:29,  1.16it/s]"
     ]
    },
    {
     "name": "stderr",
     "output_type": "stream",
     "text": [
      "\r",
      "Epoch 13 | Step 702 | CER 0.6119 | WER 1.0798:  46%|████▋     | 750/1620 [13:44<12:17,  1.18it/s]"
     ]
    },
    {
     "name": "stderr",
     "output_type": "stream",
     "text": [
      "\r",
      "Epoch 13 | Step 702 | CER 0.6119 | WER 1.0798:  46%|████▋     | 751/1620 [13:44<11:41,  1.24it/s]"
     ]
    },
    {
     "name": "stderr",
     "output_type": "stream",
     "text": [
      "\r",
      "Epoch 13 | Step 702 | CER 0.6119 | WER 1.0798:  46%|████▋     | 752/1620 [13:45<11:22,  1.27it/s]"
     ]
    },
    {
     "name": "stderr",
     "output_type": "stream",
     "text": [
      "\r",
      "Epoch 13 | Step 702 | CER 0.6119 | WER 1.0798:  46%|████▋     | 753/1620 [13:46<11:34,  1.25it/s]"
     ]
    },
    {
     "name": "stderr",
     "output_type": "stream",
     "text": [
      "\r",
      "Epoch 13 | Step 702 | CER 0.6119 | WER 1.0798:  47%|████▋     | 754/1620 [13:47<11:51,  1.22it/s]"
     ]
    },
    {
     "name": "stderr",
     "output_type": "stream",
     "text": [
      "\r",
      "Epoch 13 | Step 702 | CER 0.6119 | WER 1.0798:  47%|████▋     | 755/1620 [13:47<11:02,  1.31it/s]"
     ]
    },
    {
     "name": "stderr",
     "output_type": "stream",
     "text": [
      "\r",
      "Epoch 13 | Step 702 | CER 0.6119 | WER 1.0798:  47%|████▋     | 756/1620 [13:48<09:00,  1.60it/s]"
     ]
    },
    {
     "name": "stderr",
     "output_type": "stream",
     "text": [
      "\r",
      "Epoch 14 | Step 756 | CER 0.6598 | WER 1.2693:  47%|████▋     | 756/1620 [13:53<09:00,  1.60it/s]"
     ]
    },
    {
     "name": "stderr",
     "output_type": "stream",
     "text": [
      "\r",
      "Epoch 14 | Step 756 | CER 0.6598 | WER 1.2693:  47%|████▋     | 757/1620 [14:01<1:04:56,  4.52s/it]"
     ]
    },
    {
     "name": "stderr",
     "output_type": "stream",
     "text": [
      "\r",
      "Epoch 14 | Step 756 | CER 0.6598 | WER 1.2693:  47%|████▋     | 758/1620 [14:02<48:36,  3.38s/it]  "
     ]
    },
    {
     "name": "stderr",
     "output_type": "stream",
     "text": [
      "\r",
      "Epoch 14 | Step 756 | CER 0.6598 | WER 1.2693:  47%|████▋     | 759/1620 [14:03<37:26,  2.61s/it]"
     ]
    },
    {
     "name": "stderr",
     "output_type": "stream",
     "text": [
      "\r",
      "Epoch 14 | Step 756 | CER 0.6598 | WER 1.2693:  47%|████▋     | 760/1620 [14:04<29:40,  2.07s/it]"
     ]
    },
    {
     "name": "stderr",
     "output_type": "stream",
     "text": [
      "\r",
      "Epoch 14 | Step 756 | CER 0.6598 | WER 1.2693:  47%|████▋     | 761/1620 [14:05<24:32,  1.71s/it]"
     ]
    },
    {
     "name": "stderr",
     "output_type": "stream",
     "text": [
      "\r",
      "Epoch 14 | Step 756 | CER 0.6598 | WER 1.2693:  47%|████▋     | 762/1620 [14:05<20:22,  1.42s/it]"
     ]
    },
    {
     "name": "stderr",
     "output_type": "stream",
     "text": [
      "\r",
      "Epoch 14 | Step 756 | CER 0.6598 | WER 1.2693:  47%|████▋     | 763/1620 [14:06<18:32,  1.30s/it]"
     ]
    },
    {
     "name": "stderr",
     "output_type": "stream",
     "text": [
      "\r",
      "Epoch 14 | Step 756 | CER 0.6598 | WER 1.2693:  47%|████▋     | 764/1620 [14:07<17:52,  1.25s/it]"
     ]
    },
    {
     "name": "stderr",
     "output_type": "stream",
     "text": [
      "\r",
      "Epoch 14 | Step 756 | CER 0.6598 | WER 1.2693:  47%|████▋     | 765/1620 [14:08<16:34,  1.16s/it]"
     ]
    },
    {
     "name": "stderr",
     "output_type": "stream",
     "text": [
      "\r",
      "Epoch 14 | Step 756 | CER 0.6598 | WER 1.2693:  47%|████▋     | 766/1620 [14:09<15:07,  1.06s/it]"
     ]
    },
    {
     "name": "stderr",
     "output_type": "stream",
     "text": [
      "\r",
      "Epoch 14 | Step 756 | CER 0.6598 | WER 1.2693:  47%|████▋     | 767/1620 [14:10<13:51,  1.03it/s]"
     ]
    },
    {
     "name": "stderr",
     "output_type": "stream",
     "text": [
      "\r",
      "Epoch 14 | Step 756 | CER 0.6598 | WER 1.2693:  47%|████▋     | 768/1620 [14:11<12:36,  1.13it/s]"
     ]
    },
    {
     "name": "stderr",
     "output_type": "stream",
     "text": [
      "\r",
      "Epoch 14 | Step 756 | CER 0.6598 | WER 1.2693:  47%|████▋     | 769/1620 [14:12<13:45,  1.03it/s]"
     ]
    },
    {
     "name": "stderr",
     "output_type": "stream",
     "text": [
      "\r",
      "Epoch 14 | Step 756 | CER 0.6598 | WER 1.2693:  48%|████▊     | 770/1620 [14:13<13:36,  1.04it/s]"
     ]
    },
    {
     "name": "stderr",
     "output_type": "stream",
     "text": [
      "\r",
      "Epoch 14 | Step 756 | CER 0.6598 | WER 1.2693:  48%|████▊     | 771/1620 [14:14<13:47,  1.03it/s]"
     ]
    },
    {
     "name": "stderr",
     "output_type": "stream",
     "text": [
      "\r",
      "Epoch 14 | Step 756 | CER 0.6598 | WER 1.2693:  48%|████▊     | 772/1620 [14:15<14:07,  1.00it/s]"
     ]
    },
    {
     "name": "stderr",
     "output_type": "stream",
     "text": [
      "\r",
      "Epoch 14 | Step 756 | CER 0.6598 | WER 1.2693:  48%|████▊     | 773/1620 [14:16<13:25,  1.05it/s]"
     ]
    },
    {
     "name": "stderr",
     "output_type": "stream",
     "text": [
      "\r",
      "Epoch 14 | Step 756 | CER 0.6598 | WER 1.2693:  48%|████▊     | 774/1620 [14:17<13:16,  1.06it/s]"
     ]
    },
    {
     "name": "stderr",
     "output_type": "stream",
     "text": [
      "\r",
      "Epoch 14 | Step 756 | CER 0.6598 | WER 1.2693:  48%|████▊     | 775/1620 [14:17<13:00,  1.08it/s]"
     ]
    },
    {
     "name": "stderr",
     "output_type": "stream",
     "text": [
      "\r",
      "Epoch 14 | Step 756 | CER 0.6598 | WER 1.2693:  48%|████▊     | 776/1620 [14:18<12:27,  1.13it/s]"
     ]
    },
    {
     "name": "stderr",
     "output_type": "stream",
     "text": [
      "\r",
      "Epoch 14 | Step 756 | CER 0.6598 | WER 1.2693:  48%|████▊     | 777/1620 [14:19<12:06,  1.16it/s]"
     ]
    },
    {
     "name": "stderr",
     "output_type": "stream",
     "text": [
      "\r",
      "Epoch 14 | Step 756 | CER 0.6598 | WER 1.2693:  48%|████▊     | 778/1620 [14:20<12:50,  1.09it/s]"
     ]
    },
    {
     "name": "stderr",
     "output_type": "stream",
     "text": [
      "\r",
      "Epoch 14 | Step 756 | CER 0.6598 | WER 1.2693:  48%|████▊     | 779/1620 [14:21<12:21,  1.13it/s]"
     ]
    },
    {
     "name": "stderr",
     "output_type": "stream",
     "text": [
      "\r",
      "Epoch 14 | Step 756 | CER 0.6598 | WER 1.2693:  48%|████▊     | 780/1620 [14:22<11:24,  1.23it/s]"
     ]
    },
    {
     "name": "stderr",
     "output_type": "stream",
     "text": [
      "\r",
      "Epoch 14 | Step 756 | CER 0.6598 | WER 1.2693:  48%|████▊     | 781/1620 [14:22<11:00,  1.27it/s]"
     ]
    },
    {
     "name": "stderr",
     "output_type": "stream",
     "text": [
      "\r",
      "Epoch 14 | Step 756 | CER 0.6598 | WER 1.2693:  48%|████▊     | 782/1620 [14:23<10:50,  1.29it/s]"
     ]
    },
    {
     "name": "stderr",
     "output_type": "stream",
     "text": [
      "\r",
      "Epoch 14 | Step 756 | CER 0.6598 | WER 1.2693:  48%|████▊     | 783/1620 [14:24<11:05,  1.26it/s]"
     ]
    },
    {
     "name": "stderr",
     "output_type": "stream",
     "text": [
      "\r",
      "Epoch 14 | Step 756 | CER 0.6598 | WER 1.2693:  48%|████▊     | 784/1620 [14:25<11:45,  1.19it/s]"
     ]
    },
    {
     "name": "stderr",
     "output_type": "stream",
     "text": [
      "\r",
      "Epoch 14 | Step 756 | CER 0.6598 | WER 1.2693:  48%|████▊     | 785/1620 [14:26<12:12,  1.14it/s]"
     ]
    },
    {
     "name": "stderr",
     "output_type": "stream",
     "text": [
      "\r",
      "Epoch 14 | Step 756 | CER 0.6598 | WER 1.2693:  49%|████▊     | 786/1620 [14:27<11:54,  1.17it/s]"
     ]
    },
    {
     "name": "stderr",
     "output_type": "stream",
     "text": [
      "\r",
      "Epoch 14 | Step 756 | CER 0.6598 | WER 1.2693:  49%|████▊     | 787/1620 [14:27<11:24,  1.22it/s]"
     ]
    },
    {
     "name": "stderr",
     "output_type": "stream",
     "text": [
      "\r",
      "Epoch 14 | Step 756 | CER 0.6598 | WER 1.2693:  49%|████▊     | 788/1620 [14:28<11:10,  1.24it/s]"
     ]
    },
    {
     "name": "stderr",
     "output_type": "stream",
     "text": [
      "\r",
      "Epoch 14 | Step 756 | CER 0.6598 | WER 1.2693:  49%|████▊     | 789/1620 [14:29<11:33,  1.20it/s]"
     ]
    },
    {
     "name": "stderr",
     "output_type": "stream",
     "text": [
      "\r",
      "Epoch 14 | Step 756 | CER 0.6598 | WER 1.2693:  49%|████▉     | 790/1620 [14:30<11:12,  1.23it/s]"
     ]
    },
    {
     "name": "stderr",
     "output_type": "stream",
     "text": [
      "\r",
      "Epoch 14 | Step 756 | CER 0.6598 | WER 1.2693:  49%|████▉     | 791/1620 [14:31<11:21,  1.22it/s]"
     ]
    },
    {
     "name": "stderr",
     "output_type": "stream",
     "text": [
      "\r",
      "Epoch 14 | Step 756 | CER 0.6598 | WER 1.2693:  49%|████▉     | 792/1620 [14:31<10:53,  1.27it/s]"
     ]
    },
    {
     "name": "stderr",
     "output_type": "stream",
     "text": [
      "\r",
      "Epoch 14 | Step 756 | CER 0.6598 | WER 1.2693:  49%|████▉     | 793/1620 [14:32<11:58,  1.15it/s]"
     ]
    },
    {
     "name": "stderr",
     "output_type": "stream",
     "text": [
      "\r",
      "Epoch 14 | Step 756 | CER 0.6598 | WER 1.2693:  49%|████▉     | 794/1620 [14:33<11:25,  1.21it/s]"
     ]
    },
    {
     "name": "stderr",
     "output_type": "stream",
     "text": [
      "\r",
      "Epoch 14 | Step 756 | CER 0.6598 | WER 1.2693:  49%|████▉     | 795/1620 [14:34<11:41,  1.18it/s]"
     ]
    },
    {
     "name": "stderr",
     "output_type": "stream",
     "text": [
      "\r",
      "Epoch 14 | Step 756 | CER 0.6598 | WER 1.2693:  49%|████▉     | 796/1620 [14:35<11:35,  1.19it/s]"
     ]
    },
    {
     "name": "stderr",
     "output_type": "stream",
     "text": [
      "\r",
      "Epoch 14 | Step 756 | CER 0.6598 | WER 1.2693:  49%|████▉     | 797/1620 [14:36<11:16,  1.22it/s]"
     ]
    },
    {
     "name": "stderr",
     "output_type": "stream",
     "text": [
      "\r",
      "Epoch 14 | Step 756 | CER 0.6598 | WER 1.2693:  49%|████▉     | 798/1620 [14:37<12:04,  1.13it/s]"
     ]
    },
    {
     "name": "stderr",
     "output_type": "stream",
     "text": [
      "\r",
      "Epoch 14 | Step 756 | CER 0.6598 | WER 1.2693:  49%|████▉     | 799/1620 [14:37<11:50,  1.16it/s]"
     ]
    },
    {
     "name": "stderr",
     "output_type": "stream",
     "text": [
      "\r",
      "Epoch 14 | Step 756 | CER 0.6598 | WER 1.2693:  49%|████▉     | 800/1620 [14:38<12:22,  1.10it/s]"
     ]
    },
    {
     "name": "stderr",
     "output_type": "stream",
     "text": [
      "\r",
      "Epoch 14 | Step 756 | CER 0.6598 | WER 1.2693:  49%|████▉     | 801/1620 [14:39<12:38,  1.08it/s]"
     ]
    },
    {
     "name": "stderr",
     "output_type": "stream",
     "text": [
      "\r",
      "Epoch 14 | Step 756 | CER 0.6598 | WER 1.2693:  50%|████▉     | 802/1620 [14:40<12:32,  1.09it/s]"
     ]
    },
    {
     "name": "stderr",
     "output_type": "stream",
     "text": [
      "\r",
      "Epoch 14 | Step 756 | CER 0.6598 | WER 1.2693:  50%|████▉     | 803/1620 [14:41<11:39,  1.17it/s]"
     ]
    },
    {
     "name": "stderr",
     "output_type": "stream",
     "text": [
      "\r",
      "Epoch 14 | Step 756 | CER 0.6598 | WER 1.2693:  50%|████▉     | 804/1620 [14:42<11:14,  1.21it/s]"
     ]
    },
    {
     "name": "stderr",
     "output_type": "stream",
     "text": [
      "\r",
      "Epoch 14 | Step 756 | CER 0.6598 | WER 1.2693:  50%|████▉     | 805/1620 [14:43<11:35,  1.17it/s]"
     ]
    },
    {
     "name": "stderr",
     "output_type": "stream",
     "text": [
      "\r",
      "Epoch 14 | Step 756 | CER 0.6598 | WER 1.2693:  50%|████▉     | 806/1620 [14:44<12:17,  1.10it/s]"
     ]
    },
    {
     "name": "stderr",
     "output_type": "stream",
     "text": [
      "\r",
      "Epoch 14 | Step 756 | CER 0.6598 | WER 1.2693:  50%|████▉     | 807/1620 [14:44<11:37,  1.17it/s]"
     ]
    },
    {
     "name": "stderr",
     "output_type": "stream",
     "text": [
      "\r",
      "Epoch 14 | Step 756 | CER 0.6598 | WER 1.2693:  50%|████▉     | 808/1620 [14:46<12:33,  1.08it/s]"
     ]
    },
    {
     "name": "stderr",
     "output_type": "stream",
     "text": [
      "\r",
      "Epoch 14 | Step 756 | CER 0.6598 | WER 1.2693:  50%|████▉     | 809/1620 [14:46<11:15,  1.20it/s]"
     ]
    },
    {
     "name": "stderr",
     "output_type": "stream",
     "text": [
      "\r",
      "Epoch 14 | Step 756 | CER 0.6598 | WER 1.2693:  50%|█████     | 810/1620 [14:46<09:05,  1.49it/s]"
     ]
    },
    {
     "name": "stderr",
     "output_type": "stream",
     "text": [
      "\r",
      "Epoch 15 | Step 810 | CER 0.6084 | WER 1.0948:  50%|█████     | 810/1620 [14:52<09:05,  1.49it/s]"
     ]
    },
    {
     "name": "stderr",
     "output_type": "stream",
     "text": [
      "\r",
      "Epoch 15 | Step 810 | CER 0.6084 | WER 1.0948:  50%|█████     | 811/1620 [15:00<1:01:15,  4.54s/it]"
     ]
    },
    {
     "name": "stderr",
     "output_type": "stream",
     "text": [
      "\r",
      "Epoch 15 | Step 810 | CER 0.6084 | WER 1.0948:  50%|█████     | 812/1620 [15:01<46:46,  3.47s/it]  "
     ]
    },
    {
     "name": "stderr",
     "output_type": "stream",
     "text": [
      "\r",
      "Epoch 15 | Step 810 | CER 0.6084 | WER 1.0948:  50%|█████     | 813/1620 [15:02<36:38,  2.72s/it]"
     ]
    },
    {
     "name": "stderr",
     "output_type": "stream",
     "text": [
      "\r",
      "Epoch 15 | Step 810 | CER 0.6084 | WER 1.0948:  50%|█████     | 814/1620 [15:03<28:35,  2.13s/it]"
     ]
    },
    {
     "name": "stderr",
     "output_type": "stream",
     "text": [
      "\r",
      "Epoch 15 | Step 810 | CER 0.6084 | WER 1.0948:  50%|█████     | 815/1620 [15:04<23:45,  1.77s/it]"
     ]
    },
    {
     "name": "stderr",
     "output_type": "stream",
     "text": [
      "\r",
      "Epoch 15 | Step 810 | CER 0.6084 | WER 1.0948:  50%|█████     | 816/1620 [15:04<19:49,  1.48s/it]"
     ]
    },
    {
     "name": "stderr",
     "output_type": "stream",
     "text": [
      "\r",
      "Epoch 15 | Step 810 | CER 0.6084 | WER 1.0948:  50%|█████     | 817/1620 [15:05<17:45,  1.33s/it]"
     ]
    },
    {
     "name": "stderr",
     "output_type": "stream",
     "text": [
      "\r",
      "Epoch 15 | Step 810 | CER 0.6084 | WER 1.0948:  50%|█████     | 818/1620 [15:06<15:23,  1.15s/it]"
     ]
    },
    {
     "name": "stderr",
     "output_type": "stream",
     "text": [
      "\r",
      "Epoch 15 | Step 810 | CER 0.6084 | WER 1.0948:  51%|█████     | 819/1620 [15:07<14:12,  1.06s/it]"
     ]
    },
    {
     "name": "stderr",
     "output_type": "stream",
     "text": [
      "\r",
      "Epoch 15 | Step 810 | CER 0.6084 | WER 1.0948:  51%|█████     | 820/1620 [15:08<13:38,  1.02s/it]"
     ]
    },
    {
     "name": "stderr",
     "output_type": "stream",
     "text": [
      "\r",
      "Epoch 15 | Step 810 | CER 0.6084 | WER 1.0948:  51%|█████     | 821/1620 [15:09<12:22,  1.08it/s]"
     ]
    },
    {
     "name": "stderr",
     "output_type": "stream",
     "text": [
      "\r",
      "Epoch 15 | Step 810 | CER 0.6084 | WER 1.0948:  51%|█████     | 822/1620 [15:09<11:37,  1.14it/s]"
     ]
    },
    {
     "name": "stderr",
     "output_type": "stream",
     "text": [
      "\r",
      "Epoch 15 | Step 810 | CER 0.6084 | WER 1.0948:  51%|█████     | 823/1620 [15:10<10:59,  1.21it/s]"
     ]
    },
    {
     "name": "stderr",
     "output_type": "stream",
     "text": [
      "\r",
      "Epoch 15 | Step 810 | CER 0.6084 | WER 1.0948:  51%|█████     | 824/1620 [15:11<10:21,  1.28it/s]"
     ]
    },
    {
     "name": "stderr",
     "output_type": "stream",
     "text": [
      "\r",
      "Epoch 15 | Step 810 | CER 0.6084 | WER 1.0948:  51%|█████     | 825/1620 [15:12<10:18,  1.28it/s]"
     ]
    },
    {
     "name": "stderr",
     "output_type": "stream",
     "text": [
      "\r",
      "Epoch 15 | Step 810 | CER 0.6084 | WER 1.0948:  51%|█████     | 826/1620 [15:13<11:20,  1.17it/s]"
     ]
    },
    {
     "name": "stderr",
     "output_type": "stream",
     "text": [
      "\r",
      "Epoch 15 | Step 810 | CER 0.6084 | WER 1.0948:  51%|█████     | 827/1620 [15:14<12:06,  1.09it/s]"
     ]
    },
    {
     "name": "stderr",
     "output_type": "stream",
     "text": [
      "\r",
      "Epoch 15 | Step 810 | CER 0.6084 | WER 1.0948:  51%|█████     | 828/1620 [15:14<11:06,  1.19it/s]"
     ]
    },
    {
     "name": "stderr",
     "output_type": "stream",
     "text": [
      "\r",
      "Epoch 15 | Step 810 | CER 0.6084 | WER 1.0948:  51%|█████     | 829/1620 [15:15<11:54,  1.11it/s]"
     ]
    },
    {
     "name": "stderr",
     "output_type": "stream",
     "text": [
      "\r",
      "Epoch 15 | Step 810 | CER 0.6084 | WER 1.0948:  51%|█████     | 830/1620 [15:16<12:14,  1.08it/s]"
     ]
    },
    {
     "name": "stderr",
     "output_type": "stream",
     "text": [
      "\r",
      "Epoch 15 | Step 810 | CER 0.6084 | WER 1.0948:  51%|█████▏    | 831/1620 [15:17<11:20,  1.16it/s]"
     ]
    },
    {
     "name": "stderr",
     "output_type": "stream",
     "text": [
      "\r",
      "Epoch 15 | Step 810 | CER 0.6084 | WER 1.0948:  51%|█████▏    | 832/1620 [15:18<10:24,  1.26it/s]"
     ]
    },
    {
     "name": "stderr",
     "output_type": "stream",
     "text": [
      "\r",
      "Epoch 15 | Step 810 | CER 0.6084 | WER 1.0948:  51%|█████▏    | 833/1620 [15:19<10:31,  1.25it/s]"
     ]
    },
    {
     "name": "stderr",
     "output_type": "stream",
     "text": [
      "\r",
      "Epoch 15 | Step 810 | CER 0.6084 | WER 1.0948:  51%|█████▏    | 834/1620 [15:19<09:57,  1.31it/s]"
     ]
    },
    {
     "name": "stderr",
     "output_type": "stream",
     "text": [
      "\r",
      "Epoch 15 | Step 810 | CER 0.6084 | WER 1.0948:  52%|█████▏    | 835/1620 [15:20<09:36,  1.36it/s]"
     ]
    },
    {
     "name": "stderr",
     "output_type": "stream",
     "text": [
      "\r",
      "Epoch 15 | Step 810 | CER 0.6084 | WER 1.0948:  52%|█████▏    | 836/1620 [15:21<10:22,  1.26it/s]"
     ]
    },
    {
     "name": "stderr",
     "output_type": "stream",
     "text": [
      "\r",
      "Epoch 15 | Step 810 | CER 0.6084 | WER 1.0948:  52%|█████▏    | 837/1620 [15:22<11:14,  1.16it/s]"
     ]
    },
    {
     "name": "stderr",
     "output_type": "stream",
     "text": [
      "\r",
      "Epoch 15 | Step 810 | CER 0.6084 | WER 1.0948:  52%|█████▏    | 838/1620 [15:23<10:50,  1.20it/s]"
     ]
    },
    {
     "name": "stderr",
     "output_type": "stream",
     "text": [
      "\r",
      "Epoch 15 | Step 810 | CER 0.6084 | WER 1.0948:  52%|█████▏    | 839/1620 [15:24<12:39,  1.03it/s]"
     ]
    },
    {
     "name": "stderr",
     "output_type": "stream",
     "text": [
      "\r",
      "Epoch 15 | Step 810 | CER 0.6084 | WER 1.0948:  52%|█████▏    | 840/1620 [15:25<12:34,  1.03it/s]"
     ]
    },
    {
     "name": "stderr",
     "output_type": "stream",
     "text": [
      "\r",
      "Epoch 15 | Step 810 | CER 0.6084 | WER 1.0948:  52%|█████▏    | 841/1620 [15:26<12:30,  1.04it/s]"
     ]
    },
    {
     "name": "stderr",
     "output_type": "stream",
     "text": [
      "\r",
      "Epoch 15 | Step 810 | CER 0.6084 | WER 1.0948:  52%|█████▏    | 842/1620 [15:27<13:21,  1.03s/it]"
     ]
    },
    {
     "name": "stderr",
     "output_type": "stream",
     "text": [
      "\r",
      "Epoch 15 | Step 810 | CER 0.6084 | WER 1.0948:  52%|█████▏    | 843/1620 [15:28<12:43,  1.02it/s]"
     ]
    },
    {
     "name": "stderr",
     "output_type": "stream",
     "text": [
      "\r",
      "Epoch 15 | Step 810 | CER 0.6084 | WER 1.0948:  52%|█████▏    | 844/1620 [15:29<12:51,  1.01it/s]"
     ]
    },
    {
     "name": "stderr",
     "output_type": "stream",
     "text": [
      "\r",
      "Epoch 15 | Step 810 | CER 0.6084 | WER 1.0948:  52%|█████▏    | 845/1620 [15:30<13:33,  1.05s/it]"
     ]
    },
    {
     "name": "stderr",
     "output_type": "stream",
     "text": [
      "\r",
      "Epoch 15 | Step 810 | CER 0.6084 | WER 1.0948:  52%|█████▏    | 846/1620 [15:31<12:22,  1.04it/s]"
     ]
    },
    {
     "name": "stderr",
     "output_type": "stream",
     "text": [
      "\r",
      "Epoch 15 | Step 810 | CER 0.6084 | WER 1.0948:  52%|█████▏    | 847/1620 [15:32<11:19,  1.14it/s]"
     ]
    },
    {
     "name": "stderr",
     "output_type": "stream",
     "text": [
      "\r",
      "Epoch 15 | Step 810 | CER 0.6084 | WER 1.0948:  52%|█████▏    | 848/1620 [15:32<10:28,  1.23it/s]"
     ]
    },
    {
     "name": "stderr",
     "output_type": "stream",
     "text": [
      "\r",
      "Epoch 15 | Step 810 | CER 0.6084 | WER 1.0948:  52%|█████▏    | 849/1620 [15:33<10:54,  1.18it/s]"
     ]
    },
    {
     "name": "stderr",
     "output_type": "stream",
     "text": [
      "\r",
      "Epoch 15 | Step 810 | CER 0.6084 | WER 1.0948:  52%|█████▏    | 850/1620 [15:34<11:42,  1.10it/s]"
     ]
    },
    {
     "name": "stderr",
     "output_type": "stream",
     "text": [
      "\r",
      "Epoch 15 | Step 810 | CER 0.6084 | WER 1.0948:  53%|█████▎    | 851/1620 [15:35<10:47,  1.19it/s]"
     ]
    },
    {
     "name": "stderr",
     "output_type": "stream",
     "text": [
      "\r",
      "Epoch 15 | Step 810 | CER 0.6084 | WER 1.0948:  53%|█████▎    | 852/1620 [15:36<11:06,  1.15it/s]"
     ]
    },
    {
     "name": "stderr",
     "output_type": "stream",
     "text": [
      "\r",
      "Epoch 15 | Step 810 | CER 0.6084 | WER 1.0948:  53%|█████▎    | 853/1620 [15:37<11:13,  1.14it/s]"
     ]
    },
    {
     "name": "stderr",
     "output_type": "stream",
     "text": [
      "\r",
      "Epoch 15 | Step 810 | CER 0.6084 | WER 1.0948:  53%|█████▎    | 854/1620 [15:38<11:31,  1.11it/s]"
     ]
    },
    {
     "name": "stderr",
     "output_type": "stream",
     "text": [
      "\r",
      "Epoch 15 | Step 810 | CER 0.6084 | WER 1.0948:  53%|█████▎    | 855/1620 [15:39<11:19,  1.13it/s]"
     ]
    },
    {
     "name": "stderr",
     "output_type": "stream",
     "text": [
      "\r",
      "Epoch 15 | Step 810 | CER 0.6084 | WER 1.0948:  53%|█████▎    | 856/1620 [15:39<11:06,  1.15it/s]"
     ]
    },
    {
     "name": "stderr",
     "output_type": "stream",
     "text": [
      "\r",
      "Epoch 15 | Step 810 | CER 0.6084 | WER 1.0948:  53%|█████▎    | 857/1620 [15:40<10:32,  1.21it/s]"
     ]
    },
    {
     "name": "stderr",
     "output_type": "stream",
     "text": [
      "\r",
      "Epoch 15 | Step 810 | CER 0.6084 | WER 1.0948:  53%|█████▎    | 858/1620 [15:41<10:08,  1.25it/s]"
     ]
    },
    {
     "name": "stderr",
     "output_type": "stream",
     "text": [
      "\r",
      "Epoch 15 | Step 810 | CER 0.6084 | WER 1.0948:  53%|█████▎    | 859/1620 [15:42<10:02,  1.26it/s]"
     ]
    },
    {
     "name": "stderr",
     "output_type": "stream",
     "text": [
      "\r",
      "Epoch 15 | Step 810 | CER 0.6084 | WER 1.0948:  53%|█████▎    | 860/1620 [15:42<10:17,  1.23it/s]"
     ]
    },
    {
     "name": "stderr",
     "output_type": "stream",
     "text": [
      "\r",
      "Epoch 15 | Step 810 | CER 0.6084 | WER 1.0948:  53%|█████▎    | 861/1620 [15:43<09:44,  1.30it/s]"
     ]
    },
    {
     "name": "stderr",
     "output_type": "stream",
     "text": [
      "\r",
      "Epoch 15 | Step 810 | CER 0.6084 | WER 1.0948:  53%|█████▎    | 862/1620 [15:44<11:04,  1.14it/s]"
     ]
    },
    {
     "name": "stderr",
     "output_type": "stream",
     "text": [
      "\r",
      "Epoch 15 | Step 810 | CER 0.6084 | WER 1.0948:  53%|█████▎    | 863/1620 [15:45<10:46,  1.17it/s]"
     ]
    },
    {
     "name": "stderr",
     "output_type": "stream",
     "text": [
      "\r",
      "Epoch 15 | Step 810 | CER 0.6084 | WER 1.0948:  53%|█████▎    | 864/1620 [15:45<08:39,  1.46it/s]"
     ]
    },
    {
     "name": "stderr",
     "output_type": "stream",
     "text": [
      "\r",
      "Epoch 16 | Step 864 | CER 0.7103 | WER 1.4090:  53%|█████▎    | 864/1620 [15:51<08:39,  1.46it/s]"
     ]
    },
    {
     "name": "stderr",
     "output_type": "stream",
     "text": [
      "\r",
      "Epoch 16 | Step 864 | CER 0.7103 | WER 1.4090:  53%|█████▎    | 865/1620 [15:59<57:22,  4.56s/it]"
     ]
    },
    {
     "name": "stderr",
     "output_type": "stream",
     "text": [
      "\r",
      "Epoch 16 | Step 864 | CER 0.7103 | WER 1.4090:  53%|█████▎    | 866/1620 [16:00<43:18,  3.45s/it]"
     ]
    },
    {
     "name": "stderr",
     "output_type": "stream",
     "text": [
      "\r",
      "Epoch 16 | Step 864 | CER 0.7103 | WER 1.4090:  54%|█████▎    | 867/1620 [16:01<33:01,  2.63s/it]"
     ]
    },
    {
     "name": "stderr",
     "output_type": "stream",
     "text": [
      "\r",
      "Epoch 16 | Step 864 | CER 0.7103 | WER 1.4090:  54%|█████▎    | 868/1620 [16:01<26:05,  2.08s/it]"
     ]
    },
    {
     "name": "stderr",
     "output_type": "stream",
     "text": [
      "\r",
      "Epoch 16 | Step 864 | CER 0.7103 | WER 1.4090:  54%|█████▎    | 869/1620 [16:02<21:20,  1.70s/it]"
     ]
    },
    {
     "name": "stderr",
     "output_type": "stream",
     "text": [
      "\r",
      "Epoch 16 | Step 864 | CER 0.7103 | WER 1.4090:  54%|█████▎    | 870/1620 [16:03<18:11,  1.46s/it]"
     ]
    },
    {
     "name": "stderr",
     "output_type": "stream",
     "text": [
      "\r",
      "Epoch 16 | Step 864 | CER 0.7103 | WER 1.4090:  54%|█████▍    | 871/1620 [16:04<15:23,  1.23s/it]"
     ]
    },
    {
     "name": "stderr",
     "output_type": "stream",
     "text": [
      "\r",
      "Epoch 16 | Step 864 | CER 0.7103 | WER 1.4090:  54%|█████▍    | 872/1620 [16:05<16:42,  1.34s/it]"
     ]
    },
    {
     "name": "stderr",
     "output_type": "stream",
     "text": [
      "\r",
      "Epoch 16 | Step 864 | CER 0.7103 | WER 1.4090:  54%|█████▍    | 873/1620 [16:06<14:15,  1.14s/it]"
     ]
    },
    {
     "name": "stderr",
     "output_type": "stream",
     "text": [
      "\r",
      "Epoch 16 | Step 864 | CER 0.7103 | WER 1.4090:  54%|█████▍    | 874/1620 [16:07<14:06,  1.13s/it]"
     ]
    },
    {
     "name": "stderr",
     "output_type": "stream",
     "text": [
      "\r",
      "Epoch 16 | Step 864 | CER 0.7103 | WER 1.4090:  54%|█████▍    | 875/1620 [16:08<12:33,  1.01s/it]"
     ]
    },
    {
     "name": "stderr",
     "output_type": "stream",
     "text": [
      "\r",
      "Epoch 16 | Step 864 | CER 0.7103 | WER 1.4090:  54%|█████▍    | 876/1620 [16:09<11:56,  1.04it/s]"
     ]
    },
    {
     "name": "stderr",
     "output_type": "stream",
     "text": [
      "\r",
      "Epoch 16 | Step 864 | CER 0.7103 | WER 1.4090:  54%|█████▍    | 877/1620 [16:09<11:17,  1.10it/s]"
     ]
    },
    {
     "name": "stderr",
     "output_type": "stream",
     "text": [
      "\r",
      "Epoch 16 | Step 864 | CER 0.7103 | WER 1.4090:  54%|█████▍    | 878/1620 [16:10<11:25,  1.08it/s]"
     ]
    },
    {
     "name": "stderr",
     "output_type": "stream",
     "text": [
      "\r",
      "Epoch 16 | Step 864 | CER 0.7103 | WER 1.4090:  54%|█████▍    | 879/1620 [16:11<11:15,  1.10it/s]"
     ]
    },
    {
     "name": "stderr",
     "output_type": "stream",
     "text": [
      "\r",
      "Epoch 16 | Step 864 | CER 0.7103 | WER 1.4090:  54%|█████▍    | 880/1620 [16:12<10:47,  1.14it/s]"
     ]
    },
    {
     "name": "stderr",
     "output_type": "stream",
     "text": [
      "\r",
      "Epoch 16 | Step 864 | CER 0.7103 | WER 1.4090:  54%|█████▍    | 881/1620 [16:13<10:34,  1.16it/s]"
     ]
    },
    {
     "name": "stderr",
     "output_type": "stream",
     "text": [
      "\r",
      "Epoch 16 | Step 864 | CER 0.7103 | WER 1.4090:  54%|█████▍    | 882/1620 [16:14<10:12,  1.20it/s]"
     ]
    },
    {
     "name": "stderr",
     "output_type": "stream",
     "text": [
      "\r",
      "Epoch 16 | Step 864 | CER 0.7103 | WER 1.4090:  55%|█████▍    | 883/1620 [16:15<10:47,  1.14it/s]"
     ]
    },
    {
     "name": "stderr",
     "output_type": "stream",
     "text": [
      "\r",
      "Epoch 16 | Step 864 | CER 0.7103 | WER 1.4090:  55%|█████▍    | 884/1620 [16:15<10:21,  1.18it/s]"
     ]
    },
    {
     "name": "stderr",
     "output_type": "stream",
     "text": [
      "\r",
      "Epoch 16 | Step 864 | CER 0.7103 | WER 1.4090:  55%|█████▍    | 885/1620 [16:17<11:22,  1.08it/s]"
     ]
    },
    {
     "name": "stderr",
     "output_type": "stream",
     "text": [
      "\r",
      "Epoch 16 | Step 864 | CER 0.7103 | WER 1.4090:  55%|█████▍    | 886/1620 [16:17<10:46,  1.14it/s]"
     ]
    },
    {
     "name": "stderr",
     "output_type": "stream",
     "text": [
      "\r",
      "Epoch 16 | Step 864 | CER 0.7103 | WER 1.4090:  55%|█████▍    | 887/1620 [16:19<11:53,  1.03it/s]"
     ]
    },
    {
     "name": "stderr",
     "output_type": "stream",
     "text": [
      "\r",
      "Epoch 16 | Step 864 | CER 0.7103 | WER 1.4090:  55%|█████▍    | 888/1620 [16:19<10:40,  1.14it/s]"
     ]
    },
    {
     "name": "stderr",
     "output_type": "stream",
     "text": [
      "\r",
      "Epoch 16 | Step 864 | CER 0.7103 | WER 1.4090:  55%|█████▍    | 889/1620 [16:20<10:02,  1.21it/s]"
     ]
    },
    {
     "name": "stderr",
     "output_type": "stream",
     "text": [
      "\r",
      "Epoch 16 | Step 864 | CER 0.7103 | WER 1.4090:  55%|█████▍    | 890/1620 [16:21<10:01,  1.21it/s]"
     ]
    },
    {
     "name": "stderr",
     "output_type": "stream",
     "text": [
      "\r",
      "Epoch 16 | Step 864 | CER 0.7103 | WER 1.4090:  55%|█████▌    | 891/1620 [16:22<09:58,  1.22it/s]"
     ]
    },
    {
     "name": "stderr",
     "output_type": "stream",
     "text": [
      "\r",
      "Epoch 16 | Step 864 | CER 0.7103 | WER 1.4090:  55%|█████▌    | 892/1620 [16:23<10:37,  1.14it/s]"
     ]
    },
    {
     "name": "stderr",
     "output_type": "stream",
     "text": [
      "\r",
      "Epoch 16 | Step 864 | CER 0.7103 | WER 1.4090:  55%|█████▌    | 893/1620 [16:23<10:26,  1.16it/s]"
     ]
    },
    {
     "name": "stderr",
     "output_type": "stream",
     "text": [
      "\r",
      "Epoch 16 | Step 864 | CER 0.7103 | WER 1.4090:  55%|█████▌    | 894/1620 [16:25<11:31,  1.05it/s]"
     ]
    },
    {
     "name": "stderr",
     "output_type": "stream",
     "text": [
      "\r",
      "Epoch 16 | Step 864 | CER 0.7103 | WER 1.4090:  55%|█████▌    | 895/1620 [16:25<10:41,  1.13it/s]"
     ]
    },
    {
     "name": "stderr",
     "output_type": "stream",
     "text": [
      "\r",
      "Epoch 16 | Step 864 | CER 0.7103 | WER 1.4090:  55%|█████▌    | 896/1620 [16:26<10:38,  1.13it/s]"
     ]
    },
    {
     "name": "stderr",
     "output_type": "stream",
     "text": [
      "\r",
      "Epoch 16 | Step 864 | CER 0.7103 | WER 1.4090:  55%|█████▌    | 897/1620 [16:27<10:18,  1.17it/s]"
     ]
    },
    {
     "name": "stderr",
     "output_type": "stream",
     "text": [
      "\r",
      "Epoch 16 | Step 864 | CER 0.7103 | WER 1.4090:  55%|█████▌    | 898/1620 [16:28<10:31,  1.14it/s]"
     ]
    },
    {
     "name": "stderr",
     "output_type": "stream",
     "text": [
      "\r",
      "Epoch 16 | Step 864 | CER 0.7103 | WER 1.4090:  55%|█████▌    | 899/1620 [16:29<11:20,  1.06it/s]"
     ]
    },
    {
     "name": "stderr",
     "output_type": "stream",
     "text": [
      "\r",
      "Epoch 16 | Step 864 | CER 0.7103 | WER 1.4090:  56%|█████▌    | 900/1620 [16:30<12:01,  1.00s/it]"
     ]
    },
    {
     "name": "stderr",
     "output_type": "stream",
     "text": [
      "\r",
      "Epoch 16 | Step 864 | CER 0.7103 | WER 1.4090:  56%|█████▌    | 901/1620 [16:31<10:57,  1.09it/s]"
     ]
    },
    {
     "name": "stderr",
     "output_type": "stream",
     "text": [
      "\r",
      "Epoch 16 | Step 864 | CER 0.7103 | WER 1.4090:  56%|█████▌    | 902/1620 [16:31<10:13,  1.17it/s]"
     ]
    },
    {
     "name": "stderr",
     "output_type": "stream",
     "text": [
      "\r",
      "Epoch 16 | Step 864 | CER 0.7103 | WER 1.4090:  56%|█████▌    | 903/1620 [16:32<10:06,  1.18it/s]"
     ]
    },
    {
     "name": "stderr",
     "output_type": "stream",
     "text": [
      "\r",
      "Epoch 16 | Step 864 | CER 0.7103 | WER 1.4090:  56%|█████▌    | 904/1620 [16:33<10:01,  1.19it/s]"
     ]
    },
    {
     "name": "stderr",
     "output_type": "stream",
     "text": [
      "\r",
      "Epoch 16 | Step 864 | CER 0.7103 | WER 1.4090:  56%|█████▌    | 905/1620 [16:34<10:18,  1.16it/s]"
     ]
    },
    {
     "name": "stderr",
     "output_type": "stream",
     "text": [
      "\r",
      "Epoch 16 | Step 864 | CER 0.7103 | WER 1.4090:  56%|█████▌    | 906/1620 [16:35<10:01,  1.19it/s]"
     ]
    },
    {
     "name": "stderr",
     "output_type": "stream",
     "text": [
      "\r",
      "Epoch 16 | Step 864 | CER 0.7103 | WER 1.4090:  56%|█████▌    | 907/1620 [16:36<09:23,  1.27it/s]"
     ]
    },
    {
     "name": "stderr",
     "output_type": "stream",
     "text": [
      "\r",
      "Epoch 16 | Step 864 | CER 0.7103 | WER 1.4090:  56%|█████▌    | 908/1620 [16:36<08:54,  1.33it/s]"
     ]
    },
    {
     "name": "stderr",
     "output_type": "stream",
     "text": [
      "\r",
      "Epoch 16 | Step 864 | CER 0.7103 | WER 1.4090:  56%|█████▌    | 909/1620 [16:37<09:33,  1.24it/s]"
     ]
    },
    {
     "name": "stderr",
     "output_type": "stream",
     "text": [
      "\r",
      "Epoch 16 | Step 864 | CER 0.7103 | WER 1.4090:  56%|█████▌    | 910/1620 [16:38<09:21,  1.26it/s]"
     ]
    },
    {
     "name": "stderr",
     "output_type": "stream",
     "text": [
      "\r",
      "Epoch 16 | Step 864 | CER 0.7103 | WER 1.4090:  56%|█████▌    | 911/1620 [16:39<10:20,  1.14it/s]"
     ]
    },
    {
     "name": "stderr",
     "output_type": "stream",
     "text": [
      "\r",
      "Epoch 16 | Step 864 | CER 0.7103 | WER 1.4090:  56%|█████▋    | 912/1620 [16:40<10:09,  1.16it/s]"
     ]
    },
    {
     "name": "stderr",
     "output_type": "stream",
     "text": [
      "\r",
      "Epoch 16 | Step 864 | CER 0.7103 | WER 1.4090:  56%|█████▋    | 913/1620 [16:41<10:05,  1.17it/s]"
     ]
    },
    {
     "name": "stderr",
     "output_type": "stream",
     "text": [
      "\r",
      "Epoch 16 | Step 864 | CER 0.7103 | WER 1.4090:  56%|█████▋    | 914/1620 [16:42<10:33,  1.11it/s]"
     ]
    },
    {
     "name": "stderr",
     "output_type": "stream",
     "text": [
      "\r",
      "Epoch 16 | Step 864 | CER 0.7103 | WER 1.4090:  56%|█████▋    | 915/1620 [16:42<10:17,  1.14it/s]"
     ]
    },
    {
     "name": "stderr",
     "output_type": "stream",
     "text": [
      "\r",
      "Epoch 16 | Step 864 | CER 0.7103 | WER 1.4090:  57%|█████▋    | 916/1620 [16:43<09:56,  1.18it/s]"
     ]
    },
    {
     "name": "stderr",
     "output_type": "stream",
     "text": [
      "\r",
      "Epoch 16 | Step 864 | CER 0.7103 | WER 1.4090:  57%|█████▋    | 917/1620 [16:44<09:10,  1.28it/s]"
     ]
    },
    {
     "name": "stderr",
     "output_type": "stream",
     "text": [
      "\r",
      "Epoch 16 | Step 864 | CER 0.7103 | WER 1.4090:  57%|█████▋    | 918/1620 [16:44<07:27,  1.57it/s]"
     ]
    },
    {
     "name": "stderr",
     "output_type": "stream",
     "text": [
      "\r",
      "Epoch 17 | Step 918 | CER 0.7754 | WER 1.4464:  57%|█████▋    | 918/1620 [16:50<07:27,  1.57it/s]"
     ]
    },
    {
     "name": "stderr",
     "output_type": "stream",
     "text": [
      "\r",
      "Epoch 17 | Step 918 | CER 0.7754 | WER 1.4464:  57%|█████▋    | 919/1620 [16:58<53:00,  4.54s/it]"
     ]
    },
    {
     "name": "stderr",
     "output_type": "stream",
     "text": [
      "\r",
      "Epoch 17 | Step 918 | CER 0.7754 | WER 1.4464:  57%|█████▋    | 920/1620 [16:59<41:11,  3.53s/it]"
     ]
    },
    {
     "name": "stderr",
     "output_type": "stream",
     "text": [
      "\r",
      "Epoch 17 | Step 918 | CER 0.7754 | WER 1.4464:  57%|█████▋    | 921/1620 [17:00<31:37,  2.71s/it]"
     ]
    },
    {
     "name": "stderr",
     "output_type": "stream",
     "text": [
      "\r",
      "Epoch 17 | Step 918 | CER 0.7754 | WER 1.4464:  57%|█████▋    | 922/1620 [17:01<24:48,  2.13s/it]"
     ]
    },
    {
     "name": "stderr",
     "output_type": "stream",
     "text": [
      "\r",
      "Epoch 17 | Step 918 | CER 0.7754 | WER 1.4464:  57%|█████▋    | 923/1620 [17:01<20:15,  1.74s/it]"
     ]
    },
    {
     "name": "stderr",
     "output_type": "stream",
     "text": [
      "\r",
      "Epoch 17 | Step 918 | CER 0.7754 | WER 1.4464:  57%|█████▋    | 924/1620 [17:02<16:57,  1.46s/it]"
     ]
    },
    {
     "name": "stderr",
     "output_type": "stream",
     "text": [
      "\r",
      "Epoch 17 | Step 918 | CER 0.7754 | WER 1.4464:  57%|█████▋    | 925/1620 [17:03<15:41,  1.35s/it]"
     ]
    },
    {
     "name": "stderr",
     "output_type": "stream",
     "text": [
      "\r",
      "Epoch 17 | Step 918 | CER 0.7754 | WER 1.4464:  57%|█████▋    | 926/1620 [17:04<13:50,  1.20s/it]"
     ]
    },
    {
     "name": "stderr",
     "output_type": "stream",
     "text": [
      "\r",
      "Epoch 17 | Step 918 | CER 0.7754 | WER 1.4464:  57%|█████▋    | 927/1620 [17:05<12:38,  1.09s/it]"
     ]
    },
    {
     "name": "stderr",
     "output_type": "stream",
     "text": [
      "\r",
      "Epoch 17 | Step 918 | CER 0.7754 | WER 1.4464:  57%|█████▋    | 928/1620 [17:06<11:17,  1.02it/s]"
     ]
    },
    {
     "name": "stderr",
     "output_type": "stream",
     "text": [
      "\r",
      "Epoch 17 | Step 918 | CER 0.7754 | WER 1.4464:  57%|█████▋    | 929/1620 [17:07<10:54,  1.06it/s]"
     ]
    },
    {
     "name": "stderr",
     "output_type": "stream",
     "text": [
      "\r",
      "Epoch 17 | Step 918 | CER 0.7754 | WER 1.4464:  57%|█████▋    | 930/1620 [17:07<10:41,  1.08it/s]"
     ]
    },
    {
     "name": "stderr",
     "output_type": "stream",
     "text": [
      "\r",
      "Epoch 17 | Step 918 | CER 0.7754 | WER 1.4464:  57%|█████▋    | 931/1620 [17:08<09:56,  1.15it/s]"
     ]
    },
    {
     "name": "stderr",
     "output_type": "stream",
     "text": [
      "\r",
      "Epoch 17 | Step 918 | CER 0.7754 | WER 1.4464:  58%|█████▊    | 932/1620 [17:09<09:50,  1.16it/s]"
     ]
    },
    {
     "name": "stderr",
     "output_type": "stream",
     "text": [
      "\r",
      "Epoch 17 | Step 918 | CER 0.7754 | WER 1.4464:  58%|█████▊    | 933/1620 [17:10<09:52,  1.16it/s]"
     ]
    },
    {
     "name": "stderr",
     "output_type": "stream",
     "text": [
      "\r",
      "Epoch 17 | Step 918 | CER 0.7754 | WER 1.4464:  58%|█████▊    | 934/1620 [17:11<09:36,  1.19it/s]"
     ]
    },
    {
     "name": "stderr",
     "output_type": "stream",
     "text": [
      "\r",
      "Epoch 17 | Step 918 | CER 0.7754 | WER 1.4464:  58%|█████▊    | 935/1620 [17:11<09:27,  1.21it/s]"
     ]
    },
    {
     "name": "stderr",
     "output_type": "stream",
     "text": [
      "\r",
      "Epoch 17 | Step 918 | CER 0.7754 | WER 1.4464:  58%|█████▊    | 936/1620 [17:12<09:37,  1.18it/s]"
     ]
    },
    {
     "name": "stderr",
     "output_type": "stream",
     "text": [
      "\r",
      "Epoch 17 | Step 918 | CER 0.7754 | WER 1.4464:  58%|█████▊    | 937/1620 [17:13<09:37,  1.18it/s]"
     ]
    },
    {
     "name": "stderr",
     "output_type": "stream",
     "text": [
      "\r",
      "Epoch 17 | Step 918 | CER 0.7754 | WER 1.4464:  58%|█████▊    | 938/1620 [17:14<09:21,  1.21it/s]"
     ]
    },
    {
     "name": "stderr",
     "output_type": "stream",
     "text": [
      "\r",
      "Epoch 17 | Step 918 | CER 0.7754 | WER 1.4464:  58%|█████▊    | 939/1620 [17:15<08:53,  1.28it/s]"
     ]
    },
    {
     "name": "stderr",
     "output_type": "stream",
     "text": [
      "\r",
      "Epoch 17 | Step 918 | CER 0.7754 | WER 1.4464:  58%|█████▊    | 940/1620 [17:16<10:16,  1.10it/s]"
     ]
    },
    {
     "name": "stderr",
     "output_type": "stream",
     "text": [
      "\r",
      "Epoch 17 | Step 918 | CER 0.7754 | WER 1.4464:  58%|█████▊    | 941/1620 [17:17<09:34,  1.18it/s]"
     ]
    },
    {
     "name": "stderr",
     "output_type": "stream",
     "text": [
      "\r",
      "Epoch 17 | Step 918 | CER 0.7754 | WER 1.4464:  58%|█████▊    | 942/1620 [17:18<10:23,  1.09it/s]"
     ]
    },
    {
     "name": "stderr",
     "output_type": "stream",
     "text": [
      "\r",
      "Epoch 17 | Step 918 | CER 0.7754 | WER 1.4464:  58%|█████▊    | 943/1620 [17:18<09:58,  1.13it/s]"
     ]
    },
    {
     "name": "stderr",
     "output_type": "stream",
     "text": [
      "\r",
      "Epoch 17 | Step 918 | CER 0.7754 | WER 1.4464:  58%|█████▊    | 944/1620 [17:19<09:16,  1.21it/s]"
     ]
    },
    {
     "name": "stderr",
     "output_type": "stream",
     "text": [
      "\r",
      "Epoch 17 | Step 918 | CER 0.7754 | WER 1.4464:  58%|█████▊    | 945/1620 [17:20<09:14,  1.22it/s]"
     ]
    },
    {
     "name": "stderr",
     "output_type": "stream",
     "text": [
      "\r",
      "Epoch 17 | Step 918 | CER 0.7754 | WER 1.4464:  58%|█████▊    | 946/1620 [17:21<09:00,  1.25it/s]"
     ]
    },
    {
     "name": "stderr",
     "output_type": "stream",
     "text": [
      "\r",
      "Epoch 17 | Step 918 | CER 0.7754 | WER 1.4464:  58%|█████▊    | 947/1620 [17:22<11:10,  1.00it/s]"
     ]
    },
    {
     "name": "stderr",
     "output_type": "stream",
     "text": [
      "\r",
      "Epoch 17 | Step 918 | CER 0.7754 | WER 1.4464:  59%|█████▊    | 948/1620 [17:23<11:25,  1.02s/it]"
     ]
    },
    {
     "name": "stderr",
     "output_type": "stream",
     "text": [
      "\r",
      "Epoch 17 | Step 918 | CER 0.7754 | WER 1.4464:  59%|█████▊    | 949/1620 [17:24<11:29,  1.03s/it]"
     ]
    },
    {
     "name": "stderr",
     "output_type": "stream",
     "text": [
      "\r",
      "Epoch 17 | Step 918 | CER 0.7754 | WER 1.4464:  59%|█████▊    | 950/1620 [17:25<10:46,  1.04it/s]"
     ]
    },
    {
     "name": "stderr",
     "output_type": "stream",
     "text": [
      "\r",
      "Epoch 17 | Step 918 | CER 0.7754 | WER 1.4464:  59%|█████▊    | 951/1620 [17:26<09:59,  1.12it/s]"
     ]
    },
    {
     "name": "stderr",
     "output_type": "stream",
     "text": [
      "\r",
      "Epoch 17 | Step 918 | CER 0.7754 | WER 1.4464:  59%|█████▉    | 952/1620 [17:27<10:45,  1.03it/s]"
     ]
    },
    {
     "name": "stderr",
     "output_type": "stream",
     "text": [
      "\r",
      "Epoch 17 | Step 918 | CER 0.7754 | WER 1.4464:  59%|█████▉    | 953/1620 [17:28<10:28,  1.06it/s]"
     ]
    },
    {
     "name": "stderr",
     "output_type": "stream",
     "text": [
      "\r",
      "Epoch 17 | Step 918 | CER 0.7754 | WER 1.4464:  59%|█████▉    | 954/1620 [17:29<10:11,  1.09it/s]"
     ]
    },
    {
     "name": "stderr",
     "output_type": "stream",
     "text": [
      "\r",
      "Epoch 17 | Step 918 | CER 0.7754 | WER 1.4464:  59%|█████▉    | 955/1620 [17:30<09:44,  1.14it/s]"
     ]
    },
    {
     "name": "stderr",
     "output_type": "stream",
     "text": [
      "\r",
      "Epoch 17 | Step 918 | CER 0.7754 | WER 1.4464:  59%|█████▉    | 956/1620 [17:30<09:03,  1.22it/s]"
     ]
    },
    {
     "name": "stderr",
     "output_type": "stream",
     "text": [
      "\r",
      "Epoch 17 | Step 918 | CER 0.7754 | WER 1.4464:  59%|█████▉    | 957/1620 [17:31<09:12,  1.20it/s]"
     ]
    },
    {
     "name": "stderr",
     "output_type": "stream",
     "text": [
      "\r",
      "Epoch 17 | Step 918 | CER 0.7754 | WER 1.4464:  59%|█████▉    | 958/1620 [17:32<09:06,  1.21it/s]"
     ]
    },
    {
     "name": "stderr",
     "output_type": "stream",
     "text": [
      "\r",
      "Epoch 17 | Step 918 | CER 0.7754 | WER 1.4464:  59%|█████▉    | 959/1620 [17:33<09:48,  1.12it/s]"
     ]
    },
    {
     "name": "stderr",
     "output_type": "stream",
     "text": [
      "\r",
      "Epoch 17 | Step 918 | CER 0.7754 | WER 1.4464:  59%|█████▉    | 960/1620 [17:34<08:57,  1.23it/s]"
     ]
    },
    {
     "name": "stderr",
     "output_type": "stream",
     "text": [
      "\r",
      "Epoch 17 | Step 918 | CER 0.7754 | WER 1.4464:  59%|█████▉    | 961/1620 [17:35<09:45,  1.13it/s]"
     ]
    },
    {
     "name": "stderr",
     "output_type": "stream",
     "text": [
      "\r",
      "Epoch 17 | Step 918 | CER 0.7754 | WER 1.4464:  59%|█████▉    | 962/1620 [17:35<09:06,  1.20it/s]"
     ]
    },
    {
     "name": "stderr",
     "output_type": "stream",
     "text": [
      "\r",
      "Epoch 17 | Step 918 | CER 0.7754 | WER 1.4464:  59%|█████▉    | 963/1620 [17:36<09:23,  1.16it/s]"
     ]
    },
    {
     "name": "stderr",
     "output_type": "stream",
     "text": [
      "\r",
      "Epoch 17 | Step 918 | CER 0.7754 | WER 1.4464:  60%|█████▉    | 964/1620 [17:37<09:16,  1.18it/s]"
     ]
    },
    {
     "name": "stderr",
     "output_type": "stream",
     "text": [
      "\r",
      "Epoch 17 | Step 918 | CER 0.7754 | WER 1.4464:  60%|█████▉    | 965/1620 [17:38<08:37,  1.26it/s]"
     ]
    },
    {
     "name": "stderr",
     "output_type": "stream",
     "text": [
      "\r",
      "Epoch 17 | Step 918 | CER 0.7754 | WER 1.4464:  60%|█████▉    | 966/1620 [17:39<09:11,  1.18it/s]"
     ]
    },
    {
     "name": "stderr",
     "output_type": "stream",
     "text": [
      "\r",
      "Epoch 17 | Step 918 | CER 0.7754 | WER 1.4464:  60%|█████▉    | 967/1620 [17:40<09:15,  1.17it/s]"
     ]
    },
    {
     "name": "stderr",
     "output_type": "stream",
     "text": [
      "\r",
      "Epoch 17 | Step 918 | CER 0.7754 | WER 1.4464:  60%|█████▉    | 968/1620 [17:40<08:48,  1.23it/s]"
     ]
    },
    {
     "name": "stderr",
     "output_type": "stream",
     "text": [
      "\r",
      "Epoch 17 | Step 918 | CER 0.7754 | WER 1.4464:  60%|█████▉    | 969/1620 [17:41<08:45,  1.24it/s]"
     ]
    },
    {
     "name": "stderr",
     "output_type": "stream",
     "text": [
      "\r",
      "Epoch 17 | Step 918 | CER 0.7754 | WER 1.4464:  60%|█████▉    | 970/1620 [17:42<08:41,  1.25it/s]"
     ]
    },
    {
     "name": "stderr",
     "output_type": "stream",
     "text": [
      "\r",
      "Epoch 17 | Step 918 | CER 0.7754 | WER 1.4464:  60%|█████▉    | 971/1620 [17:43<08:50,  1.22it/s]"
     ]
    },
    {
     "name": "stderr",
     "output_type": "stream",
     "text": [
      "\r",
      "Epoch 17 | Step 918 | CER 0.7754 | WER 1.4464:  60%|██████    | 972/1620 [17:43<07:09,  1.51it/s]"
     ]
    },
    {
     "name": "stderr",
     "output_type": "stream",
     "text": [
      "\r",
      "Epoch 18 | Step 972 | CER 0.5697 | WER 1.1097:  60%|██████    | 972/1620 [17:49<07:09,  1.51it/s]"
     ]
    },
    {
     "name": "stderr",
     "output_type": "stream",
     "text": [
      "\r",
      "Epoch 18 | Step 972 | CER 0.5697 | WER 1.1097:  60%|██████    | 973/1620 [17:57<50:32,  4.69s/it]"
     ]
    },
    {
     "name": "stderr",
     "output_type": "stream",
     "text": [
      "\r",
      "Epoch 18 | Step 972 | CER 0.5697 | WER 1.1097:  60%|██████    | 974/1620 [17:58<37:36,  3.49s/it]"
     ]
    },
    {
     "name": "stderr",
     "output_type": "stream",
     "text": [
      "\r",
      "Epoch 18 | Step 972 | CER 0.5697 | WER 1.1097:  60%|██████    | 975/1620 [17:59<29:06,  2.71s/it]"
     ]
    },
    {
     "name": "stderr",
     "output_type": "stream",
     "text": [
      "\r",
      "Epoch 18 | Step 972 | CER 0.5697 | WER 1.1097:  60%|██████    | 976/1620 [18:00<23:22,  2.18s/it]"
     ]
    },
    {
     "name": "stderr",
     "output_type": "stream",
     "text": [
      "\r",
      "Epoch 18 | Step 972 | CER 0.5697 | WER 1.1097:  60%|██████    | 977/1620 [18:01<19:24,  1.81s/it]"
     ]
    },
    {
     "name": "stderr",
     "output_type": "stream",
     "text": [
      "\r",
      "Epoch 18 | Step 972 | CER 0.5697 | WER 1.1097:  60%|██████    | 978/1620 [18:01<16:15,  1.52s/it]"
     ]
    },
    {
     "name": "stderr",
     "output_type": "stream",
     "text": [
      "\r",
      "Epoch 18 | Step 972 | CER 0.5697 | WER 1.1097:  60%|██████    | 979/1620 [18:02<13:26,  1.26s/it]"
     ]
    },
    {
     "name": "stderr",
     "output_type": "stream",
     "text": [
      "\r",
      "Epoch 18 | Step 972 | CER 0.5697 | WER 1.1097:  60%|██████    | 980/1620 [18:03<11:46,  1.10s/it]"
     ]
    },
    {
     "name": "stderr",
     "output_type": "stream",
     "text": [
      "\r",
      "Epoch 18 | Step 972 | CER 0.5697 | WER 1.1097:  61%|██████    | 981/1620 [18:03<10:18,  1.03it/s]"
     ]
    },
    {
     "name": "stderr",
     "output_type": "stream",
     "text": [
      "\r",
      "Epoch 18 | Step 972 | CER 0.5697 | WER 1.1097:  61%|██████    | 982/1620 [18:04<10:28,  1.02it/s]"
     ]
    },
    {
     "name": "stderr",
     "output_type": "stream",
     "text": [
      "\r",
      "Epoch 18 | Step 972 | CER 0.5697 | WER 1.1097:  61%|██████    | 983/1620 [18:05<10:23,  1.02it/s]"
     ]
    },
    {
     "name": "stderr",
     "output_type": "stream",
     "text": [
      "\r",
      "Epoch 18 | Step 972 | CER 0.5697 | WER 1.1097:  61%|██████    | 984/1620 [18:06<09:31,  1.11it/s]"
     ]
    },
    {
     "name": "stderr",
     "output_type": "stream",
     "text": [
      "\r",
      "Epoch 18 | Step 972 | CER 0.5697 | WER 1.1097:  61%|██████    | 985/1620 [18:07<09:31,  1.11it/s]"
     ]
    },
    {
     "name": "stderr",
     "output_type": "stream",
     "text": [
      "\r",
      "Epoch 18 | Step 972 | CER 0.5697 | WER 1.1097:  61%|██████    | 986/1620 [18:08<09:24,  1.12it/s]"
     ]
    },
    {
     "name": "stderr",
     "output_type": "stream",
     "text": [
      "\r",
      "Epoch 18 | Step 972 | CER 0.5697 | WER 1.1097:  61%|██████    | 987/1620 [18:09<08:51,  1.19it/s]"
     ]
    },
    {
     "name": "stderr",
     "output_type": "stream",
     "text": [
      "\r",
      "Epoch 18 | Step 972 | CER 0.5697 | WER 1.1097:  61%|██████    | 988/1620 [18:09<08:22,  1.26it/s]"
     ]
    },
    {
     "name": "stderr",
     "output_type": "stream",
     "text": [
      "\r",
      "Epoch 18 | Step 972 | CER 0.5697 | WER 1.1097:  61%|██████    | 989/1620 [18:11<09:41,  1.09it/s]"
     ]
    },
    {
     "name": "stderr",
     "output_type": "stream",
     "text": [
      "\r",
      "Epoch 18 | Step 972 | CER 0.5697 | WER 1.1097:  61%|██████    | 990/1620 [18:11<09:42,  1.08it/s]"
     ]
    },
    {
     "name": "stderr",
     "output_type": "stream",
     "text": [
      "\r",
      "Epoch 18 | Step 972 | CER 0.5697 | WER 1.1097:  61%|██████    | 991/1620 [18:12<09:06,  1.15it/s]"
     ]
    },
    {
     "name": "stderr",
     "output_type": "stream",
     "text": [
      "\r",
      "Epoch 18 | Step 972 | CER 0.5697 | WER 1.1097:  61%|██████    | 992/1620 [18:13<09:07,  1.15it/s]"
     ]
    },
    {
     "name": "stderr",
     "output_type": "stream",
     "text": [
      "\r",
      "Epoch 18 | Step 972 | CER 0.5697 | WER 1.1097:  61%|██████▏   | 993/1620 [18:14<08:47,  1.19it/s]"
     ]
    },
    {
     "name": "stderr",
     "output_type": "stream",
     "text": [
      "\r",
      "Epoch 18 | Step 972 | CER 0.5697 | WER 1.1097:  61%|██████▏   | 994/1620 [18:15<10:01,  1.04it/s]"
     ]
    },
    {
     "name": "stderr",
     "output_type": "stream",
     "text": [
      "\r",
      "Epoch 18 | Step 972 | CER 0.5697 | WER 1.1097:  61%|██████▏   | 995/1620 [18:16<09:40,  1.08it/s]"
     ]
    },
    {
     "name": "stderr",
     "output_type": "stream",
     "text": [
      "\r",
      "Epoch 18 | Step 972 | CER 0.5697 | WER 1.1097:  61%|██████▏   | 996/1620 [18:17<09:51,  1.05it/s]"
     ]
    },
    {
     "name": "stderr",
     "output_type": "stream",
     "text": [
      "\r",
      "Epoch 18 | Step 972 | CER 0.5697 | WER 1.1097:  62%|██████▏   | 997/1620 [18:18<09:48,  1.06it/s]"
     ]
    },
    {
     "name": "stderr",
     "output_type": "stream",
     "text": [
      "\r",
      "Epoch 18 | Step 972 | CER 0.5697 | WER 1.1097:  62%|██████▏   | 998/1620 [18:19<08:52,  1.17it/s]"
     ]
    },
    {
     "name": "stderr",
     "output_type": "stream",
     "text": [
      "\r",
      "Epoch 18 | Step 972 | CER 0.5697 | WER 1.1097:  62%|██████▏   | 999/1620 [18:19<08:50,  1.17it/s]"
     ]
    },
    {
     "name": "stderr",
     "output_type": "stream",
     "text": [
      "\r",
      "Epoch 18 | Step 972 | CER 0.5697 | WER 1.1097:  62%|██████▏   | 1000/1620 [18:20<09:36,  1.08it/s]"
     ]
    },
    {
     "name": "stderr",
     "output_type": "stream",
     "text": [
      "\r",
      "Epoch 18 | Step 1000 | Loss 0.5266:  62%|██████▏   | 1000/1620 [18:21<09:36,  1.08it/s]           "
     ]
    },
    {
     "name": "stderr",
     "output_type": "stream",
     "text": [
      "\r",
      "Epoch 18 | Step 1000 | Loss 0.5266:  62%|██████▏   | 1001/1620 [18:21<08:52,  1.16it/s]"
     ]
    },
    {
     "name": "stderr",
     "output_type": "stream",
     "text": [
      "\r",
      "Epoch 18 | Step 1000 | Loss 0.5266:  62%|██████▏   | 1002/1620 [18:22<08:23,  1.23it/s]"
     ]
    },
    {
     "name": "stderr",
     "output_type": "stream",
     "text": [
      "\r",
      "Epoch 18 | Step 1000 | Loss 0.5266:  62%|██████▏   | 1003/1620 [18:23<08:31,  1.21it/s]"
     ]
    },
    {
     "name": "stderr",
     "output_type": "stream",
     "text": [
      "\r",
      "Epoch 18 | Step 1000 | Loss 0.5266:  62%|██████▏   | 1004/1620 [18:24<08:59,  1.14it/s]"
     ]
    },
    {
     "name": "stderr",
     "output_type": "stream",
     "text": [
      "\r",
      "Epoch 18 | Step 1000 | Loss 0.5266:  62%|██████▏   | 1005/1620 [18:24<08:34,  1.20it/s]"
     ]
    },
    {
     "name": "stderr",
     "output_type": "stream",
     "text": [
      "\r",
      "Epoch 18 | Step 1000 | Loss 0.5266:  62%|██████▏   | 1006/1620 [18:25<08:20,  1.23it/s]"
     ]
    },
    {
     "name": "stderr",
     "output_type": "stream",
     "text": [
      "\r",
      "Epoch 18 | Step 1000 | Loss 0.5266:  62%|██████▏   | 1007/1620 [18:26<08:32,  1.20it/s]"
     ]
    },
    {
     "name": "stderr",
     "output_type": "stream",
     "text": [
      "\r",
      "Epoch 18 | Step 1000 | Loss 0.5266:  62%|██████▏   | 1008/1620 [18:27<09:16,  1.10it/s]"
     ]
    },
    {
     "name": "stderr",
     "output_type": "stream",
     "text": [
      "\r",
      "Epoch 18 | Step 1000 | Loss 0.5266:  62%|██████▏   | 1009/1620 [18:28<08:24,  1.21it/s]"
     ]
    },
    {
     "name": "stderr",
     "output_type": "stream",
     "text": [
      "\r",
      "Epoch 18 | Step 1000 | Loss 0.5266:  62%|██████▏   | 1010/1620 [18:29<08:00,  1.27it/s]"
     ]
    },
    {
     "name": "stderr",
     "output_type": "stream",
     "text": [
      "\r",
      "Epoch 18 | Step 1000 | Loss 0.5266:  62%|██████▏   | 1011/1620 [18:29<07:45,  1.31it/s]"
     ]
    },
    {
     "name": "stderr",
     "output_type": "stream",
     "text": [
      "\r",
      "Epoch 18 | Step 1000 | Loss 0.5266:  62%|██████▏   | 1012/1620 [18:30<07:34,  1.34it/s]"
     ]
    },
    {
     "name": "stderr",
     "output_type": "stream",
     "text": [
      "\r",
      "Epoch 18 | Step 1000 | Loss 0.5266:  63%|██████▎   | 1013/1620 [18:31<08:11,  1.23it/s]"
     ]
    },
    {
     "name": "stderr",
     "output_type": "stream",
     "text": [
      "\r",
      "Epoch 18 | Step 1000 | Loss 0.5266:  63%|██████▎   | 1014/1620 [18:32<08:50,  1.14it/s]"
     ]
    },
    {
     "name": "stderr",
     "output_type": "stream",
     "text": [
      "\r",
      "Epoch 18 | Step 1000 | Loss 0.5266:  63%|██████▎   | 1015/1620 [18:33<08:40,  1.16it/s]"
     ]
    },
    {
     "name": "stderr",
     "output_type": "stream",
     "text": [
      "\r",
      "Epoch 18 | Step 1000 | Loss 0.5266:  63%|██████▎   | 1016/1620 [18:34<09:50,  1.02it/s]"
     ]
    },
    {
     "name": "stderr",
     "output_type": "stream",
     "text": [
      "\r",
      "Epoch 18 | Step 1000 | Loss 0.5266:  63%|██████▎   | 1017/1620 [18:35<09:11,  1.09it/s]"
     ]
    },
    {
     "name": "stderr",
     "output_type": "stream",
     "text": [
      "\r",
      "Epoch 18 | Step 1000 | Loss 0.5266:  63%|██████▎   | 1018/1620 [18:36<09:21,  1.07it/s]"
     ]
    },
    {
     "name": "stderr",
     "output_type": "stream",
     "text": [
      "\r",
      "Epoch 18 | Step 1000 | Loss 0.5266:  63%|██████▎   | 1019/1620 [18:37<09:27,  1.06it/s]"
     ]
    },
    {
     "name": "stderr",
     "output_type": "stream",
     "text": [
      "\r",
      "Epoch 18 | Step 1000 | Loss 0.5266:  63%|██████▎   | 1020/1620 [18:37<08:38,  1.16it/s]"
     ]
    },
    {
     "name": "stderr",
     "output_type": "stream",
     "text": [
      "\r",
      "Epoch 18 | Step 1000 | Loss 0.5266:  63%|██████▎   | 1021/1620 [18:38<08:46,  1.14it/s]"
     ]
    },
    {
     "name": "stderr",
     "output_type": "stream",
     "text": [
      "\r",
      "Epoch 18 | Step 1000 | Loss 0.5266:  63%|██████▎   | 1022/1620 [18:39<08:20,  1.19it/s]"
     ]
    },
    {
     "name": "stderr",
     "output_type": "stream",
     "text": [
      "\r",
      "Epoch 18 | Step 1000 | Loss 0.5266:  63%|██████▎   | 1023/1620 [18:40<07:59,  1.25it/s]"
     ]
    },
    {
     "name": "stderr",
     "output_type": "stream",
     "text": [
      "\r",
      "Epoch 18 | Step 1000 | Loss 0.5266:  63%|██████▎   | 1024/1620 [18:41<09:00,  1.10it/s]"
     ]
    },
    {
     "name": "stderr",
     "output_type": "stream",
     "text": [
      "\r",
      "Epoch 18 | Step 1000 | Loss 0.5266:  63%|██████▎   | 1025/1620 [18:42<08:09,  1.22it/s]"
     ]
    },
    {
     "name": "stderr",
     "output_type": "stream",
     "text": [
      "\r",
      "Epoch 18 | Step 1000 | Loss 0.5266:  63%|██████▎   | 1026/1620 [18:42<06:34,  1.50it/s]"
     ]
    },
    {
     "name": "stderr",
     "output_type": "stream",
     "text": [
      "\r",
      "Epoch 19 | Step 1026 | CER 0.5829 | WER 1.1397:  63%|██████▎   | 1026/1620 [18:48<06:34,  1.50it/s]"
     ]
    },
    {
     "name": "stderr",
     "output_type": "stream",
     "text": [
      "\r",
      "Epoch 19 | Step 1026 | CER 0.5829 | WER 1.1397:  63%|██████▎   | 1027/1620 [18:56<45:36,  4.62s/it]"
     ]
    },
    {
     "name": "stderr",
     "output_type": "stream",
     "text": [
      "\r",
      "Epoch 19 | Step 1026 | CER 0.5829 | WER 1.1397:  63%|██████▎   | 1028/1620 [18:57<35:03,  3.55s/it]"
     ]
    },
    {
     "name": "stderr",
     "output_type": "stream",
     "text": [
      "\r",
      "Epoch 19 | Step 1026 | CER 0.5829 | WER 1.1397:  64%|██████▎   | 1029/1620 [18:58<27:28,  2.79s/it]"
     ]
    },
    {
     "name": "stderr",
     "output_type": "stream",
     "text": [
      "\r",
      "Epoch 19 | Step 1026 | CER 0.5829 | WER 1.1397:  64%|██████▎   | 1030/1620 [18:59<21:38,  2.20s/it]"
     ]
    },
    {
     "name": "stderr",
     "output_type": "stream",
     "text": [
      "\r",
      "Epoch 19 | Step 1026 | CER 0.5829 | WER 1.1397:  64%|██████▎   | 1031/1620 [18:59<17:16,  1.76s/it]"
     ]
    },
    {
     "name": "stderr",
     "output_type": "stream",
     "text": [
      "\r",
      "Epoch 19 | Step 1026 | CER 0.5829 | WER 1.1397:  64%|██████▎   | 1032/1620 [19:00<14:34,  1.49s/it]"
     ]
    },
    {
     "name": "stderr",
     "output_type": "stream",
     "text": [
      "\r",
      "Epoch 19 | Step 1026 | CER 0.5829 | WER 1.1397:  64%|██████▍   | 1033/1620 [19:01<12:24,  1.27s/it]"
     ]
    },
    {
     "name": "stderr",
     "output_type": "stream",
     "text": [
      "\r",
      "Epoch 19 | Step 1026 | CER 0.5829 | WER 1.1397:  64%|██████▍   | 1034/1620 [19:02<10:45,  1.10s/it]"
     ]
    },
    {
     "name": "stderr",
     "output_type": "stream",
     "text": [
      "\r",
      "Epoch 19 | Step 1026 | CER 0.5829 | WER 1.1397:  64%|██████▍   | 1035/1620 [19:03<10:19,  1.06s/it]"
     ]
    },
    {
     "name": "stderr",
     "output_type": "stream",
     "text": [
      "\r",
      "Epoch 19 | Step 1026 | CER 0.5829 | WER 1.1397:  64%|██████▍   | 1036/1620 [19:03<09:06,  1.07it/s]"
     ]
    },
    {
     "name": "stderr",
     "output_type": "stream",
     "text": [
      "\r",
      "Epoch 19 | Step 1026 | CER 0.5829 | WER 1.1397:  64%|██████▍   | 1037/1620 [19:04<08:22,  1.16it/s]"
     ]
    },
    {
     "name": "stderr",
     "output_type": "stream",
     "text": [
      "\r",
      "Epoch 19 | Step 1026 | CER 0.5829 | WER 1.1397:  64%|██████▍   | 1038/1620 [19:05<07:53,  1.23it/s]"
     ]
    },
    {
     "name": "stderr",
     "output_type": "stream",
     "text": [
      "\r",
      "Epoch 19 | Step 1026 | CER 0.5829 | WER 1.1397:  64%|██████▍   | 1039/1620 [19:06<08:01,  1.21it/s]"
     ]
    },
    {
     "name": "stderr",
     "output_type": "stream",
     "text": [
      "\r",
      "Epoch 19 | Step 1026 | CER 0.5829 | WER 1.1397:  64%|██████▍   | 1040/1620 [19:06<07:51,  1.23it/s]"
     ]
    },
    {
     "name": "stderr",
     "output_type": "stream",
     "text": [
      "\r",
      "Epoch 19 | Step 1026 | CER 0.5829 | WER 1.1397:  64%|██████▍   | 1041/1620 [19:07<07:53,  1.22it/s]"
     ]
    },
    {
     "name": "stderr",
     "output_type": "stream",
     "text": [
      "\r",
      "Epoch 19 | Step 1026 | CER 0.5829 | WER 1.1397:  64%|██████▍   | 1042/1620 [19:08<07:32,  1.28it/s]"
     ]
    },
    {
     "name": "stderr",
     "output_type": "stream",
     "text": [
      "\r",
      "Epoch 19 | Step 1026 | CER 0.5829 | WER 1.1397:  64%|██████▍   | 1043/1620 [19:09<07:30,  1.28it/s]"
     ]
    },
    {
     "name": "stderr",
     "output_type": "stream",
     "text": [
      "\r",
      "Epoch 19 | Step 1026 | CER 0.5829 | WER 1.1397:  64%|██████▍   | 1044/1620 [19:09<07:43,  1.24it/s]"
     ]
    },
    {
     "name": "stderr",
     "output_type": "stream",
     "text": [
      "\r",
      "Epoch 19 | Step 1026 | CER 0.5829 | WER 1.1397:  65%|██████▍   | 1045/1620 [19:10<07:36,  1.26it/s]"
     ]
    },
    {
     "name": "stderr",
     "output_type": "stream",
     "text": [
      "\r",
      "Epoch 19 | Step 1026 | CER 0.5829 | WER 1.1397:  65%|██████▍   | 1046/1620 [19:11<07:19,  1.31it/s]"
     ]
    },
    {
     "name": "stderr",
     "output_type": "stream",
     "text": [
      "\r",
      "Epoch 19 | Step 1026 | CER 0.5829 | WER 1.1397:  65%|██████▍   | 1047/1620 [19:12<07:57,  1.20it/s]"
     ]
    },
    {
     "name": "stderr",
     "output_type": "stream",
     "text": [
      "\r",
      "Epoch 19 | Step 1026 | CER 0.5829 | WER 1.1397:  65%|██████▍   | 1048/1620 [19:13<07:45,  1.23it/s]"
     ]
    },
    {
     "name": "stderr",
     "output_type": "stream",
     "text": [
      "\r",
      "Epoch 19 | Step 1026 | CER 0.5829 | WER 1.1397:  65%|██████▍   | 1049/1620 [19:14<07:53,  1.20it/s]"
     ]
    },
    {
     "name": "stderr",
     "output_type": "stream",
     "text": [
      "\r",
      "Epoch 19 | Step 1026 | CER 0.5829 | WER 1.1397:  65%|██████▍   | 1050/1620 [19:14<07:46,  1.22it/s]"
     ]
    },
    {
     "name": "stderr",
     "output_type": "stream",
     "text": [
      "\r",
      "Epoch 19 | Step 1026 | CER 0.5829 | WER 1.1397:  65%|██████▍   | 1051/1620 [19:15<08:03,  1.18it/s]"
     ]
    },
    {
     "name": "stderr",
     "output_type": "stream",
     "text": [
      "\r",
      "Epoch 19 | Step 1026 | CER 0.5829 | WER 1.1397:  65%|██████▍   | 1052/1620 [19:16<07:32,  1.25it/s]"
     ]
    },
    {
     "name": "stderr",
     "output_type": "stream",
     "text": [
      "\r",
      "Epoch 19 | Step 1026 | CER 0.5829 | WER 1.1397:  65%|██████▌   | 1053/1620 [19:17<07:03,  1.34it/s]"
     ]
    },
    {
     "name": "stderr",
     "output_type": "stream",
     "text": [
      "\r",
      "Epoch 19 | Step 1026 | CER 0.5829 | WER 1.1397:  65%|██████▌   | 1054/1620 [19:18<08:10,  1.15it/s]"
     ]
    },
    {
     "name": "stderr",
     "output_type": "stream",
     "text": [
      "\r",
      "Epoch 19 | Step 1026 | CER 0.5829 | WER 1.1397:  65%|██████▌   | 1055/1620 [19:18<07:31,  1.25it/s]"
     ]
    },
    {
     "name": "stderr",
     "output_type": "stream",
     "text": [
      "\r",
      "Epoch 19 | Step 1026 | CER 0.5829 | WER 1.1397:  65%|██████▌   | 1056/1620 [19:19<07:32,  1.25it/s]"
     ]
    },
    {
     "name": "stderr",
     "output_type": "stream",
     "text": [
      "\r",
      "Epoch 19 | Step 1026 | CER 0.5829 | WER 1.1397:  65%|██████▌   | 1057/1620 [19:20<07:19,  1.28it/s]"
     ]
    },
    {
     "name": "stderr",
     "output_type": "stream",
     "text": [
      "\r",
      "Epoch 19 | Step 1026 | CER 0.5829 | WER 1.1397:  65%|██████▌   | 1058/1620 [19:21<07:50,  1.20it/s]"
     ]
    },
    {
     "name": "stderr",
     "output_type": "stream",
     "text": [
      "\r",
      "Epoch 19 | Step 1026 | CER 0.5829 | WER 1.1397:  65%|██████▌   | 1059/1620 [19:22<08:54,  1.05it/s]"
     ]
    },
    {
     "name": "stderr",
     "output_type": "stream",
     "text": [
      "\r",
      "Epoch 19 | Step 1026 | CER 0.5829 | WER 1.1397:  65%|██████▌   | 1060/1620 [19:23<08:27,  1.10it/s]"
     ]
    },
    {
     "name": "stderr",
     "output_type": "stream",
     "text": [
      "\r",
      "Epoch 19 | Step 1026 | CER 0.5829 | WER 1.1397:  65%|██████▌   | 1061/1620 [19:24<08:23,  1.11it/s]"
     ]
    },
    {
     "name": "stderr",
     "output_type": "stream",
     "text": [
      "\r",
      "Epoch 19 | Step 1026 | CER 0.5829 | WER 1.1397:  66%|██████▌   | 1062/1620 [19:25<08:28,  1.10it/s]"
     ]
    },
    {
     "name": "stderr",
     "output_type": "stream",
     "text": [
      "\r",
      "Epoch 19 | Step 1026 | CER 0.5829 | WER 1.1397:  66%|██████▌   | 1063/1620 [19:26<09:24,  1.01s/it]"
     ]
    },
    {
     "name": "stderr",
     "output_type": "stream",
     "text": [
      "\r",
      "Epoch 19 | Step 1026 | CER 0.5829 | WER 1.1397:  66%|██████▌   | 1064/1620 [19:27<09:05,  1.02it/s]"
     ]
    },
    {
     "name": "stderr",
     "output_type": "stream",
     "text": [
      "\r",
      "Epoch 19 | Step 1026 | CER 0.5829 | WER 1.1397:  66%|██████▌   | 1065/1620 [19:28<08:38,  1.07it/s]"
     ]
    },
    {
     "name": "stderr",
     "output_type": "stream",
     "text": [
      "\r",
      "Epoch 19 | Step 1026 | CER 0.5829 | WER 1.1397:  66%|██████▌   | 1066/1620 [19:29<08:23,  1.10it/s]"
     ]
    },
    {
     "name": "stderr",
     "output_type": "stream",
     "text": [
      "\r",
      "Epoch 19 | Step 1026 | CER 0.5829 | WER 1.1397:  66%|██████▌   | 1067/1620 [19:30<08:47,  1.05it/s]"
     ]
    },
    {
     "name": "stderr",
     "output_type": "stream",
     "text": [
      "\r",
      "Epoch 19 | Step 1026 | CER 0.5829 | WER 1.1397:  66%|██████▌   | 1068/1620 [19:30<08:22,  1.10it/s]"
     ]
    },
    {
     "name": "stderr",
     "output_type": "stream",
     "text": [
      "\r",
      "Epoch 19 | Step 1026 | CER 0.5829 | WER 1.1397:  66%|██████▌   | 1069/1620 [19:32<09:06,  1.01it/s]"
     ]
    },
    {
     "name": "stderr",
     "output_type": "stream",
     "text": [
      "\r",
      "Epoch 19 | Step 1026 | CER 0.5829 | WER 1.1397:  66%|██████▌   | 1070/1620 [19:32<08:47,  1.04it/s]"
     ]
    },
    {
     "name": "stderr",
     "output_type": "stream",
     "text": [
      "\r",
      "Epoch 19 | Step 1026 | CER 0.5829 | WER 1.1397:  66%|██████▌   | 1071/1620 [19:33<08:04,  1.13it/s]"
     ]
    },
    {
     "name": "stderr",
     "output_type": "stream",
     "text": [
      "\r",
      "Epoch 19 | Step 1026 | CER 0.5829 | WER 1.1397:  66%|██████▌   | 1072/1620 [19:34<08:04,  1.13it/s]"
     ]
    },
    {
     "name": "stderr",
     "output_type": "stream",
     "text": [
      "\r",
      "Epoch 19 | Step 1026 | CER 0.5829 | WER 1.1397:  66%|██████▌   | 1073/1620 [19:35<07:50,  1.16it/s]"
     ]
    },
    {
     "name": "stderr",
     "output_type": "stream",
     "text": [
      "\r",
      "Epoch 19 | Step 1026 | CER 0.5829 | WER 1.1397:  66%|██████▋   | 1074/1620 [19:36<08:48,  1.03it/s]"
     ]
    },
    {
     "name": "stderr",
     "output_type": "stream",
     "text": [
      "\r",
      "Epoch 19 | Step 1026 | CER 0.5829 | WER 1.1397:  66%|██████▋   | 1075/1620 [19:37<07:57,  1.14it/s]"
     ]
    },
    {
     "name": "stderr",
     "output_type": "stream",
     "text": [
      "\r",
      "Epoch 19 | Step 1026 | CER 0.5829 | WER 1.1397:  66%|██████▋   | 1076/1620 [19:38<08:24,  1.08it/s]"
     ]
    },
    {
     "name": "stderr",
     "output_type": "stream",
     "text": [
      "\r",
      "Epoch 19 | Step 1026 | CER 0.5829 | WER 1.1397:  66%|██████▋   | 1077/1620 [19:39<08:25,  1.07it/s]"
     ]
    },
    {
     "name": "stderr",
     "output_type": "stream",
     "text": [
      "\r",
      "Epoch 19 | Step 1026 | CER 0.5829 | WER 1.1397:  67%|██████▋   | 1078/1620 [19:39<07:55,  1.14it/s]"
     ]
    },
    {
     "name": "stderr",
     "output_type": "stream",
     "text": [
      "\r",
      "Epoch 19 | Step 1026 | CER 0.5829 | WER 1.1397:  67%|██████▋   | 1079/1620 [19:40<07:48,  1.16it/s]"
     ]
    },
    {
     "name": "stderr",
     "output_type": "stream",
     "text": [
      "\r",
      "Epoch 19 | Step 1026 | CER 0.5829 | WER 1.1397:  67%|██████▋   | 1080/1620 [19:41<06:14,  1.44it/s]"
     ]
    },
    {
     "name": "stderr",
     "output_type": "stream",
     "text": [
      "\r",
      "Epoch 20 | Step 1080 | CER 0.7916 | WER 1.6160:  67%|██████▋   | 1080/1620 [19:47<06:14,  1.44it/s]"
     ]
    },
    {
     "name": "stderr",
     "output_type": "stream",
     "text": [
      "\r",
      "Epoch 20 | Step 1080 | CER 0.7916 | WER 1.6160:  67%|██████▋   | 1081/1620 [19:54<41:11,  4.59s/it]"
     ]
    },
    {
     "name": "stderr",
     "output_type": "stream",
     "text": [
      "\r",
      "Epoch 20 | Step 1080 | CER 0.7916 | WER 1.6160:  67%|██████▋   | 1082/1620 [19:55<31:33,  3.52s/it]"
     ]
    },
    {
     "name": "stderr",
     "output_type": "stream",
     "text": [
      "\r",
      "Epoch 20 | Step 1080 | CER 0.7916 | WER 1.6160:  67%|██████▋   | 1083/1620 [19:56<23:52,  2.67s/it]"
     ]
    },
    {
     "name": "stderr",
     "output_type": "stream",
     "text": [
      "\r",
      "Epoch 20 | Step 1080 | CER 0.7916 | WER 1.6160:  67%|██████▋   | 1084/1620 [19:57<18:51,  2.11s/it]"
     ]
    },
    {
     "name": "stderr",
     "output_type": "stream",
     "text": [
      "\r",
      "Epoch 20 | Step 1080 | CER 0.7916 | WER 1.6160:  67%|██████▋   | 1085/1620 [19:58<15:15,  1.71s/it]"
     ]
    },
    {
     "name": "stderr",
     "output_type": "stream",
     "text": [
      "\r",
      "Epoch 20 | Step 1080 | CER 0.7916 | WER 1.6160:  67%|██████▋   | 1086/1620 [19:58<12:24,  1.39s/it]"
     ]
    },
    {
     "name": "stderr",
     "output_type": "stream",
     "text": [
      "\r",
      "Epoch 20 | Step 1080 | CER 0.7916 | WER 1.6160:  67%|██████▋   | 1087/1620 [19:59<10:43,  1.21s/it]"
     ]
    },
    {
     "name": "stderr",
     "output_type": "stream",
     "text": [
      "\r",
      "Epoch 20 | Step 1080 | CER 0.7916 | WER 1.6160:  67%|██████▋   | 1088/1620 [20:00<10:45,  1.21s/it]"
     ]
    },
    {
     "name": "stderr",
     "output_type": "stream",
     "text": [
      "\r",
      "Epoch 20 | Step 1080 | CER 0.7916 | WER 1.6160:  67%|██████▋   | 1089/1620 [20:01<09:27,  1.07s/it]"
     ]
    },
    {
     "name": "stderr",
     "output_type": "stream",
     "text": [
      "\r",
      "Epoch 20 | Step 1080 | CER 0.7916 | WER 1.6160:  67%|██████▋   | 1090/1620 [20:02<08:25,  1.05it/s]"
     ]
    },
    {
     "name": "stderr",
     "output_type": "stream",
     "text": [
      "\r",
      "Epoch 20 | Step 1080 | CER 0.7916 | WER 1.6160:  67%|██████▋   | 1091/1620 [20:02<07:47,  1.13it/s]"
     ]
    },
    {
     "name": "stderr",
     "output_type": "stream",
     "text": [
      "\r",
      "Epoch 20 | Step 1080 | CER 0.7916 | WER 1.6160:  67%|██████▋   | 1092/1620 [20:03<07:39,  1.15it/s]"
     ]
    },
    {
     "name": "stderr",
     "output_type": "stream",
     "text": [
      "\r",
      "Epoch 20 | Step 1080 | CER 0.7916 | WER 1.6160:  67%|██████▋   | 1093/1620 [20:04<07:27,  1.18it/s]"
     ]
    },
    {
     "name": "stderr",
     "output_type": "stream",
     "text": [
      "\r",
      "Epoch 20 | Step 1080 | CER 0.7916 | WER 1.6160:  68%|██████▊   | 1094/1620 [20:05<08:32,  1.03it/s]"
     ]
    },
    {
     "name": "stderr",
     "output_type": "stream",
     "text": [
      "\r",
      "Epoch 20 | Step 1080 | CER 0.7916 | WER 1.6160:  68%|██████▊   | 1095/1620 [20:06<08:46,  1.00s/it]"
     ]
    },
    {
     "name": "stderr",
     "output_type": "stream",
     "text": [
      "\r",
      "Epoch 20 | Step 1080 | CER 0.7916 | WER 1.6160:  68%|██████▊   | 1096/1620 [20:07<08:13,  1.06it/s]"
     ]
    },
    {
     "name": "stderr",
     "output_type": "stream",
     "text": [
      "\r",
      "Epoch 20 | Step 1080 | CER 0.7916 | WER 1.6160:  68%|██████▊   | 1097/1620 [20:08<07:26,  1.17it/s]"
     ]
    },
    {
     "name": "stderr",
     "output_type": "stream",
     "text": [
      "\r",
      "Epoch 20 | Step 1080 | CER 0.7916 | WER 1.6160:  68%|██████▊   | 1098/1620 [20:09<07:40,  1.13it/s]"
     ]
    },
    {
     "name": "stderr",
     "output_type": "stream",
     "text": [
      "\r",
      "Epoch 20 | Step 1080 | CER 0.7916 | WER 1.6160:  68%|██████▊   | 1099/1620 [20:10<07:44,  1.12it/s]"
     ]
    },
    {
     "name": "stderr",
     "output_type": "stream",
     "text": [
      "\r",
      "Epoch 20 | Step 1080 | CER 0.7916 | WER 1.6160:  68%|██████▊   | 1100/1620 [20:10<07:27,  1.16it/s]"
     ]
    },
    {
     "name": "stderr",
     "output_type": "stream",
     "text": [
      "\r",
      "Epoch 20 | Step 1080 | CER 0.7916 | WER 1.6160:  68%|██████▊   | 1101/1620 [20:11<07:28,  1.16it/s]"
     ]
    },
    {
     "name": "stderr",
     "output_type": "stream",
     "text": [
      "\r",
      "Epoch 20 | Step 1080 | CER 0.7916 | WER 1.6160:  68%|██████▊   | 1102/1620 [20:13<08:25,  1.03it/s]"
     ]
    },
    {
     "name": "stderr",
     "output_type": "stream",
     "text": [
      "\r",
      "Epoch 20 | Step 1080 | CER 0.7916 | WER 1.6160:  68%|██████▊   | 1103/1620 [20:14<08:57,  1.04s/it]"
     ]
    },
    {
     "name": "stderr",
     "output_type": "stream",
     "text": [
      "\r",
      "Epoch 20 | Step 1080 | CER 0.7916 | WER 1.6160:  68%|██████▊   | 1104/1620 [20:14<08:06,  1.06it/s]"
     ]
    },
    {
     "name": "stderr",
     "output_type": "stream",
     "text": [
      "\r",
      "Epoch 20 | Step 1080 | CER 0.7916 | WER 1.6160:  68%|██████▊   | 1105/1620 [20:16<08:23,  1.02it/s]"
     ]
    },
    {
     "name": "stderr",
     "output_type": "stream",
     "text": [
      "\r",
      "Epoch 20 | Step 1080 | CER 0.7916 | WER 1.6160:  68%|██████▊   | 1106/1620 [20:17<08:48,  1.03s/it]"
     ]
    },
    {
     "name": "stderr",
     "output_type": "stream",
     "text": [
      "\r",
      "Epoch 20 | Step 1080 | CER 0.7916 | WER 1.6160:  68%|██████▊   | 1107/1620 [20:17<08:07,  1.05it/s]"
     ]
    },
    {
     "name": "stderr",
     "output_type": "stream",
     "text": [
      "\r",
      "Epoch 20 | Step 1080 | CER 0.7916 | WER 1.6160:  68%|██████▊   | 1108/1620 [20:18<07:31,  1.13it/s]"
     ]
    },
    {
     "name": "stderr",
     "output_type": "stream",
     "text": [
      "\r",
      "Epoch 20 | Step 1080 | CER 0.7916 | WER 1.6160:  68%|██████▊   | 1109/1620 [20:19<07:36,  1.12it/s]"
     ]
    },
    {
     "name": "stderr",
     "output_type": "stream",
     "text": [
      "\r",
      "Epoch 20 | Step 1080 | CER 0.7916 | WER 1.6160:  69%|██████▊   | 1110/1620 [20:20<07:51,  1.08it/s]"
     ]
    },
    {
     "name": "stderr",
     "output_type": "stream",
     "text": [
      "\r",
      "Epoch 20 | Step 1080 | CER 0.7916 | WER 1.6160:  69%|██████▊   | 1111/1620 [20:21<07:10,  1.18it/s]"
     ]
    },
    {
     "name": "stderr",
     "output_type": "stream",
     "text": [
      "\r",
      "Epoch 20 | Step 1080 | CER 0.7916 | WER 1.6160:  69%|██████▊   | 1112/1620 [20:22<07:30,  1.13it/s]"
     ]
    },
    {
     "name": "stderr",
     "output_type": "stream",
     "text": [
      "\r",
      "Epoch 20 | Step 1080 | CER 0.7916 | WER 1.6160:  69%|██████▊   | 1113/1620 [20:23<08:29,  1.00s/it]"
     ]
    },
    {
     "name": "stderr",
     "output_type": "stream",
     "text": [
      "\r",
      "Epoch 20 | Step 1080 | CER 0.7916 | WER 1.6160:  69%|██████▉   | 1114/1620 [20:24<07:52,  1.07it/s]"
     ]
    },
    {
     "name": "stderr",
     "output_type": "stream",
     "text": [
      "\r",
      "Epoch 20 | Step 1080 | CER 0.7916 | WER 1.6160:  69%|██████▉   | 1115/1620 [20:25<08:13,  1.02it/s]"
     ]
    },
    {
     "name": "stderr",
     "output_type": "stream",
     "text": [
      "\r",
      "Epoch 20 | Step 1080 | CER 0.7916 | WER 1.6160:  69%|██████▉   | 1116/1620 [20:26<07:58,  1.05it/s]"
     ]
    },
    {
     "name": "stderr",
     "output_type": "stream",
     "text": [
      "\r",
      "Epoch 20 | Step 1080 | CER 0.7916 | WER 1.6160:  69%|██████▉   | 1117/1620 [20:27<07:34,  1.11it/s]"
     ]
    },
    {
     "name": "stderr",
     "output_type": "stream",
     "text": [
      "\r",
      "Epoch 20 | Step 1080 | CER 0.7916 | WER 1.6160:  69%|██████▉   | 1118/1620 [20:28<07:48,  1.07it/s]"
     ]
    },
    {
     "name": "stderr",
     "output_type": "stream",
     "text": [
      "\r",
      "Epoch 20 | Step 1080 | CER 0.7916 | WER 1.6160:  69%|██████▉   | 1119/1620 [20:28<07:18,  1.14it/s]"
     ]
    },
    {
     "name": "stderr",
     "output_type": "stream",
     "text": [
      "\r",
      "Epoch 20 | Step 1080 | CER 0.7916 | WER 1.6160:  69%|██████▉   | 1120/1620 [20:29<06:50,  1.22it/s]"
     ]
    },
    {
     "name": "stderr",
     "output_type": "stream",
     "text": [
      "\r",
      "Epoch 20 | Step 1080 | CER 0.7916 | WER 1.6160:  69%|██████▉   | 1121/1620 [20:30<06:28,  1.28it/s]"
     ]
    },
    {
     "name": "stderr",
     "output_type": "stream",
     "text": [
      "\r",
      "Epoch 20 | Step 1080 | CER 0.7916 | WER 1.6160:  69%|██████▉   | 1122/1620 [20:30<06:33,  1.26it/s]"
     ]
    },
    {
     "name": "stderr",
     "output_type": "stream",
     "text": [
      "\r",
      "Epoch 20 | Step 1080 | CER 0.7916 | WER 1.6160:  69%|██████▉   | 1123/1620 [20:31<06:38,  1.25it/s]"
     ]
    },
    {
     "name": "stderr",
     "output_type": "stream",
     "text": [
      "\r",
      "Epoch 20 | Step 1080 | CER 0.7916 | WER 1.6160:  69%|██████▉   | 1124/1620 [20:32<06:34,  1.26it/s]"
     ]
    },
    {
     "name": "stderr",
     "output_type": "stream",
     "text": [
      "\r",
      "Epoch 20 | Step 1080 | CER 0.7916 | WER 1.6160:  69%|██████▉   | 1125/1620 [20:33<06:08,  1.34it/s]"
     ]
    },
    {
     "name": "stderr",
     "output_type": "stream",
     "text": [
      "\r",
      "Epoch 20 | Step 1080 | CER 0.7916 | WER 1.6160:  70%|██████▉   | 1126/1620 [20:33<06:09,  1.34it/s]"
     ]
    },
    {
     "name": "stderr",
     "output_type": "stream",
     "text": [
      "\r",
      "Epoch 20 | Step 1080 | CER 0.7916 | WER 1.6160:  70%|██████▉   | 1127/1620 [20:34<06:16,  1.31it/s]"
     ]
    },
    {
     "name": "stderr",
     "output_type": "stream",
     "text": [
      "\r",
      "Epoch 20 | Step 1080 | CER 0.7916 | WER 1.6160:  70%|██████▉   | 1128/1620 [20:35<06:04,  1.35it/s]"
     ]
    },
    {
     "name": "stderr",
     "output_type": "stream",
     "text": [
      "\r",
      "Epoch 20 | Step 1080 | CER 0.7916 | WER 1.6160:  70%|██████▉   | 1129/1620 [20:36<06:34,  1.25it/s]"
     ]
    },
    {
     "name": "stderr",
     "output_type": "stream",
     "text": [
      "\r",
      "Epoch 20 | Step 1080 | CER 0.7916 | WER 1.6160:  70%|██████▉   | 1130/1620 [20:37<06:43,  1.21it/s]"
     ]
    },
    {
     "name": "stderr",
     "output_type": "stream",
     "text": [
      "\r",
      "Epoch 20 | Step 1080 | CER 0.7916 | WER 1.6160:  70%|██████▉   | 1131/1620 [20:38<07:20,  1.11it/s]"
     ]
    },
    {
     "name": "stderr",
     "output_type": "stream",
     "text": [
      "\r",
      "Epoch 20 | Step 1080 | CER 0.7916 | WER 1.6160:  70%|██████▉   | 1132/1620 [20:39<06:57,  1.17it/s]"
     ]
    },
    {
     "name": "stderr",
     "output_type": "stream",
     "text": [
      "\r",
      "Epoch 20 | Step 1080 | CER 0.7916 | WER 1.6160:  70%|██████▉   | 1133/1620 [20:39<06:19,  1.28it/s]"
     ]
    },
    {
     "name": "stderr",
     "output_type": "stream",
     "text": [
      "\r",
      "Epoch 20 | Step 1080 | CER 0.7916 | WER 1.6160:  70%|███████   | 1134/1620 [20:39<05:08,  1.57it/s]"
     ]
    },
    {
     "name": "stderr",
     "output_type": "stream",
     "text": [
      "\r",
      "Epoch 21 | Step 1134 | CER 0.5974 | WER 1.1022:  70%|███████   | 1134/1620 [20:45<05:08,  1.57it/s]"
     ]
    },
    {
     "name": "stderr",
     "output_type": "stream",
     "text": [
      "\r",
      "Epoch 21 | Step 1134 | CER 0.5974 | WER 1.1022:  70%|███████   | 1135/1620 [20:52<33:57,  4.20s/it]"
     ]
    },
    {
     "name": "stderr",
     "output_type": "stream",
     "text": [
      "\r",
      "Epoch 21 | Step 1134 | CER 0.5974 | WER 1.1022:  70%|███████   | 1136/1620 [20:53<27:06,  3.36s/it]"
     ]
    },
    {
     "name": "stderr",
     "output_type": "stream",
     "text": [
      "\r",
      "Epoch 21 | Step 1134 | CER 0.5974 | WER 1.1022:  70%|███████   | 1137/1620 [20:54<20:53,  2.59s/it]"
     ]
    },
    {
     "name": "stderr",
     "output_type": "stream",
     "text": [
      "\r",
      "Epoch 21 | Step 1134 | CER 0.5974 | WER 1.1022:  70%|███████   | 1138/1620 [20:55<16:37,  2.07s/it]"
     ]
    },
    {
     "name": "stderr",
     "output_type": "stream",
     "text": [
      "\r",
      "Epoch 21 | Step 1134 | CER 0.5974 | WER 1.1022:  70%|███████   | 1139/1620 [20:56<13:51,  1.73s/it]"
     ]
    },
    {
     "name": "stderr",
     "output_type": "stream",
     "text": [
      "\r",
      "Epoch 21 | Step 1134 | CER 0.5974 | WER 1.1022:  70%|███████   | 1140/1620 [20:57<11:24,  1.43s/it]"
     ]
    },
    {
     "name": "stderr",
     "output_type": "stream",
     "text": [
      "\r",
      "Epoch 21 | Step 1134 | CER 0.5974 | WER 1.1022:  70%|███████   | 1141/1620 [20:58<10:01,  1.26s/it]"
     ]
    },
    {
     "name": "stderr",
     "output_type": "stream",
     "text": [
      "\r",
      "Epoch 21 | Step 1134 | CER 0.5974 | WER 1.1022:  70%|███████   | 1142/1620 [20:58<09:01,  1.13s/it]"
     ]
    },
    {
     "name": "stderr",
     "output_type": "stream",
     "text": [
      "\r",
      "Epoch 21 | Step 1134 | CER 0.5974 | WER 1.1022:  71%|███████   | 1143/1620 [20:59<08:27,  1.06s/it]"
     ]
    },
    {
     "name": "stderr",
     "output_type": "stream",
     "text": [
      "\r",
      "Epoch 21 | Step 1134 | CER 0.5974 | WER 1.1022:  71%|███████   | 1144/1620 [21:00<08:20,  1.05s/it]"
     ]
    },
    {
     "name": "stderr",
     "output_type": "stream",
     "text": [
      "\r",
      "Epoch 21 | Step 1134 | CER 0.5974 | WER 1.1022:  71%|███████   | 1145/1620 [21:01<07:59,  1.01s/it]"
     ]
    },
    {
     "name": "stderr",
     "output_type": "stream",
     "text": [
      "\r",
      "Epoch 21 | Step 1134 | CER 0.5974 | WER 1.1022:  71%|███████   | 1146/1620 [21:02<07:50,  1.01it/s]"
     ]
    },
    {
     "name": "stderr",
     "output_type": "stream",
     "text": [
      "\r",
      "Epoch 21 | Step 1134 | CER 0.5974 | WER 1.1022:  71%|███████   | 1147/1620 [21:03<07:20,  1.07it/s]"
     ]
    },
    {
     "name": "stderr",
     "output_type": "stream",
     "text": [
      "\r",
      "Epoch 21 | Step 1134 | CER 0.5974 | WER 1.1022:  71%|███████   | 1148/1620 [21:04<06:54,  1.14it/s]"
     ]
    },
    {
     "name": "stderr",
     "output_type": "stream",
     "text": [
      "\r",
      "Epoch 21 | Step 1134 | CER 0.5974 | WER 1.1022:  71%|███████   | 1149/1620 [21:05<06:46,  1.16it/s]"
     ]
    },
    {
     "name": "stderr",
     "output_type": "stream",
     "text": [
      "\r",
      "Epoch 21 | Step 1134 | CER 0.5974 | WER 1.1022:  71%|███████   | 1150/1620 [21:06<07:17,  1.07it/s]"
     ]
    },
    {
     "name": "stderr",
     "output_type": "stream",
     "text": [
      "\r",
      "Epoch 21 | Step 1134 | CER 0.5974 | WER 1.1022:  71%|███████   | 1151/1620 [21:06<06:48,  1.15it/s]"
     ]
    },
    {
     "name": "stderr",
     "output_type": "stream",
     "text": [
      "\r",
      "Epoch 21 | Step 1134 | CER 0.5974 | WER 1.1022:  71%|███████   | 1152/1620 [21:07<06:50,  1.14it/s]"
     ]
    },
    {
     "name": "stderr",
     "output_type": "stream",
     "text": [
      "\r",
      "Epoch 21 | Step 1134 | CER 0.5974 | WER 1.1022:  71%|███████   | 1153/1620 [21:08<06:38,  1.17it/s]"
     ]
    },
    {
     "name": "stderr",
     "output_type": "stream",
     "text": [
      "\r",
      "Epoch 21 | Step 1134 | CER 0.5974 | WER 1.1022:  71%|███████   | 1154/1620 [21:09<07:00,  1.11it/s]"
     ]
    },
    {
     "name": "stderr",
     "output_type": "stream",
     "text": [
      "\r",
      "Epoch 21 | Step 1134 | CER 0.5974 | WER 1.1022:  71%|███████▏  | 1155/1620 [21:10<07:08,  1.08it/s]"
     ]
    },
    {
     "name": "stderr",
     "output_type": "stream",
     "text": [
      "\r",
      "Epoch 21 | Step 1134 | CER 0.5974 | WER 1.1022:  71%|███████▏  | 1156/1620 [21:11<06:56,  1.12it/s]"
     ]
    },
    {
     "name": "stderr",
     "output_type": "stream",
     "text": [
      "\r",
      "Epoch 21 | Step 1134 | CER 0.5974 | WER 1.1022:  71%|███████▏  | 1157/1620 [21:12<07:50,  1.02s/it]"
     ]
    },
    {
     "name": "stderr",
     "output_type": "stream",
     "text": [
      "\r",
      "Epoch 21 | Step 1134 | CER 0.5974 | WER 1.1022:  71%|███████▏  | 1158/1620 [21:13<07:02,  1.09it/s]"
     ]
    },
    {
     "name": "stderr",
     "output_type": "stream",
     "text": [
      "\r",
      "Epoch 21 | Step 1134 | CER 0.5974 | WER 1.1022:  72%|███████▏  | 1159/1620 [21:14<06:26,  1.19it/s]"
     ]
    },
    {
     "name": "stderr",
     "output_type": "stream",
     "text": [
      "\r",
      "Epoch 21 | Step 1134 | CER 0.5974 | WER 1.1022:  72%|███████▏  | 1160/1620 [21:14<06:15,  1.23it/s]"
     ]
    },
    {
     "name": "stderr",
     "output_type": "stream",
     "text": [
      "\r",
      "Epoch 21 | Step 1134 | CER 0.5974 | WER 1.1022:  72%|███████▏  | 1161/1620 [21:15<06:08,  1.24it/s]"
     ]
    },
    {
     "name": "stderr",
     "output_type": "stream",
     "text": [
      "\r",
      "Epoch 21 | Step 1134 | CER 0.5974 | WER 1.1022:  72%|███████▏  | 1162/1620 [21:16<06:11,  1.23it/s]"
     ]
    },
    {
     "name": "stderr",
     "output_type": "stream",
     "text": [
      "\r",
      "Epoch 21 | Step 1134 | CER 0.5974 | WER 1.1022:  72%|███████▏  | 1163/1620 [21:17<05:58,  1.28it/s]"
     ]
    },
    {
     "name": "stderr",
     "output_type": "stream",
     "text": [
      "\r",
      "Epoch 21 | Step 1134 | CER 0.5974 | WER 1.1022:  72%|███████▏  | 1164/1620 [21:17<05:45,  1.32it/s]"
     ]
    },
    {
     "name": "stderr",
     "output_type": "stream",
     "text": [
      "\r",
      "Epoch 21 | Step 1134 | CER 0.5974 | WER 1.1022:  72%|███████▏  | 1165/1620 [21:18<06:20,  1.20it/s]"
     ]
    },
    {
     "name": "stderr",
     "output_type": "stream",
     "text": [
      "\r",
      "Epoch 21 | Step 1134 | CER 0.5974 | WER 1.1022:  72%|███████▏  | 1166/1620 [21:19<06:26,  1.17it/s]"
     ]
    },
    {
     "name": "stderr",
     "output_type": "stream",
     "text": [
      "\r",
      "Epoch 21 | Step 1134 | CER 0.5974 | WER 1.1022:  72%|███████▏  | 1167/1620 [21:20<06:23,  1.18it/s]"
     ]
    },
    {
     "name": "stderr",
     "output_type": "stream",
     "text": [
      "\r",
      "Epoch 21 | Step 1134 | CER 0.5974 | WER 1.1022:  72%|███████▏  | 1168/1620 [21:21<06:27,  1.16it/s]"
     ]
    },
    {
     "name": "stderr",
     "output_type": "stream",
     "text": [
      "\r",
      "Epoch 21 | Step 1134 | CER 0.5974 | WER 1.1022:  72%|███████▏  | 1169/1620 [21:22<06:29,  1.16it/s]"
     ]
    },
    {
     "name": "stderr",
     "output_type": "stream",
     "text": [
      "\r",
      "Epoch 21 | Step 1134 | CER 0.5974 | WER 1.1022:  72%|███████▏  | 1170/1620 [21:23<06:50,  1.10it/s]"
     ]
    },
    {
     "name": "stderr",
     "output_type": "stream",
     "text": [
      "\r",
      "Epoch 21 | Step 1134 | CER 0.5974 | WER 1.1022:  72%|███████▏  | 1171/1620 [21:24<06:28,  1.15it/s]"
     ]
    },
    {
     "name": "stderr",
     "output_type": "stream",
     "text": [
      "\r",
      "Epoch 21 | Step 1134 | CER 0.5974 | WER 1.1022:  72%|███████▏  | 1172/1620 [21:24<06:03,  1.23it/s]"
     ]
    },
    {
     "name": "stderr",
     "output_type": "stream",
     "text": [
      "\r",
      "Epoch 21 | Step 1134 | CER 0.5974 | WER 1.1022:  72%|███████▏  | 1173/1620 [21:25<06:54,  1.08it/s]"
     ]
    },
    {
     "name": "stderr",
     "output_type": "stream",
     "text": [
      "\r",
      "Epoch 21 | Step 1134 | CER 0.5974 | WER 1.1022:  72%|███████▏  | 1174/1620 [21:26<06:56,  1.07it/s]"
     ]
    },
    {
     "name": "stderr",
     "output_type": "stream",
     "text": [
      "\r",
      "Epoch 21 | Step 1134 | CER 0.5974 | WER 1.1022:  73%|███████▎  | 1175/1620 [21:27<06:19,  1.17it/s]"
     ]
    },
    {
     "name": "stderr",
     "output_type": "stream",
     "text": [
      "\r",
      "Epoch 21 | Step 1134 | CER 0.5974 | WER 1.1022:  73%|███████▎  | 1176/1620 [21:28<06:17,  1.18it/s]"
     ]
    },
    {
     "name": "stderr",
     "output_type": "stream",
     "text": [
      "\r",
      "Epoch 21 | Step 1134 | CER 0.5974 | WER 1.1022:  73%|███████▎  | 1177/1620 [21:29<06:38,  1.11it/s]"
     ]
    },
    {
     "name": "stderr",
     "output_type": "stream",
     "text": [
      "\r",
      "Epoch 21 | Step 1134 | CER 0.5974 | WER 1.1022:  73%|███████▎  | 1178/1620 [21:30<06:17,  1.17it/s]"
     ]
    },
    {
     "name": "stderr",
     "output_type": "stream",
     "text": [
      "\r",
      "Epoch 21 | Step 1134 | CER 0.5974 | WER 1.1022:  73%|███████▎  | 1179/1620 [21:31<06:23,  1.15it/s]"
     ]
    },
    {
     "name": "stderr",
     "output_type": "stream",
     "text": [
      "\r",
      "Epoch 21 | Step 1134 | CER 0.5974 | WER 1.1022:  73%|███████▎  | 1180/1620 [21:32<06:50,  1.07it/s]"
     ]
    },
    {
     "name": "stderr",
     "output_type": "stream",
     "text": [
      "\r",
      "Epoch 21 | Step 1134 | CER 0.5974 | WER 1.1022:  73%|███████▎  | 1181/1620 [21:33<06:44,  1.08it/s]"
     ]
    },
    {
     "name": "stderr",
     "output_type": "stream",
     "text": [
      "\r",
      "Epoch 21 | Step 1134 | CER 0.5974 | WER 1.1022:  73%|███████▎  | 1182/1620 [21:33<06:13,  1.17it/s]"
     ]
    },
    {
     "name": "stderr",
     "output_type": "stream",
     "text": [
      "\r",
      "Epoch 21 | Step 1134 | CER 0.5974 | WER 1.1022:  73%|███████▎  | 1183/1620 [21:34<06:12,  1.17it/s]"
     ]
    },
    {
     "name": "stderr",
     "output_type": "stream",
     "text": [
      "\r",
      "Epoch 21 | Step 1134 | CER 0.5974 | WER 1.1022:  73%|███████▎  | 1184/1620 [21:35<05:47,  1.25it/s]"
     ]
    },
    {
     "name": "stderr",
     "output_type": "stream",
     "text": [
      "\r",
      "Epoch 21 | Step 1134 | CER 0.5974 | WER 1.1022:  73%|███████▎  | 1185/1620 [21:36<05:37,  1.29it/s]"
     ]
    },
    {
     "name": "stderr",
     "output_type": "stream",
     "text": [
      "\r",
      "Epoch 21 | Step 1134 | CER 0.5974 | WER 1.1022:  73%|███████▎  | 1186/1620 [21:36<05:24,  1.34it/s]"
     ]
    },
    {
     "name": "stderr",
     "output_type": "stream",
     "text": [
      "\r",
      "Epoch 21 | Step 1134 | CER 0.5974 | WER 1.1022:  73%|███████▎  | 1187/1620 [21:37<05:14,  1.38it/s]"
     ]
    },
    {
     "name": "stderr",
     "output_type": "stream",
     "text": [
      "\r",
      "Epoch 21 | Step 1134 | CER 0.5974 | WER 1.1022:  73%|███████▎  | 1188/1620 [21:37<04:17,  1.68it/s]"
     ]
    },
    {
     "name": "stderr",
     "output_type": "stream",
     "text": [
      "\r",
      "Epoch 22 | Step 1188 | CER 0.5609 | WER 1.1297:  73%|███████▎  | 1188/1620 [21:43<04:17,  1.68it/s]"
     ]
    },
    {
     "name": "stderr",
     "output_type": "stream",
     "text": [
      "\r",
      "Epoch 22 | Step 1188 | CER 0.5609 | WER 1.1297:  73%|███████▎  | 1189/1620 [21:51<33:03,  4.60s/it]"
     ]
    },
    {
     "name": "stderr",
     "output_type": "stream",
     "text": [
      "\r",
      "Epoch 22 | Step 1188 | CER 0.5609 | WER 1.1297:  73%|███████▎  | 1190/1620 [21:52<24:51,  3.47s/it]"
     ]
    },
    {
     "name": "stderr",
     "output_type": "stream",
     "text": [
      "\r",
      "Epoch 22 | Step 1188 | CER 0.5609 | WER 1.1297:  74%|███████▎  | 1191/1620 [21:53<18:52,  2.64s/it]"
     ]
    },
    {
     "name": "stderr",
     "output_type": "stream",
     "text": [
      "\r",
      "Epoch 22 | Step 1188 | CER 0.5609 | WER 1.1297:  74%|███████▎  | 1192/1620 [21:53<14:37,  2.05s/it]"
     ]
    },
    {
     "name": "stderr",
     "output_type": "stream",
     "text": [
      "\r",
      "Epoch 22 | Step 1188 | CER 0.5609 | WER 1.1297:  74%|███████▎  | 1193/1620 [21:54<11:45,  1.65s/it]"
     ]
    },
    {
     "name": "stderr",
     "output_type": "stream",
     "text": [
      "\r",
      "Epoch 22 | Step 1188 | CER 0.5609 | WER 1.1297:  74%|███████▎  | 1194/1620 [21:55<10:06,  1.42s/it]"
     ]
    },
    {
     "name": "stderr",
     "output_type": "stream",
     "text": [
      "\r",
      "Epoch 22 | Step 1188 | CER 0.5609 | WER 1.1297:  74%|███████▍  | 1195/1620 [21:56<08:53,  1.26s/it]"
     ]
    },
    {
     "name": "stderr",
     "output_type": "stream",
     "text": [
      "\r",
      "Epoch 22 | Step 1188 | CER 0.5609 | WER 1.1297:  74%|███████▍  | 1196/1620 [21:57<08:03,  1.14s/it]"
     ]
    },
    {
     "name": "stderr",
     "output_type": "stream",
     "text": [
      "\r",
      "Epoch 22 | Step 1188 | CER 0.5609 | WER 1.1297:  74%|███████▍  | 1197/1620 [21:58<07:31,  1.07s/it]"
     ]
    },
    {
     "name": "stderr",
     "output_type": "stream",
     "text": [
      "\r",
      "Epoch 22 | Step 1188 | CER 0.5609 | WER 1.1297:  74%|███████▍  | 1198/1620 [21:59<07:20,  1.04s/it]"
     ]
    },
    {
     "name": "stderr",
     "output_type": "stream",
     "text": [
      "\r",
      "Epoch 22 | Step 1188 | CER 0.5609 | WER 1.1297:  74%|███████▍  | 1199/1620 [22:00<07:36,  1.08s/it]"
     ]
    },
    {
     "name": "stderr",
     "output_type": "stream",
     "text": [
      "\r",
      "Epoch 22 | Step 1188 | CER 0.5609 | WER 1.1297:  74%|███████▍  | 1200/1620 [22:01<07:20,  1.05s/it]"
     ]
    },
    {
     "name": "stderr",
     "output_type": "stream",
     "text": [
      "\r",
      "Epoch 22 | Step 1188 | CER 0.5609 | WER 1.1297:  74%|███████▍  | 1201/1620 [22:02<07:05,  1.01s/it]"
     ]
    },
    {
     "name": "stderr",
     "output_type": "stream",
     "text": [
      "\r",
      "Epoch 22 | Step 1188 | CER 0.5609 | WER 1.1297:  74%|███████▍  | 1202/1620 [22:02<06:25,  1.08it/s]"
     ]
    },
    {
     "name": "stderr",
     "output_type": "stream",
     "text": [
      "\r",
      "Epoch 22 | Step 1188 | CER 0.5609 | WER 1.1297:  74%|███████▍  | 1203/1620 [22:03<06:24,  1.08it/s]"
     ]
    },
    {
     "name": "stderr",
     "output_type": "stream",
     "text": [
      "\r",
      "Epoch 22 | Step 1188 | CER 0.5609 | WER 1.1297:  74%|███████▍  | 1204/1620 [22:04<06:21,  1.09it/s]"
     ]
    },
    {
     "name": "stderr",
     "output_type": "stream",
     "text": [
      "\r",
      "Epoch 22 | Step 1188 | CER 0.5609 | WER 1.1297:  74%|███████▍  | 1205/1620 [22:05<06:12,  1.12it/s]"
     ]
    },
    {
     "name": "stderr",
     "output_type": "stream",
     "text": [
      "\r",
      "Epoch 22 | Step 1188 | CER 0.5609 | WER 1.1297:  74%|███████▍  | 1206/1620 [22:06<06:11,  1.11it/s]"
     ]
    },
    {
     "name": "stderr",
     "output_type": "stream",
     "text": [
      "\r",
      "Epoch 22 | Step 1188 | CER 0.5609 | WER 1.1297:  75%|███████▍  | 1207/1620 [22:07<06:06,  1.13it/s]"
     ]
    },
    {
     "name": "stderr",
     "output_type": "stream",
     "text": [
      "\r",
      "Epoch 22 | Step 1188 | CER 0.5609 | WER 1.1297:  75%|███████▍  | 1208/1620 [22:08<06:44,  1.02it/s]"
     ]
    },
    {
     "name": "stderr",
     "output_type": "stream",
     "text": [
      "\r",
      "Epoch 22 | Step 1188 | CER 0.5609 | WER 1.1297:  75%|███████▍  | 1209/1620 [22:09<06:16,  1.09it/s]"
     ]
    },
    {
     "name": "stderr",
     "output_type": "stream",
     "text": [
      "\r",
      "Epoch 22 | Step 1188 | CER 0.5609 | WER 1.1297:  75%|███████▍  | 1210/1620 [22:09<05:52,  1.16it/s]"
     ]
    },
    {
     "name": "stderr",
     "output_type": "stream",
     "text": [
      "\r",
      "Epoch 22 | Step 1188 | CER 0.5609 | WER 1.1297:  75%|███████▍  | 1211/1620 [22:10<05:56,  1.15it/s]"
     ]
    },
    {
     "name": "stderr",
     "output_type": "stream",
     "text": [
      "\r",
      "Epoch 22 | Step 1188 | CER 0.5609 | WER 1.1297:  75%|███████▍  | 1212/1620 [22:11<06:16,  1.08it/s]"
     ]
    },
    {
     "name": "stderr",
     "output_type": "stream",
     "text": [
      "\r",
      "Epoch 22 | Step 1188 | CER 0.5609 | WER 1.1297:  75%|███████▍  | 1213/1620 [22:13<06:55,  1.02s/it]"
     ]
    },
    {
     "name": "stderr",
     "output_type": "stream",
     "text": [
      "\r",
      "Epoch 22 | Step 1188 | CER 0.5609 | WER 1.1297:  75%|███████▍  | 1214/1620 [22:14<06:33,  1.03it/s]"
     ]
    },
    {
     "name": "stderr",
     "output_type": "stream",
     "text": [
      "\r",
      "Epoch 22 | Step 1188 | CER 0.5609 | WER 1.1297:  75%|███████▌  | 1215/1620 [22:14<05:57,  1.13it/s]"
     ]
    },
    {
     "name": "stderr",
     "output_type": "stream",
     "text": [
      "\r",
      "Epoch 22 | Step 1188 | CER 0.5609 | WER 1.1297:  75%|███████▌  | 1216/1620 [22:15<05:53,  1.14it/s]"
     ]
    },
    {
     "name": "stderr",
     "output_type": "stream",
     "text": [
      "\r",
      "Epoch 22 | Step 1188 | CER 0.5609 | WER 1.1297:  75%|███████▌  | 1217/1620 [22:16<06:16,  1.07it/s]"
     ]
    },
    {
     "name": "stderr",
     "output_type": "stream",
     "text": [
      "\r",
      "Epoch 22 | Step 1188 | CER 0.5609 | WER 1.1297:  75%|███████▌  | 1218/1620 [22:17<06:35,  1.02it/s]"
     ]
    },
    {
     "name": "stderr",
     "output_type": "stream",
     "text": [
      "\r",
      "Epoch 22 | Step 1188 | CER 0.5609 | WER 1.1297:  75%|███████▌  | 1219/1620 [22:18<06:45,  1.01s/it]"
     ]
    },
    {
     "name": "stderr",
     "output_type": "stream",
     "text": [
      "\r",
      "Epoch 22 | Step 1188 | CER 0.5609 | WER 1.1297:  75%|███████▌  | 1220/1620 [22:19<05:57,  1.12it/s]"
     ]
    },
    {
     "name": "stderr",
     "output_type": "stream",
     "text": [
      "\r",
      "Epoch 22 | Step 1188 | CER 0.5609 | WER 1.1297:  75%|███████▌  | 1221/1620 [22:20<05:48,  1.15it/s]"
     ]
    },
    {
     "name": "stderr",
     "output_type": "stream",
     "text": [
      "\r",
      "Epoch 22 | Step 1188 | CER 0.5609 | WER 1.1297:  75%|███████▌  | 1222/1620 [22:20<05:21,  1.24it/s]"
     ]
    },
    {
     "name": "stderr",
     "output_type": "stream",
     "text": [
      "\r",
      "Epoch 22 | Step 1188 | CER 0.5609 | WER 1.1297:  75%|███████▌  | 1223/1620 [22:21<05:19,  1.24it/s]"
     ]
    },
    {
     "name": "stderr",
     "output_type": "stream",
     "text": [
      "\r",
      "Epoch 22 | Step 1188 | CER 0.5609 | WER 1.1297:  76%|███████▌  | 1224/1620 [22:22<05:02,  1.31it/s]"
     ]
    },
    {
     "name": "stderr",
     "output_type": "stream",
     "text": [
      "\r",
      "Epoch 22 | Step 1188 | CER 0.5609 | WER 1.1297:  76%|███████▌  | 1225/1620 [22:23<04:46,  1.38it/s]"
     ]
    },
    {
     "name": "stderr",
     "output_type": "stream",
     "text": [
      "\r",
      "Epoch 22 | Step 1188 | CER 0.5609 | WER 1.1297:  76%|███████▌  | 1226/1620 [22:23<04:42,  1.39it/s]"
     ]
    },
    {
     "name": "stderr",
     "output_type": "stream",
     "text": [
      "\r",
      "Epoch 22 | Step 1188 | CER 0.5609 | WER 1.1297:  76%|███████▌  | 1227/1620 [22:24<04:42,  1.39it/s]"
     ]
    },
    {
     "name": "stderr",
     "output_type": "stream",
     "text": [
      "\r",
      "Epoch 22 | Step 1188 | CER 0.5609 | WER 1.1297:  76%|███████▌  | 1228/1620 [22:25<04:48,  1.36it/s]"
     ]
    },
    {
     "name": "stderr",
     "output_type": "stream",
     "text": [
      "\r",
      "Epoch 22 | Step 1188 | CER 0.5609 | WER 1.1297:  76%|███████▌  | 1229/1620 [22:26<05:25,  1.20it/s]"
     ]
    },
    {
     "name": "stderr",
     "output_type": "stream",
     "text": [
      "\r",
      "Epoch 22 | Step 1188 | CER 0.5609 | WER 1.1297:  76%|███████▌  | 1230/1620 [22:27<05:19,  1.22it/s]"
     ]
    },
    {
     "name": "stderr",
     "output_type": "stream",
     "text": [
      "\r",
      "Epoch 22 | Step 1188 | CER 0.5609 | WER 1.1297:  76%|███████▌  | 1231/1620 [22:27<05:16,  1.23it/s]"
     ]
    },
    {
     "name": "stderr",
     "output_type": "stream",
     "text": [
      "\r",
      "Epoch 22 | Step 1188 | CER 0.5609 | WER 1.1297:  76%|███████▌  | 1232/1620 [22:28<05:31,  1.17it/s]"
     ]
    },
    {
     "name": "stderr",
     "output_type": "stream",
     "text": [
      "\r",
      "Epoch 22 | Step 1188 | CER 0.5609 | WER 1.1297:  76%|███████▌  | 1233/1620 [22:29<05:31,  1.17it/s]"
     ]
    },
    {
     "name": "stderr",
     "output_type": "stream",
     "text": [
      "\r",
      "Epoch 22 | Step 1188 | CER 0.5609 | WER 1.1297:  76%|███████▌  | 1234/1620 [22:30<05:03,  1.27it/s]"
     ]
    },
    {
     "name": "stderr",
     "output_type": "stream",
     "text": [
      "\r",
      "Epoch 22 | Step 1188 | CER 0.5609 | WER 1.1297:  76%|███████▌  | 1235/1620 [22:31<05:29,  1.17it/s]"
     ]
    },
    {
     "name": "stderr",
     "output_type": "stream",
     "text": [
      "\r",
      "Epoch 22 | Step 1188 | CER 0.5609 | WER 1.1297:  76%|███████▋  | 1236/1620 [22:32<05:19,  1.20it/s]"
     ]
    },
    {
     "name": "stderr",
     "output_type": "stream",
     "text": [
      "\r",
      "Epoch 22 | Step 1188 | CER 0.5609 | WER 1.1297:  76%|███████▋  | 1237/1620 [22:32<05:16,  1.21it/s]"
     ]
    },
    {
     "name": "stderr",
     "output_type": "stream",
     "text": [
      "\r",
      "Epoch 22 | Step 1188 | CER 0.5609 | WER 1.1297:  76%|███████▋  | 1238/1620 [22:33<05:30,  1.16it/s]"
     ]
    },
    {
     "name": "stderr",
     "output_type": "stream",
     "text": [
      "\r",
      "Epoch 22 | Step 1188 | CER 0.5609 | WER 1.1297:  76%|███████▋  | 1239/1620 [22:34<05:28,  1.16it/s]"
     ]
    },
    {
     "name": "stderr",
     "output_type": "stream",
     "text": [
      "\r",
      "Epoch 22 | Step 1188 | CER 0.5609 | WER 1.1297:  77%|███████▋  | 1240/1620 [22:35<05:09,  1.23it/s]"
     ]
    },
    {
     "name": "stderr",
     "output_type": "stream",
     "text": [
      "\r",
      "Epoch 22 | Step 1188 | CER 0.5609 | WER 1.1297:  77%|███████▋  | 1241/1620 [22:36<05:10,  1.22it/s]"
     ]
    },
    {
     "name": "stderr",
     "output_type": "stream",
     "text": [
      "\r",
      "Epoch 22 | Step 1188 | CER 0.5609 | WER 1.1297:  77%|███████▋  | 1242/1620 [22:36<04:10,  1.51it/s]"
     ]
    },
    {
     "name": "stderr",
     "output_type": "stream",
     "text": [
      "\r",
      "Epoch 23 | Step 1242 | CER 0.6286 | WER 1.2219:  77%|███████▋  | 1242/1620 [22:42<04:10,  1.51it/s]"
     ]
    },
    {
     "name": "stderr",
     "output_type": "stream",
     "text": [
      "\r",
      "Epoch 23 | Step 1242 | CER 0.6286 | WER 1.2219:  77%|███████▋  | 1243/1620 [22:50<28:17,  4.50s/it]"
     ]
    },
    {
     "name": "stderr",
     "output_type": "stream",
     "text": [
      "\r",
      "Epoch 23 | Step 1242 | CER 0.6286 | WER 1.2219:  77%|███████▋  | 1244/1620 [22:50<20:55,  3.34s/it]"
     ]
    },
    {
     "name": "stderr",
     "output_type": "stream",
     "text": [
      "\r",
      "Epoch 23 | Step 1242 | CER 0.6286 | WER 1.2219:  77%|███████▋  | 1245/1620 [22:51<16:38,  2.66s/it]"
     ]
    },
    {
     "name": "stderr",
     "output_type": "stream",
     "text": [
      "\r",
      "Epoch 23 | Step 1242 | CER 0.6286 | WER 1.2219:  77%|███████▋  | 1246/1620 [22:52<13:06,  2.10s/it]"
     ]
    },
    {
     "name": "stderr",
     "output_type": "stream",
     "text": [
      "\r",
      "Epoch 23 | Step 1242 | CER 0.6286 | WER 1.2219:  77%|███████▋  | 1247/1620 [22:53<11:09,  1.79s/it]"
     ]
    },
    {
     "name": "stderr",
     "output_type": "stream",
     "text": [
      "\r",
      "Epoch 23 | Step 1242 | CER 0.6286 | WER 1.2219:  77%|███████▋  | 1248/1620 [22:54<09:30,  1.53s/it]"
     ]
    },
    {
     "name": "stderr",
     "output_type": "stream",
     "text": [
      "\r",
      "Epoch 23 | Step 1242 | CER 0.6286 | WER 1.2219:  77%|███████▋  | 1249/1620 [22:55<08:29,  1.37s/it]"
     ]
    },
    {
     "name": "stderr",
     "output_type": "stream",
     "text": [
      "\r",
      "Epoch 23 | Step 1242 | CER 0.6286 | WER 1.2219:  77%|███████▋  | 1250/1620 [22:56<07:18,  1.18s/it]"
     ]
    },
    {
     "name": "stderr",
     "output_type": "stream",
     "text": [
      "\r",
      "Epoch 23 | Step 1242 | CER 0.6286 | WER 1.2219:  77%|███████▋  | 1251/1620 [22:57<06:33,  1.07s/it]"
     ]
    },
    {
     "name": "stderr",
     "output_type": "stream",
     "text": [
      "\r",
      "Epoch 23 | Step 1242 | CER 0.6286 | WER 1.2219:  77%|███████▋  | 1252/1620 [22:58<06:21,  1.04s/it]"
     ]
    },
    {
     "name": "stderr",
     "output_type": "stream",
     "text": [
      "\r",
      "Epoch 23 | Step 1242 | CER 0.6286 | WER 1.2219:  77%|███████▋  | 1253/1620 [22:59<06:28,  1.06s/it]"
     ]
    },
    {
     "name": "stderr",
     "output_type": "stream",
     "text": [
      "\r",
      "Epoch 23 | Step 1242 | CER 0.6286 | WER 1.2219:  77%|███████▋  | 1254/1620 [22:59<05:54,  1.03it/s]"
     ]
    },
    {
     "name": "stderr",
     "output_type": "stream",
     "text": [
      "\r",
      "Epoch 23 | Step 1242 | CER 0.6286 | WER 1.2219:  77%|███████▋  | 1255/1620 [23:00<05:31,  1.10it/s]"
     ]
    },
    {
     "name": "stderr",
     "output_type": "stream",
     "text": [
      "\r",
      "Epoch 23 | Step 1242 | CER 0.6286 | WER 1.2219:  78%|███████▊  | 1256/1620 [23:01<05:36,  1.08it/s]"
     ]
    },
    {
     "name": "stderr",
     "output_type": "stream",
     "text": [
      "\r",
      "Epoch 23 | Step 1242 | CER 0.6286 | WER 1.2219:  78%|███████▊  | 1257/1620 [23:02<05:16,  1.15it/s]"
     ]
    },
    {
     "name": "stderr",
     "output_type": "stream",
     "text": [
      "\r",
      "Epoch 23 | Step 1242 | CER 0.6286 | WER 1.2219:  78%|███████▊  | 1258/1620 [23:02<04:49,  1.25it/s]"
     ]
    },
    {
     "name": "stderr",
     "output_type": "stream",
     "text": [
      "\r",
      "Epoch 23 | Step 1242 | CER 0.6286 | WER 1.2219:  78%|███████▊  | 1259/1620 [23:03<04:38,  1.30it/s]"
     ]
    },
    {
     "name": "stderr",
     "output_type": "stream",
     "text": [
      "\r",
      "Epoch 23 | Step 1242 | CER 0.6286 | WER 1.2219:  78%|███████▊  | 1260/1620 [23:04<04:58,  1.20it/s]"
     ]
    },
    {
     "name": "stderr",
     "output_type": "stream",
     "text": [
      "\r",
      "Epoch 23 | Step 1242 | CER 0.6286 | WER 1.2219:  78%|███████▊  | 1261/1620 [23:05<05:08,  1.16it/s]"
     ]
    },
    {
     "name": "stderr",
     "output_type": "stream",
     "text": [
      "\r",
      "Epoch 23 | Step 1242 | CER 0.6286 | WER 1.2219:  78%|███████▊  | 1262/1620 [23:06<05:46,  1.03it/s]"
     ]
    },
    {
     "name": "stderr",
     "output_type": "stream",
     "text": [
      "\r",
      "Epoch 23 | Step 1242 | CER 0.6286 | WER 1.2219:  78%|███████▊  | 1263/1620 [23:07<05:39,  1.05it/s]"
     ]
    },
    {
     "name": "stderr",
     "output_type": "stream",
     "text": [
      "\r",
      "Epoch 23 | Step 1242 | CER 0.6286 | WER 1.2219:  78%|███████▊  | 1264/1620 [23:08<05:59,  1.01s/it]"
     ]
    },
    {
     "name": "stderr",
     "output_type": "stream",
     "text": [
      "\r",
      "Epoch 23 | Step 1242 | CER 0.6286 | WER 1.2219:  78%|███████▊  | 1265/1620 [23:09<05:26,  1.09it/s]"
     ]
    },
    {
     "name": "stderr",
     "output_type": "stream",
     "text": [
      "\r",
      "Epoch 23 | Step 1242 | CER 0.6286 | WER 1.2219:  78%|███████▊  | 1266/1620 [23:10<04:59,  1.18it/s]"
     ]
    },
    {
     "name": "stderr",
     "output_type": "stream",
     "text": [
      "\r",
      "Epoch 23 | Step 1242 | CER 0.6286 | WER 1.2219:  78%|███████▊  | 1267/1620 [23:11<05:02,  1.17it/s]"
     ]
    },
    {
     "name": "stderr",
     "output_type": "stream",
     "text": [
      "\r",
      "Epoch 23 | Step 1242 | CER 0.6286 | WER 1.2219:  78%|███████▊  | 1268/1620 [23:11<04:58,  1.18it/s]"
     ]
    },
    {
     "name": "stderr",
     "output_type": "stream",
     "text": [
      "\r",
      "Epoch 23 | Step 1242 | CER 0.6286 | WER 1.2219:  78%|███████▊  | 1269/1620 [23:12<05:12,  1.12it/s]"
     ]
    },
    {
     "name": "stderr",
     "output_type": "stream",
     "text": [
      "\r",
      "Epoch 23 | Step 1242 | CER 0.6286 | WER 1.2219:  78%|███████▊  | 1270/1620 [23:14<05:31,  1.05it/s]"
     ]
    },
    {
     "name": "stderr",
     "output_type": "stream",
     "text": [
      "\r",
      "Epoch 23 | Step 1242 | CER 0.6286 | WER 1.2219:  78%|███████▊  | 1271/1620 [23:15<05:33,  1.05it/s]"
     ]
    },
    {
     "name": "stderr",
     "output_type": "stream",
     "text": [
      "\r",
      "Epoch 23 | Step 1242 | CER 0.6286 | WER 1.2219:  79%|███████▊  | 1272/1620 [23:15<05:23,  1.07it/s]"
     ]
    },
    {
     "name": "stderr",
     "output_type": "stream",
     "text": [
      "\r",
      "Epoch 23 | Step 1242 | CER 0.6286 | WER 1.2219:  79%|███████▊  | 1273/1620 [23:16<05:01,  1.15it/s]"
     ]
    },
    {
     "name": "stderr",
     "output_type": "stream",
     "text": [
      "\r",
      "Epoch 23 | Step 1242 | CER 0.6286 | WER 1.2219:  79%|███████▊  | 1274/1620 [23:17<04:55,  1.17it/s]"
     ]
    },
    {
     "name": "stderr",
     "output_type": "stream",
     "text": [
      "\r",
      "Epoch 23 | Step 1242 | CER 0.6286 | WER 1.2219:  79%|███████▊  | 1275/1620 [23:18<05:10,  1.11it/s]"
     ]
    },
    {
     "name": "stderr",
     "output_type": "stream",
     "text": [
      "\r",
      "Epoch 23 | Step 1242 | CER 0.6286 | WER 1.2219:  79%|███████▉  | 1276/1620 [23:19<05:02,  1.14it/s]"
     ]
    },
    {
     "name": "stderr",
     "output_type": "stream",
     "text": [
      "\r",
      "Epoch 23 | Step 1242 | CER 0.6286 | WER 1.2219:  79%|███████▉  | 1277/1620 [23:20<04:47,  1.19it/s]"
     ]
    },
    {
     "name": "stderr",
     "output_type": "stream",
     "text": [
      "\r",
      "Epoch 23 | Step 1242 | CER 0.6286 | WER 1.2219:  79%|███████▉  | 1278/1620 [23:21<05:10,  1.10it/s]"
     ]
    },
    {
     "name": "stderr",
     "output_type": "stream",
     "text": [
      "\r",
      "Epoch 23 | Step 1242 | CER 0.6286 | WER 1.2219:  79%|███████▉  | 1279/1620 [23:21<04:43,  1.20it/s]"
     ]
    },
    {
     "name": "stderr",
     "output_type": "stream",
     "text": [
      "\r",
      "Epoch 23 | Step 1242 | CER 0.6286 | WER 1.2219:  79%|███████▉  | 1280/1620 [23:22<04:44,  1.20it/s]"
     ]
    },
    {
     "name": "stderr",
     "output_type": "stream",
     "text": [
      "\r",
      "Epoch 23 | Step 1242 | CER 0.6286 | WER 1.2219:  79%|███████▉  | 1281/1620 [23:23<04:44,  1.19it/s]"
     ]
    },
    {
     "name": "stderr",
     "output_type": "stream",
     "text": [
      "\r",
      "Epoch 23 | Step 1242 | CER 0.6286 | WER 1.2219:  79%|███████▉  | 1282/1620 [23:24<04:31,  1.25it/s]"
     ]
    },
    {
     "name": "stderr",
     "output_type": "stream",
     "text": [
      "\r",
      "Epoch 23 | Step 1242 | CER 0.6286 | WER 1.2219:  79%|███████▉  | 1283/1620 [23:24<04:28,  1.25it/s]"
     ]
    },
    {
     "name": "stderr",
     "output_type": "stream",
     "text": [
      "\r",
      "Epoch 23 | Step 1242 | CER 0.6286 | WER 1.2219:  79%|███████▉  | 1284/1620 [23:25<04:30,  1.24it/s]"
     ]
    },
    {
     "name": "stderr",
     "output_type": "stream",
     "text": [
      "\r",
      "Epoch 23 | Step 1242 | CER 0.6286 | WER 1.2219:  79%|███████▉  | 1285/1620 [23:26<04:23,  1.27it/s]"
     ]
    },
    {
     "name": "stderr",
     "output_type": "stream",
     "text": [
      "\r",
      "Epoch 23 | Step 1242 | CER 0.6286 | WER 1.2219:  79%|███████▉  | 1286/1620 [23:27<04:18,  1.29it/s]"
     ]
    },
    {
     "name": "stderr",
     "output_type": "stream",
     "text": [
      "\r",
      "Epoch 23 | Step 1242 | CER 0.6286 | WER 1.2219:  79%|███████▉  | 1287/1620 [23:28<04:35,  1.21it/s]"
     ]
    },
    {
     "name": "stderr",
     "output_type": "stream",
     "text": [
      "\r",
      "Epoch 23 | Step 1242 | CER 0.6286 | WER 1.2219:  80%|███████▉  | 1288/1620 [23:28<04:18,  1.29it/s]"
     ]
    },
    {
     "name": "stderr",
     "output_type": "stream",
     "text": [
      "\r",
      "Epoch 23 | Step 1242 | CER 0.6286 | WER 1.2219:  80%|███████▉  | 1289/1620 [23:29<04:16,  1.29it/s]"
     ]
    },
    {
     "name": "stderr",
     "output_type": "stream",
     "text": [
      "\r",
      "Epoch 23 | Step 1242 | CER 0.6286 | WER 1.2219:  80%|███████▉  | 1290/1620 [23:30<04:31,  1.22it/s]"
     ]
    },
    {
     "name": "stderr",
     "output_type": "stream",
     "text": [
      "\r",
      "Epoch 23 | Step 1242 | CER 0.6286 | WER 1.2219:  80%|███████▉  | 1291/1620 [23:31<04:42,  1.17it/s]"
     ]
    },
    {
     "name": "stderr",
     "output_type": "stream",
     "text": [
      "\r",
      "Epoch 23 | Step 1242 | CER 0.6286 | WER 1.2219:  80%|███████▉  | 1292/1620 [23:32<04:32,  1.20it/s]"
     ]
    },
    {
     "name": "stderr",
     "output_type": "stream",
     "text": [
      "\r",
      "Epoch 23 | Step 1242 | CER 0.6286 | WER 1.2219:  80%|███████▉  | 1293/1620 [23:32<04:20,  1.25it/s]"
     ]
    },
    {
     "name": "stderr",
     "output_type": "stream",
     "text": [
      "\r",
      "Epoch 23 | Step 1242 | CER 0.6286 | WER 1.2219:  80%|███████▉  | 1294/1620 [23:33<04:13,  1.29it/s]"
     ]
    },
    {
     "name": "stderr",
     "output_type": "stream",
     "text": [
      "\r",
      "Epoch 23 | Step 1242 | CER 0.6286 | WER 1.2219:  80%|███████▉  | 1295/1620 [23:34<04:34,  1.18it/s]"
     ]
    },
    {
     "name": "stderr",
     "output_type": "stream",
     "text": [
      "\r",
      "Epoch 23 | Step 1242 | CER 0.6286 | WER 1.2219:  80%|████████  | 1296/1620 [23:35<03:40,  1.47it/s]"
     ]
    },
    {
     "name": "stderr",
     "output_type": "stream",
     "text": [
      "\r",
      "Epoch 24 | Step 1296 | CER 0.5587 | WER 1.1072:  80%|████████  | 1296/1620 [23:40<03:40,  1.47it/s]"
     ]
    },
    {
     "name": "stderr",
     "output_type": "stream",
     "text": [
      "\r",
      "Epoch 24 | Step 1296 | CER 0.5587 | WER 1.1072:  80%|████████  | 1297/1620 [23:48<24:04,  4.47s/it]"
     ]
    },
    {
     "name": "stderr",
     "output_type": "stream",
     "text": [
      "\r",
      "Epoch 24 | Step 1296 | CER 0.5587 | WER 1.1072:  80%|████████  | 1298/1620 [23:49<17:56,  3.34s/it]"
     ]
    },
    {
     "name": "stderr",
     "output_type": "stream",
     "text": [
      "\r",
      "Epoch 24 | Step 1296 | CER 0.5587 | WER 1.1072:  80%|████████  | 1299/1620 [23:49<13:47,  2.58s/it]"
     ]
    },
    {
     "name": "stderr",
     "output_type": "stream",
     "text": [
      "\r",
      "Epoch 24 | Step 1296 | CER 0.5587 | WER 1.1072:  80%|████████  | 1300/1620 [23:50<10:52,  2.04s/it]"
     ]
    },
    {
     "name": "stderr",
     "output_type": "stream",
     "text": [
      "\r",
      "Epoch 24 | Step 1296 | CER 0.5587 | WER 1.1072:  80%|████████  | 1301/1620 [23:51<08:57,  1.69s/it]"
     ]
    },
    {
     "name": "stderr",
     "output_type": "stream",
     "text": [
      "\r",
      "Epoch 24 | Step 1296 | CER 0.5587 | WER 1.1072:  80%|████████  | 1302/1620 [23:52<07:26,  1.40s/it]"
     ]
    },
    {
     "name": "stderr",
     "output_type": "stream",
     "text": [
      "\r",
      "Epoch 24 | Step 1296 | CER 0.5587 | WER 1.1072:  80%|████████  | 1303/1620 [23:53<06:41,  1.27s/it]"
     ]
    },
    {
     "name": "stderr",
     "output_type": "stream",
     "text": [
      "\r",
      "Epoch 24 | Step 1296 | CER 0.5587 | WER 1.1072:  80%|████████  | 1304/1620 [23:53<05:42,  1.08s/it]"
     ]
    },
    {
     "name": "stderr",
     "output_type": "stream",
     "text": [
      "\r",
      "Epoch 24 | Step 1296 | CER 0.5587 | WER 1.1072:  81%|████████  | 1305/1620 [23:54<05:23,  1.03s/it]"
     ]
    },
    {
     "name": "stderr",
     "output_type": "stream",
     "text": [
      "\r",
      "Epoch 24 | Step 1296 | CER 0.5587 | WER 1.1072:  81%|████████  | 1306/1620 [23:55<05:15,  1.01s/it]"
     ]
    },
    {
     "name": "stderr",
     "output_type": "stream",
     "text": [
      "\r",
      "Epoch 24 | Step 1296 | CER 0.5587 | WER 1.1072:  81%|████████  | 1307/1620 [23:56<05:25,  1.04s/it]"
     ]
    },
    {
     "name": "stderr",
     "output_type": "stream",
     "text": [
      "\r",
      "Epoch 24 | Step 1296 | CER 0.5587 | WER 1.1072:  81%|████████  | 1308/1620 [23:57<05:27,  1.05s/it]"
     ]
    },
    {
     "name": "stderr",
     "output_type": "stream",
     "text": [
      "\r",
      "Epoch 24 | Step 1296 | CER 0.5587 | WER 1.1072:  81%|████████  | 1309/1620 [23:58<05:03,  1.02it/s]"
     ]
    },
    {
     "name": "stderr",
     "output_type": "stream",
     "text": [
      "\r",
      "Epoch 24 | Step 1296 | CER 0.5587 | WER 1.1072:  81%|████████  | 1310/1620 [23:59<05:05,  1.02it/s]"
     ]
    },
    {
     "name": "stderr",
     "output_type": "stream",
     "text": [
      "\r",
      "Epoch 24 | Step 1296 | CER 0.5587 | WER 1.1072:  81%|████████  | 1311/1620 [24:00<04:35,  1.12it/s]"
     ]
    },
    {
     "name": "stderr",
     "output_type": "stream",
     "text": [
      "\r",
      "Epoch 24 | Step 1296 | CER 0.5587 | WER 1.1072:  81%|████████  | 1312/1620 [24:01<04:26,  1.16it/s]"
     ]
    },
    {
     "name": "stderr",
     "output_type": "stream",
     "text": [
      "\r",
      "Epoch 24 | Step 1296 | CER 0.5587 | WER 1.1072:  81%|████████  | 1313/1620 [24:01<04:10,  1.22it/s]"
     ]
    },
    {
     "name": "stderr",
     "output_type": "stream",
     "text": [
      "\r",
      "Epoch 24 | Step 1296 | CER 0.5587 | WER 1.1072:  81%|████████  | 1314/1620 [24:02<04:12,  1.21it/s]"
     ]
    },
    {
     "name": "stderr",
     "output_type": "stream",
     "text": [
      "\r",
      "Epoch 24 | Step 1296 | CER 0.5587 | WER 1.1072:  81%|████████  | 1315/1620 [24:03<04:09,  1.22it/s]"
     ]
    },
    {
     "name": "stderr",
     "output_type": "stream",
     "text": [
      "\r",
      "Epoch 24 | Step 1296 | CER 0.5587 | WER 1.1072:  81%|████████  | 1316/1620 [24:04<04:20,  1.17it/s]"
     ]
    },
    {
     "name": "stderr",
     "output_type": "stream",
     "text": [
      "\r",
      "Epoch 24 | Step 1296 | CER 0.5587 | WER 1.1072:  81%|████████▏ | 1317/1620 [24:05<04:25,  1.14it/s]"
     ]
    },
    {
     "name": "stderr",
     "output_type": "stream",
     "text": [
      "\r",
      "Epoch 24 | Step 1296 | CER 0.5587 | WER 1.1072:  81%|████████▏ | 1318/1620 [24:06<04:26,  1.13it/s]"
     ]
    },
    {
     "name": "stderr",
     "output_type": "stream",
     "text": [
      "\r",
      "Epoch 24 | Step 1296 | CER 0.5587 | WER 1.1072:  81%|████████▏ | 1319/1620 [24:07<04:57,  1.01it/s]"
     ]
    },
    {
     "name": "stderr",
     "output_type": "stream",
     "text": [
      "\r",
      "Epoch 24 | Step 1296 | CER 0.5587 | WER 1.1072:  81%|████████▏ | 1320/1620 [24:08<05:09,  1.03s/it]"
     ]
    },
    {
     "name": "stderr",
     "output_type": "stream",
     "text": [
      "\r",
      "Epoch 24 | Step 1296 | CER 0.5587 | WER 1.1072:  82%|████████▏ | 1321/1620 [24:09<04:49,  1.03it/s]"
     ]
    },
    {
     "name": "stderr",
     "output_type": "stream",
     "text": [
      "\r",
      "Epoch 24 | Step 1296 | CER 0.5587 | WER 1.1072:  82%|████████▏ | 1322/1620 [24:10<04:44,  1.05it/s]"
     ]
    },
    {
     "name": "stderr",
     "output_type": "stream",
     "text": [
      "\r",
      "Epoch 24 | Step 1296 | CER 0.5587 | WER 1.1072:  82%|████████▏ | 1323/1620 [24:11<04:35,  1.08it/s]"
     ]
    },
    {
     "name": "stderr",
     "output_type": "stream",
     "text": [
      "\r",
      "Epoch 24 | Step 1296 | CER 0.5587 | WER 1.1072:  82%|████████▏ | 1324/1620 [24:12<04:25,  1.12it/s]"
     ]
    },
    {
     "name": "stderr",
     "output_type": "stream",
     "text": [
      "\r",
      "Epoch 24 | Step 1296 | CER 0.5587 | WER 1.1072:  82%|████████▏ | 1325/1620 [24:12<04:12,  1.17it/s]"
     ]
    },
    {
     "name": "stderr",
     "output_type": "stream",
     "text": [
      "\r",
      "Epoch 24 | Step 1296 | CER 0.5587 | WER 1.1072:  82%|████████▏ | 1326/1620 [24:13<04:00,  1.22it/s]"
     ]
    },
    {
     "name": "stderr",
     "output_type": "stream",
     "text": [
      "\r",
      "Epoch 24 | Step 1296 | CER 0.5587 | WER 1.1072:  82%|████████▏ | 1327/1620 [24:14<04:15,  1.15it/s]"
     ]
    },
    {
     "name": "stderr",
     "output_type": "stream",
     "text": [
      "\r",
      "Epoch 24 | Step 1296 | CER 0.5587 | WER 1.1072:  82%|████████▏ | 1328/1620 [24:15<04:13,  1.15it/s]"
     ]
    },
    {
     "name": "stderr",
     "output_type": "stream",
     "text": [
      "\r",
      "Epoch 24 | Step 1296 | CER 0.5587 | WER 1.1072:  82%|████████▏ | 1329/1620 [24:16<04:20,  1.12it/s]"
     ]
    },
    {
     "name": "stderr",
     "output_type": "stream",
     "text": [
      "\r",
      "Epoch 24 | Step 1296 | CER 0.5587 | WER 1.1072:  82%|████████▏ | 1330/1620 [24:17<04:36,  1.05it/s]"
     ]
    },
    {
     "name": "stderr",
     "output_type": "stream",
     "text": [
      "\r",
      "Epoch 24 | Step 1296 | CER 0.5587 | WER 1.1072:  82%|████████▏ | 1331/1620 [24:18<04:27,  1.08it/s]"
     ]
    },
    {
     "name": "stderr",
     "output_type": "stream",
     "text": [
      "\r",
      "Epoch 24 | Step 1296 | CER 0.5587 | WER 1.1072:  82%|████████▏ | 1332/1620 [24:19<04:13,  1.14it/s]"
     ]
    },
    {
     "name": "stderr",
     "output_type": "stream",
     "text": [
      "\r",
      "Epoch 24 | Step 1296 | CER 0.5587 | WER 1.1072:  82%|████████▏ | 1333/1620 [24:19<04:06,  1.16it/s]"
     ]
    },
    {
     "name": "stderr",
     "output_type": "stream",
     "text": [
      "\r",
      "Epoch 24 | Step 1296 | CER 0.5587 | WER 1.1072:  82%|████████▏ | 1334/1620 [24:20<04:21,  1.09it/s]"
     ]
    },
    {
     "name": "stderr",
     "output_type": "stream",
     "text": [
      "\r",
      "Epoch 24 | Step 1296 | CER 0.5587 | WER 1.1072:  82%|████████▏ | 1335/1620 [24:21<04:21,  1.09it/s]"
     ]
    },
    {
     "name": "stderr",
     "output_type": "stream",
     "text": [
      "\r",
      "Epoch 24 | Step 1296 | CER 0.5587 | WER 1.1072:  82%|████████▏ | 1336/1620 [24:22<03:56,  1.20it/s]"
     ]
    },
    {
     "name": "stderr",
     "output_type": "stream",
     "text": [
      "\r",
      "Epoch 24 | Step 1296 | CER 0.5587 | WER 1.1072:  83%|████████▎ | 1337/1620 [24:23<03:54,  1.21it/s]"
     ]
    },
    {
     "name": "stderr",
     "output_type": "stream",
     "text": [
      "\r",
      "Epoch 24 | Step 1296 | CER 0.5587 | WER 1.1072:  83%|████████▎ | 1338/1620 [24:24<04:07,  1.14it/s]"
     ]
    },
    {
     "name": "stderr",
     "output_type": "stream",
     "text": [
      "\r",
      "Epoch 24 | Step 1296 | CER 0.5587 | WER 1.1072:  83%|████████▎ | 1339/1620 [24:25<04:10,  1.12it/s]"
     ]
    },
    {
     "name": "stderr",
     "output_type": "stream",
     "text": [
      "\r",
      "Epoch 24 | Step 1296 | CER 0.5587 | WER 1.1072:  83%|████████▎ | 1340/1620 [24:25<03:50,  1.22it/s]"
     ]
    },
    {
     "name": "stderr",
     "output_type": "stream",
     "text": [
      "\r",
      "Epoch 24 | Step 1296 | CER 0.5587 | WER 1.1072:  83%|████████▎ | 1341/1620 [24:27<04:16,  1.09it/s]"
     ]
    },
    {
     "name": "stderr",
     "output_type": "stream",
     "text": [
      "\r",
      "Epoch 24 | Step 1296 | CER 0.5587 | WER 1.1072:  83%|████████▎ | 1342/1620 [24:27<03:57,  1.17it/s]"
     ]
    },
    {
     "name": "stderr",
     "output_type": "stream",
     "text": [
      "\r",
      "Epoch 24 | Step 1296 | CER 0.5587 | WER 1.1072:  83%|████████▎ | 1343/1620 [24:28<03:43,  1.24it/s]"
     ]
    },
    {
     "name": "stderr",
     "output_type": "stream",
     "text": [
      "\r",
      "Epoch 24 | Step 1296 | CER 0.5587 | WER 1.1072:  83%|████████▎ | 1344/1620 [24:29<03:40,  1.25it/s]"
     ]
    },
    {
     "name": "stderr",
     "output_type": "stream",
     "text": [
      "\r",
      "Epoch 24 | Step 1296 | CER 0.5587 | WER 1.1072:  83%|████████▎ | 1345/1620 [24:30<03:37,  1.26it/s]"
     ]
    },
    {
     "name": "stderr",
     "output_type": "stream",
     "text": [
      "\r",
      "Epoch 24 | Step 1296 | CER 0.5587 | WER 1.1072:  83%|████████▎ | 1346/1620 [24:30<03:36,  1.27it/s]"
     ]
    },
    {
     "name": "stderr",
     "output_type": "stream",
     "text": [
      "\r",
      "Epoch 24 | Step 1296 | CER 0.5587 | WER 1.1072:  83%|████████▎ | 1347/1620 [24:31<03:37,  1.26it/s]"
     ]
    },
    {
     "name": "stderr",
     "output_type": "stream",
     "text": [
      "\r",
      "Epoch 24 | Step 1296 | CER 0.5587 | WER 1.1072:  83%|████████▎ | 1348/1620 [24:32<04:07,  1.10it/s]"
     ]
    },
    {
     "name": "stderr",
     "output_type": "stream",
     "text": [
      "\r",
      "Epoch 24 | Step 1296 | CER 0.5587 | WER 1.1072:  83%|████████▎ | 1349/1620 [24:33<03:47,  1.19it/s]"
     ]
    },
    {
     "name": "stderr",
     "output_type": "stream",
     "text": [
      "\r",
      "Epoch 24 | Step 1296 | CER 0.5587 | WER 1.1072:  83%|████████▎ | 1350/1620 [24:33<03:02,  1.48it/s]"
     ]
    },
    {
     "name": "stderr",
     "output_type": "stream",
     "text": [
      "\r",
      "Epoch 25 | Step 1350 | CER 0.7815 | WER 1.6035:  83%|████████▎ | 1350/1620 [24:39<03:02,  1.48it/s]"
     ]
    },
    {
     "name": "stderr",
     "output_type": "stream",
     "text": [
      "\r",
      "Epoch 25 | Step 1350 | CER 0.7815 | WER 1.6035:  83%|████████▎ | 1351/1620 [24:47<20:18,  4.53s/it]"
     ]
    },
    {
     "name": "stderr",
     "output_type": "stream",
     "text": [
      "\r",
      "Epoch 25 | Step 1350 | CER 0.7815 | WER 1.6035:  83%|████████▎ | 1352/1620 [24:48<15:18,  3.43s/it]"
     ]
    },
    {
     "name": "stderr",
     "output_type": "stream",
     "text": [
      "\r",
      "Epoch 25 | Step 1350 | CER 0.7815 | WER 1.6035:  84%|████████▎ | 1353/1620 [24:48<11:49,  2.66s/it]"
     ]
    },
    {
     "name": "stderr",
     "output_type": "stream",
     "text": [
      "\r",
      "Epoch 25 | Step 1350 | CER 0.7815 | WER 1.6035:  84%|████████▎ | 1354/1620 [24:49<09:20,  2.11s/it]"
     ]
    },
    {
     "name": "stderr",
     "output_type": "stream",
     "text": [
      "\r",
      "Epoch 25 | Step 1350 | CER 0.7815 | WER 1.6035:  84%|████████▎ | 1355/1620 [24:50<08:04,  1.83s/it]"
     ]
    },
    {
     "name": "stderr",
     "output_type": "stream",
     "text": [
      "\r",
      "Epoch 25 | Step 1350 | CER 0.7815 | WER 1.6035:  84%|████████▎ | 1356/1620 [24:51<06:39,  1.51s/it]"
     ]
    },
    {
     "name": "stderr",
     "output_type": "stream",
     "text": [
      "\r",
      "Epoch 25 | Step 1350 | CER 0.7815 | WER 1.6035:  84%|████████▍ | 1357/1620 [24:52<05:41,  1.30s/it]"
     ]
    },
    {
     "name": "stderr",
     "output_type": "stream",
     "text": [
      "\r",
      "Epoch 25 | Step 1350 | CER 0.7815 | WER 1.6035:  84%|████████▍ | 1358/1620 [24:53<05:01,  1.15s/it]"
     ]
    },
    {
     "name": "stderr",
     "output_type": "stream",
     "text": [
      "\r",
      "Epoch 25 | Step 1350 | CER 0.7815 | WER 1.6035:  84%|████████▍ | 1359/1620 [24:54<04:34,  1.05s/it]"
     ]
    },
    {
     "name": "stderr",
     "output_type": "stream",
     "text": [
      "\r",
      "Epoch 25 | Step 1350 | CER 0.7815 | WER 1.6035:  84%|████████▍ | 1360/1620 [24:55<04:31,  1.05s/it]"
     ]
    },
    {
     "name": "stderr",
     "output_type": "stream",
     "text": [
      "\r",
      "Epoch 25 | Step 1350 | CER 0.7815 | WER 1.6035:  84%|████████▍ | 1361/1620 [24:55<04:02,  1.07it/s]"
     ]
    },
    {
     "name": "stderr",
     "output_type": "stream",
     "text": [
      "\r",
      "Epoch 25 | Step 1350 | CER 0.7815 | WER 1.6035:  84%|████████▍ | 1362/1620 [24:56<03:47,  1.14it/s]"
     ]
    },
    {
     "name": "stderr",
     "output_type": "stream",
     "text": [
      "\r",
      "Epoch 25 | Step 1350 | CER 0.7815 | WER 1.6035:  84%|████████▍ | 1363/1620 [24:57<03:43,  1.15it/s]"
     ]
    },
    {
     "name": "stderr",
     "output_type": "stream",
     "text": [
      "\r",
      "Epoch 25 | Step 1350 | CER 0.7815 | WER 1.6035:  84%|████████▍ | 1364/1620 [24:58<03:54,  1.09it/s]"
     ]
    },
    {
     "name": "stderr",
     "output_type": "stream",
     "text": [
      "\r",
      "Epoch 25 | Step 1350 | CER 0.7815 | WER 1.6035:  84%|████████▍ | 1365/1620 [24:59<03:47,  1.12it/s]"
     ]
    },
    {
     "name": "stderr",
     "output_type": "stream",
     "text": [
      "\r",
      "Epoch 25 | Step 1350 | CER 0.7815 | WER 1.6035:  84%|████████▍ | 1366/1620 [25:00<03:51,  1.10it/s]"
     ]
    },
    {
     "name": "stderr",
     "output_type": "stream",
     "text": [
      "\r",
      "Epoch 25 | Step 1350 | CER 0.7815 | WER 1.6035:  84%|████████▍ | 1367/1620 [25:01<04:21,  1.03s/it]"
     ]
    },
    {
     "name": "stderr",
     "output_type": "stream",
     "text": [
      "\r",
      "Epoch 25 | Step 1350 | CER 0.7815 | WER 1.6035:  84%|████████▍ | 1368/1620 [25:02<04:19,  1.03s/it]"
     ]
    },
    {
     "name": "stderr",
     "output_type": "stream",
     "text": [
      "\r",
      "Epoch 25 | Step 1350 | CER 0.7815 | WER 1.6035:  85%|████████▍ | 1369/1620 [25:03<04:08,  1.01it/s]"
     ]
    },
    {
     "name": "stderr",
     "output_type": "stream",
     "text": [
      "\r",
      "Epoch 25 | Step 1350 | CER 0.7815 | WER 1.6035:  85%|████████▍ | 1370/1620 [25:04<03:56,  1.06it/s]"
     ]
    },
    {
     "name": "stderr",
     "output_type": "stream",
     "text": [
      "\r",
      "Epoch 25 | Step 1350 | CER 0.7815 | WER 1.6035:  85%|████████▍ | 1371/1620 [25:05<03:31,  1.18it/s]"
     ]
    },
    {
     "name": "stderr",
     "output_type": "stream",
     "text": [
      "\r",
      "Epoch 25 | Step 1350 | CER 0.7815 | WER 1.6035:  85%|████████▍ | 1372/1620 [25:05<03:26,  1.20it/s]"
     ]
    },
    {
     "name": "stderr",
     "output_type": "stream",
     "text": [
      "\r",
      "Epoch 25 | Step 1350 | CER 0.7815 | WER 1.6035:  85%|████████▍ | 1373/1620 [25:07<03:53,  1.06it/s]"
     ]
    },
    {
     "name": "stderr",
     "output_type": "stream",
     "text": [
      "\r",
      "Epoch 25 | Step 1350 | CER 0.7815 | WER 1.6035:  85%|████████▍ | 1374/1620 [25:07<03:41,  1.11it/s]"
     ]
    },
    {
     "name": "stderr",
     "output_type": "stream",
     "text": [
      "\r",
      "Epoch 25 | Step 1350 | CER 0.7815 | WER 1.6035:  85%|████████▍ | 1375/1620 [25:08<03:26,  1.19it/s]"
     ]
    },
    {
     "name": "stderr",
     "output_type": "stream",
     "text": [
      "\r",
      "Epoch 25 | Step 1350 | CER 0.7815 | WER 1.6035:  85%|████████▍ | 1376/1620 [25:09<03:31,  1.15it/s]"
     ]
    },
    {
     "name": "stderr",
     "output_type": "stream",
     "text": [
      "\r",
      "Epoch 25 | Step 1350 | CER 0.7815 | WER 1.6035:  85%|████████▌ | 1377/1620 [25:10<03:29,  1.16it/s]"
     ]
    },
    {
     "name": "stderr",
     "output_type": "stream",
     "text": [
      "\r",
      "Epoch 25 | Step 1350 | CER 0.7815 | WER 1.6035:  85%|████████▌ | 1378/1620 [25:11<03:40,  1.10it/s]"
     ]
    },
    {
     "name": "stderr",
     "output_type": "stream",
     "text": [
      "\r",
      "Epoch 25 | Step 1350 | CER 0.7815 | WER 1.6035:  85%|████████▌ | 1379/1620 [25:12<03:41,  1.09it/s]"
     ]
    },
    {
     "name": "stderr",
     "output_type": "stream",
     "text": [
      "\r",
      "Epoch 25 | Step 1350 | CER 0.7815 | WER 1.6035:  85%|████████▌ | 1380/1620 [25:13<03:30,  1.14it/s]"
     ]
    },
    {
     "name": "stderr",
     "output_type": "stream",
     "text": [
      "\r",
      "Epoch 25 | Step 1350 | CER 0.7815 | WER 1.6035:  85%|████████▌ | 1381/1620 [25:13<03:16,  1.22it/s]"
     ]
    },
    {
     "name": "stderr",
     "output_type": "stream",
     "text": [
      "\r",
      "Epoch 25 | Step 1350 | CER 0.7815 | WER 1.6035:  85%|████████▌ | 1382/1620 [25:14<03:04,  1.29it/s]"
     ]
    },
    {
     "name": "stderr",
     "output_type": "stream",
     "text": [
      "\r",
      "Epoch 25 | Step 1350 | CER 0.7815 | WER 1.6035:  85%|████████▌ | 1383/1620 [25:15<03:12,  1.23it/s]"
     ]
    },
    {
     "name": "stderr",
     "output_type": "stream",
     "text": [
      "\r",
      "Epoch 25 | Step 1350 | CER 0.7815 | WER 1.6035:  85%|████████▌ | 1384/1620 [25:15<03:04,  1.28it/s]"
     ]
    },
    {
     "name": "stderr",
     "output_type": "stream",
     "text": [
      "\r",
      "Epoch 25 | Step 1350 | CER 0.7815 | WER 1.6035:  85%|████████▌ | 1385/1620 [25:17<03:32,  1.11it/s]"
     ]
    },
    {
     "name": "stderr",
     "output_type": "stream",
     "text": [
      "\r",
      "Epoch 25 | Step 1350 | CER 0.7815 | WER 1.6035:  86%|████████▌ | 1386/1620 [25:17<03:18,  1.18it/s]"
     ]
    },
    {
     "name": "stderr",
     "output_type": "stream",
     "text": [
      "\r",
      "Epoch 25 | Step 1350 | CER 0.7815 | WER 1.6035:  86%|████████▌ | 1387/1620 [25:18<03:07,  1.24it/s]"
     ]
    },
    {
     "name": "stderr",
     "output_type": "stream",
     "text": [
      "\r",
      "Epoch 25 | Step 1350 | CER 0.7815 | WER 1.6035:  86%|████████▌ | 1388/1620 [25:19<02:57,  1.31it/s]"
     ]
    },
    {
     "name": "stderr",
     "output_type": "stream",
     "text": [
      "\r",
      "Epoch 25 | Step 1350 | CER 0.7815 | WER 1.6035:  86%|████████▌ | 1389/1620 [25:20<03:20,  1.15it/s]"
     ]
    },
    {
     "name": "stderr",
     "output_type": "stream",
     "text": [
      "\r",
      "Epoch 25 | Step 1350 | CER 0.7815 | WER 1.6035:  86%|████████▌ | 1390/1620 [25:21<03:08,  1.22it/s]"
     ]
    },
    {
     "name": "stderr",
     "output_type": "stream",
     "text": [
      "\r",
      "Epoch 25 | Step 1350 | CER 0.7815 | WER 1.6035:  86%|████████▌ | 1391/1620 [25:21<03:01,  1.26it/s]"
     ]
    },
    {
     "name": "stderr",
     "output_type": "stream",
     "text": [
      "\r",
      "Epoch 25 | Step 1350 | CER 0.7815 | WER 1.6035:  86%|████████▌ | 1392/1620 [25:22<02:53,  1.31it/s]"
     ]
    },
    {
     "name": "stderr",
     "output_type": "stream",
     "text": [
      "\r",
      "Epoch 25 | Step 1350 | CER 0.7815 | WER 1.6035:  86%|████████▌ | 1393/1620 [25:23<02:59,  1.26it/s]"
     ]
    },
    {
     "name": "stderr",
     "output_type": "stream",
     "text": [
      "\r",
      "Epoch 25 | Step 1350 | CER 0.7815 | WER 1.6035:  86%|████████▌ | 1394/1620 [25:24<02:52,  1.31it/s]"
     ]
    },
    {
     "name": "stderr",
     "output_type": "stream",
     "text": [
      "\r",
      "Epoch 25 | Step 1350 | CER 0.7815 | WER 1.6035:  86%|████████▌ | 1395/1620 [25:25<03:03,  1.23it/s]"
     ]
    },
    {
     "name": "stderr",
     "output_type": "stream",
     "text": [
      "\r",
      "Epoch 25 | Step 1350 | CER 0.7815 | WER 1.6035:  86%|████████▌ | 1396/1620 [25:26<03:45,  1.01s/it]"
     ]
    },
    {
     "name": "stderr",
     "output_type": "stream",
     "text": [
      "\r",
      "Epoch 25 | Step 1350 | CER 0.7815 | WER 1.6035:  86%|████████▌ | 1397/1620 [25:27<03:29,  1.07it/s]"
     ]
    },
    {
     "name": "stderr",
     "output_type": "stream",
     "text": [
      "\r",
      "Epoch 25 | Step 1350 | CER 0.7815 | WER 1.6035:  86%|████████▋ | 1398/1620 [25:28<03:21,  1.10it/s]"
     ]
    },
    {
     "name": "stderr",
     "output_type": "stream",
     "text": [
      "\r",
      "Epoch 25 | Step 1350 | CER 0.7815 | WER 1.6035:  86%|████████▋ | 1399/1620 [25:28<03:14,  1.13it/s]"
     ]
    },
    {
     "name": "stderr",
     "output_type": "stream",
     "text": [
      "\r",
      "Epoch 25 | Step 1350 | CER 0.7815 | WER 1.6035:  86%|████████▋ | 1400/1620 [25:29<03:01,  1.21it/s]"
     ]
    },
    {
     "name": "stderr",
     "output_type": "stream",
     "text": [
      "\r",
      "Epoch 25 | Step 1350 | CER 0.7815 | WER 1.6035:  86%|████████▋ | 1401/1620 [25:30<03:25,  1.06it/s]"
     ]
    },
    {
     "name": "stderr",
     "output_type": "stream",
     "text": [
      "\r",
      "Epoch 25 | Step 1350 | CER 0.7815 | WER 1.6035:  87%|████████▋ | 1402/1620 [25:31<03:13,  1.13it/s]"
     ]
    },
    {
     "name": "stderr",
     "output_type": "stream",
     "text": [
      "\r",
      "Epoch 25 | Step 1350 | CER 0.7815 | WER 1.6035:  87%|████████▋ | 1403/1620 [25:32<02:59,  1.21it/s]"
     ]
    },
    {
     "name": "stderr",
     "output_type": "stream",
     "text": [
      "\r",
      "Epoch 25 | Step 1350 | CER 0.7815 | WER 1.6035:  87%|████████▋ | 1404/1620 [25:32<02:24,  1.50it/s]"
     ]
    },
    {
     "name": "stderr",
     "output_type": "stream",
     "text": [
      "\r",
      "Epoch 26 | Step 1404 | CER 0.5829 | WER 1.1870:  87%|████████▋ | 1404/1620 [25:38<02:24,  1.50it/s]"
     ]
    },
    {
     "name": "stderr",
     "output_type": "stream",
     "text": [
      "\r",
      "Epoch 26 | Step 1404 | CER 0.5829 | WER 1.1870:  87%|████████▋ | 1405/1620 [25:46<16:51,  4.71s/it]"
     ]
    },
    {
     "name": "stderr",
     "output_type": "stream",
     "text": [
      "\r",
      "Epoch 26 | Step 1404 | CER 0.5829 | WER 1.1870:  87%|████████▋ | 1406/1620 [25:47<12:53,  3.61s/it]"
     ]
    },
    {
     "name": "stderr",
     "output_type": "stream",
     "text": [
      "\r",
      "Epoch 26 | Step 1404 | CER 0.5829 | WER 1.1870:  87%|████████▋ | 1407/1620 [25:48<09:42,  2.74s/it]"
     ]
    },
    {
     "name": "stderr",
     "output_type": "stream",
     "text": [
      "\r",
      "Epoch 26 | Step 1404 | CER 0.5829 | WER 1.1870:  87%|████████▋ | 1408/1620 [25:49<07:31,  2.13s/it]"
     ]
    },
    {
     "name": "stderr",
     "output_type": "stream",
     "text": [
      "\r",
      "Epoch 26 | Step 1404 | CER 0.5829 | WER 1.1870:  87%|████████▋ | 1409/1620 [25:50<06:13,  1.77s/it]"
     ]
    },
    {
     "name": "stderr",
     "output_type": "stream",
     "text": [
      "\r",
      "Epoch 26 | Step 1404 | CER 0.5829 | WER 1.1870:  87%|████████▋ | 1410/1620 [25:50<05:07,  1.47s/it]"
     ]
    },
    {
     "name": "stderr",
     "output_type": "stream",
     "text": [
      "\r",
      "Epoch 26 | Step 1404 | CER 0.5829 | WER 1.1870:  87%|████████▋ | 1411/1620 [25:51<04:28,  1.29s/it]"
     ]
    },
    {
     "name": "stderr",
     "output_type": "stream",
     "text": [
      "\r",
      "Epoch 26 | Step 1404 | CER 0.5829 | WER 1.1870:  87%|████████▋ | 1412/1620 [25:52<04:03,  1.17s/it]"
     ]
    },
    {
     "name": "stderr",
     "output_type": "stream",
     "text": [
      "\r",
      "Epoch 26 | Step 1404 | CER 0.5829 | WER 1.1870:  87%|████████▋ | 1413/1620 [25:53<03:32,  1.03s/it]"
     ]
    },
    {
     "name": "stderr",
     "output_type": "stream",
     "text": [
      "\r",
      "Epoch 26 | Step 1404 | CER 0.5829 | WER 1.1870:  87%|████████▋ | 1414/1620 [25:54<03:24,  1.01it/s]"
     ]
    },
    {
     "name": "stderr",
     "output_type": "stream",
     "text": [
      "\r",
      "Epoch 26 | Step 1404 | CER 0.5829 | WER 1.1870:  87%|████████▋ | 1415/1620 [25:55<03:14,  1.05it/s]"
     ]
    },
    {
     "name": "stderr",
     "output_type": "stream",
     "text": [
      "\r",
      "Epoch 26 | Step 1404 | CER 0.5829 | WER 1.1870:  87%|████████▋ | 1416/1620 [25:55<02:56,  1.15it/s]"
     ]
    },
    {
     "name": "stderr",
     "output_type": "stream",
     "text": [
      "\r",
      "Epoch 26 | Step 1404 | CER 0.5829 | WER 1.1870:  87%|████████▋ | 1417/1620 [25:56<02:56,  1.15it/s]"
     ]
    },
    {
     "name": "stderr",
     "output_type": "stream",
     "text": [
      "\r",
      "Epoch 26 | Step 1404 | CER 0.5829 | WER 1.1870:  88%|████████▊ | 1418/1620 [25:57<02:54,  1.16it/s]"
     ]
    },
    {
     "name": "stderr",
     "output_type": "stream",
     "text": [
      "\r",
      "Epoch 26 | Step 1404 | CER 0.5829 | WER 1.1870:  88%|████████▊ | 1419/1620 [25:58<02:44,  1.22it/s]"
     ]
    },
    {
     "name": "stderr",
     "output_type": "stream",
     "text": [
      "\r",
      "Epoch 26 | Step 1404 | CER 0.5829 | WER 1.1870:  88%|████████▊ | 1420/1620 [25:59<02:55,  1.14it/s]"
     ]
    },
    {
     "name": "stderr",
     "output_type": "stream",
     "text": [
      "\r",
      "Epoch 26 | Step 1404 | CER 0.5829 | WER 1.1870:  88%|████████▊ | 1421/1620 [25:59<02:44,  1.21it/s]"
     ]
    },
    {
     "name": "stderr",
     "output_type": "stream",
     "text": [
      "\r",
      "Epoch 26 | Step 1404 | CER 0.5829 | WER 1.1870:  88%|████████▊ | 1422/1620 [26:00<02:39,  1.24it/s]"
     ]
    },
    {
     "name": "stderr",
     "output_type": "stream",
     "text": [
      "\r",
      "Epoch 26 | Step 1404 | CER 0.5829 | WER 1.1870:  88%|████████▊ | 1423/1620 [26:01<02:33,  1.29it/s]"
     ]
    },
    {
     "name": "stderr",
     "output_type": "stream",
     "text": [
      "\r",
      "Epoch 26 | Step 1404 | CER 0.5829 | WER 1.1870:  88%|████████▊ | 1424/1620 [26:02<02:29,  1.32it/s]"
     ]
    },
    {
     "name": "stderr",
     "output_type": "stream",
     "text": [
      "\r",
      "Epoch 26 | Step 1404 | CER 0.5829 | WER 1.1870:  88%|████████▊ | 1425/1620 [26:02<02:36,  1.24it/s]"
     ]
    },
    {
     "name": "stderr",
     "output_type": "stream",
     "text": [
      "\r",
      "Epoch 26 | Step 1404 | CER 0.5829 | WER 1.1870:  88%|████████▊ | 1426/1620 [26:04<02:49,  1.15it/s]"
     ]
    },
    {
     "name": "stderr",
     "output_type": "stream",
     "text": [
      "\r",
      "Epoch 26 | Step 1404 | CER 0.5829 | WER 1.1870:  88%|████████▊ | 1427/1620 [26:04<02:53,  1.11it/s]"
     ]
    },
    {
     "name": "stderr",
     "output_type": "stream",
     "text": [
      "\r",
      "Epoch 26 | Step 1404 | CER 0.5829 | WER 1.1870:  88%|████████▊ | 1428/1620 [26:05<02:39,  1.20it/s]"
     ]
    },
    {
     "name": "stderr",
     "output_type": "stream",
     "text": [
      "\r",
      "Epoch 26 | Step 1404 | CER 0.5829 | WER 1.1870:  88%|████████▊ | 1429/1620 [26:06<02:43,  1.17it/s]"
     ]
    },
    {
     "name": "stderr",
     "output_type": "stream",
     "text": [
      "\r",
      "Epoch 26 | Step 1404 | CER 0.5829 | WER 1.1870:  88%|████████▊ | 1430/1620 [26:07<02:55,  1.09it/s]"
     ]
    },
    {
     "name": "stderr",
     "output_type": "stream",
     "text": [
      "\r",
      "Epoch 26 | Step 1404 | CER 0.5829 | WER 1.1870:  88%|████████▊ | 1431/1620 [26:08<02:42,  1.17it/s]"
     ]
    },
    {
     "name": "stderr",
     "output_type": "stream",
     "text": [
      "\r",
      "Epoch 26 | Step 1404 | CER 0.5829 | WER 1.1870:  88%|████████▊ | 1432/1620 [26:09<02:44,  1.14it/s]"
     ]
    },
    {
     "name": "stderr",
     "output_type": "stream",
     "text": [
      "\r",
      "Epoch 26 | Step 1404 | CER 0.5829 | WER 1.1870:  88%|████████▊ | 1433/1620 [26:10<02:37,  1.18it/s]"
     ]
    },
    {
     "name": "stderr",
     "output_type": "stream",
     "text": [
      "\r",
      "Epoch 26 | Step 1404 | CER 0.5829 | WER 1.1870:  89%|████████▊ | 1434/1620 [26:10<02:36,  1.19it/s]"
     ]
    },
    {
     "name": "stderr",
     "output_type": "stream",
     "text": [
      "\r",
      "Epoch 26 | Step 1404 | CER 0.5829 | WER 1.1870:  89%|████████▊ | 1435/1620 [26:11<02:42,  1.14it/s]"
     ]
    },
    {
     "name": "stderr",
     "output_type": "stream",
     "text": [
      "\r",
      "Epoch 26 | Step 1404 | CER 0.5829 | WER 1.1870:  89%|████████▊ | 1436/1620 [26:12<02:30,  1.22it/s]"
     ]
    },
    {
     "name": "stderr",
     "output_type": "stream",
     "text": [
      "\r",
      "Epoch 26 | Step 1404 | CER 0.5829 | WER 1.1870:  89%|████████▊ | 1437/1620 [26:13<02:42,  1.13it/s]"
     ]
    },
    {
     "name": "stderr",
     "output_type": "stream",
     "text": [
      "\r",
      "Epoch 26 | Step 1404 | CER 0.5829 | WER 1.1870:  89%|████████▉ | 1438/1620 [26:14<02:45,  1.10it/s]"
     ]
    },
    {
     "name": "stderr",
     "output_type": "stream",
     "text": [
      "\r",
      "Epoch 26 | Step 1404 | CER 0.5829 | WER 1.1870:  89%|████████▉ | 1439/1620 [26:15<02:31,  1.20it/s]"
     ]
    },
    {
     "name": "stderr",
     "output_type": "stream",
     "text": [
      "\r",
      "Epoch 26 | Step 1404 | CER 0.5829 | WER 1.1870:  89%|████████▉ | 1440/1620 [26:16<02:35,  1.16it/s]"
     ]
    },
    {
     "name": "stderr",
     "output_type": "stream",
     "text": [
      "\r",
      "Epoch 26 | Step 1404 | CER 0.5829 | WER 1.1870:  89%|████████▉ | 1441/1620 [26:16<02:26,  1.22it/s]"
     ]
    },
    {
     "name": "stderr",
     "output_type": "stream",
     "text": [
      "\r",
      "Epoch 26 | Step 1404 | CER 0.5829 | WER 1.1870:  89%|████████▉ | 1442/1620 [26:17<02:34,  1.15it/s]"
     ]
    },
    {
     "name": "stderr",
     "output_type": "stream",
     "text": [
      "\r",
      "Epoch 26 | Step 1404 | CER 0.5829 | WER 1.1870:  89%|████████▉ | 1443/1620 [26:18<02:30,  1.17it/s]"
     ]
    },
    {
     "name": "stderr",
     "output_type": "stream",
     "text": [
      "\r",
      "Epoch 26 | Step 1404 | CER 0.5829 | WER 1.1870:  89%|████████▉ | 1444/1620 [26:19<02:41,  1.09it/s]"
     ]
    },
    {
     "name": "stderr",
     "output_type": "stream",
     "text": [
      "\r",
      "Epoch 26 | Step 1404 | CER 0.5829 | WER 1.1870:  89%|████████▉ | 1445/1620 [26:20<02:41,  1.09it/s]"
     ]
    },
    {
     "name": "stderr",
     "output_type": "stream",
     "text": [
      "\r",
      "Epoch 26 | Step 1404 | CER 0.5829 | WER 1.1870:  89%|████████▉ | 1446/1620 [26:21<02:34,  1.13it/s]"
     ]
    },
    {
     "name": "stderr",
     "output_type": "stream",
     "text": [
      "\r",
      "Epoch 26 | Step 1404 | CER 0.5829 | WER 1.1870:  89%|████████▉ | 1447/1620 [26:22<02:22,  1.21it/s]"
     ]
    },
    {
     "name": "stderr",
     "output_type": "stream",
     "text": [
      "\r",
      "Epoch 26 | Step 1404 | CER 0.5829 | WER 1.1870:  89%|████████▉ | 1448/1620 [26:23<02:30,  1.14it/s]"
     ]
    },
    {
     "name": "stderr",
     "output_type": "stream",
     "text": [
      "\r",
      "Epoch 26 | Step 1404 | CER 0.5829 | WER 1.1870:  89%|████████▉ | 1449/1620 [26:24<02:31,  1.13it/s]"
     ]
    },
    {
     "name": "stderr",
     "output_type": "stream",
     "text": [
      "\r",
      "Epoch 26 | Step 1404 | CER 0.5829 | WER 1.1870:  90%|████████▉ | 1450/1620 [26:25<02:47,  1.02it/s]"
     ]
    },
    {
     "name": "stderr",
     "output_type": "stream",
     "text": [
      "\r",
      "Epoch 26 | Step 1404 | CER 0.5829 | WER 1.1870:  90%|████████▉ | 1451/1620 [26:26<02:39,  1.06it/s]"
     ]
    },
    {
     "name": "stderr",
     "output_type": "stream",
     "text": [
      "\r",
      "Epoch 26 | Step 1404 | CER 0.5829 | WER 1.1870:  90%|████████▉ | 1452/1620 [26:26<02:36,  1.07it/s]"
     ]
    },
    {
     "name": "stderr",
     "output_type": "stream",
     "text": [
      "\r",
      "Epoch 26 | Step 1404 | CER 0.5829 | WER 1.1870:  90%|████████▉ | 1453/1620 [26:27<02:26,  1.14it/s]"
     ]
    },
    {
     "name": "stderr",
     "output_type": "stream",
     "text": [
      "\r",
      "Epoch 26 | Step 1404 | CER 0.5829 | WER 1.1870:  90%|████████▉ | 1454/1620 [26:28<02:29,  1.11it/s]"
     ]
    },
    {
     "name": "stderr",
     "output_type": "stream",
     "text": [
      "\r",
      "Epoch 26 | Step 1404 | CER 0.5829 | WER 1.1870:  90%|████████▉ | 1455/1620 [26:29<02:19,  1.19it/s]"
     ]
    },
    {
     "name": "stderr",
     "output_type": "stream",
     "text": [
      "\r",
      "Epoch 26 | Step 1404 | CER 0.5829 | WER 1.1870:  90%|████████▉ | 1456/1620 [26:30<02:18,  1.19it/s]"
     ]
    },
    {
     "name": "stderr",
     "output_type": "stream",
     "text": [
      "\r",
      "Epoch 26 | Step 1404 | CER 0.5829 | WER 1.1870:  90%|████████▉ | 1457/1620 [26:31<02:16,  1.20it/s]"
     ]
    },
    {
     "name": "stderr",
     "output_type": "stream",
     "text": [
      "\r",
      "Epoch 26 | Step 1404 | CER 0.5829 | WER 1.1870:  90%|█████████ | 1458/1620 [26:31<01:49,  1.49it/s]"
     ]
    },
    {
     "name": "stderr",
     "output_type": "stream",
     "text": [
      "\r",
      "Epoch 27 | Step 1458 | CER 0.6453 | WER 1.2918:  90%|█████████ | 1458/1620 [26:37<01:49,  1.49it/s]"
     ]
    },
    {
     "name": "stderr",
     "output_type": "stream",
     "text": [
      "\r",
      "Epoch 27 | Step 1458 | CER 0.6453 | WER 1.2918:  90%|█████████ | 1459/1620 [26:44<12:12,  4.55s/it]"
     ]
    },
    {
     "name": "stderr",
     "output_type": "stream",
     "text": [
      "\r",
      "Epoch 27 | Step 1458 | CER 0.6453 | WER 1.2918:  90%|█████████ | 1460/1620 [26:45<09:09,  3.43s/it]"
     ]
    },
    {
     "name": "stderr",
     "output_type": "stream",
     "text": [
      "\r",
      "Epoch 27 | Step 1458 | CER 0.6453 | WER 1.2918:  90%|█████████ | 1461/1620 [26:46<07:00,  2.64s/it]"
     ]
    },
    {
     "name": "stderr",
     "output_type": "stream",
     "text": [
      "\r",
      "Epoch 27 | Step 1458 | CER 0.6453 | WER 1.2918:  90%|█████████ | 1462/1620 [26:47<05:21,  2.04s/it]"
     ]
    },
    {
     "name": "stderr",
     "output_type": "stream",
     "text": [
      "\r",
      "Epoch 27 | Step 1458 | CER 0.6453 | WER 1.2918:  90%|█████████ | 1463/1620 [26:48<04:22,  1.67s/it]"
     ]
    },
    {
     "name": "stderr",
     "output_type": "stream",
     "text": [
      "\r",
      "Epoch 27 | Step 1458 | CER 0.6453 | WER 1.2918:  90%|█████████ | 1464/1620 [26:48<03:44,  1.44s/it]"
     ]
    },
    {
     "name": "stderr",
     "output_type": "stream",
     "text": [
      "\r",
      "Epoch 27 | Step 1458 | CER 0.6453 | WER 1.2918:  90%|█████████ | 1465/1620 [26:49<03:17,  1.27s/it]"
     ]
    },
    {
     "name": "stderr",
     "output_type": "stream",
     "text": [
      "\r",
      "Epoch 27 | Step 1458 | CER 0.6453 | WER 1.2918:  90%|█████████ | 1466/1620 [26:50<03:03,  1.19s/it]"
     ]
    },
    {
     "name": "stderr",
     "output_type": "stream",
     "text": [
      "\r",
      "Epoch 27 | Step 1458 | CER 0.6453 | WER 1.2918:  91%|█████████ | 1467/1620 [26:51<02:38,  1.04s/it]"
     ]
    },
    {
     "name": "stderr",
     "output_type": "stream",
     "text": [
      "\r",
      "Epoch 27 | Step 1458 | CER 0.6453 | WER 1.2918:  91%|█████████ | 1468/1620 [26:52<02:21,  1.08it/s]"
     ]
    },
    {
     "name": "stderr",
     "output_type": "stream",
     "text": [
      "\r",
      "Epoch 27 | Step 1458 | CER 0.6453 | WER 1.2918:  91%|█████████ | 1469/1620 [26:52<02:15,  1.12it/s]"
     ]
    },
    {
     "name": "stderr",
     "output_type": "stream",
     "text": [
      "\r",
      "Epoch 27 | Step 1458 | CER 0.6453 | WER 1.2918:  91%|█████████ | 1470/1620 [26:53<02:19,  1.07it/s]"
     ]
    },
    {
     "name": "stderr",
     "output_type": "stream",
     "text": [
      "\r",
      "Epoch 27 | Step 1458 | CER 0.6453 | WER 1.2918:  91%|█████████ | 1471/1620 [26:54<02:13,  1.11it/s]"
     ]
    },
    {
     "name": "stderr",
     "output_type": "stream",
     "text": [
      "\r",
      "Epoch 27 | Step 1458 | CER 0.6453 | WER 1.2918:  91%|█████████ | 1472/1620 [26:55<02:21,  1.05it/s]"
     ]
    },
    {
     "name": "stderr",
     "output_type": "stream",
     "text": [
      "\r",
      "Epoch 27 | Step 1458 | CER 0.6453 | WER 1.2918:  91%|█████████ | 1473/1620 [26:56<02:16,  1.07it/s]"
     ]
    },
    {
     "name": "stderr",
     "output_type": "stream",
     "text": [
      "\r",
      "Epoch 27 | Step 1458 | CER 0.6453 | WER 1.2918:  91%|█████████ | 1474/1620 [26:58<02:39,  1.09s/it]"
     ]
    },
    {
     "name": "stderr",
     "output_type": "stream",
     "text": [
      "\r",
      "Epoch 27 | Step 1458 | CER 0.6453 | WER 1.2918:  91%|█████████ | 1475/1620 [26:59<02:32,  1.05s/it]"
     ]
    },
    {
     "name": "stderr",
     "output_type": "stream",
     "text": [
      "\r",
      "Epoch 27 | Step 1458 | CER 0.6453 | WER 1.2918:  91%|█████████ | 1476/1620 [26:59<02:18,  1.04it/s]"
     ]
    },
    {
     "name": "stderr",
     "output_type": "stream",
     "text": [
      "\r",
      "Epoch 27 | Step 1458 | CER 0.6453 | WER 1.2918:  91%|█████████ | 1477/1620 [27:00<02:03,  1.16it/s]"
     ]
    },
    {
     "name": "stderr",
     "output_type": "stream",
     "text": [
      "\r",
      "Epoch 27 | Step 1458 | CER 0.6453 | WER 1.2918:  91%|█████████ | 1478/1620 [27:01<02:05,  1.13it/s]"
     ]
    },
    {
     "name": "stderr",
     "output_type": "stream",
     "text": [
      "\r",
      "Epoch 27 | Step 1458 | CER 0.6453 | WER 1.2918:  91%|█████████▏| 1479/1620 [27:02<01:57,  1.20it/s]"
     ]
    },
    {
     "name": "stderr",
     "output_type": "stream",
     "text": [
      "\r",
      "Epoch 27 | Step 1458 | CER 0.6453 | WER 1.2918:  91%|█████████▏| 1480/1620 [27:03<01:56,  1.20it/s]"
     ]
    },
    {
     "name": "stderr",
     "output_type": "stream",
     "text": [
      "\r",
      "Epoch 27 | Step 1458 | CER 0.6453 | WER 1.2918:  91%|█████████▏| 1481/1620 [27:03<01:50,  1.26it/s]"
     ]
    },
    {
     "name": "stderr",
     "output_type": "stream",
     "text": [
      "\r",
      "Epoch 27 | Step 1458 | CER 0.6453 | WER 1.2918:  91%|█████████▏| 1482/1620 [27:04<01:49,  1.27it/s]"
     ]
    },
    {
     "name": "stderr",
     "output_type": "stream",
     "text": [
      "\r",
      "Epoch 27 | Step 1458 | CER 0.6453 | WER 1.2918:  92%|█████████▏| 1483/1620 [27:05<01:53,  1.21it/s]"
     ]
    },
    {
     "name": "stderr",
     "output_type": "stream",
     "text": [
      "\r",
      "Epoch 27 | Step 1458 | CER 0.6453 | WER 1.2918:  92%|█████████▏| 1484/1620 [27:06<01:45,  1.28it/s]"
     ]
    },
    {
     "name": "stderr",
     "output_type": "stream",
     "text": [
      "\r",
      "Epoch 27 | Step 1458 | CER 0.6453 | WER 1.2918:  92%|█████████▏| 1485/1620 [27:07<01:52,  1.20it/s]"
     ]
    },
    {
     "name": "stderr",
     "output_type": "stream",
     "text": [
      "\r",
      "Epoch 27 | Step 1458 | CER 0.6453 | WER 1.2918:  92%|█████████▏| 1486/1620 [27:08<01:58,  1.13it/s]"
     ]
    },
    {
     "name": "stderr",
     "output_type": "stream",
     "text": [
      "\r",
      "Epoch 27 | Step 1458 | CER 0.6453 | WER 1.2918:  92%|█████████▏| 1487/1620 [27:08<01:58,  1.13it/s]"
     ]
    },
    {
     "name": "stderr",
     "output_type": "stream",
     "text": [
      "\r",
      "Epoch 27 | Step 1458 | CER 0.6453 | WER 1.2918:  92%|█████████▏| 1488/1620 [27:09<01:55,  1.14it/s]"
     ]
    },
    {
     "name": "stderr",
     "output_type": "stream",
     "text": [
      "\r",
      "Epoch 27 | Step 1458 | CER 0.6453 | WER 1.2918:  92%|█████████▏| 1489/1620 [27:10<02:00,  1.08it/s]"
     ]
    },
    {
     "name": "stderr",
     "output_type": "stream",
     "text": [
      "\r",
      "Epoch 27 | Step 1458 | CER 0.6453 | WER 1.2918:  92%|█████████▏| 1490/1620 [27:12<02:11,  1.01s/it]"
     ]
    },
    {
     "name": "stderr",
     "output_type": "stream",
     "text": [
      "\r",
      "Epoch 27 | Step 1458 | CER 0.6453 | WER 1.2918:  92%|█████████▏| 1491/1620 [27:12<02:00,  1.07it/s]"
     ]
    },
    {
     "name": "stderr",
     "output_type": "stream",
     "text": [
      "\r",
      "Epoch 27 | Step 1458 | CER 0.6453 | WER 1.2918:  92%|█████████▏| 1492/1620 [27:13<02:05,  1.02it/s]"
     ]
    },
    {
     "name": "stderr",
     "output_type": "stream",
     "text": [
      "\r",
      "Epoch 27 | Step 1458 | CER 0.6453 | WER 1.2918:  92%|█████████▏| 1493/1620 [27:14<01:57,  1.08it/s]"
     ]
    },
    {
     "name": "stderr",
     "output_type": "stream",
     "text": [
      "\r",
      "Epoch 27 | Step 1458 | CER 0.6453 | WER 1.2918:  92%|█████████▏| 1494/1620 [27:15<01:51,  1.13it/s]"
     ]
    },
    {
     "name": "stderr",
     "output_type": "stream",
     "text": [
      "\r",
      "Epoch 27 | Step 1458 | CER 0.6453 | WER 1.2918:  92%|█████████▏| 1495/1620 [27:16<01:47,  1.16it/s]"
     ]
    },
    {
     "name": "stderr",
     "output_type": "stream",
     "text": [
      "\r",
      "Epoch 27 | Step 1458 | CER 0.6453 | WER 1.2918:  92%|█████████▏| 1496/1620 [27:16<01:40,  1.23it/s]"
     ]
    },
    {
     "name": "stderr",
     "output_type": "stream",
     "text": [
      "\r",
      "Epoch 27 | Step 1458 | CER 0.6453 | WER 1.2918:  92%|█████████▏| 1497/1620 [27:17<01:35,  1.29it/s]"
     ]
    },
    {
     "name": "stderr",
     "output_type": "stream",
     "text": [
      "\r",
      "Epoch 27 | Step 1458 | CER 0.6453 | WER 1.2918:  92%|█████████▏| 1498/1620 [27:18<01:47,  1.14it/s]"
     ]
    },
    {
     "name": "stderr",
     "output_type": "stream",
     "text": [
      "\r",
      "Epoch 27 | Step 1458 | CER 0.6453 | WER 1.2918:  93%|█████████▎| 1499/1620 [27:19<01:37,  1.24it/s]"
     ]
    },
    {
     "name": "stderr",
     "output_type": "stream",
     "text": [
      "\r",
      "Epoch 27 | Step 1458 | CER 0.6453 | WER 1.2918:  93%|█████████▎| 1500/1620 [27:20<01:46,  1.13it/s]"
     ]
    },
    {
     "name": "stderr",
     "output_type": "stream",
     "text": [
      "\r",
      "Epoch 27 | Step 1500 | Loss 0.1065:  93%|█████████▎| 1500/1620 [27:20<01:46,  1.13it/s]            "
     ]
    },
    {
     "name": "stderr",
     "output_type": "stream",
     "text": [
      "\r",
      "Epoch 27 | Step 1500 | Loss 0.1065:  93%|█████████▎| 1501/1620 [27:21<01:44,  1.13it/s]"
     ]
    },
    {
     "name": "stderr",
     "output_type": "stream",
     "text": [
      "\r",
      "Epoch 27 | Step 1500 | Loss 0.1065:  93%|█████████▎| 1502/1620 [27:22<01:35,  1.23it/s]"
     ]
    },
    {
     "name": "stderr",
     "output_type": "stream",
     "text": [
      "\r",
      "Epoch 27 | Step 1500 | Loss 0.1065:  93%|█████████▎| 1503/1620 [27:23<01:43,  1.13it/s]"
     ]
    },
    {
     "name": "stderr",
     "output_type": "stream",
     "text": [
      "\r",
      "Epoch 27 | Step 1500 | Loss 0.1065:  93%|█████████▎| 1504/1620 [27:23<01:36,  1.20it/s]"
     ]
    },
    {
     "name": "stderr",
     "output_type": "stream",
     "text": [
      "\r",
      "Epoch 27 | Step 1500 | Loss 0.1065:  93%|█████████▎| 1505/1620 [27:24<01:39,  1.16it/s]"
     ]
    },
    {
     "name": "stderr",
     "output_type": "stream",
     "text": [
      "\r",
      "Epoch 27 | Step 1500 | Loss 0.1065:  93%|█████████▎| 1506/1620 [27:25<01:32,  1.23it/s]"
     ]
    },
    {
     "name": "stderr",
     "output_type": "stream",
     "text": [
      "\r",
      "Epoch 27 | Step 1500 | Loss 0.1065:  93%|█████████▎| 1507/1620 [27:26<01:44,  1.08it/s]"
     ]
    },
    {
     "name": "stderr",
     "output_type": "stream",
     "text": [
      "\r",
      "Epoch 27 | Step 1500 | Loss 0.1065:  93%|█████████▎| 1508/1620 [27:27<01:40,  1.12it/s]"
     ]
    },
    {
     "name": "stderr",
     "output_type": "stream",
     "text": [
      "\r",
      "Epoch 27 | Step 1500 | Loss 0.1065:  93%|█████████▎| 1509/1620 [27:28<01:42,  1.08it/s]"
     ]
    },
    {
     "name": "stderr",
     "output_type": "stream",
     "text": [
      "\r",
      "Epoch 27 | Step 1500 | Loss 0.1065:  93%|█████████▎| 1510/1620 [27:29<01:38,  1.12it/s]"
     ]
    },
    {
     "name": "stderr",
     "output_type": "stream",
     "text": [
      "\r",
      "Epoch 27 | Step 1500 | Loss 0.1065:  93%|█████████▎| 1511/1620 [27:29<01:28,  1.24it/s]"
     ]
    },
    {
     "name": "stderr",
     "output_type": "stream",
     "text": [
      "\r",
      "Epoch 27 | Step 1500 | Loss 0.1065:  93%|█████████▎| 1512/1620 [27:30<01:10,  1.53it/s]"
     ]
    },
    {
     "name": "stderr",
     "output_type": "stream",
     "text": [
      "\r",
      "Epoch 28 | Step 1512 | CER 0.5969 | WER 1.1970:  93%|█████████▎| 1512/1620 [27:36<01:10,  1.53it/s]"
     ]
    },
    {
     "name": "stderr",
     "output_type": "stream",
     "text": [
      "\r",
      "Epoch 28 | Step 1512 | CER 0.5969 | WER 1.1970:  93%|█████████▎| 1513/1620 [27:44<08:23,  4.71s/it]"
     ]
    },
    {
     "name": "stderr",
     "output_type": "stream",
     "text": [
      "\r",
      "Epoch 28 | Step 1512 | CER 0.5969 | WER 1.1970:  93%|█████████▎| 1514/1620 [27:45<06:15,  3.54s/it]"
     ]
    },
    {
     "name": "stderr",
     "output_type": "stream",
     "text": [
      "\r",
      "Epoch 28 | Step 1512 | CER 0.5969 | WER 1.1970:  94%|█████████▎| 1515/1620 [27:45<04:46,  2.72s/it]"
     ]
    },
    {
     "name": "stderr",
     "output_type": "stream",
     "text": [
      "\r",
      "Epoch 28 | Step 1512 | CER 0.5969 | WER 1.1970:  94%|█████████▎| 1516/1620 [27:46<03:47,  2.19s/it]"
     ]
    },
    {
     "name": "stderr",
     "output_type": "stream",
     "text": [
      "\r",
      "Epoch 28 | Step 1512 | CER 0.5969 | WER 1.1970:  94%|█████████▎| 1517/1620 [27:47<02:59,  1.74s/it]"
     ]
    },
    {
     "name": "stderr",
     "output_type": "stream",
     "text": [
      "\r",
      "Epoch 28 | Step 1512 | CER 0.5969 | WER 1.1970:  94%|█████████▎| 1518/1620 [27:49<02:49,  1.66s/it]"
     ]
    },
    {
     "name": "stderr",
     "output_type": "stream",
     "text": [
      "\r",
      "Epoch 28 | Step 1512 | CER 0.5969 | WER 1.1970:  94%|█████████▍| 1519/1620 [27:49<02:17,  1.36s/it]"
     ]
    },
    {
     "name": "stderr",
     "output_type": "stream",
     "text": [
      "\r",
      "Epoch 28 | Step 1512 | CER 0.5969 | WER 1.1970:  94%|█████████▍| 1520/1620 [27:50<01:57,  1.17s/it]"
     ]
    },
    {
     "name": "stderr",
     "output_type": "stream",
     "text": [
      "\r",
      "Epoch 28 | Step 1512 | CER 0.5969 | WER 1.1970:  94%|█████████▍| 1521/1620 [27:51<01:39,  1.01s/it]"
     ]
    },
    {
     "name": "stderr",
     "output_type": "stream",
     "text": [
      "\r",
      "Epoch 28 | Step 1512 | CER 0.5969 | WER 1.1970:  94%|█████████▍| 1522/1620 [27:51<01:31,  1.07it/s]"
     ]
    },
    {
     "name": "stderr",
     "output_type": "stream",
     "text": [
      "\r",
      "Epoch 28 | Step 1512 | CER 0.5969 | WER 1.1970:  94%|█████████▍| 1523/1620 [27:52<01:26,  1.12it/s]"
     ]
    },
    {
     "name": "stderr",
     "output_type": "stream",
     "text": [
      "\r",
      "Epoch 28 | Step 1512 | CER 0.5969 | WER 1.1970:  94%|█████████▍| 1524/1620 [27:53<01:23,  1.15it/s]"
     ]
    },
    {
     "name": "stderr",
     "output_type": "stream",
     "text": [
      "\r",
      "Epoch 28 | Step 1512 | CER 0.5969 | WER 1.1970:  94%|█████████▍| 1525/1620 [27:54<01:32,  1.02it/s]"
     ]
    },
    {
     "name": "stderr",
     "output_type": "stream",
     "text": [
      "\r",
      "Epoch 28 | Step 1512 | CER 0.5969 | WER 1.1970:  94%|█████████▍| 1526/1620 [27:55<01:24,  1.11it/s]"
     ]
    },
    {
     "name": "stderr",
     "output_type": "stream",
     "text": [
      "\r",
      "Epoch 28 | Step 1512 | CER 0.5969 | WER 1.1970:  94%|█████████▍| 1527/1620 [27:56<01:18,  1.18it/s]"
     ]
    },
    {
     "name": "stderr",
     "output_type": "stream",
     "text": [
      "\r",
      "Epoch 28 | Step 1512 | CER 0.5969 | WER 1.1970:  94%|█████████▍| 1528/1620 [27:57<01:26,  1.07it/s]"
     ]
    },
    {
     "name": "stderr",
     "output_type": "stream",
     "text": [
      "\r",
      "Epoch 28 | Step 1512 | CER 0.5969 | WER 1.1970:  94%|█████████▍| 1529/1620 [27:58<01:22,  1.10it/s]"
     ]
    },
    {
     "name": "stderr",
     "output_type": "stream",
     "text": [
      "\r",
      "Epoch 28 | Step 1512 | CER 0.5969 | WER 1.1970:  94%|█████████▍| 1530/1620 [27:58<01:15,  1.19it/s]"
     ]
    },
    {
     "name": "stderr",
     "output_type": "stream",
     "text": [
      "\r",
      "Epoch 28 | Step 1512 | CER 0.5969 | WER 1.1970:  95%|█████████▍| 1531/1620 [27:59<01:21,  1.09it/s]"
     ]
    },
    {
     "name": "stderr",
     "output_type": "stream",
     "text": [
      "\r",
      "Epoch 28 | Step 1512 | CER 0.5969 | WER 1.1970:  95%|█████████▍| 1532/1620 [28:00<01:21,  1.08it/s]"
     ]
    },
    {
     "name": "stderr",
     "output_type": "stream",
     "text": [
      "\r",
      "Epoch 28 | Step 1512 | CER 0.5969 | WER 1.1970:  95%|█████████▍| 1533/1620 [28:01<01:16,  1.13it/s]"
     ]
    },
    {
     "name": "stderr",
     "output_type": "stream",
     "text": [
      "\r",
      "Epoch 28 | Step 1512 | CER 0.5969 | WER 1.1970:  95%|█████████▍| 1534/1620 [28:02<01:13,  1.16it/s]"
     ]
    },
    {
     "name": "stderr",
     "output_type": "stream",
     "text": [
      "\r",
      "Epoch 28 | Step 1512 | CER 0.5969 | WER 1.1970:  95%|█████████▍| 1535/1620 [28:03<01:10,  1.20it/s]"
     ]
    },
    {
     "name": "stderr",
     "output_type": "stream",
     "text": [
      "\r",
      "Epoch 28 | Step 1512 | CER 0.5969 | WER 1.1970:  95%|█████████▍| 1536/1620 [28:03<01:06,  1.27it/s]"
     ]
    },
    {
     "name": "stderr",
     "output_type": "stream",
     "text": [
      "\r",
      "Epoch 28 | Step 1512 | CER 0.5969 | WER 1.1970:  95%|█████████▍| 1537/1620 [28:04<01:08,  1.22it/s]"
     ]
    },
    {
     "name": "stderr",
     "output_type": "stream",
     "text": [
      "\r",
      "Epoch 28 | Step 1512 | CER 0.5969 | WER 1.1970:  95%|█████████▍| 1538/1620 [28:05<01:09,  1.17it/s]"
     ]
    },
    {
     "name": "stderr",
     "output_type": "stream",
     "text": [
      "\r",
      "Epoch 28 | Step 1512 | CER 0.5969 | WER 1.1970:  95%|█████████▌| 1539/1620 [28:06<01:10,  1.15it/s]"
     ]
    },
    {
     "name": "stderr",
     "output_type": "stream",
     "text": [
      "\r",
      "Epoch 28 | Step 1512 | CER 0.5969 | WER 1.1970:  95%|█████████▌| 1540/1620 [28:07<01:08,  1.16it/s]"
     ]
    },
    {
     "name": "stderr",
     "output_type": "stream",
     "text": [
      "\r",
      "Epoch 28 | Step 1512 | CER 0.5969 | WER 1.1970:  95%|█████████▌| 1541/1620 [28:08<01:05,  1.21it/s]"
     ]
    },
    {
     "name": "stderr",
     "output_type": "stream",
     "text": [
      "\r",
      "Epoch 28 | Step 1512 | CER 0.5969 | WER 1.1970:  95%|█████████▌| 1542/1620 [28:09<01:05,  1.19it/s]"
     ]
    },
    {
     "name": "stderr",
     "output_type": "stream",
     "text": [
      "\r",
      "Epoch 28 | Step 1512 | CER 0.5969 | WER 1.1970:  95%|█████████▌| 1543/1620 [28:09<01:03,  1.21it/s]"
     ]
    },
    {
     "name": "stderr",
     "output_type": "stream",
     "text": [
      "\r",
      "Epoch 28 | Step 1512 | CER 0.5969 | WER 1.1970:  95%|█████████▌| 1544/1620 [28:10<01:01,  1.24it/s]"
     ]
    },
    {
     "name": "stderr",
     "output_type": "stream",
     "text": [
      "\r",
      "Epoch 28 | Step 1512 | CER 0.5969 | WER 1.1970:  95%|█████████▌| 1545/1620 [28:11<01:01,  1.22it/s]"
     ]
    },
    {
     "name": "stderr",
     "output_type": "stream",
     "text": [
      "\r",
      "Epoch 28 | Step 1512 | CER 0.5969 | WER 1.1970:  95%|█████████▌| 1546/1620 [28:12<01:09,  1.07it/s]"
     ]
    },
    {
     "name": "stderr",
     "output_type": "stream",
     "text": [
      "\r",
      "Epoch 28 | Step 1512 | CER 0.5969 | WER 1.1970:  95%|█████████▌| 1547/1620 [28:13<01:09,  1.05it/s]"
     ]
    },
    {
     "name": "stderr",
     "output_type": "stream",
     "text": [
      "\r",
      "Epoch 28 | Step 1512 | CER 0.5969 | WER 1.1970:  96%|█████████▌| 1548/1620 [28:14<01:05,  1.11it/s]"
     ]
    },
    {
     "name": "stderr",
     "output_type": "stream",
     "text": [
      "\r",
      "Epoch 28 | Step 1512 | CER 0.5969 | WER 1.1970:  96%|█████████▌| 1549/1620 [28:15<00:59,  1.20it/s]"
     ]
    },
    {
     "name": "stderr",
     "output_type": "stream",
     "text": [
      "\r",
      "Epoch 28 | Step 1512 | CER 0.5969 | WER 1.1970:  96%|█████████▌| 1550/1620 [28:15<00:57,  1.23it/s]"
     ]
    },
    {
     "name": "stderr",
     "output_type": "stream",
     "text": [
      "\r",
      "Epoch 28 | Step 1512 | CER 0.5969 | WER 1.1970:  96%|█████████▌| 1551/1620 [28:16<00:52,  1.32it/s]"
     ]
    },
    {
     "name": "stderr",
     "output_type": "stream",
     "text": [
      "\r",
      "Epoch 28 | Step 1512 | CER 0.5969 | WER 1.1970:  96%|█████████▌| 1552/1620 [28:17<01:03,  1.06it/s]"
     ]
    },
    {
     "name": "stderr",
     "output_type": "stream",
     "text": [
      "\r",
      "Epoch 28 | Step 1512 | CER 0.5969 | WER 1.1970:  96%|█████████▌| 1553/1620 [28:18<01:00,  1.10it/s]"
     ]
    },
    {
     "name": "stderr",
     "output_type": "stream",
     "text": [
      "\r",
      "Epoch 28 | Step 1512 | CER 0.5969 | WER 1.1970:  96%|█████████▌| 1554/1620 [28:19<00:58,  1.12it/s]"
     ]
    },
    {
     "name": "stderr",
     "output_type": "stream",
     "text": [
      "\r",
      "Epoch 28 | Step 1512 | CER 0.5969 | WER 1.1970:  96%|█████████▌| 1555/1620 [28:20<00:54,  1.20it/s]"
     ]
    },
    {
     "name": "stderr",
     "output_type": "stream",
     "text": [
      "\r",
      "Epoch 28 | Step 1512 | CER 0.5969 | WER 1.1970:  96%|█████████▌| 1556/1620 [28:21<00:53,  1.19it/s]"
     ]
    },
    {
     "name": "stderr",
     "output_type": "stream",
     "text": [
      "\r",
      "Epoch 28 | Step 1512 | CER 0.5969 | WER 1.1970:  96%|█████████▌| 1557/1620 [28:21<00:51,  1.22it/s]"
     ]
    },
    {
     "name": "stderr",
     "output_type": "stream",
     "text": [
      "\r",
      "Epoch 28 | Step 1512 | CER 0.5969 | WER 1.1970:  96%|█████████▌| 1558/1620 [28:22<00:48,  1.27it/s]"
     ]
    },
    {
     "name": "stderr",
     "output_type": "stream",
     "text": [
      "\r",
      "Epoch 28 | Step 1512 | CER 0.5969 | WER 1.1970:  96%|█████████▌| 1559/1620 [28:23<00:54,  1.11it/s]"
     ]
    },
    {
     "name": "stderr",
     "output_type": "stream",
     "text": [
      "\r",
      "Epoch 28 | Step 1512 | CER 0.5969 | WER 1.1970:  96%|█████████▋| 1560/1620 [28:24<00:49,  1.21it/s]"
     ]
    },
    {
     "name": "stderr",
     "output_type": "stream",
     "text": [
      "\r",
      "Epoch 28 | Step 1512 | CER 0.5969 | WER 1.1970:  96%|█████████▋| 1561/1620 [28:25<00:51,  1.15it/s]"
     ]
    },
    {
     "name": "stderr",
     "output_type": "stream",
     "text": [
      "\r",
      "Epoch 28 | Step 1512 | CER 0.5969 | WER 1.1970:  96%|█████████▋| 1562/1620 [28:26<00:46,  1.23it/s]"
     ]
    },
    {
     "name": "stderr",
     "output_type": "stream",
     "text": [
      "\r",
      "Epoch 28 | Step 1512 | CER 0.5969 | WER 1.1970:  96%|█████████▋| 1563/1620 [28:26<00:42,  1.33it/s]"
     ]
    },
    {
     "name": "stderr",
     "output_type": "stream",
     "text": [
      "\r",
      "Epoch 28 | Step 1512 | CER 0.5969 | WER 1.1970:  97%|█████████▋| 1564/1620 [28:27<00:50,  1.11it/s]"
     ]
    },
    {
     "name": "stderr",
     "output_type": "stream",
     "text": [
      "\r",
      "Epoch 28 | Step 1512 | CER 0.5969 | WER 1.1970:  97%|█████████▋| 1565/1620 [28:28<00:46,  1.18it/s]"
     ]
    },
    {
     "name": "stderr",
     "output_type": "stream",
     "text": [
      "\r",
      "Epoch 28 | Step 1512 | CER 0.5969 | WER 1.1970:  97%|█████████▋| 1566/1620 [28:28<00:36,  1.46it/s]"
     ]
    },
    {
     "name": "stderr",
     "output_type": "stream",
     "text": [
      "\r",
      "Epoch 29 | Step 1566 | CER 0.5842 | WER 1.1870:  97%|█████████▋| 1566/1620 [28:34<00:36,  1.46it/s]"
     ]
    },
    {
     "name": "stderr",
     "output_type": "stream",
     "text": [
      "\r",
      "Epoch 29 | Step 1566 | CER 0.5842 | WER 1.1870:  97%|█████████▋| 1567/1620 [28:42<03:58,  4.51s/it]"
     ]
    },
    {
     "name": "stderr",
     "output_type": "stream",
     "text": [
      "\r",
      "Epoch 29 | Step 1566 | CER 0.5842 | WER 1.1870:  97%|█████████▋| 1568/1620 [28:43<02:55,  3.38s/it]"
     ]
    },
    {
     "name": "stderr",
     "output_type": "stream",
     "text": [
      "\r",
      "Epoch 29 | Step 1566 | CER 0.5842 | WER 1.1870:  97%|█████████▋| 1569/1620 [28:43<02:12,  2.59s/it]"
     ]
    },
    {
     "name": "stderr",
     "output_type": "stream",
     "text": [
      "\r",
      "Epoch 29 | Step 1566 | CER 0.5842 | WER 1.1870:  97%|█████████▋| 1570/1620 [28:44<01:42,  2.06s/it]"
     ]
    },
    {
     "name": "stderr",
     "output_type": "stream",
     "text": [
      "\r",
      "Epoch 29 | Step 1566 | CER 0.5842 | WER 1.1870:  97%|█████████▋| 1571/1620 [28:45<01:25,  1.74s/it]"
     ]
    },
    {
     "name": "stderr",
     "output_type": "stream",
     "text": [
      "\r",
      "Epoch 29 | Step 1566 | CER 0.5842 | WER 1.1870:  97%|█████████▋| 1572/1620 [28:46<01:11,  1.48s/it]"
     ]
    },
    {
     "name": "stderr",
     "output_type": "stream",
     "text": [
      "\r",
      "Epoch 29 | Step 1566 | CER 0.5842 | WER 1.1870:  97%|█████████▋| 1573/1620 [28:47<00:59,  1.27s/it]"
     ]
    },
    {
     "name": "stderr",
     "output_type": "stream",
     "text": [
      "\r",
      "Epoch 29 | Step 1566 | CER 0.5842 | WER 1.1870:  97%|█████████▋| 1574/1620 [28:48<00:53,  1.15s/it]"
     ]
    },
    {
     "name": "stderr",
     "output_type": "stream",
     "text": [
      "\r",
      "Epoch 29 | Step 1566 | CER 0.5842 | WER 1.1870:  97%|█████████▋| 1575/1620 [28:49<00:48,  1.07s/it]"
     ]
    },
    {
     "name": "stderr",
     "output_type": "stream",
     "text": [
      "\r",
      "Epoch 29 | Step 1566 | CER 0.5842 | WER 1.1870:  97%|█████████▋| 1576/1620 [28:49<00:42,  1.02it/s]"
     ]
    },
    {
     "name": "stderr",
     "output_type": "stream",
     "text": [
      "\r",
      "Epoch 29 | Step 1566 | CER 0.5842 | WER 1.1870:  97%|█████████▋| 1577/1620 [28:50<00:39,  1.09it/s]"
     ]
    },
    {
     "name": "stderr",
     "output_type": "stream",
     "text": [
      "\r",
      "Epoch 29 | Step 1566 | CER 0.5842 | WER 1.1870:  97%|█████████▋| 1578/1620 [28:51<00:35,  1.17it/s]"
     ]
    },
    {
     "name": "stderr",
     "output_type": "stream",
     "text": [
      "\r",
      "Epoch 29 | Step 1566 | CER 0.5842 | WER 1.1870:  97%|█████████▋| 1579/1620 [28:52<00:32,  1.24it/s]"
     ]
    },
    {
     "name": "stderr",
     "output_type": "stream",
     "text": [
      "\r",
      "Epoch 29 | Step 1566 | CER 0.5842 | WER 1.1870:  98%|█████████▊| 1580/1620 [28:52<00:32,  1.24it/s]"
     ]
    },
    {
     "name": "stderr",
     "output_type": "stream",
     "text": [
      "\r",
      "Epoch 29 | Step 1566 | CER 0.5842 | WER 1.1870:  98%|█████████▊| 1581/1620 [28:53<00:29,  1.31it/s]"
     ]
    },
    {
     "name": "stderr",
     "output_type": "stream",
     "text": [
      "\r",
      "Epoch 29 | Step 1566 | CER 0.5842 | WER 1.1870:  98%|█████████▊| 1582/1620 [28:54<00:30,  1.25it/s]"
     ]
    },
    {
     "name": "stderr",
     "output_type": "stream",
     "text": [
      "\r",
      "Epoch 29 | Step 1566 | CER 0.5842 | WER 1.1870:  98%|█████████▊| 1583/1620 [28:55<00:31,  1.16it/s]"
     ]
    },
    {
     "name": "stderr",
     "output_type": "stream",
     "text": [
      "\r",
      "Epoch 29 | Step 1566 | CER 0.5842 | WER 1.1870:  98%|█████████▊| 1584/1620 [28:56<00:31,  1.16it/s]"
     ]
    },
    {
     "name": "stderr",
     "output_type": "stream",
     "text": [
      "\r",
      "Epoch 29 | Step 1566 | CER 0.5842 | WER 1.1870:  98%|█████████▊| 1585/1620 [28:57<00:32,  1.08it/s]"
     ]
    },
    {
     "name": "stderr",
     "output_type": "stream",
     "text": [
      "\r",
      "Epoch 29 | Step 1566 | CER 0.5842 | WER 1.1870:  98%|█████████▊| 1586/1620 [28:58<00:30,  1.13it/s]"
     ]
    },
    {
     "name": "stderr",
     "output_type": "stream",
     "text": [
      "\r",
      "Epoch 29 | Step 1566 | CER 0.5842 | WER 1.1870:  98%|█████████▊| 1587/1620 [28:58<00:26,  1.23it/s]"
     ]
    },
    {
     "name": "stderr",
     "output_type": "stream",
     "text": [
      "\r",
      "Epoch 29 | Step 1566 | CER 0.5842 | WER 1.1870:  98%|█████████▊| 1588/1620 [28:59<00:26,  1.21it/s]"
     ]
    },
    {
     "name": "stderr",
     "output_type": "stream",
     "text": [
      "\r",
      "Epoch 29 | Step 1566 | CER 0.5842 | WER 1.1870:  98%|█████████▊| 1589/1620 [29:00<00:26,  1.19it/s]"
     ]
    },
    {
     "name": "stderr",
     "output_type": "stream",
     "text": [
      "\r",
      "Epoch 29 | Step 1566 | CER 0.5842 | WER 1.1870:  98%|█████████▊| 1590/1620 [29:01<00:23,  1.26it/s]"
     ]
    },
    {
     "name": "stderr",
     "output_type": "stream",
     "text": [
      "\r",
      "Epoch 29 | Step 1566 | CER 0.5842 | WER 1.1870:  98%|█████████▊| 1591/1620 [29:01<00:22,  1.30it/s]"
     ]
    },
    {
     "name": "stderr",
     "output_type": "stream",
     "text": [
      "\r",
      "Epoch 29 | Step 1566 | CER 0.5842 | WER 1.1870:  98%|█████████▊| 1592/1620 [29:02<00:22,  1.25it/s]"
     ]
    },
    {
     "name": "stderr",
     "output_type": "stream",
     "text": [
      "\r",
      "Epoch 29 | Step 1566 | CER 0.5842 | WER 1.1870:  98%|█████████▊| 1593/1620 [29:04<00:25,  1.05it/s]"
     ]
    },
    {
     "name": "stderr",
     "output_type": "stream",
     "text": [
      "\r",
      "Epoch 29 | Step 1566 | CER 0.5842 | WER 1.1870:  98%|█████████▊| 1594/1620 [29:04<00:23,  1.10it/s]"
     ]
    },
    {
     "name": "stderr",
     "output_type": "stream",
     "text": [
      "\r",
      "Epoch 29 | Step 1566 | CER 0.5842 | WER 1.1870:  98%|█████████▊| 1595/1620 [29:05<00:22,  1.12it/s]"
     ]
    },
    {
     "name": "stderr",
     "output_type": "stream",
     "text": [
      "\r",
      "Epoch 29 | Step 1566 | CER 0.5842 | WER 1.1870:  99%|█████████▊| 1596/1620 [29:06<00:23,  1.03it/s]"
     ]
    },
    {
     "name": "stderr",
     "output_type": "stream",
     "text": [
      "\r",
      "Epoch 29 | Step 1566 | CER 0.5842 | WER 1.1870:  99%|█████████▊| 1597/1620 [29:07<00:21,  1.08it/s]"
     ]
    },
    {
     "name": "stderr",
     "output_type": "stream",
     "text": [
      "\r",
      "Epoch 29 | Step 1566 | CER 0.5842 | WER 1.1870:  99%|█████████▊| 1598/1620 [29:08<00:19,  1.15it/s]"
     ]
    },
    {
     "name": "stderr",
     "output_type": "stream",
     "text": [
      "\r",
      "Epoch 29 | Step 1566 | CER 0.5842 | WER 1.1870:  99%|█████████▊| 1599/1620 [29:09<00:18,  1.13it/s]"
     ]
    },
    {
     "name": "stderr",
     "output_type": "stream",
     "text": [
      "\r",
      "Epoch 29 | Step 1566 | CER 0.5842 | WER 1.1870:  99%|█████████▉| 1600/1620 [29:10<00:17,  1.12it/s]"
     ]
    },
    {
     "name": "stderr",
     "output_type": "stream",
     "text": [
      "\r",
      "Epoch 29 | Step 1566 | CER 0.5842 | WER 1.1870:  99%|█████████▉| 1601/1620 [29:11<00:16,  1.13it/s]"
     ]
    },
    {
     "name": "stderr",
     "output_type": "stream",
     "text": [
      "\r",
      "Epoch 29 | Step 1566 | CER 0.5842 | WER 1.1870:  99%|█████████▉| 1602/1620 [29:12<00:17,  1.01it/s]"
     ]
    },
    {
     "name": "stderr",
     "output_type": "stream",
     "text": [
      "\r",
      "Epoch 29 | Step 1566 | CER 0.5842 | WER 1.1870:  99%|█████████▉| 1603/1620 [29:13<00:16,  1.02it/s]"
     ]
    },
    {
     "name": "stderr",
     "output_type": "stream",
     "text": [
      "\r",
      "Epoch 29 | Step 1566 | CER 0.5842 | WER 1.1870:  99%|█████████▉| 1604/1620 [29:14<00:14,  1.09it/s]"
     ]
    },
    {
     "name": "stderr",
     "output_type": "stream",
     "text": [
      "\r",
      "Epoch 29 | Step 1566 | CER 0.5842 | WER 1.1870:  99%|█████████▉| 1605/1620 [29:14<00:13,  1.12it/s]"
     ]
    },
    {
     "name": "stderr",
     "output_type": "stream",
     "text": [
      "\r",
      "Epoch 29 | Step 1566 | CER 0.5842 | WER 1.1870:  99%|█████████▉| 1606/1620 [29:15<00:12,  1.12it/s]"
     ]
    },
    {
     "name": "stderr",
     "output_type": "stream",
     "text": [
      "\r",
      "Epoch 29 | Step 1566 | CER 0.5842 | WER 1.1870:  99%|█████████▉| 1607/1620 [29:16<00:11,  1.09it/s]"
     ]
    },
    {
     "name": "stderr",
     "output_type": "stream",
     "text": [
      "\r",
      "Epoch 29 | Step 1566 | CER 0.5842 | WER 1.1870:  99%|█████████▉| 1608/1620 [29:17<00:11,  1.03it/s]"
     ]
    },
    {
     "name": "stderr",
     "output_type": "stream",
     "text": [
      "\r",
      "Epoch 29 | Step 1566 | CER 0.5842 | WER 1.1870:  99%|█████████▉| 1609/1620 [29:18<00:10,  1.09it/s]"
     ]
    },
    {
     "name": "stderr",
     "output_type": "stream",
     "text": [
      "\r",
      "Epoch 29 | Step 1566 | CER 0.5842 | WER 1.1870:  99%|█████████▉| 1610/1620 [29:19<00:09,  1.08it/s]"
     ]
    },
    {
     "name": "stderr",
     "output_type": "stream",
     "text": [
      "\r",
      "Epoch 29 | Step 1566 | CER 0.5842 | WER 1.1870:  99%|█████████▉| 1611/1620 [29:20<00:08,  1.09it/s]"
     ]
    },
    {
     "name": "stderr",
     "output_type": "stream",
     "text": [
      "\r",
      "Epoch 29 | Step 1566 | CER 0.5842 | WER 1.1870: 100%|█████████▉| 1612/1620 [29:21<00:06,  1.17it/s]"
     ]
    },
    {
     "name": "stderr",
     "output_type": "stream",
     "text": [
      "\r",
      "Epoch 29 | Step 1566 | CER 0.5842 | WER 1.1870: 100%|█████████▉| 1613/1620 [29:22<00:05,  1.17it/s]"
     ]
    },
    {
     "name": "stderr",
     "output_type": "stream",
     "text": [
      "\r",
      "Epoch 29 | Step 1566 | CER 0.5842 | WER 1.1870: 100%|█████████▉| 1614/1620 [29:23<00:05,  1.12it/s]"
     ]
    },
    {
     "name": "stderr",
     "output_type": "stream",
     "text": [
      "\r",
      "Epoch 29 | Step 1566 | CER 0.5842 | WER 1.1870: 100%|█████████▉| 1615/1620 [29:23<00:04,  1.16it/s]"
     ]
    },
    {
     "name": "stderr",
     "output_type": "stream",
     "text": [
      "\r",
      "Epoch 29 | Step 1566 | CER 0.5842 | WER 1.1870: 100%|█████████▉| 1616/1620 [29:24<00:03,  1.15it/s]"
     ]
    },
    {
     "name": "stderr",
     "output_type": "stream",
     "text": [
      "\r",
      "Epoch 29 | Step 1566 | CER 0.5842 | WER 1.1870: 100%|█████████▉| 1617/1620 [29:25<00:02,  1.08it/s]"
     ]
    },
    {
     "name": "stderr",
     "output_type": "stream",
     "text": [
      "\r",
      "Epoch 29 | Step 1566 | CER 0.5842 | WER 1.1870: 100%|█████████▉| 1618/1620 [29:26<00:01,  1.11it/s]"
     ]
    },
    {
     "name": "stderr",
     "output_type": "stream",
     "text": [
      "\r",
      "Epoch 29 | Step 1566 | CER 0.5842 | WER 1.1870: 100%|█████████▉| 1619/1620 [29:27<00:00,  1.18it/s]"
     ]
    },
    {
     "name": "stderr",
     "output_type": "stream",
     "text": [
      "\r",
      "Epoch 29 | Step 1566 | CER 0.5842 | WER 1.1870: 100%|██████████| 1620/1620 [29:27<00:00,  1.46it/s]"
     ]
    },
    {
     "name": "stderr",
     "output_type": "stream",
     "text": [
      "\r",
      "Epoch 30 | Step 1620 | CER 0.5952 | WER 1.2195: 100%|██████████| 1620/1620 [29:33<00:00,  1.46it/s]"
     ]
    },
    {
     "name": "stderr",
     "output_type": "stream",
     "text": [
      "There were missing keys in the checkpoint model loaded: ['decoder.output_projection.weight'].\n"
     ]
    },
    {
     "name": "stderr",
     "output_type": "stream",
     "text": [
      "\r",
      "Epoch 30 | Step 1620: 100%|██████████| 1620/1620 [29:40<00:00,  1.46it/s]                          "
     ]
    },
    {
     "name": "stderr",
     "output_type": "stream",
     "text": [
      "\r",
      "Epoch 30 | Step 1620: 100%|██████████| 1620/1620 [29:40<00:00,  1.10s/it]"
     ]
    },
    {
     "name": "stderr",
     "output_type": "stream",
     "text": [
      "\n"
     ]
    },
    {
     "data": {
      "text/plain": [
       "TrainOutput(global_step=1620, training_loss=1.2353943509820067, metrics={'train_runtime': 1780.9628, 'train_samples_per_second': 7.21, 'train_steps_per_second': 0.91, 'total_flos': 9.60798185238823e+18, 'train_loss': 1.2353943509820067, 'epoch': 30.0})"
      ]
     },
     "execution_count": 7,
     "metadata": {},
     "output_type": "execute_result"
    }
   ],
   "source": [
    "compute_metrics = build_compute_metrics(processor)\n",
    "\n",
    "trainer = Trainer(\n",
    "    model=model,\n",
    "    args=training_args,\n",
    "    train_dataset=train_dataset,\n",
    "    eval_dataset=val_dataset,\n",
    "    compute_metrics=compute_metrics,\n",
    "    callbacks=[TQDMProgressBar()],\n",
    ")\n",
    "trainer.train()"
   ]
  },
  {
   "cell_type": "code",
   "execution_count": 8,
   "id": "c1f6c003",
   "metadata": {
    "execution": {
     "iopub.execute_input": "2025-04-27T20:00:49.345370Z",
     "iopub.status.busy": "2025-04-27T20:00:49.344435Z",
     "iopub.status.idle": "2025-04-27T20:00:51.582559Z",
     "shell.execute_reply": "2025-04-27T20:00:51.581927Z"
    }
   },
   "outputs": [
    {
     "data": {
      "text/plain": [
       "[]"
      ]
     },
     "execution_count": 8,
     "metadata": {},
     "output_type": "execute_result"
    }
   ],
   "source": [
    "model.save_pretrained(\"./spanish_ocr_model\")\n",
    "processor.save_pretrained(\"./spanish_ocr_model\")"
   ]
  }
 ],
 "metadata": {
  "kernelspec": {
   "display_name": ".venv",
   "language": "python",
   "name": "python3"
  },
  "language_info": {
   "codemirror_mode": {
    "name": "ipython",
    "version": 3
   },
   "file_extension": ".py",
   "mimetype": "text/x-python",
   "name": "python",
   "nbconvert_exporter": "python",
   "pygments_lexer": "ipython3",
   "version": "3.9.18"
  }
 },
 "nbformat": 4,
 "nbformat_minor": 5
}
